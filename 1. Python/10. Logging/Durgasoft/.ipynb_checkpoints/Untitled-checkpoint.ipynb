{
 "cells": [
  {
   "cell_type": "markdown",
   "id": "f5a59325",
   "metadata": {},
   "source": [
    "### Logging\n",
    "- we have to log all the information in software just like in real life .\n",
    "- example - in coomputer lab , or library there is a log book , that contains information like entry time , exit time , pc no , etc \n",
    "- useful for tracking "
   ]
  },
  {
   "cell_type": "markdown",
   "id": "3542f7bc",
   "metadata": {},
   "source": [
    "**It is highly recommended to store complete `application flow` and `exception information` to a file. This process is called logging**\n",
    "- the main advantages of logging are:\n",
    "1. We can use log files while performing debugging\n",
    "2. We can provide statistics like number of requestss per day etc\n",
    "- to perform logging , logging module is used"
   ]
  },
  {
   "cell_type": "markdown",
   "id": "4d214c1e",
   "metadata": {},
   "source": [
    "While storing the information , the information is divided into multiple category , is it a warning or critical or general etc called levels"
   ]
  },
  {
   "cell_type": "markdown",
   "id": "833817e9",
   "metadata": {},
   "source": [
    "### logging levels\n",
    "\n",
    "depending on the type of information , logging data is divided into following levels in python\n",
    "1. Critical(50) - represents a very serious problem that needs high attention(whole app can collapse)\n",
    "2. Error(40) - represents a serious error , but less prob than critical(app running but some part not working)\n",
    "3. Warning(30) - represents a warning message , some caution needed. It is alert to the programmer. ex - some files need to be closed\n",
    "4. INFO(20) - represents a message , with some imp information , ex - don't close the browser \n",
    "5. DEBUG(10) - represents a message which can be used for debugging\n",
    "6. NOTSET - Represents logging level not set\n"
   ]
  },
  {
   "cell_type": "markdown",
   "id": "10b9e620",
   "metadata": {},
   "source": [
    "**levels from least -** \n",
    "- 10 --> 20 --> 30 -->40 --->50 \n",
    "- if logging level not set, default level is **Warning**\n",
    "- thats why warning , error and critical messages will be written to a file\n",
    "- if want to write all , set the logging level to the debug"
   ]
  },
  {
   "cell_type": "markdown",
   "id": "fbd0fd76",
   "metadata": {},
   "source": [
    "### Implementation of Logging\n",
    "- create a log file to store log messages and specify level\n",
    "- done by basicConfig() func of logging module\n",
    "- `logging.basicConfig(filename = 'log.txt' , level = logging.WARNING)` OR USE INTEGER IN LEVEL"
   ]
  },
  {
   "cell_type": "markdown",
   "id": "05e2f26a",
   "metadata": {},
   "source": [
    "**How to write information**\n",
    "- logging.debug(message)\n",
    "- logging.info(message)\n",
    "- logging.warning(message)\n",
    "- logging.error(message)\n",
    "- logging.critical(message)\n"
   ]
  },
  {
   "cell_type": "code",
   "execution_count": 2,
   "id": "b3e96c58",
   "metadata": {},
   "outputs": [],
   "source": [
    "#program\n",
    "import logging\n",
    "logging.basicConfig(filename = 'log.txt' , level = logging.WARNING)\n",
    "logging.debug(\"Debug\")\n",
    "logging.info('info')\n",
    "logging.warning('warning')\n",
    "logging.error('error')\n",
    "logging.critical('critical message')\n",
    "#since logging level is set to be 30 , only information over 30 will be written"
   ]
  },
  {
   "cell_type": "markdown",
   "id": "6ee22358",
   "metadata": {},
   "source": [
    "Note \n",
    "- if there is no filename , then the information will be written on console\n",
    "- Bydefault in the log file , the data will be append(default filemode = 'a)\n",
    "- if dont want to append , want to overwrite , set filemode = 'w'"
   ]
  },
  {
   "cell_type": "code",
   "execution_count": 3,
   "id": "a478247b",
   "metadata": {},
   "outputs": [],
   "source": [
    "# without filename\n",
    "logging.basicConfig( level = 10)\n",
    "logging.debug(\"Debug\")\n",
    "logging.info('info')\n",
    "logging.warning('warning')\n",
    "logging.error('error')\n",
    "logging.critical('critical message')"
   ]
  },
  {
   "cell_type": "code",
   "execution_count": 5,
   "id": "752004b0",
   "metadata": {},
   "outputs": [],
   "source": [
    "#file mode - > 'w'\n",
    "logging.basicConfig(filename = 'log.txt', level = 10, filemode = 'w')\n",
    "logging.debug(\"Debug\")\n",
    "logging.info('info')\n",
    "logging.warning('warning')\n",
    "logging.error('error')\n",
    "logging.critical('critical message')"
   ]
  },
  {
   "cell_type": "markdown",
   "id": "cc70220a",
   "metadata": {},
   "source": [
    "### Format Log messages"
   ]
  },
  {
   "cell_type": "code",
   "execution_count": null,
   "id": "e9955ce4",
   "metadata": {},
   "outputs": [],
   "source": []
  }
 ],
 "metadata": {
  "kernelspec": {
   "display_name": "Python 3 (ipykernel)",
   "language": "python",
   "name": "python3"
  },
  "language_info": {
   "codemirror_mode": {
    "name": "ipython",
    "version": 3
   },
   "file_extension": ".py",
   "mimetype": "text/x-python",
   "name": "python",
   "nbconvert_exporter": "python",
   "pygments_lexer": "ipython3",
   "version": "3.9.12"
  }
 },
 "nbformat": 4,
 "nbformat_minor": 5
}
