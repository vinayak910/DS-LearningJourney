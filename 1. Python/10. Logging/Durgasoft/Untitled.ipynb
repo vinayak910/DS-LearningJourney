{
 "cells": [
  {
   "cell_type": "markdown",
   "id": "f5a59325",
   "metadata": {},
   "source": [
    "### Logging\n",
    "- we have to log all the information in software just like in real life .\n",
    "- example - in coomputer lab , or library there is a log book , that contains information like entry time , exit time , pc no , etc \n",
    "- useful for tracking "
   ]
  },
  {
   "cell_type": "markdown",
   "id": "3542f7bc",
   "metadata": {},
   "source": [
    "**It is highly recommended to store complete `application flow` and `exception information` to a file. This process is called logging**\n",
    "- the main advantages of logging are:\n",
    "1. We can use log files while performing debugging\n",
    "2. We can provide statistics like number of requestss per day etc\n",
    "- to perform logging , logging module is used"
   ]
  },
  {
   "cell_type": "markdown",
   "id": "4d214c1e",
   "metadata": {},
   "source": [
    "While storing the information , the information is divided into multiple category , is it a warning or critical or general etc called levels"
   ]
  },
  {
   "cell_type": "markdown",
   "id": "833817e9",
   "metadata": {},
   "source": [
    "### logging levels\n",
    "\n",
    "depending on the type of information , logging data is divided into following levels in python\n",
    "1. Critical(50) - represents a very serious problem that needs high attention(whole app can collapse)\n",
    "2. Error(40) - represents a serious error , but less prob than critical(app running but some part not working)\n",
    "3. Warning(30) - represents a warning message , some caution needed. It is alert to the programmer. ex - some files need to be closed\n",
    "4. INFO(20) - represents a message , with some imp information , ex - don't close the browser \n",
    "5. DEBUG(10) - represents a message which can be used for debugging\n",
    "6. NOTSET - Represents logging level not set\n"
   ]
  },
  {
   "cell_type": "markdown",
   "id": "10b9e620",
   "metadata": {},
   "source": [
    "**levels from least -** \n",
    "- 10 --> 20 --> 30 -->40 --->50 \n",
    "- if logging level not set, default level is **Warning**\n",
    "- thats why warning , error and critical messages will be written to a file\n",
    "- if want to write all , set the logging level to the debug"
   ]
  },
  {
   "cell_type": "markdown",
   "id": "fbd0fd76",
   "metadata": {},
   "source": [
    "### Implementation of Logging\n",
    "- create a log file to store log messages and specify level\n",
    "- done by basicConfig() func of logging module\n",
    "- `logging.basicConfig(filename = 'log.txt' , level = logging.WARNING)` OR USE INTEGER IN LEVEL"
   ]
  },
  {
   "cell_type": "markdown",
   "id": "05e2f26a",
   "metadata": {},
   "source": [
    "**How to write information**\n",
    "- logging.debug(message)\n",
    "- logging.info(message)\n",
    "- logging.warning(message)\n",
    "- logging.error(message)\n",
    "- logging.critical(message)\n"
   ]
  },
  {
   "cell_type": "code",
   "execution_count": 2,
   "id": "b3e96c58",
   "metadata": {},
   "outputs": [],
   "source": [
    "#program\n",
    "import logging\n",
    "logging.basicConfig(filename = 'log.txt' , level = logging.WARNING)\n",
    "logging.debug(\"Debug\")\n",
    "logging.info('info')\n",
    "logging.warning('warning')\n",
    "logging.error('error')\n",
    "logging.critical('critical message')\n",
    "#since logging level is set to be 30 , only information over 30 will be written"
   ]
  },
  {
   "cell_type": "markdown",
   "id": "6ee22358",
   "metadata": {},
   "source": [
    "Note \n",
    "- if there is no filename , then the information will be written on console\n",
    "- Bydefault in the log file , the data will be append(default filemode = 'a)\n",
    "- if dont want to append , want to overwrite , set filemode = 'w'"
   ]
  },
  {
   "cell_type": "code",
   "execution_count": 3,
   "id": "a478247b",
   "metadata": {},
   "outputs": [],
   "source": [
    "# without filename\n",
    "logging.basicConfig( level = 10)\n",
    "logging.debug(\"Debug\")\n",
    "logging.info('info')\n",
    "logging.warning('warning')\n",
    "logging.error('error')\n",
    "logging.critical('critical message')"
   ]
  },
  {
   "cell_type": "code",
   "execution_count": 5,
   "id": "752004b0",
   "metadata": {},
   "outputs": [],
   "source": [
    "#file mode - > 'w'\n",
    "logging.basicConfig(filename = 'log.txt', level = 10, filemode = 'w')\n",
    "logging.debug(\"Debug\")\n",
    "logging.info('info')\n",
    "logging.warning('warning')\n",
    "logging.error('error')\n",
    "logging.critical('critical message')"
   ]
  },
  {
   "cell_type": "markdown",
   "id": "4732eb9f",
   "metadata": {},
   "source": [
    "**breakdown of logged message**\n",
    "- CRITICAL:root:It is critical message\n",
    "- level:name of logger:message "
   ]
  },
  {
   "cell_type": "markdown",
   "id": "cc70220a",
   "metadata": {},
   "source": [
    "### Format Log messages"
   ]
  },
  {
   "cell_type": "markdown",
   "id": "2d83aca2",
   "metadata": {},
   "source": [
    "**Default format of log message**\n",
    "- CRITICAL:root:It is critical message\n",
    "- level:name of logger:message "
   ]
  },
  {
   "cell_type": "markdown",
   "id": "4c61006a",
   "metadata": {},
   "source": [
    "if we want to format , we should go for :format arguement"
   ]
  },
  {
   "cell_type": "code",
   "execution_count": 3,
   "id": "26b0745b",
   "metadata": {},
   "outputs": [],
   "source": [
    "#lets say we want only level name in log file\n",
    "import logging\n",
    "logging.basicConfig(format = '%(levelname)s' , filename = 'log.txt', level = 10)\n",
    "logging.debug(\"Debug\")\n",
    "logging.info('info')\n",
    "logging.warning('warning')\n",
    "logging.error('error')\n",
    "logging.critical('critical message')"
   ]
  },
  {
   "cell_type": "code",
   "execution_count": 15,
   "id": "f671e1ea",
   "metadata": {},
   "outputs": [],
   "source": [
    "#name and message\n",
    "logging.basicConfig(format = '%(levelname)s %(message)s' , filename = 'log.txt', level = 40) #can use any symbol between these 2\n",
    "logging.debug(\"new Debug\")\n",
    "logging.info('info')\n",
    "logging.warning('warning')\n",
    "logging.error('error')\n",
    "logging.critical('critical message')"
   ]
  },
  {
   "cell_type": "markdown",
   "id": "8aeef0dd",
   "metadata": {},
   "source": [
    "**How to add timestamp in log messages?**"
   ]
  },
  {
   "cell_type": "code",
   "execution_count": 2,
   "id": "49590247",
   "metadata": {},
   "outputs": [],
   "source": [
    "import logging\n",
    "logging.basicConfig(filename = 'log.txt' , format = \"%(asctime)s:%(levelname)s:%(message)s\"  )\n",
    "logging.critical('critc')\n",
    "logging.warning(\"warn\")"
   ]
  },
  {
   "cell_type": "markdown",
   "id": "c9a7fb11",
   "metadata": {},
   "source": [
    "**Customization of date time format**\n",
    "- datefmt argument\n",
    "- let's say the style i want of datetime is 28-11-2020 09:41:01 PM"
   ]
  },
  {
   "cell_type": "code",
   "execution_count": 21,
   "id": "0a83dae2",
   "metadata": {},
   "outputs": [],
   "source": [
    "logging.basicConfig(filename = 'log.txt' , format = \"%(asctime)s:%(levelname)s:%(message)s\", datefmt = '%d-%m-%Y %I %M %S %p'   )\n",
    "logging.critical('critc')\n",
    "logging.warning(\"warn\")"
   ]
  },
  {
   "cell_type": "markdown",
   "id": "8c54fb9c",
   "metadata": {},
   "source": [
    "d- date , m = month , Y-  year , I - 12 hours format , H - 24 hour format , M - minutes , S - second , p - PM"
   ]
  },
  {
   "cell_type": "code",
   "execution_count": 3,
   "id": "5db93824",
   "metadata": {},
   "outputs": [],
   "source": [
    "logging.basicConfig(filename = 'log.txt' , format = \"%(asctime)s:%(levelname)s:%(message)s\", datefmt = '%A-%B-%Y')\n",
    "logging.critical('critc')\n",
    "logging.warning(\"warn\")"
   ]
  },
  {
   "cell_type": "markdown",
   "id": "0b61ad32",
   "metadata": {},
   "source": [
    "### How to write exceptions to the log file?\n",
    "- use `logging.exception('message')`"
   ]
  },
  {
   "cell_type": "code",
   "execution_count": 1,
   "id": "b6e7805c",
   "metadata": {},
   "outputs": [
    {
     "name": "stdout",
     "output_type": "stream",
     "text": [
      "Enter first no4\n",
      "enter 2n no:0\n",
      "division by zero\n"
     ]
    }
   ],
   "source": [
    "import logging\n",
    "logging.basicConfig(filename ='log.txt' , level = logging.DEBUG , format = \"%(asctime)s:%(levelname)s:%(message)s\" )\n",
    "try:\n",
    "    x = int(input(\"Enter first no\"))\n",
    "    y = int(input(\"enter 2n no:\"))\n",
    "    print(x/y)\n",
    "except ZeroDivisionError as msg:\n",
    "    print(msg)\n",
    "except ValueError as msg:\n",
    "    print(\"input only integer value\")"
   ]
  },
  {
   "cell_type": "code",
   "execution_count": 5,
   "id": "2f8a86d6",
   "metadata": {},
   "outputs": [
    {
     "name": "stdout",
     "output_type": "stream",
     "text": [
      "Enter first no5\n",
      "enter 2n no:r\n",
      "input only integer value\n"
     ]
    }
   ],
   "source": [
    "logging.info(\"A new request came\")\n",
    "try:\n",
    "    x = int(input(\"Enter first no\"))\n",
    "    y = int(input(\"enter 2n no:\"))\n",
    "    print(x/y)\n",
    "except ZeroDivisionError as msg:\n",
    "    print(msg)\n",
    "    logging.exception(msg)\n",
    "except ValueError as msg:\n",
    "    print(\"input only integer value\")\n",
    "    logging.exception(msg)\n",
    "logging.info(\"Request completly processed\")"
   ]
  },
  {
   "cell_type": "markdown",
   "id": "2e4b622e",
   "metadata": {},
   "source": [
    "### Advanced logging"
   ]
  },
  {
   "cell_type": "markdown",
   "id": "d0885029",
   "metadata": {},
   "source": [
    "**root in log message**\n",
    "\n",
    "- \"root\" refers to the root logger\n",
    "- problem with the root logger \n",
    "- by this either message can be logged into the file , or console when the filename is not specified , but no similtaneously\n",
    "- if using root logger you cant describe different levels of logging at different places"
   ]
  },
  {
   "cell_type": "code",
   "execution_count": 1,
   "id": "80b312bb",
   "metadata": {},
   "outputs": [],
   "source": [
    "import logging\n",
    "logging.basicConfig(filename = 'log.txt' , level = logging.DEBUG)\n",
    "def f1():\n",
    "    #file handler--> all levels\n",
    "    #the level is set to debug now if we want to change level for this function we cant change they are already configured and same\n",
    "    #for every place.\n",
    "    pass\n",
    "def f2():\n",
    "    pass\n",
    "    #console ----> not possible\n",
    "    #similary if you are mentioning filename , then consol wont work , as the file name is already mentioned"
   ]
  },
  {
   "cell_type": "code",
   "execution_count": null,
   "id": "f1d54605",
   "metadata": {},
   "outputs": [],
   "source": [
    "#understanding through example\n",
    "# 1. created a file by name student.py and inside there is this code\n",
    "#import logging\n",
    "#logging.basicConfig(filename = 'student.log' , level = logging.ERROR)\n",
    "#logging.error(\"error messafe from student module\")\n",
    "#logging.critical(\"critical message - student module\")\n",
    "\n",
    "# create a second file by the name of test.py\n",
    "#code\n",
    "#import logging\n",
    "#import student\n",
    "#logging.basicConfig(filename = 'student.log' , level = logging.DEBUG)\n",
    "#logging.debug('debug - test')\n",
    "#logging.info(\"Info\")\n",
    "#logging.warning(\"warning from test\")\n",
    "#logging.error(\"error messafe from student module\")\n",
    "#logging.critical(\"critical message - student module\")"
   ]
  },
  {
   "cell_type": "markdown",
   "id": "dee8cb6c",
   "metadata": {},
   "source": [
    "Now what will happen if we execute the test file\n",
    "- since the student is imported , all the code will execute inside student and inside the test file.\n",
    "- but the thing is when the student file will be executed the configuration set is final for logging , hence there will be only one log file by the name of student \n",
    "- and since in the student file logging configuration the logging level is set to be error therefore only till this level the log information will be written from both file\n",
    "- this is the disadvantage of root logger ie the configuration which is set is final for logging\n"
   ]
  },
  {
   "cell_type": "markdown",
   "id": "26feae8b",
   "metadata": {},
   "source": [
    "**conclusion and problems with the root logger**\n",
    "- once we set the basic configuration then the configuration is final and we cannot change\n",
    "- it will always work either for only for one handler either file handler or console but not both simultaneously\n",
    "- it is not possible to configure logger with different configurations at different levels\n",
    "- We can't specify multiple log files for multiple files , modules ,classes."
   ]
  },
  {
   "cell_type": "markdown",
   "id": "79337a0b",
   "metadata": {},
   "source": [
    "**To overcome these problems we should go for own customized logger that is what is `Advance logging`**"
   ]
  },
  {
   "cell_type": "markdown",
   "id": "8661503d",
   "metadata": {},
   "source": [
    "**Create this 3 objects**\n",
    "- **lOGGER object**\n",
    "- the file or console will be handld by logger\n",
    "- **Handler object**\n",
    "- print to which handler file or console\n",
    "- **formatter object**\n",
    "- in which format you will write the messages\n",
    "- after creating connect them from formatter object to logger object "
   ]
  },
  {
   "cell_type": "markdown",
   "id": "700df668",
   "metadata": {},
   "source": [
    "**creation of logger object and set log level**\n",
    "- logger = logging.getLogger('vinayaklogger')\n",
    "- logger.setLevel(logging.DEBUG)"
   ]
  },
  {
   "cell_type": "markdown",
   "id": "acc2734d",
   "metadata": {},
   "source": [
    "**creation of handler object**\n",
    "- there are multiple types of handlers like StreamHandler , FileHandler etc\n",
    "- filehandler: write log messages to file\n",
    "- streamhandler:write log messages to console\n",
    "- ex 1 - StreamHandler\n",
    "- `consoleHandler = logging.StreamHandler()`\n",
    "- default evel will be of logger object when creating this StreamHandler object. \n",
    "- Since in the logger object the level is set to be Debug , lets say i want critical for our streamhandler object\n",
    "- `consoleHandler.setlevel(logging.Error)`\n",
    "- so when you will be print to the console error and higher message will be printed"
   ]
  },
  {
   "cell_type": "markdown",
   "id": "9c6bcac3",
   "metadata": {},
   "source": [
    "**creation of formatter object**\n",
    "- `formatter = logging.Formatter('%(asctime)s-%(name) #name means logger name-%(levelname)s-%(message)s' , datefmt = '%d-%m-Y %I:%M:%S %p')"
   ]
  },
  {
   "cell_type": "markdown",
   "id": "962b759d",
   "metadata": {},
   "source": [
    "**Attach this formatter to handler and add this handler to logger**"
   ]
  },
  {
   "cell_type": "markdown",
   "id": "b8622b93",
   "metadata": {},
   "source": [
    "**Attach formatter to handler**\n",
    "- consoleHandler.setFormatter(formatter)"
   ]
  },
  {
   "cell_type": "markdown",
   "id": "66d96a12",
   "metadata": {},
   "source": [
    "**Add Handler to logger**\n",
    "- logger.addHandler(consoleHandler)"
   ]
  },
  {
   "cell_type": "markdown",
   "id": "a7372bfb",
   "metadata": {},
   "source": [
    "**last step - write messages by using logger object**\n",
    "- logger.debug('debug message')\n",
    "- logger.info('info')\n",
    "- logger.warn('warning')"
   ]
  },
  {
   "cell_type": "code",
   "execution_count": 3,
   "id": "c0d9e93a",
   "metadata": {},
   "outputs": [
    {
     "name": "stderr",
     "output_type": "stream",
     "text": [
      "19-12-Y 07:00:22 AM-Vinayaklogger-ERROR-error message\n",
      "19-12-Y 07:00:22 AM-Vinayaklogger-CRITICAL-critical message\n"
     ]
    }
   ],
   "source": [
    "#example for console handler\n",
    "import logging\n",
    "#creating logger and setting level\n",
    "logger = logging.getLogger('Vinayaklogger')\n",
    "logger.setLevel(logging.DEBUG)\n",
    "\n",
    "#creating console handler object and changing default level to error\n",
    "consoleHandler = logging.StreamHandler()\n",
    "consoleHandler.setLevel(logging.ERROR)\n",
    "\n",
    "#creating formatter object\n",
    "formatter = logging.Formatter('%(asctime)s-%(name)s-%(levelname)s-%(message)s' , datefmt = '%d-%m-Y %I:%M:%S %p')\n",
    "\n",
    "#attaching formatter to handler\n",
    "consoleHandler.setFormatter(formatter)\n",
    "\n",
    "#attaching consolehandler object to logger\n",
    "logger.addHandler(consoleHandler)\n",
    "\n",
    "logger.debug('debug message')\n",
    "logger.info('info message')\n",
    "logger.warning(\"warning message\")\n",
    "logger.error('error message')\n",
    "logger.critical('critical message')"
   ]
  },
  {
   "cell_type": "markdown",
   "id": "35850fe8",
   "metadata": {},
   "source": [
    "Note: \n",
    "1. Bydefault logger level will be available to handler. But we can define our own level at handler level which will be the final for handler object.\n",
    "2. But if the logger level is set to error and handler level lets say debug , in this situation it won't work as handler is the subset of logger , therefore how can it provide support for lower levels than main logger level . in short `handler level should be supported by logger. ie logger level should be lower than handler level otherwise the loggger log level will be considered`"
   ]
  },
  {
   "cell_type": "code",
   "execution_count": 2,
   "id": "28a352ed",
   "metadata": {},
   "outputs": [],
   "source": [
    "# example for filehandler\n",
    "\n",
    "import logging\n",
    "#creating logger and setting level\n",
    "logger = logging.getLogger('Vinayaklogger')\n",
    "logger.setLevel(logging.DEBUG)\n",
    "\n",
    "#creating file handler object and changing default level to error\n",
    "fileHandler = logging.FileHandler('abc.log' , mode = 'a')\n",
    "fileHandler.setLevel(logging.ERROR)\n",
    "\n",
    "\n",
    "#creating formatter object\n",
    "formatter = logging.Formatter('%(asctime)s-%(name)s-%(levelname)s-%(message)s' , datefmt = '%d-%m-Y %I:%M:%S %p')\n",
    "\n",
    "#attaching formatter to file handler\n",
    "fileHandler.setFormatter(formatter)\n",
    "\n",
    "#attaching file handler object to logger\n",
    "logger.addHandler(fileHandler)\n",
    "\n",
    "\n",
    "logger.debug('debug message')\n",
    "logger.info('info message')\n",
    "logger.warning(\"warning message\")\n",
    "logger.error('error message')\n",
    "logger.critical('critical message')"
   ]
  },
  {
   "cell_type": "markdown",
   "id": "02755a18",
   "metadata": {},
   "source": [
    "now ,the error messages will be written in abc file"
   ]
  },
  {
   "cell_type": "markdown",
   "id": "e7d77634",
   "metadata": {},
   "source": [
    "**Advantages of customized logger**\n",
    "- When using root logger you can either use console or file not both simultaneously\n",
    "- But with customized you can use both handler simultaneously"
   ]
  },
  {
   "cell_type": "code",
   "execution_count": 1,
   "id": "021059c7",
   "metadata": {},
   "outputs": [
    {
     "name": "stderr",
     "output_type": "stream",
     "text": [
      "19-12-Y 07:21:14 AM-Vinayaklogger-INFO-info message\n",
      "19-12-Y 07:21:14 AM-Vinayaklogger-WARNING-warning message\n",
      "19-12-Y 07:21:14 AM-Vinayaklogger-ERROR-error message\n",
      "19-12-Y 07:21:14 AM-Vinayaklogger-CRITICAL-critical message\n"
     ]
    }
   ],
   "source": [
    "#example of using both simulataneously\n",
    "\n",
    "import logging\n",
    "#creating logger and setting level\n",
    "logger = logging.getLogger('Vinayaklogger')\n",
    "logger.setLevel(logging.DEBUG)\n",
    "\n",
    "#creating file handler object and changing default level to error\n",
    "fileHandler = logging.FileHandler('abc.log' , mode = 'a')\n",
    "fileHandler.setLevel(logging.ERROR)\n",
    "\n",
    "#creating console handler object and changing default level to error\n",
    "consoleHandler = logging.StreamHandler()\n",
    "consoleHandler.setLevel(logging.INFO)\n",
    "\n",
    "\n",
    "#creating formatter object\n",
    "formatter = logging.Formatter('%(asctime)s-%(name)s-%(levelname)s-%(message)s' , datefmt = '%d-%m-%Y %I:%M:%S %p')\n",
    "\n",
    "#attaching formatter to file handler\n",
    "fileHandler.setFormatter(formatter)\n",
    "\n",
    "#attaching formatter to console handler\n",
    "consoleHandler.setFormatter(formatter)\n",
    "\n",
    "#attaching file handler object to logger\n",
    "logger.addHandler(fileHandler)\n",
    "\n",
    "#attaching consolehandler object to logger\n",
    "logger.addHandler(consoleHandler)\n",
    "\n",
    "logger.debug('debug message')\n",
    "logger.info('info message')\n",
    "logger.warning(\"warning message\")\n",
    "logger.error('error message')\n",
    "logger.critical('critical message')\n"
   ]
  },
  {
   "cell_type": "markdown",
   "id": "a139864f",
   "metadata": {},
   "source": [
    "### Use separate log file for every module"
   ]
  },
  {
   "cell_type": "markdown",
   "id": "809993e9",
   "metadata": {},
   "source": [
    "- lets say there are 2 modules test.py and student.py\n",
    "- requirements for test - test.log and all levels messages\n",
    "- requirements for student - student.log and only error and critical levels"
   ]
  },
  {
   "cell_type": "code",
   "execution_count": null,
   "id": "ff406d89",
   "metadata": {},
   "outputs": [],
   "source": [
    "#students.py\n",
    "import logging\n",
    "#creating logger and setting level\n",
    "logger = logging.getLogger('Studentlogger')\n",
    "logger.setLevel(logging.DEBUG)\n",
    "\n",
    "#creating file handler object and changing default level to error\n",
    "fileHandler = logging.FileHandler('students.log' , mode = 'w')\n",
    "fileHandler.setLevel(logging.ERROR)\n",
    "\n",
    "\n",
    "#creating formatter object\n",
    "formatter = logging.Formatter('%(asctime)s-%(name)s-%(levelname)s-%(message)s' , datefmt = '%d-%m-Y %I:%M:%S %p')\n",
    "\n",
    "#attaching formatter to file handler\n",
    "fileHandler.setFormatter(formatter)\n",
    "\n",
    "#attaching file handler object to logger\n",
    "logger.addHandler(fileHandler)\n",
    "\n",
    "logger.error('error message from student module')\n",
    "logger.critical('critical message from student module')"
   ]
  },
  {
   "cell_type": "code",
   "execution_count": null,
   "id": "d7077d16",
   "metadata": {},
   "outputs": [],
   "source": [
    "# from test we are trying to use student module"
   ]
  },
  {
   "cell_type": "code",
   "execution_count": null,
   "id": "7182a482",
   "metadata": {},
   "outputs": [],
   "source": [
    "#testt.py\n",
    "import logging\n",
    "import student\n",
    "#creating logger and setting level\n",
    "logger = logging.getLogger('testlogger')\n",
    "logger.setLevel(logging.DEBUG)\n",
    "\n",
    "#creating file handler object and changing default level to error\n",
    "fileHandler = logging.FileHandler('testt.log' , mode = 'a')\n",
    "fileHandler.setLevel(logging.DEBUG)\n",
    "\n",
    "\n",
    "#creating formatter object\n",
    "formatter = logging.Formatter('%(asctime)s-%(name)s-%(levelname)s-%(message)s' , datefmt = '%d-%m-Y %I:%M:%S %p')\n",
    "\n",
    "#attaching formatter to file handler\n",
    "fileHandler.setFormatter(formatter)\n",
    "\n",
    "#attaching file handler object to logger\n",
    "logger.addHandler(fileHandler)\n",
    "logger.debug('debug message from test module')\n",
    "logger.info('info message from test module')\n",
    "logger.warning(\"warning message from test module\")\n",
    "logger.error('error message from test module')\n",
    "logger.critical('critical message from test module')"
   ]
  },
  {
   "cell_type": "markdown",
   "id": "176a511a",
   "metadata": {},
   "source": [
    "- In the above example , when executed testt.py file there will be 2 log files for student and test.\n",
    "- But you cant do this with the root logger."
   ]
  },
  {
   "cell_type": "markdown",
   "id": "9e404254",
   "metadata": {},
   "source": [
    "**Concept: as you can see above while maintaining diff log files for diff modules , the code is very same for both. so instead creating different loggers , one should create a generic Custom logger**"
   ]
  },
  {
   "cell_type": "markdown",
   "id": "a2bcc9ad",
   "metadata": {},
   "source": [
    "**Importance of inspect module**\n",
    "- inspect ==> inspection\n",
    "- from which module/function the call is coming , you can do this using inspect module."
   ]
  },
  {
   "cell_type": "code",
   "execution_count": 2,
   "id": "3c66bdbd",
   "metadata": {},
   "outputs": [],
   "source": [
    "#demo.py\n",
    "import inspect\n",
    "def getInfo():\n",
    "    print(\"getInfo present in demo module\")\n",
    "    print(inspect.stack()) #--> it well tell from where the call came ie test module and f1() function    \n",
    "    print(\"Caller Module Name:\" , inspect.stack()[1][1])#-->print file name ie test.py\n",
    "    print('Caller Function Name:', inspect.stack()[1][3])#--> print function name ie f1()"
   ]
  },
  {
   "cell_type": "code",
   "execution_count": null,
   "id": "9cf34ec1",
   "metadata": {},
   "outputs": [],
   "source": [
    "#test.py\n",
    "from demo import getInfo\n",
    "def f1():\n",
    "    getInfo()\n",
    "    \n",
    "f1()"
   ]
  },
  {
   "cell_type": "code",
   "execution_count": null,
   "id": "f67d573f",
   "metadata": {},
   "outputs": [],
   "source": []
  }
 ],
 "metadata": {
  "kernelspec": {
   "display_name": "Python 3 (ipykernel)",
   "language": "python",
   "name": "python3"
  },
  "language_info": {
   "codemirror_mode": {
    "name": "ipython",
    "version": 3
   },
   "file_extension": ".py",
   "mimetype": "text/x-python",
   "name": "python",
   "nbconvert_exporter": "python",
   "pygments_lexer": "ipython3",
   "version": "3.9.12"
  }
 },
 "nbformat": 4,
 "nbformat_minor": 5
}
