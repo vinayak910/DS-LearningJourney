{
 "cells": [
  {
   "cell_type": "code",
   "execution_count": 2,
   "id": "e3cc6f88",
   "metadata": {},
   "outputs": [],
   "source": [
    "import logging"
   ]
  },
  {
   "cell_type": "code",
   "execution_count": 2,
   "id": "53e57d3c",
   "metadata": {},
   "outputs": [],
   "source": [
    "logging.basicConfig(filename = \"test.log\" , level = logging.INFO)"
   ]
  },
  {
   "cell_type": "code",
   "execution_count": 3,
   "id": "117509ac",
   "metadata": {},
   "outputs": [],
   "source": [
    "logging.info(\"Log this line of excecution\")"
   ]
  },
  {
   "cell_type": "code",
   "execution_count": 4,
   "id": "191dfee1",
   "metadata": {},
   "outputs": [],
   "source": [
    "logging.info(\"This is my print\")"
   ]
  },
  {
   "cell_type": "code",
   "execution_count": 5,
   "id": "f818514a",
   "metadata": {},
   "outputs": [],
   "source": [
    "# there are different levels of logging , we can log after or equal toa defined level , but not before \n",
    "# these are the levels of logging in right order DEBUG, INFO, WARNING, ERROR, CRITICAL."
   ]
  },
  {
   "cell_type": "code",
   "execution_count": 6,
   "id": "702531f8",
   "metadata": {},
   "outputs": [],
   "source": [
    "# since in the above ex logging level is info , it can not log debug , but can after of info\n",
    "logging.debug(\"This is a debug log\")"
   ]
  },
  {
   "cell_type": "code",
   "execution_count": 7,
   "id": "6b79c862",
   "metadata": {},
   "outputs": [],
   "source": [
    "#but it can log this one\n",
    "logging.warning(\"This is a warning\")"
   ]
  },
  {
   "cell_type": "code",
   "execution_count": 8,
   "id": "8d7af2a6",
   "metadata": {},
   "outputs": [],
   "source": [
    "logging.error(\"This is my syntx error\")"
   ]
  },
  {
   "cell_type": "markdown",
   "id": "65d1c56d",
   "metadata": {},
   "source": [
    "- %(asctime)s: The timestamp of the log message.\n",
    "- %(name)s: The logger's name.\n",
    "- %(levelname)s: The log level (e.g., DEBUG, INFO, WARNING).\n",
    "- %(message)s: The actual log message."
   ]
  },
  {
   "cell_type": "code",
   "execution_count": 23,
   "id": "3afca461",
   "metadata": {},
   "outputs": [],
   "source": [
    "logging.shutdown()"
   ]
  },
  {
   "cell_type": "markdown",
   "id": "3c7ab442",
   "metadata": {},
   "source": [
    "NOte - TO create a new log file you must shutdown the previous one"
   ]
  },
  {
   "cell_type": "code",
   "execution_count": 1,
   "id": "5e5fa645",
   "metadata": {},
   "outputs": [],
   "source": [
    "import logging"
   ]
  },
  {
   "cell_type": "code",
   "execution_count": 2,
   "id": "c59b2f7b",
   "metadata": {},
   "outputs": [],
   "source": [
    "logging.basicConfig(filename = \"testing.log\" , level = logging.DEBUG , format = \"%(asctime)s %(message)s\")"
   ]
  },
  {
   "cell_type": "code",
   "execution_count": 3,
   "id": "796131aa",
   "metadata": {},
   "outputs": [],
   "source": [
    "logging.warning(\"sudhar jao\")"
   ]
  },
  {
   "cell_type": "code",
   "execution_count": 4,
   "id": "9f01b7df",
   "metadata": {},
   "outputs": [],
   "source": [
    "logging.critical(\"Critical\")"
   ]
  },
  {
   "cell_type": "code",
   "execution_count": 5,
   "id": "e3061dc8",
   "metadata": {},
   "outputs": [],
   "source": [
    "logging.error(\"this is an error message\")"
   ]
  },
  {
   "cell_type": "code",
   "execution_count": 6,
   "id": "02d3d589",
   "metadata": {},
   "outputs": [],
   "source": [
    "logging.shutdown()"
   ]
  },
  {
   "cell_type": "code",
   "execution_count": 4,
   "id": "e705d244",
   "metadata": {},
   "outputs": [],
   "source": [
    "logging.basicConfig(filename = \"test2.log\" , level = logging.DEBUG  , format = \"%(asctime)s %(name)s %(levelname)s %(message)s\")"
   ]
  },
  {
   "cell_type": "code",
   "execution_count": 5,
   "id": "93110446",
   "metadata": {},
   "outputs": [],
   "source": [
    "logging.critical('This is a critical case')"
   ]
  },
  {
   "cell_type": "code",
   "execution_count": 7,
   "id": "4ad8121b",
   "metadata": {},
   "outputs": [],
   "source": [
    "logging.shutdown()"
   ]
  },
  {
   "cell_type": "code",
   "execution_count": 2,
   "id": "9a69d456",
   "metadata": {},
   "outputs": [],
   "source": [
    "logging.basicConfig(filename = \"test2.log\" , level = logging.DEBUG  , format = \"%(asctime)s %(name)s %(levelname)s %(message)s\")"
   ]
  },
  {
   "cell_type": "code",
   "execution_count": 3,
   "id": "a4c2ce8b",
   "metadata": {},
   "outputs": [],
   "source": [
    "logging.error(\"This is an error\")"
   ]
  },
  {
   "cell_type": "code",
   "execution_count": 7,
   "id": "a99be851",
   "metadata": {},
   "outputs": [],
   "source": [
    "l = [1,2,3,4,[2,3,4] , \"Vinayak\" , \"Chhabra\"]\n",
    "lst_int = []\n",
    "lst_str = []\n",
    "for i in l:\n",
    "    logging.info(\"Loop me hu bhay\")\n",
    "    if type(i) == list:\n",
    "        logging.info(\"KYa mai list hoo?\")\n",
    "        for j in i:\n",
    "            logging.info(\"Ha bhai list to hu ab iterate krta hu\")\n",
    "            lst_int.append(j)\n",
    "    elif type(i) == int:\n",
    "        lst_int.append(i)\n",
    "        \n",
    "    else:\n",
    "        if type(i) == str:\n",
    "            lst_str.append(i)"
   ]
  },
  {
   "cell_type": "code",
   "execution_count": 8,
   "id": "1996dd91",
   "metadata": {},
   "outputs": [],
   "source": [
    "logging.info(f\"final ans is {lst_int} and {lst_str}\")"
   ]
  },
  {
   "cell_type": "code",
   "execution_count": 5,
   "id": "7a0bdd3a",
   "metadata": {},
   "outputs": [
    {
     "data": {
      "text/plain": [
       "[1, 2, 3, 4, 2, 3, 4]"
      ]
     },
     "execution_count": 5,
     "metadata": {},
     "output_type": "execute_result"
    }
   ],
   "source": [
    "lst_int"
   ]
  },
  {
   "cell_type": "code",
   "execution_count": 6,
   "id": "1d9bf8b7",
   "metadata": {},
   "outputs": [
    {
     "data": {
      "text/plain": [
       "['Vinayak', 'Chhabra']"
      ]
     },
     "execution_count": 6,
     "metadata": {},
     "output_type": "execute_result"
    }
   ],
   "source": [
    "lst_str"
   ]
  },
  {
   "cell_type": "code",
   "execution_count": null,
   "id": "3e992bad",
   "metadata": {},
   "outputs": [],
   "source": []
  }
 ],
 "metadata": {
  "kernelspec": {
   "display_name": "Python 3 (ipykernel)",
   "language": "python",
   "name": "python3"
  },
  "language_info": {
   "codemirror_mode": {
    "name": "ipython",
    "version": 3
   },
   "file_extension": ".py",
   "mimetype": "text/x-python",
   "name": "python",
   "nbconvert_exporter": "python",
   "pygments_lexer": "ipython3",
   "version": "3.9.12"
  }
 },
 "nbformat": 4,
 "nbformat_minor": 5
}
