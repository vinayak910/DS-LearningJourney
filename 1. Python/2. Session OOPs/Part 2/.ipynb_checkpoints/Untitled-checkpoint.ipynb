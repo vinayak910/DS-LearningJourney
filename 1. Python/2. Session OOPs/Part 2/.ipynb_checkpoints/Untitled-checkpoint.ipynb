{
 "cells": [
  {
   "cell_type": "markdown",
   "id": "0f56aaa0",
   "metadata": {},
   "source": [
    "### Write OOP classes to handle the following scenarios:\n",
    "\n",
    "- A user can create and view 2D coordinates\n",
    "- A user can find out the distance between 2 coordinates\n",
    "- A user can find find the distance of a coordinate from origin\n",
    "- A user can check if a point lies on a given line\n",
    "- A user can find the distance between a given 2D point and a given line\n",
    "\n"
   ]
  },
  {
   "cell_type": "code",
   "execution_count": 1,
   "id": "f7fe8e4f",
   "metadata": {},
   "outputs": [],
   "source": [
    "class Point:\n",
    "    \n",
    "    def __init__(self , x , y):\n",
    "        self.x_cod = x\n",
    "        self.y_cod = y\n",
    "    "
   ]
  },
  {
   "cell_type": "code",
   "execution_count": 2,
   "id": "3b650502",
   "metadata": {},
   "outputs": [],
   "source": [
    "p = Point(2 , 3)"
   ]
  },
  {
   "cell_type": "code",
   "execution_count": 3,
   "id": "6fb0187e",
   "metadata": {},
   "outputs": [
    {
     "data": {
      "text/plain": [
       "2"
      ]
     },
     "execution_count": 3,
     "metadata": {},
     "output_type": "execute_result"
    }
   ],
   "source": [
    "p.x_cod"
   ]
  },
  {
   "cell_type": "code",
   "execution_count": 4,
   "id": "a6063ad3",
   "metadata": {},
   "outputs": [
    {
     "name": "stdout",
     "output_type": "stream",
     "text": [
      "<__main__.Point object at 0x000002649B1B4610>\n"
     ]
    }
   ],
   "source": [
    "print(p)"
   ]
  },
  {
   "cell_type": "markdown",
   "id": "5457e5b0",
   "metadata": {},
   "source": [
    "We want point obj to look like this <x,y>"
   ]
  },
  {
   "cell_type": "code",
   "execution_count": 5,
   "id": "bd31031f",
   "metadata": {},
   "outputs": [],
   "source": [
    "class Point:\n",
    "    \n",
    "    def __init__(self , x , y):\n",
    "        self.x_cod = x\n",
    "        self.y_cod = y\n",
    "    \n",
    "    def __str__(self):\n",
    "        return f\"<{self.x_cod} , {self.y_cod}>\"\n",
    "    \n",
    "    def euclidean_distance(self , other):\n",
    "        return ((self.x_cod - other.x_cod)**2 + (self.y_cod - other.y_cod)**2)**0.5\n",
    "    \n",
    "    def distance_from_origin(self):\n",
    "        return ((self.x_cod**2) + (self.y_cod**2))**0.5"
   ]
  },
  {
   "cell_type": "code",
   "execution_count": 7,
   "id": "fc96aa3a",
   "metadata": {},
   "outputs": [
    {
     "name": "stdout",
     "output_type": "stream",
     "text": [
      "<1 , 1>\n",
      "<0 , 0>\n"
     ]
    },
    {
     "data": {
      "text/plain": [
       "1.4142135623730951"
      ]
     },
     "execution_count": 7,
     "metadata": {},
     "output_type": "execute_result"
    }
   ],
   "source": [
    "p1 = Point(1 , 1)\n",
    "p2 = Point(0 , 0)\n",
    "print(p1)\n",
    "print(p2)\n",
    "p1.euclidean_distance(p2)"
   ]
  },
  {
   "cell_type": "code",
   "execution_count": 8,
   "id": "97fa02fb",
   "metadata": {},
   "outputs": [
    {
     "data": {
      "text/plain": [
       "1.4142135623730951"
      ]
     },
     "execution_count": 8,
     "metadata": {},
     "output_type": "execute_result"
    }
   ],
   "source": [
    "p1.distance_from_origin()"
   ]
  },
  {
   "cell_type": "markdown",
   "id": "1295104d",
   "metadata": {},
   "source": [
    "### check if the given point lies on the point or not\n",
    "- to do this first we have to create another class Line\n",
    "- line  = Ax + By + c\n",
    "- where A , B , c will be given by user"
   ]
  },
  {
   "cell_type": "markdown",
   "id": "412380be",
   "metadata": {},
   "source": [
    "- ques - How to check if the point lies on the line\n",
    "- ans - x , y (points ki value ) equation me ddalo if 0 then point lies on the line"
   ]
  },
  {
   "cell_type": "code",
   "execution_count": 9,
   "id": "af517988",
   "metadata": {},
   "outputs": [],
   "source": [
    "class Point:\n",
    "    \n",
    "    def __init__(self , x , y):\n",
    "        self.x_cod = x\n",
    "        self.y_cod = y\n",
    "    \n",
    "    def __str__(self):\n",
    "        return f\"<{self.x_cod} , {self.y_cod}>\"\n",
    "    \n",
    "    def euclidean_distance(self , other):\n",
    "        return ((self.x_cod - other.x_cod)**2 + (self.y_cod - other.y_cod)**2)**0.5\n",
    "    \n",
    "    def distance_from_origin(self):\n",
    "        return ((self.x_cod**2) + (self.y_cod**2))**0.5\n",
    "    \n",
    "class Line:\n",
    "    def __init__(self , A , B , C):\n",
    "        self.A = A\n",
    "        self.B = B\n",
    "        self.C = C\n",
    "        \n",
    "    def __str__(self):\n",
    "        return f\"{self.A}x + {self.B}y + {self.C} = 0\"\n",
    "    \n",
    "    def point_on_the_line(line , point):\n",
    "        \n",
    "        if line.A*point.x_cod + line.B*point.y_cod + line.C == 0:\n",
    "            return f\"{point} lies on the line {line}\"\n",
    "        else:\n",
    "            return f\"Point {point} does not lie on the line {line}\""
   ]
  },
  {
   "cell_type": "code",
   "execution_count": 10,
   "id": "e1e31dd2",
   "metadata": {},
   "outputs": [
    {
     "name": "stdout",
     "output_type": "stream",
     "text": [
      "1x + 1y + -2 = 0\n",
      "<2 , 1>\n"
     ]
    }
   ],
   "source": [
    "line = Line(1 , 1, -2)\n",
    "point = Point(2 , 1)\n",
    "print(line)\n",
    "print(point)"
   ]
  },
  {
   "cell_type": "code",
   "execution_count": 11,
   "id": "30ecbbf2",
   "metadata": {},
   "outputs": [
    {
     "name": "stdout",
     "output_type": "stream",
     "text": [
      "Point <2 , 1> does not lie on the line 1x + 1y + -2 = 0\n"
     ]
    }
   ],
   "source": [
    "print(line.point_on_the_line(point))"
   ]
  },
  {
   "cell_type": "markdown",
   "id": "6f395d12",
   "metadata": {},
   "source": [
    "## Finding the shortest between a point and a line\n",
    "- formula - `| Ax + By + c|/sqrt(A**2  + B**2)`\n",
    "- put all the values of line and point"
   ]
  },
  {
   "cell_type": "code",
   "execution_count": 12,
   "id": "aceaf534",
   "metadata": {},
   "outputs": [],
   "source": [
    "class Point:\n",
    "    \n",
    "    def __init__(self , x , y):\n",
    "        self.x_cod = x\n",
    "        self.y_cod = y\n",
    "    \n",
    "    def __str__(self):\n",
    "        return f\"<{self.x_cod} , {self.y_cod}>\"\n",
    "    \n",
    "    def euclidean_distance(self , other):\n",
    "        return ((self.x_cod - other.x_cod)**2 + (self.y_cod - other.y_cod)**2)**0.5\n",
    "    \n",
    "    def distance_from_origin(self):\n",
    "        return ((self.x_cod**2) + (self.y_cod**2))**0.5\n",
    "    \n",
    "class Line:\n",
    "    def __init__(self , A , B , C):\n",
    "        self.A = A\n",
    "        self.B = B\n",
    "        self.C = C\n",
    "        \n",
    "    def __str__(self):\n",
    "        return f\"{self.A}x + {self.B}y + {self.C} = 0\"\n",
    "    \n",
    "    def point_on_the_line(line , point):\n",
    "        \n",
    "        if line.A*point.x_cod + line.B*point.y_cod + line.C == 0:\n",
    "            return f\"{point} lies on the line {line}\"\n",
    "        else:\n",
    "            return f\"Point {point} does not lie on the line {line}\"\n",
    "              \n",
    "    def shortest_distance(line , point):\n",
    "        num = abs(line.A*point.x_cod + line.B*point.y_cod + line.C)\n",
    "        den = (line.A**2 + line.B**2)**0.5\n",
    "        return num/den"
   ]
  },
  {
   "cell_type": "code",
   "execution_count": 13,
   "id": "1972114a",
   "metadata": {},
   "outputs": [
    {
     "data": {
      "text/plain": [
       "6.363961030678928"
      ]
     },
     "execution_count": 13,
     "metadata": {},
     "output_type": "execute_result"
    }
   ],
   "source": [
    "l = Line(1 , 1 , -2)\n",
    "p = Point(1, 10) # Since 1 , 1 lies on the line hence distance wil be zero\n",
    "l.shortest_distance(p)"
   ]
  },
  {
   "cell_type": "code",
   "execution_count": 14,
   "id": "ffc0ce8f",
   "metadata": {},
   "outputs": [
    {
     "name": "stdout",
     "output_type": "stream",
     "text": [
      "<2 , 3>\n"
     ]
    }
   ],
   "source": [
    "p = Point(2 , 3)\n",
    "print(p)"
   ]
  },
  {
   "cell_type": "markdown",
   "id": "f7ada99c",
   "metadata": {},
   "source": [
    "### How objects access attributes"
   ]
  },
  {
   "cell_type": "code",
   "execution_count": 15,
   "id": "20f9959c",
   "metadata": {},
   "outputs": [],
   "source": [
    "class Person:\n",
    "\n",
    "  def __init__(self,name_input,country_input):\n",
    "    self.name = name_input\n",
    "    self.country = country_input\n",
    "\n",
    "  def greet(self):\n",
    "    if self.country == 'india':\n",
    "      print('Namaste',self.name)\n",
    "    else:\n",
    "      print('Hello',self.name)\n"
   ]
  },
  {
   "cell_type": "code",
   "execution_count": 16,
   "id": "75aea90f",
   "metadata": {},
   "outputs": [
    {
     "data": {
      "text/plain": [
       "'nitish'"
      ]
     },
     "execution_count": 16,
     "metadata": {},
     "output_type": "execute_result"
    }
   ],
   "source": [
    "# how to access attributes\n",
    "p = Person('nitish','india')\n",
    "p.name"
   ]
  },
  {
   "cell_type": "code",
   "execution_count": 17,
   "id": "0749f619",
   "metadata": {},
   "outputs": [
    {
     "name": "stdout",
     "output_type": "stream",
     "text": [
      "Namaste nitish\n"
     ]
    }
   ],
   "source": [
    "# how to access methods\n",
    "p.greet()"
   ]
  },
  {
   "cell_type": "markdown",
   "id": "1be8b289",
   "metadata": {},
   "source": [
    "**what if i try to access non-existent attributes?**\n",
    "- lets try"
   ]
  },
  {
   "cell_type": "code",
   "execution_count": 18,
   "id": "b2049ef5",
   "metadata": {},
   "outputs": [
    {
     "ename": "AttributeError",
     "evalue": "'Person' object has no attribute 'gender'",
     "output_type": "error",
     "traceback": [
      "\u001b[1;31m---------------------------------------------------------------------------\u001b[0m",
      "\u001b[1;31mAttributeError\u001b[0m                            Traceback (most recent call last)",
      "Input \u001b[1;32mIn [18]\u001b[0m, in \u001b[0;36m<cell line: 1>\u001b[1;34m()\u001b[0m\n\u001b[1;32m----> 1\u001b[0m \u001b[43mp\u001b[49m\u001b[38;5;241;43m.\u001b[39;49m\u001b[43mgender\u001b[49m\n",
      "\u001b[1;31mAttributeError\u001b[0m: 'Person' object has no attribute 'gender'"
     ]
    }
   ],
   "source": [
    "p.gender #obviously error"
   ]
  },
  {
   "cell_type": "markdown",
   "id": "4e1bdbb2",
   "metadata": {},
   "source": [
    "### We can also have Attribute creation from outside of the class"
   ]
  },
  {
   "cell_type": "code",
   "execution_count": 19,
   "id": "ba940cc9",
   "metadata": {},
   "outputs": [
    {
     "data": {
      "text/plain": [
       "'Male'"
      ]
     },
     "execution_count": 19,
     "metadata": {},
     "output_type": "execute_result"
    }
   ],
   "source": [
    "p.gender = \"Male\"\n",
    "p.gender"
   ]
  },
  {
   "cell_type": "markdown",
   "id": "4c8ac252",
   "metadata": {},
   "source": [
    "Even though class doesnot have that attribute , but in obj you created your attribute and it did not throw the error"
   ]
  },
  {
   "cell_type": "markdown",
   "id": "baafd1d6",
   "metadata": {},
   "source": [
    "### Reference Variables\n",
    "\n",
    "- Reference variables hold the objects\n",
    "- We can create objects without reference variable as well\n",
    "- An object can have multiple reference variables\n",
    "- Assigning a new reference variable to an existing object does not create a new object"
   ]
  },
  {
   "cell_type": "markdown",
   "id": "366429eb",
   "metadata": {},
   "source": [
    "Explaination - what if we do not create the variable when creating an obj , will that work?\n",
    "- ans - yes"
   ]
  },
  {
   "cell_type": "code",
   "execution_count": 75,
   "id": "7db3ccd1",
   "metadata": {},
   "outputs": [
    {
     "data": {
      "text/plain": [
       "<__main__.Person at 0x19442c4cc40>"
      ]
     },
     "execution_count": 75,
     "metadata": {},
     "output_type": "execute_result"
    }
   ],
   "source": [
    "class Person:\n",
    "    def __init__(self):\n",
    "        self.name = \"Nitish\"\n",
    "        self.gender = \"Male\"\n",
    "\n",
    "Person()"
   ]
  },
  {
   "cell_type": "markdown",
   "id": "495bba10",
   "metadata": {},
   "source": [
    "Technically , calling P(variabe) a class is wrong , P is not the obj , its just have the memory address of the obj\n",
    "- So p is the reference variable"
   ]
  },
  {
   "cell_type": "code",
   "execution_count": 6,
   "id": "eaf7a4d4",
   "metadata": {},
   "outputs": [],
   "source": [
    "class Person:\n",
    "    def __init__(self):\n",
    "        self.name = \"Nitish\"\n",
    "        self.gender = \"Male\"\n",
    "\n",
    "p = Person()\n",
    "q = p"
   ]
  },
  {
   "cell_type": "markdown",
   "id": "e926fd1f",
   "metadata": {},
   "source": [
    "Basically in this code , p and q both are variables name pointing to the same address"
   ]
  },
  {
   "cell_type": "code",
   "execution_count": 7,
   "id": "6d4bd202",
   "metadata": {},
   "outputs": [
    {
     "name": "stdout",
     "output_type": "stream",
     "text": [
      "2631142949744\n",
      "2631142949744\n"
     ]
    }
   ],
   "source": [
    "print(id(p))\n",
    "print(id(q))"
   ]
  },
  {
   "cell_type": "markdown",
   "id": "28457c13",
   "metadata": {},
   "source": [
    "Conclusion - **Hence you can have multiple references for a single object**"
   ]
  },
  {
   "cell_type": "code",
   "execution_count": 8,
   "id": "8b45a4ec",
   "metadata": {},
   "outputs": [
    {
     "name": "stdout",
     "output_type": "stream",
     "text": [
      "Nitish\n",
      "Nitish\n",
      "Ankit\n",
      "Ankit\n"
     ]
    }
   ],
   "source": [
    "# Notice this carefully\n",
    "print(p.name)\n",
    "print(q.name)\n",
    "q.name = \"Ankit\"\n",
    "print(q.name)\n",
    "print(p.name)"
   ]
  },
  {
   "cell_type": "markdown",
   "id": "7c9be57b",
   "metadata": {},
   "source": [
    "The ans is same as they are pointing to the same location"
   ]
  },
  {
   "cell_type": "markdown",
   "id": "b0a4ce9c",
   "metadata": {},
   "source": [
    "## Pass By Reference"
   ]
  },
  {
   "cell_type": "markdown",
   "id": "5f67a4a3",
   "metadata": {},
   "source": [
    "**Initially we passed datatypes like int , float , tuples etc in the function , but in this we will pass an obj as parameters**"
   ]
  },
  {
   "cell_type": "code",
   "execution_count": 11,
   "id": "17ab98d7",
   "metadata": {},
   "outputs": [],
   "source": [
    "class Person:\n",
    "    \n",
    "    def __init__(self, name , gender):\n",
    "        self.name = name\n",
    "        self.gender = gender\n",
    "\n",
    "        \n",
    "# outside the class ---> function\n",
    "def greet(person):\n",
    "    print(f\"Hi my name is {person.name} , and I am {person.gender}\")"
   ]
  },
  {
   "cell_type": "code",
   "execution_count": 12,
   "id": "91eb9776",
   "metadata": {},
   "outputs": [
    {
     "name": "stdout",
     "output_type": "stream",
     "text": [
      "Hi my name is Vinayak , and I am Male\n"
     ]
    }
   ],
   "source": [
    "# creating an obj and passing inside function as a parameter\n",
    "p = Person(\"Vinayak\",\"Male\")\n",
    "greet(p)"
   ]
  },
  {
   "cell_type": "markdown",
   "id": "fc189614",
   "metadata": {},
   "source": [
    "**Infact we can do the reverse ie function can also return an obj of class**"
   ]
  },
  {
   "cell_type": "code",
   "execution_count": 17,
   "id": "06954fc7",
   "metadata": {},
   "outputs": [],
   "source": [
    "class Person:\n",
    "    \n",
    "    def __init__(self, name , gender):\n",
    "        self.name = name\n",
    "        self.gender = gender\n",
    "\n",
    "        \n",
    "# outside the class ---> function\n",
    "def greet(person):\n",
    "    print(f\"Hi my name is {person.name} , and I am {person.gender}\")\n",
    "    p1 = Person('Nitish' , \"Male\")\n",
    "    return p1"
   ]
  },
  {
   "cell_type": "code",
   "execution_count": 18,
   "id": "8f04be46",
   "metadata": {},
   "outputs": [
    {
     "name": "stdout",
     "output_type": "stream",
     "text": [
      "Hi my name is Vinayak , and I am Male\n"
     ]
    }
   ],
   "source": [
    "# creating an obj and passing inside function as a parameter and returning an obj of class\n",
    "p = Person(\"Vinayak\",\"Male\")\n",
    "x = greet(p)"
   ]
  },
  {
   "cell_type": "code",
   "execution_count": 19,
   "id": "41ec2d3f",
   "metadata": {},
   "outputs": [
    {
     "data": {
      "text/plain": [
       "'Nitish'"
      ]
     },
     "execution_count": 19,
     "metadata": {},
     "output_type": "execute_result"
    }
   ],
   "source": [
    "x.name # see it return an obj"
   ]
  },
  {
   "cell_type": "code",
   "execution_count": 20,
   "id": "ac323987",
   "metadata": {},
   "outputs": [
    {
     "data": {
      "text/plain": [
       "'Male'"
      ]
     },
     "execution_count": 20,
     "metadata": {},
     "output_type": "execute_result"
    }
   ],
   "source": [
    "x.gender"
   ]
  },
  {
   "cell_type": "markdown",
   "id": "e440cab1",
   "metadata": {},
   "source": [
    "ques - is the address of an obj of class and when the obj is passed as paramter is same or not? lets check"
   ]
  },
  {
   "cell_type": "code",
   "execution_count": 49,
   "id": "ff7a8cad",
   "metadata": {},
   "outputs": [
    {
     "name": "stdout",
     "output_type": "stream",
     "text": [
      "Hi my name is Vinayak , and I am Male\n",
      "person pointing to the address 1747243923872\n",
      "p pointing to address 1747243923872\n"
     ]
    }
   ],
   "source": [
    "class Person:\n",
    "    \n",
    "    def __init__(self, name , gender):\n",
    "        self.name = name\n",
    "        self.gender = gender\n",
    "\n",
    "        \n",
    "# outside the class ---> function\n",
    "def greet(person):\n",
    "    print(f\"Hi my name is {person.name} , and I am {person.gender}\")\n",
    "    print(f\"person pointing to the address {id(person)}\")\n",
    "\n",
    "p = Person(\"Vinayak\", \"Male\")\n",
    "greet(p)\n",
    "print(f\"p pointing to address {id(p)}\")"
   ]
  },
  {
   "cell_type": "code",
   "execution_count": 21,
   "id": "80a87a95",
   "metadata": {},
   "outputs": [
    {
     "name": "stdout",
     "output_type": "stream",
     "text": [
      "2631142621344\n",
      "Nitish\n",
      "2631142621344\n",
      "Nitish\n"
     ]
    }
   ],
   "source": [
    "# Hence any changes done to person will reflect to p also as they are pointing to the same location , let's check\n",
    "class Person:\n",
    "    \n",
    "    def __init__(self, name , gender):\n",
    "        self.name = name\n",
    "        self.gender = gender\n",
    "\n",
    "        \n",
    "# outside the class ---> function\n",
    "def greet(person):\n",
    "    print(id(person))\n",
    "    person.name = \"Nitish\"\n",
    "    print(person.name)\n",
    "p = Person(\"Vinayak\", \"Male\")\n",
    "greet(p)\n",
    "print(id(p))\n",
    "print(p.name)"
   ]
  },
  {
   "cell_type": "markdown",
   "id": "c3586369",
   "metadata": {},
   "source": [
    "**ques - Object is mutable or immutable? . let's check out**"
   ]
  },
  {
   "cell_type": "code",
   "execution_count": 22,
   "id": "3894d07e",
   "metadata": {},
   "outputs": [
    {
     "name": "stdout",
     "output_type": "stream",
     "text": [
      "2631122033776\n",
      "2631122033776\n",
      "Ankit\n",
      "Ankit\n"
     ]
    }
   ],
   "source": [
    "class Person:\n",
    "    def __init__(self , name , gender):\n",
    "        self.name = name\n",
    "        self.gender = gender\n",
    "\n",
    "def greet(person):\n",
    "    person.name = \"Ankit\"\n",
    "    return person\n",
    "\n",
    "p = Person(\"Nitish\", \"Male\")\n",
    "print(id(p))\n",
    "p1 = greet(p)\n",
    "print(id(p1))\n",
    "print(p.name)\n",
    "print(p1.name)"
   ]
  },
  {
   "cell_type": "markdown",
   "id": "7458be05",
   "metadata": {},
   "source": [
    "Explaination - you passed an object with the values of nitish and male and after passing you made name to Ankit and return that object , now if the address of p and p1 is same , that means changes are done in the same address and it did not made copy of an obj, hence mutable (changes inside function reflect outside also)"
   ]
  },
  {
   "cell_type": "markdown",
   "id": "282a84dc",
   "metadata": {},
   "source": [
    "## Encapculation"
   ]
  },
  {
   "cell_type": "markdown",
   "id": "14d4aaf6",
   "metadata": {},
   "source": [
    "- Before that what is instance variable - \n",
    "- instance variables are special variables those values who differ from obj to obj"
   ]
  },
  {
   "cell_type": "code",
   "execution_count": 51,
   "id": "7228517d",
   "metadata": {},
   "outputs": [],
   "source": [
    "class Person:\n",
    "    \n",
    "    def __init__(self , name_input , country_input):\n",
    "        self.name = name_input # <----------- These are instance variables (self.name & self.country)\n",
    "        self.country = country_input\n",
    "\n",
    "p1 = Person(\"Vinayak\" , \"India\")\n",
    "p2 = Person(\"Nitish\",\"Australia\")"
   ]
  },
  {
   "cell_type": "code",
   "execution_count": 52,
   "id": "2eb2d125",
   "metadata": {},
   "outputs": [
    {
     "name": "stdout",
     "output_type": "stream",
     "text": [
      "Vinayak\n",
      "Nitish\n"
     ]
    }
   ],
   "source": [
    "print(p1.name)\n",
    "print(p2.name)"
   ]
  },
  {
   "cell_type": "markdown",
   "id": "32c277a2",
   "metadata": {},
   "source": [
    "Conclusion - Variable is same ie name , but values are diff . "
   ]
  },
  {
   "cell_type": "markdown",
   "id": "1fd94ed3",
   "metadata": {},
   "source": [
    "## Encapculation\n",
    "\n",
    "let us understand through story\n",
    "hero ---> you - Senior Programmer\n",
    "villian ---> Junior Programmer \n",
    "\n",
    "you wrote a codee for class ATM which is written below "
   ]
  },
  {
   "cell_type": "code",
   "execution_count": 26,
   "id": "23604b56",
   "metadata": {},
   "outputs": [],
   "source": [
    "class ATM:\n",
    "    \n",
    "    #constructor - A function inside the class that automatically gets excuted when obj is made\n",
    "    def __init__(self):\n",
    "        self.pin = \"\"\n",
    "        self.balance = 0\n",
    "        #self.menu()\n",
    "        \n",
    "    def menu(self):\n",
    "        user_input = input(\"\"\"\n",
    "        How can I help You?\n",
    "        1. Press 1 to create Pin\n",
    "        2. Press 2 to change Pin\n",
    "        3. Press 3 to check balance\n",
    "        4. Press 4 to withdraw\n",
    "        5. Anything else to exit\n",
    "        \"\"\")\n",
    "        \n",
    "        if user_input == \"1\":\n",
    "            #Create pin\n",
    "            self.create_pin()\n",
    "            \n",
    "        elif user_input == \"2\":\n",
    "            #  change Pin\n",
    "            self.change_pin()\n",
    "            \n",
    "        elif user_input == \"3\":\n",
    "            # Check Balance\n",
    "            self.check_Balance()\n",
    "        elif user_input == \"4\":\n",
    "            #wihdraw\n",
    "            self.withdraw_money()\n",
    "        else:\n",
    "            return\n",
    "    \n",
    "    def create_pin(self):\n",
    "        user_pin = input(\"Create your Pin:\")\n",
    "        self.pin = user_pin\n",
    "        user_balance = int(input(\"Enter your Balance:\"))\n",
    "        self.balance = user_balance\n",
    "        print(\"Pin Created Successfully\")\n",
    "        #self.menu()\n",
    "     \n",
    "    def change_pin(self):\n",
    "        user_pin = input(\"Enter your pin:\")\n",
    "        if user_pin == self.pin:\n",
    "            user_pin = input(\"Enter your new pin:\")\n",
    "            self.pin = user_pin\n",
    "            print(\"Pin changed Successully\")\n",
    "            \n",
    "            #self.menu()\n",
    "        else:\n",
    "            print(\"Wrong Pin\")\n",
    "            #self.menu()\n",
    "    def check_Balance(self):\n",
    "        user_pin = input(\"Enter Your Pin:\")\n",
    "        if user_pin == self.pin:\n",
    "            #show balance\n",
    "             print(self.balance)\n",
    "        else:\n",
    "            #wrong pin\n",
    "            print(\"Wrong Pin\")\n",
    "       \n",
    "        #self.menu()\n",
    "    def withdraw_money(self):\n",
    "        user_pin = input(\"Enter your pin:\")\n",
    "        if user_pin == self.pin:\n",
    "            amt = int(input(\"Enter the amount to withdraw\"))\n",
    "            if amt <= self.balance:\n",
    "                self.balance = self.balance - amt\n",
    "                print(f\"Current Balance:{self.balance}\")\n",
    "            else:\n",
    "                print(\"Insufficient Balance\")\n",
    "        else:\n",
    "            print(\"Chori karta hai madarjaat\")\n",
    "        #self.menu()"
   ]
  },
  {
   "cell_type": "markdown",
   "id": "d3b9de92",
   "metadata": {},
   "source": [
    "- Now to work to create an obj is of Junior Programmer\n",
    "- so what happen is some user create an obj , or lets say enter card for first time.  he created a pinn for himself as it was first time entering a card and entered balance of 10000\n",
    "- lets do it"
   ]
  },
  {
   "cell_type": "code",
   "execution_count": 27,
   "id": "71d7c5ae",
   "metadata": {},
   "outputs": [
    {
     "name": "stdout",
     "output_type": "stream",
     "text": [
      "Create your Pin:1234\n",
      "Enter your Balance:1000\n",
      "Pin Created Successfully\n"
     ]
    }
   ],
   "source": [
    "obj = ATM()\n",
    "obj.create_pin()"
   ]
  },
  {
   "cell_type": "markdown",
   "id": "4506031b",
   "metadata": {},
   "source": [
    "Now here comes the villian ie Junior programmer who changes the attribute value of balance to `heheh`"
   ]
  },
  {
   "cell_type": "code",
   "execution_count": 28,
   "id": "debd77f4",
   "metadata": {},
   "outputs": [],
   "source": [
    "obj.balance = \"hehehehe\""
   ]
  },
  {
   "cell_type": "markdown",
   "id": "3ea5cff6",
   "metadata": {},
   "source": [
    "Now user want to withdraw money let's see what happens?"
   ]
  },
  {
   "cell_type": "code",
   "execution_count": 29,
   "id": "03d4c5fe",
   "metadata": {},
   "outputs": [
    {
     "name": "stdout",
     "output_type": "stream",
     "text": [
      "Enter your pin:1234\n",
      "Enter the amount to withdraw500\n"
     ]
    },
    {
     "ename": "TypeError",
     "evalue": "'<=' not supported between instances of 'int' and 'str'",
     "output_type": "error",
     "traceback": [
      "\u001b[1;31m---------------------------------------------------------------------------\u001b[0m",
      "\u001b[1;31mTypeError\u001b[0m                                 Traceback (most recent call last)",
      "Input \u001b[1;32mIn [29]\u001b[0m, in \u001b[0;36m<cell line: 1>\u001b[1;34m()\u001b[0m\n\u001b[1;32m----> 1\u001b[0m \u001b[43mobj\u001b[49m\u001b[38;5;241;43m.\u001b[39;49m\u001b[43mwithdraw_money\u001b[49m\u001b[43m(\u001b[49m\u001b[43m)\u001b[49m\n",
      "Input \u001b[1;32mIn [26]\u001b[0m, in \u001b[0;36mATM.withdraw_money\u001b[1;34m(self)\u001b[0m\n\u001b[0;32m     67\u001b[0m \u001b[38;5;28;01mif\u001b[39;00m user_pin \u001b[38;5;241m==\u001b[39m \u001b[38;5;28mself\u001b[39m\u001b[38;5;241m.\u001b[39mpin:\n\u001b[0;32m     68\u001b[0m     amt \u001b[38;5;241m=\u001b[39m \u001b[38;5;28mint\u001b[39m(\u001b[38;5;28minput\u001b[39m(\u001b[38;5;124m\"\u001b[39m\u001b[38;5;124mEnter the amount to withdraw\u001b[39m\u001b[38;5;124m\"\u001b[39m))\n\u001b[1;32m---> 69\u001b[0m     \u001b[38;5;28;01mif\u001b[39;00m \u001b[43mamt\u001b[49m\u001b[43m \u001b[49m\u001b[38;5;241;43m<\u001b[39;49m\u001b[38;5;241;43m=\u001b[39;49m\u001b[43m \u001b[49m\u001b[38;5;28;43mself\u001b[39;49m\u001b[38;5;241;43m.\u001b[39;49m\u001b[43mbalance\u001b[49m:\n\u001b[0;32m     70\u001b[0m         \u001b[38;5;28mself\u001b[39m\u001b[38;5;241m.\u001b[39mbalance \u001b[38;5;241m=\u001b[39m \u001b[38;5;28mself\u001b[39m\u001b[38;5;241m.\u001b[39mbalance \u001b[38;5;241m-\u001b[39m amt\n\u001b[0;32m     71\u001b[0m         \u001b[38;5;28mprint\u001b[39m(\u001b[38;5;124mf\u001b[39m\u001b[38;5;124m\"\u001b[39m\u001b[38;5;124mCurrent Balance:\u001b[39m\u001b[38;5;132;01m{\u001b[39;00m\u001b[38;5;28mself\u001b[39m\u001b[38;5;241m.\u001b[39mbalance\u001b[38;5;132;01m}\u001b[39;00m\u001b[38;5;124m\"\u001b[39m)\n",
      "\u001b[1;31mTypeError\u001b[0m: '<=' not supported between instances of 'int' and 'str'"
     ]
    }
   ],
   "source": [
    "obj.withdraw_money()"
   ]
  },
  {
   "cell_type": "markdown",
   "id": "1b4e29cd",
   "metadata": {},
   "source": [
    "The work of the villian , Since our villian changed the attribute value of 10000 to 'hehehe' we cannot withdraw money as the function substract the money from current balance which cannot happen as it is of string type"
   ]
  },
  {
   "cell_type": "markdown",
   "id": "b55df06e",
   "metadata": {},
   "source": [
    "Conclusion - The problem is that someone can easily access the variable of our code , and able to change which is very dangerous thing . it will create problem just like in our case"
   ]
  },
  {
   "cell_type": "markdown",
   "id": "cd9ae66a",
   "metadata": {},
   "source": [
    "So what we can do?\n",
    "- here comes the concept of private.\n",
    "- so what you can do is you can make all your attributes `private`"
   ]
  },
  {
   "cell_type": "markdown",
   "id": "e9bc1dab",
   "metadata": {},
   "source": [
    "### Private\n",
    "In python there is no keyword as private , to create your attribute private use `__` before the name of variable to make it private\n",
    "- let's check in code"
   ]
  },
  {
   "cell_type": "code",
   "execution_count": 30,
   "id": "6599bc45",
   "metadata": {},
   "outputs": [],
   "source": [
    "class ATM:\n",
    "    \n",
    "    #constructor - A function inside the class that automatically gets excuted when obj is made\n",
    "    def __init__(self):\n",
    "        self.pin = \"\"\n",
    "        self.__balance = 0\n",
    "        #self.menu()\n",
    "        \n",
    "    def menu(self):\n",
    "        user_input = input(\"\"\"\n",
    "        How can I help You?\n",
    "        1. Press 1 to create Pin\n",
    "        2. Press 2 to change Pin\n",
    "        3. Press 3 to check balance\n",
    "        4. Press 4 to withdraw\n",
    "        5. Anything else to exit\n",
    "        \"\"\")\n",
    "        \n",
    "        if user_input == \"1\":\n",
    "            #Create pin\n",
    "            self.create_pin()\n",
    "            \n",
    "        elif user_input == \"2\":\n",
    "            #  change Pin\n",
    "            self.change_pin()\n",
    "            \n",
    "        elif user_input == \"3\":\n",
    "            # Check Balance\n",
    "            self.check_Balance()\n",
    "        elif user_input == \"4\":\n",
    "            #wihdraw\n",
    "            self.withdraw_money()\n",
    "        else:\n",
    "            return\n",
    "    \n",
    "    def create_pin(self):\n",
    "        user_pin = input(\"Create your Pin:\")\n",
    "        self.pin = user_pin\n",
    "        user_balance = int(input(\"Enter your Balance:\"))\n",
    "        self.__balance = user_balance\n",
    "        print(\"Pin Created Successfully\")\n",
    "        #self.menu()\n",
    "     \n",
    "    def change_pin(self):\n",
    "        user_pin = input(\"Enter your pin:\")\n",
    "        if user_pin == self.pin:\n",
    "            user_pin = input(\"Enter your new pin:\")\n",
    "            self.pin = user_pin\n",
    "            print(\"Pin changed Successully\")\n",
    "            \n",
    "            #self.menu()\n",
    "        else:\n",
    "            print(\"Wrong Pin\")\n",
    "            #self.menu()\n",
    "    def check_Balance(self):\n",
    "        user_pin = input(\"Enter Your Pin:\")\n",
    "        if user_pin == self.pin:\n",
    "            #show balance\n",
    "             print(self.__balance)\n",
    "        else:\n",
    "            #wrong pin\n",
    "            print(\"Wrong Pin\")\n",
    "       \n",
    "        #self.menu()\n",
    "    def withdraw_money(self):\n",
    "        user_pin = input(\"Enter your pin:\")\n",
    "        if user_pin == self.pin:\n",
    "            amt = int(input(\"Enter the amount to withdraw\"))\n",
    "            if amt <= self.__balance:\n",
    "                self.__balance = self.__balance - amt\n",
    "                print(f\"Current Balance:{self.__balance}\")\n",
    "            else:\n",
    "                print(\"Insufficient Balance\")\n",
    "        else:\n",
    "            print(\"Chori karta hai madarjaat\")\n",
    "        #self.menu()"
   ]
  },
  {
   "cell_type": "code",
   "execution_count": 31,
   "id": "14347433",
   "metadata": {},
   "outputs": [
    {
     "name": "stdout",
     "output_type": "stream",
     "text": [
      "Create your Pin:1234\n",
      "Enter your Balance:1000\n",
      "Pin Created Successfully\n"
     ]
    }
   ],
   "source": [
    "obj = ATM()\n",
    "obj.create_pin()"
   ]
  },
  {
   "cell_type": "code",
   "execution_count": 32,
   "id": "b1f427c2",
   "metadata": {},
   "outputs": [
    {
     "name": "stdout",
     "output_type": "stream",
     "text": [
      "Enter your pin:1234\n",
      "Enter the amount to withdraw500\n",
      "Current Balance:500\n"
     ]
    }
   ],
   "source": [
    "obj.withdraw_money()"
   ]
  },
  {
   "cell_type": "code",
   "execution_count": 33,
   "id": "729d4a09",
   "metadata": {},
   "outputs": [
    {
     "ename": "AttributeError",
     "evalue": "'ATM' object has no attribute 'balance'",
     "output_type": "error",
     "traceback": [
      "\u001b[1;31m---------------------------------------------------------------------------\u001b[0m",
      "\u001b[1;31mAttributeError\u001b[0m                            Traceback (most recent call last)",
      "Input \u001b[1;32mIn [33]\u001b[0m, in \u001b[0;36m<cell line: 1>\u001b[1;34m()\u001b[0m\n\u001b[1;32m----> 1\u001b[0m \u001b[43mobj\u001b[49m\u001b[38;5;241;43m.\u001b[39;49m\u001b[43mbalance\u001b[49m\n",
      "\u001b[1;31mAttributeError\u001b[0m: 'ATM' object has no attribute 'balance'"
     ]
    }
   ],
   "source": [
    "obj.balance"
   ]
  },
  {
   "cell_type": "markdown",
   "id": "504b1f99",
   "metadata": {},
   "source": [
    "See , now you are not able to access balance attribute from an obj"
   ]
  },
  {
   "cell_type": "markdown",
   "id": "9b011d6e",
   "metadata": {},
   "source": [
    "Important Note - You can make attribute pvt as well as method also , just like the below code , i made menu method pvt"
   ]
  },
  {
   "cell_type": "code",
   "execution_count": 35,
   "id": "ba3b60a6",
   "metadata": {},
   "outputs": [],
   "source": [
    "class ATM:\n",
    "    \n",
    "    #constructor - A function inside the class that automatically gets excuted when obj is made\n",
    "    def __init__(self):\n",
    "        self.pin = \"\"\n",
    "        self.__balance = 0\n",
    "        #self.menu()\n",
    "        \n",
    "    def __menu(self):\n",
    "        user_input = input(\"\"\"\n",
    "        How can I help You?\n",
    "        1. Press 1 to create Pin\n",
    "        2. Press 2 to change Pin\n",
    "        3. Press 3 to check balance\n",
    "        4. Press 4 to withdraw\n",
    "        5. Anything else to exit\n",
    "        \"\"\")\n",
    "        \n",
    "        if user_input == \"1\":\n",
    "            #Create pin\n",
    "            self.create_pin()\n",
    "            \n",
    "        elif user_input == \"2\":\n",
    "            #  change Pin\n",
    "            self.change_pin()\n",
    "            \n",
    "        elif user_input == \"3\":\n",
    "            # Check Balance\n",
    "            self.check_Balance()\n",
    "        elif user_input == \"4\":\n",
    "            #wihdraw\n",
    "            self.withdraw_money()\n",
    "        else:\n",
    "            return\n",
    "    \n",
    "    def create_pin(self):\n",
    "        user_pin = input(\"Create your Pin:\")\n",
    "        self.pin = user_pin\n",
    "        user_balance = int(input(\"Enter your Balance:\"))\n",
    "        self.__balance = user_balance\n",
    "        print(\"Pin Created Successfully\")\n",
    "        #self.menu()\n",
    "     \n",
    "    def change_pin(self):\n",
    "        user_pin = input(\"Enter your pin:\")\n",
    "        if user_pin == self.pin:\n",
    "            user_pin = input(\"Enter your new pin:\")\n",
    "            self.pin = user_pin\n",
    "            print(\"Pin changed Successully\")\n",
    "            \n",
    "            #self.menu()\n",
    "        else:\n",
    "            print(\"Wrong Pin\")\n",
    "            #self.menu()\n",
    "    def check_Balance(self):\n",
    "        user_pin = input(\"Enter Your Pin:\")\n",
    "        if user_pin == self.pin:\n",
    "            #show balance\n",
    "             print(self.__balance)\n",
    "        else:\n",
    "            #wrong pin\n",
    "            print(\"Wrong Pin\")\n",
    "       \n",
    "        #self.menu()\n",
    "    def withdraw_money(self):\n",
    "        user_pin = input(\"Enter your pin:\")\n",
    "        if user_pin == self.pin:\n",
    "            amt = int(input(\"Enter the amount to withdraw\"))\n",
    "            if amt <= self.__balance:\n",
    "                self.__balance = self.__balance - amt\n",
    "                print(f\"Current Balance:{self.__balance}\")\n",
    "            else:\n",
    "                print(\"Insufficient Balance\")\n",
    "        else:\n",
    "            print(\"Chori karta hai madarjaat\")\n",
    "        #self.menu()"
   ]
  },
  {
   "cell_type": "code",
   "execution_count": 39,
   "id": "bdfe53cc",
   "metadata": {},
   "outputs": [
    {
     "ename": "AttributeError",
     "evalue": "'ATM' object has no attribute 'menu'",
     "output_type": "error",
     "traceback": [
      "\u001b[1;31m---------------------------------------------------------------------------\u001b[0m",
      "\u001b[1;31mAttributeError\u001b[0m                            Traceback (most recent call last)",
      "Input \u001b[1;32mIn [39]\u001b[0m, in \u001b[0;36m<cell line: 2>\u001b[1;34m()\u001b[0m\n\u001b[0;32m      1\u001b[0m obj \u001b[38;5;241m=\u001b[39m ATM()\n\u001b[1;32m----> 2\u001b[0m \u001b[43mobj\u001b[49m\u001b[38;5;241;43m.\u001b[39;49m\u001b[43mmenu\u001b[49m()\n",
      "\u001b[1;31mAttributeError\u001b[0m: 'ATM' object has no attribute 'menu'"
     ]
    }
   ],
   "source": [
    "obj = ATM()\n",
    "obj.menu()"
   ]
  },
  {
   "cell_type": "markdown",
   "id": "5b75b7e1",
   "metadata": {},
   "source": [
    "see now the menu is also pvt\n",
    "Basically when junior program will create an obj when he click on tab he won't be able to see the variables aur methods that are private. (As class code is in another module)\n"
   ]
  },
  {
   "cell_type": "markdown",
   "id": "32902a37",
   "metadata": {},
   "source": [
    "- But here comes the villian again , somehow by cheating he know that the pvt variable name is balance . So can he change it now? \n",
    "- the ans is yes\n",
    "- let's see how?"
   ]
  },
  {
   "cell_type": "code",
   "execution_count": 40,
   "id": "c32d9763",
   "metadata": {},
   "outputs": [
    {
     "name": "stdout",
     "output_type": "stream",
     "text": [
      "Create your Pin:1234\n",
      "Enter your Balance:1000\n",
      "Pin Created Successfully\n"
     ]
    }
   ],
   "source": [
    "obj.create_pin()"
   ]
  },
  {
   "cell_type": "code",
   "execution_count": 41,
   "id": "24b10fc0",
   "metadata": {},
   "outputs": [],
   "source": [
    "obj.__balance = \"hehehe\" # now using the same __ he change  the value of pvt attribute"
   ]
  },
  {
   "cell_type": "code",
   "execution_count": 42,
   "id": "d7082cae",
   "metadata": {},
   "outputs": [
    {
     "name": "stdout",
     "output_type": "stream",
     "text": [
      "Enter your pin:1234\n",
      "Enter the amount to withdraw500\n",
      "Current Balance:500\n"
     ]
    }
   ],
   "source": [
    "obj.withdraw_money()"
   ]
  },
  {
   "cell_type": "markdown",
   "id": "88b4f380",
   "metadata": {},
   "source": [
    "Note - **Erroe ab bhi nahi aya , code abh bhi nahi fatta**. Why?"
   ]
  },
  {
   "cell_type": "markdown",
   "id": "893ecab9",
   "metadata": {},
   "source": [
    "Ans - **jab aap apne attribute ya method pvt krte ho  , vo memory me iska naam badal jata hai \n",
    "- ie **_classname__attributename**\n",
    "- IN our case name of attribute will be ---> **_ATM__balance**\n",
    "- To jab naya programmer aya , usne jab `obj.__balance = 'hehehe'` set kra , to vo aise attribute ke sath kaam krne lag gya jo class me exist hi ni krta tha , aur jab usne ye code run kia , class me ek naya attribute ban gya by the name of __balance whose value is set hehehe(Kyunki we can create attribute outside from the class)"
   ]
  },
  {
   "cell_type": "code",
   "execution_count": 43,
   "id": "d936a38f",
   "metadata": {},
   "outputs": [
    {
     "data": {
      "text/plain": [
       "'hehehe'"
      ]
     },
     "execution_count": 43,
     "metadata": {},
     "output_type": "execute_result"
    }
   ],
   "source": [
    "obj.__balance ## see class me naya attribute ban gya with the value of hehehe"
   ]
  },
  {
   "cell_type": "markdown",
   "id": "9019667e",
   "metadata": {},
   "source": [
    "**AB villian aur shaatir hogya use ye technique pata lag gyi , to une issi _class__attribute wale syntax se fir value change krne ki try kri** .\n",
    "- to ques is kya ab hogi? let's check"
   ]
  },
  {
   "cell_type": "code",
   "execution_count": 44,
   "id": "2dd325ab",
   "metadata": {},
   "outputs": [],
   "source": [
    "obj._ATM__balance = \"hehehe\""
   ]
  },
  {
   "cell_type": "code",
   "execution_count": 45,
   "id": "2b17f7df",
   "metadata": {},
   "outputs": [
    {
     "name": "stdout",
     "output_type": "stream",
     "text": [
      "Enter your pin:1234\n",
      "Enter the amount to withdraw500\n"
     ]
    },
    {
     "ename": "TypeError",
     "evalue": "'<=' not supported between instances of 'int' and 'str'",
     "output_type": "error",
     "traceback": [
      "\u001b[1;31m---------------------------------------------------------------------------\u001b[0m",
      "\u001b[1;31mTypeError\u001b[0m                                 Traceback (most recent call last)",
      "Input \u001b[1;32mIn [45]\u001b[0m, in \u001b[0;36m<cell line: 1>\u001b[1;34m()\u001b[0m\n\u001b[1;32m----> 1\u001b[0m \u001b[43mobj\u001b[49m\u001b[38;5;241;43m.\u001b[39;49m\u001b[43mwithdraw_money\u001b[49m\u001b[43m(\u001b[49m\u001b[43m)\u001b[49m\n",
      "Input \u001b[1;32mIn [35]\u001b[0m, in \u001b[0;36mATM.withdraw_money\u001b[1;34m(self)\u001b[0m\n\u001b[0;32m     67\u001b[0m \u001b[38;5;28;01mif\u001b[39;00m user_pin \u001b[38;5;241m==\u001b[39m \u001b[38;5;28mself\u001b[39m\u001b[38;5;241m.\u001b[39mpin:\n\u001b[0;32m     68\u001b[0m     amt \u001b[38;5;241m=\u001b[39m \u001b[38;5;28mint\u001b[39m(\u001b[38;5;28minput\u001b[39m(\u001b[38;5;124m\"\u001b[39m\u001b[38;5;124mEnter the amount to withdraw\u001b[39m\u001b[38;5;124m\"\u001b[39m))\n\u001b[1;32m---> 69\u001b[0m     \u001b[38;5;28;01mif\u001b[39;00m \u001b[43mamt\u001b[49m\u001b[43m \u001b[49m\u001b[38;5;241;43m<\u001b[39;49m\u001b[38;5;241;43m=\u001b[39;49m\u001b[43m \u001b[49m\u001b[38;5;28;43mself\u001b[39;49m\u001b[38;5;241;43m.\u001b[39;49m\u001b[43m__balance\u001b[49m:\n\u001b[0;32m     70\u001b[0m         \u001b[38;5;28mself\u001b[39m\u001b[38;5;241m.\u001b[39m__balance \u001b[38;5;241m=\u001b[39m \u001b[38;5;28mself\u001b[39m\u001b[38;5;241m.\u001b[39m__balance \u001b[38;5;241m-\u001b[39m amt\n\u001b[0;32m     71\u001b[0m         \u001b[38;5;28mprint\u001b[39m(\u001b[38;5;124mf\u001b[39m\u001b[38;5;124m\"\u001b[39m\u001b[38;5;124mCurrent Balance:\u001b[39m\u001b[38;5;132;01m{\u001b[39;00m\u001b[38;5;28mself\u001b[39m\u001b[38;5;241m.\u001b[39m__balance\u001b[38;5;132;01m}\u001b[39;00m\u001b[38;5;124m\"\u001b[39m)\n",
      "\u001b[1;31mTypeError\u001b[0m: '<=' not supported between instances of 'int' and 'str'"
     ]
    }
   ],
   "source": [
    "obj.withdraw_money()"
   ]
  },
  {
   "cell_type": "markdown",
   "id": "392319e9",
   "metadata": {},
   "source": [
    "**Shit , ab villian kamyab hogya , itna kuch krne ke baad bhi**"
   ]
  },
  {
   "cell_type": "markdown",
   "id": "ff34107c",
   "metadata": {},
   "source": [
    "#### There is one line written in python ie  in Python , Nothing is truly Private"
   ]
  },
  {
   "cell_type": "markdown",
   "id": "9be155b1",
   "metadata": {},
   "source": [
    "- WHy? Because python is a programming language made for adults (its a gentleman agreement between senior and junior)"
   ]
  },
  {
   "cell_type": "markdown",
   "id": "d3a42076",
   "metadata": {},
   "source": [
    "### Good habits when making a class\n",
    "- always make your attributes pvt using __\n"
   ]
  },
  {
   "cell_type": "markdown",
   "id": "6b0531ef",
   "metadata": {},
   "source": [
    "- So let's continue the story ----\n",
    "- purane junior ko nikial dia aur naya ko rakha , naya bada shareef.\n",
    "- since jo vo code likh rha tha usme actually pvt variables ki need thi . To vo senior ke pass gy access mangle ke lie , pr vo nhi de skta.\n",
    "- **Here comes the concept of getters and setters.**\n",
    "- **Note that ki pvt attributes ko  , we cannot access outside the class , but class ke andar hi dusre functions to use kr skte hai**"
   ]
  },
  {
   "cell_type": "markdown",
   "id": "1fb3bd5c",
   "metadata": {},
   "source": [
    "- So for every data you have in the class  , you create two methods one is `getter` and other is `setter`\n",
    "- getter - pvt ka value bhar dikhana\n",
    "- setter - pvt ka value bhar se change krana"
   ]
  },
  {
   "cell_type": "code",
   "execution_count": 72,
   "id": "b9244521",
   "metadata": {},
   "outputs": [
    {
     "name": "stdout",
     "output_type": "stream",
     "text": [
      "Vinayak\n",
      "Nitish\n"
     ]
    }
   ],
   "source": [
    "class person:\n",
    "    def __init__(self , name , gender):\n",
    "        self.__name = name\n",
    "        self.__gender = gender\n",
    "    \n",
    "    def get_name(self):\n",
    "        return self.__name\n",
    "    def set_name(self , new_name):\n",
    "        self.__name = \"Nitish\"\n",
    "    \n",
    "p =person(\"Vinayak\" , \"Male\")\n",
    "print(p.get_name())\n",
    "p.set_name(\"Nitish\")\n",
    "print(p.get_name())"
   ]
  },
  {
   "cell_type": "code",
   "execution_count": 52,
   "id": "9f1b127e",
   "metadata": {},
   "outputs": [],
   "source": [
    "# writing a getter method\n",
    "class ATM:\n",
    "    \n",
    "    #constructor - A function inside the class that automatically gets excuted when obj is made\n",
    "    def __init__(self):\n",
    "        self.pin = \"\"\n",
    "        self.__balance = 0\n",
    "        #self.menu()\n",
    "        \n",
    "    def get_balance(self):\n",
    "        return self.__balance # ---------------->getter\n",
    "    \n",
    "    def set_balance(self , new_balance):\n",
    "        self.__balance = new_balance # ------------> setter\n",
    "    \n",
    "    def __menu(self):\n",
    "        user_input = input(\"\"\"\n",
    "        How can I help You?\n",
    "        1. Press 1 to create Pin\n",
    "        2. Press 2 to change Pin\n",
    "        3. Press 3 to check balance\n",
    "        4. Press 4 to withdraw\n",
    "        5. Anything else to exit\n",
    "        \"\"\")\n",
    "        \n",
    "        if user_input == \"1\":\n",
    "            #Create pin\n",
    "            self.create_pin()\n",
    "            \n",
    "        elif user_input == \"2\":\n",
    "            #  change Pin\n",
    "            self.change_pin()\n",
    "            \n",
    "        elif user_input == \"3\":\n",
    "            # Check Balance\n",
    "            self.check_Balance()\n",
    "        elif user_input == \"4\":\n",
    "            #wihdraw\n",
    "            self.withdraw_money()\n",
    "        else:\n",
    "            return\n",
    "    \n",
    "    def create_pin(self):\n",
    "        user_pin = input(\"Create your Pin:\")\n",
    "        self.pin = user_pin\n",
    "        user_balance = int(input(\"Enter your Balance:\"))\n",
    "        self.__balance = user_balance\n",
    "        print(\"Pin Created Successfully\")\n",
    "        #self.menu()\n",
    "     \n",
    "    def change_pin(self):\n",
    "        user_pin = input(\"Enter your pin:\")\n",
    "        if user_pin == self.pin:\n",
    "            user_pin = input(\"Enter your new pin:\")\n",
    "            self.pin = user_pin\n",
    "            print(\"Pin changed Successully\")\n",
    "            \n",
    "            #self.menu()\n",
    "        else:\n",
    "            print(\"Wrong Pin\")\n",
    "            #self.menu()\n",
    "    def check_Balance(self):\n",
    "        user_pin = input(\"Enter Your Pin:\")\n",
    "        if user_pin == self.pin:\n",
    "            #show balance\n",
    "             print(self.__balance)\n",
    "        else:\n",
    "            #wrong pin\n",
    "            print(\"Wrong Pin\")\n",
    "       \n",
    "        #self.menu()\n",
    "    def withdraw_money(self):\n",
    "        user_pin = input(\"Enter your pin:\")\n",
    "        if user_pin == self.pin:\n",
    "            amt = int(input(\"Enter the amount to withdraw\"))\n",
    "            if amt <= self.__balance:\n",
    "                self.__balance = self.__balance - amt\n",
    "                print(f\"Current Balance:{self.__balance}\")\n",
    "            else:\n",
    "                print(\"Insufficient Balance\")\n",
    "        else:\n",
    "            print(\"Chori karta hai madarjaat\")\n",
    "        #self.menu()"
   ]
  },
  {
   "cell_type": "code",
   "execution_count": 53,
   "id": "9d8040fa",
   "metadata": {},
   "outputs": [
    {
     "name": "stdout",
     "output_type": "stream",
     "text": [
      "Create your Pin:1234\n",
      "Enter your Balance:1000\n",
      "Pin Created Successfully\n"
     ]
    }
   ],
   "source": [
    "obj = ATM()\n",
    "obj.create_pin()"
   ]
  },
  {
   "cell_type": "code",
   "execution_count": 54,
   "id": "c5729dc5",
   "metadata": {},
   "outputs": [
    {
     "data": {
      "text/plain": [
       "1000"
      ]
     },
     "execution_count": 54,
     "metadata": {},
     "output_type": "execute_result"
    }
   ],
   "source": [
    "obj.get_balance() # benefit of using getter , even though you weren able to see attribute directly you used geter method to see"
   ]
  },
  {
   "cell_type": "code",
   "execution_count": 55,
   "id": "d55e3a88",
   "metadata": {},
   "outputs": [],
   "source": [
    "obj.set_balance(12000) # benefit of setter , you were able to change the value of pvt attribute too"
   ]
  },
  {
   "cell_type": "code",
   "execution_count": 56,
   "id": "e55e8187",
   "metadata": {},
   "outputs": [
    {
     "data": {
      "text/plain": [
       "12000"
      ]
     },
     "execution_count": 56,
     "metadata": {},
     "output_type": "execute_result"
    }
   ],
   "source": [
    "obj.get_balance()"
   ]
  },
  {
   "cell_type": "markdown",
   "id": "58f43569",
   "metadata": {},
   "source": [
    "What is the benefit of setter and getter?\n",
    "- what if apka junior pagla gya then easily vo attributes ki value change krskta hai to 'heheheh'\n",
    "- benefit is - since vo function aapka hai logic aapka hai , you can make a check to ensure ki junior kuch panga na kre.\n",
    "- let's see the new code"
   ]
  },
  {
   "cell_type": "code",
   "execution_count": 57,
   "id": "b8031546",
   "metadata": {},
   "outputs": [],
   "source": [
    "# writing a getter method\n",
    "class ATM:\n",
    "    \n",
    "    #constructor - A function inside the class that automatically gets excuted when obj is made\n",
    "    def __init__(self):\n",
    "        self.pin = \"\"\n",
    "        self.__balance = 0\n",
    "        #self.menu()\n",
    "        \n",
    "    def get_balance(self):\n",
    "        return self.__balance # ---------------->getter\n",
    "    \n",
    "    def set_balance(self , new_balance):\n",
    "        if type(new_balance)==  int: # --------> the check\n",
    "            self.__balance = new_balance # ------------> setter\n",
    "        else:\n",
    "            print(\"\"\"Pagla gye hai be\n",
    "marna hai kya bhosdike\n",
    "dar nhi lagta \"\"\")\n",
    "    \n",
    "    def __menu(self):\n",
    "        user_input = input(\"\"\"\n",
    "        How can I help You?\n",
    "        1. Press 1 to create Pin\n",
    "        2. Press 2 to change Pin\n",
    "        3. Press 3 to check balance\n",
    "        4. Press 4 to withdraw\n",
    "        5. Anything else to exit\n",
    "        \"\"\")\n",
    "        \n",
    "        if user_input == \"1\":\n",
    "            #Create pin\n",
    "            self.create_pin()\n",
    "            \n",
    "        elif user_input == \"2\":\n",
    "            #  change Pin\n",
    "            self.change_pin()\n",
    "            \n",
    "        elif user_input == \"3\":\n",
    "            # Check Balance\n",
    "            self.check_Balance()\n",
    "        elif user_input == \"4\":\n",
    "            #wihdraw\n",
    "            self.withdraw_money()\n",
    "        else:\n",
    "            return\n",
    "    \n",
    "    def create_pin(self):\n",
    "        user_pin = input(\"Create your Pin:\")\n",
    "        self.pin = user_pin\n",
    "        user_balance = int(input(\"Enter your Balance:\"))\n",
    "        self.__balance = user_balance\n",
    "        print(\"Pin Created Successfully\")\n",
    "        #self.menu()\n",
    "     \n",
    "    def change_pin(self):\n",
    "        user_pin = input(\"Enter your pin:\")\n",
    "        if user_pin == self.pin:\n",
    "            user_pin = input(\"Enter your new pin:\")\n",
    "            self.pin = user_pin\n",
    "            print(\"Pin changed Successully\")\n",
    "            \n",
    "            #self.menu()\n",
    "        else:\n",
    "            print(\"Wrong Pin\")\n",
    "            #self.menu()\n",
    "    def check_Balance(self):\n",
    "        user_pin = input(\"Enter Your Pin:\")\n",
    "        if user_pin == self.pin:\n",
    "            #show balance\n",
    "             print(self.__balance)\n",
    "        else:\n",
    "            #wrong pin\n",
    "            print(\"Wrong Pin\")\n",
    "       \n",
    "        #self.menu()\n",
    "    def withdraw_money(self):\n",
    "        user_pin = input(\"Enter your pin:\")\n",
    "        if user_pin == self.pin:\n",
    "            amt = int(input(\"Enter the amount to withdraw\"))\n",
    "            if amt <= self.__balance:\n",
    "                self.__balance = self.__balance - amt\n",
    "                print(f\"Current Balance:{self.__balance}\")\n",
    "            else:\n",
    "                print(\"Insufficient Balance\")\n",
    "        else:\n",
    "            print(\"Chori karta hai madarjaat\")\n",
    "        #self.menu()"
   ]
  },
  {
   "cell_type": "code",
   "execution_count": 58,
   "id": "491ef987",
   "metadata": {},
   "outputs": [
    {
     "name": "stdout",
     "output_type": "stream",
     "text": [
      "Create your Pin:1234\n",
      "Enter your Balance:1000\n",
      "Pin Created Successfully\n"
     ]
    }
   ],
   "source": [
    "obj = ATM()\n",
    "obj.create_pin()"
   ]
  },
  {
   "cell_type": "code",
   "execution_count": 61,
   "id": "f1c33e15",
   "metadata": {},
   "outputs": [
    {
     "name": "stdout",
     "output_type": "stream",
     "text": [
      "Pagla gye hai be\n",
      "marna hai kya bhosdike\n",
      "dar nhi lagta \n"
     ]
    }
   ],
   "source": [
    "obj.set_balance(\"hehehe\")"
   ]
  },
  {
   "cell_type": "markdown",
   "id": "b2ed5cab",
   "metadata": {},
   "source": [
    "## Encapculation final summary aur funda kya hai use krne ka ?\n",
    "- Ek data attribute aur uske do dost methods getter and setter\n",
    "- you make your all attributes private\n",
    "- but kbhi kbhi bhar zaroorat pdti hai \n",
    "- so app bhot protected tareeke se you expose your attribute to the outer world\n",
    "- concept of encapculation aya hi capcule se where you mix diff medicines in a capcule\n",
    "- so in short for every attribute you have to make 1 getter and setter"
   ]
  },
  {
   "cell_type": "markdown",
   "id": "808a7003",
   "metadata": {},
   "source": [
    "## Next Topic - Collection of objects\n",
    "- you can make objs and you can pass it in a list , dictionary or tuple"
   ]
  },
  {
   "cell_type": "markdown",
   "id": "c02bf093",
   "metadata": {},
   "source": [
    " **-----list of objects----**"
   ]
  },
  {
   "cell_type": "code",
   "execution_count": 75,
   "id": "ddf0679b",
   "metadata": {},
   "outputs": [],
   "source": [
    "# list of objects\n",
    "class Person:\n",
    "    \n",
    "    def __init__(self , name , gender):\n",
    "        self.name = name\n",
    "        self.gender = gender\n",
    "\n",
    "p1 = Person(\"Vinayak\", \"Male\")\n",
    "p2 = Person(\"Nitish Sir\" , \"GOD\" )\n",
    "p3 = Person(\"Ankita\" , \"Female\")\n",
    "\n",
    "L= [p1 , p2 , p3]"
   ]
  },
  {
   "cell_type": "code",
   "execution_count": 76,
   "id": "ba04d45f",
   "metadata": {},
   "outputs": [
    {
     "name": "stdout",
     "output_type": "stream",
     "text": [
      "[<__main__.Person object at 0x00000196CFFC3190>, <__main__.Person object at 0x00000196CFFC35B0>, <__main__.Person object at 0x00000196CFFC33A0>]\n"
     ]
    }
   ],
   "source": [
    "print(L)"
   ]
  },
  {
   "cell_type": "markdown",
   "id": "39d28471",
   "metadata": {},
   "source": [
    "Since it is a list , you can perform various opt on list like loops stc"
   ]
  },
  {
   "cell_type": "code",
   "execution_count": 77,
   "id": "13282578",
   "metadata": {},
   "outputs": [
    {
     "name": "stdout",
     "output_type": "stream",
     "text": [
      "My name is Vinayak and i am Male\n",
      "My name is Nitish Sir and i am GOD\n",
      "My name is Ankita and i am Female\n"
     ]
    }
   ],
   "source": [
    "for i in L:\n",
    "    print(f\"My name is {i.name} and i am {i.gender}\")"
   ]
  },
  {
   "cell_type": "markdown",
   "id": "678f4567",
   "metadata": {},
   "source": [
    " **-----Dict of objects----**"
   ]
  },
  {
   "cell_type": "code",
   "execution_count": 174,
   "id": "75f7ed01",
   "metadata": {},
   "outputs": [
    {
     "data": {
      "text/plain": [
       "'Vinayak'"
      ]
     },
     "execution_count": 174,
     "metadata": {},
     "output_type": "execute_result"
    }
   ],
   "source": [
    "# list of objects\n",
    "class Person:\n",
    "    \n",
    "    def __init__(self , name , gender):\n",
    "        self.name = name\n",
    "        self.gender = gender\n",
    "\n",
    "p1 = Person(\"Vinayak\", \"Male\")\n",
    "p2 = Person(\"Nitish Sir\" , \"GOD\" )\n",
    "p3 = Person(\"Ankita\" , \"Female\")\n",
    "d = {'p1':p1 , 'p2':p2 , 'p3':p3}\n",
    "d['p1'].name\n"
   ]
  },
  {
   "cell_type": "code",
   "execution_count": 178,
   "id": "ac26b2c4",
   "metadata": {},
   "outputs": [
    {
     "name": "stdout",
     "output_type": "stream",
     "text": [
      "p1\n",
      "p2\n",
      "p3\n",
      "\n",
      "\n",
      "<__main__.Person object at 0x00000194420074C0>\n",
      "<__main__.Person object at 0x0000019441FA0460>\n",
      "<__main__.Person object at 0x000001944289E2B0>\n",
      "\n",
      "\n",
      "My name is Vinayak and I am Male\n",
      "My name is Nitish Sir and I am GOD\n",
      "My name is Ankita and I am Female\n"
     ]
    }
   ],
   "source": [
    "# running loops on dict\n",
    "for i in d:\n",
    "    print(i)\n",
    "print(\"\\n\")\n",
    "for i in d:\n",
    "    print(d[i])\n",
    "print(\"\\n\")\n",
    "\n",
    "for i in d:\n",
    "    print(f\"My name is {d[i].name} and I am {d[i].gender}\")"
   ]
  },
  {
   "cell_type": "markdown",
   "id": "d93168f7",
   "metadata": {},
   "source": [
    "## Static Variables(Vs Instance Variables)"
   ]
  },
  {
   "cell_type": "markdown",
   "id": "3e42b82a",
   "metadata": {},
   "source": [
    "### need of static vars ?"
   ]
  },
  {
   "cell_type": "markdown",
   "id": "e4c8a570",
   "metadata": {},
   "source": [
    "- apka manager aya and then usne kha for each customer you have to make unique_id , so let's try making unique_id(customer_id)\n",
    "- to appne ek variable banaya inside constructor(instance var) jiska intialize kia zero se then increment by 1 , will it work lets check"
   ]
  },
  {
   "cell_type": "code",
   "execution_count": 62,
   "id": "a7de9bee",
   "metadata": {},
   "outputs": [],
   "source": [
    "# writing a getter method\n",
    "class ATM:\n",
    "    \n",
    "    #constructor - A function inside the class that automatically gets excuted when obj is made\n",
    "    def __init__(self):\n",
    "        self.pin = \"\"\n",
    "        self.__balance = 0\n",
    "        self.cid = 0\n",
    "        self.cid  += 1\n",
    "        #self.menu()\n",
    "        \n",
    "    def get_balance(self):\n",
    "        return self.__balance # ---------------->getter\n",
    "    \n",
    "    def set_balance(self , new_balance):\n",
    "        if type(new_balance)==  int: # --------> the check\n",
    "            self.__balance = new_balance # ------------> setter\n",
    "        else:\n",
    "            print(\"\"\"Pagla gye hai be\n",
    "marna hai kya bhosdike\n",
    "dar nhi lagta \"\"\")\n",
    "    \n",
    "    def __menu(self):\n",
    "        user_input = input(\"\"\"\n",
    "        How can I help You?\n",
    "        1. Press 1 to create Pin\n",
    "        2. Press 2 to change Pin\n",
    "        3. Press 3 to check balance\n",
    "        4. Press 4 to withdraw\n",
    "        5. Anything else to exit\n",
    "        \"\"\")\n",
    "        \n",
    "        if user_input == \"1\":\n",
    "            #Create pin\n",
    "            self.create_pin()\n",
    "            \n",
    "        elif user_input == \"2\":\n",
    "            #  change Pin\n",
    "            self.change_pin()\n",
    "            \n",
    "        elif user_input == \"3\":\n",
    "            # Check Balance\n",
    "            self.check_Balance()\n",
    "        elif user_input == \"4\":\n",
    "            #wihdraw\n",
    "            self.withdraw_money()\n",
    "        else:\n",
    "            return\n",
    "    \n",
    "    def create_pin(self):\n",
    "        user_pin = input(\"Create your Pin:\")\n",
    "        self.pin = user_pin\n",
    "        user_balance = int(input(\"Enter your Balance:\"))\n",
    "        self.__balance = user_balance\n",
    "        print(\"Pin Created Successfully\")\n",
    "        #self.menu()\n",
    "     \n",
    "    def change_pin(self):\n",
    "        user_pin = input(\"Enter your pin:\")\n",
    "        if user_pin == self.pin:\n",
    "            user_pin = input(\"Enter your new pin:\")\n",
    "            self.pin = user_pin\n",
    "            print(\"Pin changed Successully\")\n",
    "            \n",
    "            #self.menu()\n",
    "        else:\n",
    "            print(\"Wrong Pin\")\n",
    "            #self.menu()\n",
    "    def check_Balance(self):\n",
    "        user_pin = input(\"Enter Your Pin:\")\n",
    "        if user_pin == self.pin:\n",
    "            #show balance\n",
    "             print(self.__balance)\n",
    "        else:\n",
    "            #wrong pin\n",
    "            print(\"Wrong Pin\")\n",
    "       \n",
    "        #self.menu()\n",
    "    def withdraw_money(self):\n",
    "        user_pin = input(\"Enter your pin:\")\n",
    "        if user_pin == self.pin:\n",
    "            amt = int(input(\"Enter the amount to withdraw\"))\n",
    "            if amt <= self.__balance:\n",
    "                self.__balance = self.__balance - amt\n",
    "                print(f\"Current Balance:{self.__balance}\")\n",
    "            else:\n",
    "                print(\"Insufficient Balance\")\n",
    "        else:\n",
    "            print(\"Chori karta hai madarjaat\")\n",
    "        #self.menu()"
   ]
  },
  {
   "cell_type": "code",
   "execution_count": 63,
   "id": "868035cb",
   "metadata": {},
   "outputs": [
    {
     "name": "stdout",
     "output_type": "stream",
     "text": [
      "1\n",
      "1\n",
      "1\n"
     ]
    }
   ],
   "source": [
    "c1 = ATM()\n",
    "c2 = ATM()\n",
    "c3 = ATM()\n",
    "print(c1.cid)\n",
    "print(c2.cid)\n",
    "print(c3.cid)"
   ]
  },
  {
   "cell_type": "markdown",
   "id": "5b9596ac",
   "metadata": {},
   "source": [
    "- it didn't work .\n",
    "- why? because for each obj it is creating a new variable with the same value of zero and initializing by 1 hence all cid for diff customers is 1 (as they are independent)\n",
    "\n",
    "- conlusion - using an instance variable you can create a counter"
   ]
  },
  {
   "cell_type": "markdown",
   "id": "d0354483",
   "metadata": {},
   "source": [
    "- but you don't want independent , you want something common between diff objects\n",
    "- instance variables are those variable for which each obj have differe values\n",
    "- that's where static varible comes in"
   ]
  },
  {
   "cell_type": "markdown",
   "id": "0d4cd8d5",
   "metadata": {},
   "source": [
    "- Static variable class ka hota gai , jaise instance variable har object ka hota hai\n",
    "- **diff kya hia (interview)**\n",
    "- 1. **instance variable ka value har ek obj ke lie alag alag hota hai(independent)**\n",
    "- **stat variable ka value har ek obj ke lie same hota hai(common)**\n",
    "- 2. **stat variable class ka hota hai , and instance obj ka**"
   ]
  },
  {
   "cell_type": "markdown",
   "id": "c65b27f9",
   "metadata": {},
   "source": [
    "- Static variable is defined outside all methods but inside the class \n",
    "- accessed by class name rather than object"
   ]
  },
  {
   "cell_type": "code",
   "execution_count": 64,
   "id": "2fac3ecc",
   "metadata": {},
   "outputs": [],
   "source": [
    "# writing a getter method\n",
    "class ATM:\n",
    "    \n",
    "    counter = 1\n",
    "    #constructor - A function inside the class that automatically gets excuted when obj is made\n",
    "    def __init__(self):\n",
    "        self.pin = \"\"\n",
    "        self.__balance = 0\n",
    "        self.cid = ATM.counter  #-----> accessing counter variable\n",
    "        ATM.counter = ATM.counter + 1  # ---- incrementing counter\n",
    "        #self.menu()\n",
    "        \n",
    "    def get_balance(self):\n",
    "        return self.__balance # ---------------->getter\n",
    "    \n",
    "    def set_balance(self , new_balance):\n",
    "        if type(new_balance)==  int: # --------> the check\n",
    "            self.__balance = new_balance # ------------> setter\n",
    "        else:\n",
    "            print(\"\"\"Pagla gye hai be\n",
    "marna hai kya bhosdike\n",
    "dar nhi lagta \"\"\")\n",
    "    \n",
    "    def __menu(self):\n",
    "        user_input = input(\"\"\"\n",
    "        How can I help You?\n",
    "        1. Press 1 to create Pin\n",
    "        2. Press 2 to change Pin\n",
    "        3. Press 3 to check balance\n",
    "        4. Press 4 to withdraw\n",
    "        5. Anything else to exit\n",
    "        \"\"\")\n",
    "        \n",
    "        if user_input == \"1\":\n",
    "            #Create pin\n",
    "            self.create_pin()\n",
    "            \n",
    "        elif user_input == \"2\":\n",
    "            #  change Pin\n",
    "            self.change_pin()\n",
    "            \n",
    "        elif user_input == \"3\":\n",
    "            # Check Balance\n",
    "            self.check_Balance()\n",
    "        elif user_input == \"4\":\n",
    "            #wihdraw\n",
    "            self.withdraw_money()\n",
    "        else:\n",
    "            return\n",
    "    \n",
    "    def create_pin(self):\n",
    "        user_pin = input(\"Create your Pin:\")\n",
    "        self.pin = user_pin\n",
    "        user_balance = int(input(\"Enter your Balance:\"))\n",
    "        self.__balance = user_balance\n",
    "        print(\"Pin Created Successfully\")\n",
    "        #self.menu()\n",
    "     \n",
    "    def change_pin(self):\n",
    "        user_pin = input(\"Enter your pin:\")\n",
    "        if user_pin == self.pin:\n",
    "            user_pin = input(\"Enter your new pin:\")\n",
    "            self.pin = user_pin\n",
    "            print(\"Pin changed Successully\")\n",
    "            \n",
    "            #self.menu()\n",
    "        else:\n",
    "            print(\"Wrong Pin\")\n",
    "            #self.menu()\n",
    "    def check_Balance(self):\n",
    "        user_pin = input(\"Enter Your Pin:\")\n",
    "        if user_pin == self.pin:\n",
    "            #show balance\n",
    "             print(self.__balance)\n",
    "        else:\n",
    "            #wrong pin\n",
    "            print(\"Wrong Pin\")\n",
    "       \n",
    "        #self.menu()\n",
    "    def withdraw_money(self):\n",
    "        user_pin = input(\"Enter your pin:\")\n",
    "        if user_pin == self.pin:\n",
    "            amt = int(input(\"Enter the amount to withdraw\"))\n",
    "            if amt <= self.__balance:\n",
    "                self.__balance = self.__balance - amt\n",
    "                print(f\"Current Balance:{self.__balance}\")\n",
    "            else:\n",
    "                print(\"Insufficient Balance\")\n",
    "        else:\n",
    "            print(\"Chori karta hai madarjaat\")\n",
    "        #self.menu()"
   ]
  },
  {
   "cell_type": "code",
   "execution_count": 65,
   "id": "a5ae22a9",
   "metadata": {},
   "outputs": [
    {
     "name": "stdout",
     "output_type": "stream",
     "text": [
      "1\n",
      "2\n",
      "3\n"
     ]
    }
   ],
   "source": [
    "c1 = ATM()\n",
    "c2 = ATM()\n",
    "c3 = ATM()\n",
    "print(c1.cid)\n",
    "print(c2.cid)\n",
    "print(c3.cid)"
   ]
  },
  {
   "cell_type": "code",
   "execution_count": 188,
   "id": "87ea96e7",
   "metadata": {},
   "outputs": [
    {
     "data": {
      "text/plain": [
       "4"
      ]
     },
     "execution_count": 188,
     "metadata": {},
     "output_type": "execute_result"
    }
   ],
   "source": [
    "ATM.counter "
   ]
  },
  {
   "cell_type": "markdown",
   "id": "cb228731",
   "metadata": {},
   "source": [
    "what fir ATM counter junior programmer fir change krde to 'hehehee'"
   ]
  },
  {
   "cell_type": "code",
   "execution_count": 66,
   "id": "9dac2eb2",
   "metadata": {},
   "outputs": [],
   "source": [
    "ATM.counter = \"hehehe\""
   ]
  },
  {
   "cell_type": "code",
   "execution_count": 67,
   "id": "ae28ccf4",
   "metadata": {},
   "outputs": [
    {
     "ename": "TypeError",
     "evalue": "can only concatenate str (not \"int\") to str",
     "output_type": "error",
     "traceback": [
      "\u001b[1;31m---------------------------------------------------------------------------\u001b[0m",
      "\u001b[1;31mTypeError\u001b[0m                                 Traceback (most recent call last)",
      "Input \u001b[1;32mIn [67]\u001b[0m, in \u001b[0;36m<cell line: 1>\u001b[1;34m()\u001b[0m\n\u001b[1;32m----> 1\u001b[0m c1 \u001b[38;5;241m=\u001b[39m \u001b[43mATM\u001b[49m\u001b[43m(\u001b[49m\u001b[43m)\u001b[49m\n",
      "Input \u001b[1;32mIn [64]\u001b[0m, in \u001b[0;36mATM.__init__\u001b[1;34m(self)\u001b[0m\n\u001b[0;32m      8\u001b[0m \u001b[38;5;28mself\u001b[39m\u001b[38;5;241m.\u001b[39m__balance \u001b[38;5;241m=\u001b[39m \u001b[38;5;241m0\u001b[39m\n\u001b[0;32m      9\u001b[0m \u001b[38;5;28mself\u001b[39m\u001b[38;5;241m.\u001b[39mcid \u001b[38;5;241m=\u001b[39m ATM\u001b[38;5;241m.\u001b[39mcounter  \u001b[38;5;66;03m#-----> accessing counter variable\u001b[39;00m\n\u001b[1;32m---> 10\u001b[0m ATM\u001b[38;5;241m.\u001b[39mcounter \u001b[38;5;241m=\u001b[39m \u001b[43mATM\u001b[49m\u001b[38;5;241;43m.\u001b[39;49m\u001b[43mcounter\u001b[49m\u001b[43m \u001b[49m\u001b[38;5;241;43m+\u001b[39;49m\u001b[43m \u001b[49m\u001b[38;5;241;43m1\u001b[39;49m\n",
      "\u001b[1;31mTypeError\u001b[0m: can only concatenate str (not \"int\") to str"
     ]
    }
   ],
   "source": [
    "c1 = ATM()"
   ]
  },
  {
   "cell_type": "markdown",
   "id": "562e13bc",
   "metadata": {},
   "source": [
    "make it private and have 2 methods getter and setters"
   ]
  },
  {
   "cell_type": "markdown",
   "id": "a914eb73",
   "metadata": {},
   "source": [
    "note - class methods (getter and setter ) for static variable doesnt get access by obj instead they are directly access from class itself"
   ]
  },
  {
   "cell_type": "code",
   "execution_count": 72,
   "id": "301d7767",
   "metadata": {},
   "outputs": [],
   "source": [
    "# writing a getter method\n",
    "class ATM:\n",
    "    \n",
    "    __counter = 1\n",
    "    #constructor - A function inside the class that automatically gets excuted when obj is made\n",
    "    def __init__(self):\n",
    "        self.pin = \"\"\n",
    "        self.__balance = 0\n",
    "        self.cid = ATM.__counter  #-----> accessing counter variable\n",
    "        ATM.__counter = ATM.__counter + 1  # ---- incrementing counter\n",
    "        #self.menu()\n",
    "    \n",
    "    @staticmethod\n",
    "    def get_counter(): # ----- > we can also remove self as it is using class not an obj\n",
    "        return ATM.__counter\n",
    "    \n",
    "    def get_balance(self):\n",
    "        return self.__balance # ---------------->getter\n",
    "    \n",
    "    def set_balance(self , new_balance):\n",
    "        if type(new_balance)==  int: # --------> the check\n",
    "            self.__balance = new_balance # ------------> setter\n",
    "        else:\n",
    "            print(\"\"\"Pagla gye hai be\n",
    "marna hai kya bhosdike\n",
    "dar nhi lagta \"\"\")\n",
    "    \n",
    "    def __menu(self):\n",
    "        user_input = input(\"\"\"\n",
    "        How can I help You?\n",
    "        1. Press 1 to create Pin\n",
    "        2. Press 2 to change Pin\n",
    "        3. Press 3 to check balance\n",
    "        4. Press 4 to withdraw\n",
    "        5. Anything else to exit\n",
    "        \"\"\")\n",
    "        \n",
    "        if user_input == \"1\":\n",
    "            #Create pin\n",
    "            self.create_pin()\n",
    "            \n",
    "        elif user_input == \"2\":\n",
    "            #  change Pin\n",
    "            self.change_pin()\n",
    "            \n",
    "        elif user_input == \"3\":\n",
    "            # Check Balance\n",
    "            self.check_Balance()\n",
    "        elif user_input == \"4\":\n",
    "            #wihdraw\n",
    "            self.withdraw_money()\n",
    "        else:\n",
    "            return\n",
    "    \n",
    "    def create_pin(self):\n",
    "        user_pin = input(\"Create your Pin:\")\n",
    "        self.pin = user_pin\n",
    "        user_balance = int(input(\"Enter your Balance:\"))\n",
    "        self.__balance = user_balance\n",
    "        print(\"Pin Created Successfully\")\n",
    "        #self.menu()\n",
    "     \n",
    "    def change_pin(self):\n",
    "        user_pin = input(\"Enter your pin:\")\n",
    "        if user_pin == self.pin:\n",
    "            user_pin = input(\"Enter your new pin:\")\n",
    "            self.pin = user_pin\n",
    "            print(\"Pin changed Successully\")\n",
    "            \n",
    "            #self.menu()\n",
    "        else:\n",
    "            print(\"Wrong Pin\")\n",
    "            #self.menu()\n",
    "    def check_Balance(self):\n",
    "        user_pin = input(\"Enter Your Pin:\")\n",
    "        if user_pin == self.pin:\n",
    "            #show balance\n",
    "             print(self.__balance)\n",
    "        else:\n",
    "            #wrong pin\n",
    "            print(\"Wrong Pin\")\n",
    "       \n",
    "        #self.menu()\n",
    "    def withdraw_money(self):\n",
    "        user_pin = input(\"Enter your pin:\")\n",
    "        if user_pin == self.pin:\n",
    "            amt = int(input(\"Enter the amount to withdraw\"))\n",
    "            if amt <= self.__balance:\n",
    "                self.__balance = self.__balance - amt\n",
    "                print(f\"Current Balance:{self.__balance}\")\n",
    "            else:\n",
    "                print(\"Insufficient Balance\")\n",
    "        else:\n",
    "            print(\"Chori karta hai madarjaat\")\n",
    "        #self.menu()"
   ]
  },
  {
   "cell_type": "code",
   "execution_count": 76,
   "id": "45f257ea",
   "metadata": {},
   "outputs": [
    {
     "data": {
      "text/plain": [
       "4"
      ]
     },
     "execution_count": 76,
     "metadata": {},
     "output_type": "execute_result"
    }
   ],
   "source": [
    "c1 = ATM()\n",
    "c1.get_counter() #see we cannot access getter by obj name(unless you write @staticmethod on above)"
   ]
  },
  {
   "cell_type": "code",
   "execution_count": 77,
   "id": "35ae743d",
   "metadata": {},
   "outputs": [
    {
     "data": {
      "text/plain": [
       "4"
      ]
     },
     "execution_count": 77,
     "metadata": {},
     "output_type": "execute_result"
    }
   ],
   "source": [
    "ATM.get_counter() # these are called static method"
   ]
  },
  {
   "cell_type": "markdown",
   "id": "312262c0",
   "metadata": {},
   "source": [
    "To identify static method you use `@staticmethod` on the top of static method\n",
    "- and used for utilities(small works) for to access them you won't have to create obj"
   ]
  }
 ],
 "metadata": {
  "kernelspec": {
   "display_name": "Python 3 (ipykernel)",
   "language": "python",
   "name": "python3"
  },
  "language_info": {
   "codemirror_mode": {
    "name": "ipython",
    "version": 3
   },
   "file_extension": ".py",
   "mimetype": "text/x-python",
   "name": "python",
   "nbconvert_exporter": "python",
   "pygments_lexer": "ipython3",
   "version": "3.9.12"
  }
 },
 "nbformat": 4,
 "nbformat_minor": 5
}
