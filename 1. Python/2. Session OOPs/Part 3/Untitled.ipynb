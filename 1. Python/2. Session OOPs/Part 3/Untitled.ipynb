{
 "cells": [
  {
   "cell_type": "markdown",
   "id": "aaed085e",
   "metadata": {},
   "source": [
    "- When you make an appllication let's say swiggy , you have to make multiple classes for multiple entities ex Customer , food , delievery etc.\n",
    "- and these classes have to talk to each other and there are different relationship between them"
   ]
  },
  {
   "cell_type": "markdown",
   "id": "ccea8420",
   "metadata": {},
   "source": [
    "## Class Relationships\n",
    "- Aggregate - One class owns the other class\n",
    "- Inheritance"
   ]
  },
  {
   "cell_type": "markdown",
   "id": "4aa2e31b",
   "metadata": {},
   "source": [
    "## Aggregation"
   ]
  },
  {
   "cell_type": "markdown",
   "id": "7a082caf",
   "metadata": {},
   "source": [
    "Aggregate ex - Customer has a address where customer is owner and address is property\n",
    "- let's understand through code\n",
    "- now when creating address attribute , we know that address itself is a complex thing like it includes landmark , house no , location etc"
   ]
  },
  {
   "cell_type": "code",
   "execution_count": 1,
   "id": "e4af097c",
   "metadata": {
    "scrolled": true
   },
   "outputs": [
    {
     "ename": "IndentationError",
     "evalue": "expected an indented block (3853044182.py, line 3)",
     "output_type": "error",
     "traceback": [
      "\u001b[1;36m  Input \u001b[1;32mIn [1]\u001b[1;36m\u001b[0m\n\u001b[1;33m    def __init__(self):\u001b[0m\n\u001b[1;37m                       ^\u001b[0m\n\u001b[1;31mIndentationError\u001b[0m\u001b[1;31m:\u001b[0m expected an indented block\n"
     ]
    }
   ],
   "source": [
    "class Customer:\n",
    "    \n",
    "    def __init__(self, name , gender , address):\n",
    "        self.name = name\n",
    "        self.gender = gender\n",
    "        self.address = address\n",
    "\n",
    "class Address:\n",
    "    def __init__(self, city , pincode , state):\n",
    "        self.city = city\n",
    "        self.pin  = pin\n",
    "        self.state = state\n",
    "\n",
    "\n",
    "cust = Customer(\"Vinayak\", \"Male\" , ) "
   ]
  },
  {
   "cell_type": "code",
   "execution_count": 7,
   "id": "2aeb29a7",
   "metadata": {},
   "outputs": [],
   "source": [
    "class Customer:\n",
    "    \n",
    "    def __init__(self, name , gender , address):\n",
    "        self.name = name\n",
    "        self.gender = gender\n",
    "        self.address = address\n",
    "    \n",
    "    def print_address(self):\n",
    "        print(f\"City: {self.address.city} , Pincode:{self.address.pincode} , State:{self.address.state}\")\n",
    "\n",
    "class Address:\n",
    "    def __init__(self, city , pincode , state):\n",
    "        self.city = city\n",
    "        self.pincode  = pincode\n",
    "        self.state = state\n",
    "\n",
    "add1 = Address(\"Gurgaon\", 122011 , 'Haryana')\n",
    "cust = Customer(\"Vinayak\", \"Male\" , add1)"
   ]
  },
  {
   "cell_type": "code",
   "execution_count": 8,
   "id": "13496c3e",
   "metadata": {},
   "outputs": [
    {
     "name": "stdout",
     "output_type": "stream",
     "text": [
      "City: Gurgaon , Pincode:122011 , State:Haryana\n"
     ]
    }
   ],
   "source": [
    "cust.print_address()"
   ]
  },
  {
   "cell_type": "markdown",
   "id": "3a54fc25",
   "metadata": {},
   "source": [
    "**ques - What if i make city private in Address class , can it be used by Customer? let's try**"
   ]
  },
  {
   "cell_type": "code",
   "execution_count": 9,
   "id": "d981832c",
   "metadata": {},
   "outputs": [],
   "source": [
    "class Customer:\n",
    "    \n",
    "    def __init__(self, name , gender , address):\n",
    "        self.name = name\n",
    "        self.gender = gender\n",
    "        self.address = address\n",
    "    \n",
    "    def print_address(self):\n",
    "        print(f\"City: {self.address.__city} , Pincode:{self.address.pincode} , State:{self.address.state}\")\n",
    "\n",
    "class Address:\n",
    "    def __init__(self, city , pincode , state):\n",
    "        self.__city = city\n",
    "        self.pincode  = pincode\n",
    "        self.state = state\n",
    "\n",
    "add1 = Address(\"Gurgaon\", 122011 , 'Haryana')\n",
    "cust = Customer(\"Vinayak\", \"Male\" , add1)"
   ]
  },
  {
   "cell_type": "code",
   "execution_count": 10,
   "id": "6c41a65a",
   "metadata": {},
   "outputs": [
    {
     "ename": "AttributeError",
     "evalue": "'Address' object has no attribute '_Customer__city'",
     "output_type": "error",
     "traceback": [
      "\u001b[1;31m---------------------------------------------------------------------------\u001b[0m",
      "\u001b[1;31mAttributeError\u001b[0m                            Traceback (most recent call last)",
      "Input \u001b[1;32mIn [10]\u001b[0m, in \u001b[0;36m<cell line: 1>\u001b[1;34m()\u001b[0m\n\u001b[1;32m----> 1\u001b[0m \u001b[43mcust\u001b[49m\u001b[38;5;241;43m.\u001b[39;49m\u001b[43mprint_address\u001b[49m\u001b[43m(\u001b[49m\u001b[43m)\u001b[49m\n",
      "Input \u001b[1;32mIn [9]\u001b[0m, in \u001b[0;36mCustomer.print_address\u001b[1;34m(self)\u001b[0m\n\u001b[0;32m      8\u001b[0m \u001b[38;5;28;01mdef\u001b[39;00m \u001b[38;5;21mprint_address\u001b[39m(\u001b[38;5;28mself\u001b[39m):\n\u001b[1;32m----> 9\u001b[0m     \u001b[38;5;28mprint\u001b[39m(\u001b[38;5;124mf\u001b[39m\u001b[38;5;124m\"\u001b[39m\u001b[38;5;124mCity: \u001b[39m\u001b[38;5;132;01m{\u001b[39;00m\u001b[38;5;28mself\u001b[39m\u001b[38;5;241m.\u001b[39maddress\u001b[38;5;241m.\u001b[39m__city\u001b[38;5;132;01m}\u001b[39;00m\u001b[38;5;124m , Pincode:\u001b[39m\u001b[38;5;132;01m{\u001b[39;00m\u001b[38;5;28mself\u001b[39m\u001b[38;5;241m.\u001b[39maddress\u001b[38;5;241m.\u001b[39mpincode\u001b[38;5;132;01m}\u001b[39;00m\u001b[38;5;124m , State:\u001b[39m\u001b[38;5;132;01m{\u001b[39;00m\u001b[38;5;28mself\u001b[39m\u001b[38;5;241m.\u001b[39maddress\u001b[38;5;241m.\u001b[39mstate\u001b[38;5;132;01m}\u001b[39;00m\u001b[38;5;124m\"\u001b[39m)\n",
      "\u001b[1;31mAttributeError\u001b[0m: 'Address' object has no attribute '_Customer__city'"
     ]
    }
   ],
   "source": [
    "cust.print_address()"
   ]
  },
  {
   "cell_type": "markdown",
   "id": "b9c981d0",
   "metadata": {},
   "source": [
    "- So the ans is no , \n",
    "- Please note that- **You cannot access pvt attributes when performing aggregation** \n",
    "- So how can we access? THe ans is using getter method"
   ]
  },
  {
   "cell_type": "code",
   "execution_count": 14,
   "id": "b74e9a91",
   "metadata": {},
   "outputs": [],
   "source": [
    "class Customer:\n",
    "    \n",
    "    def __init__(self, name , gender , address):\n",
    "        self.name = name\n",
    "        self.gender = gender\n",
    "        self.address = address\n",
    "    \n",
    "    def print_address(self):\n",
    "        print(f\"City: {self.address.get_city()} , Pincode:{self.address.pincode} , State:{self.address.state}\")\n",
    "\n",
    "class Address:\n",
    "    def __init__(self, city , pincode , state):\n",
    "        self.__city = city\n",
    "        self.pincode  = pincode\n",
    "        self.state = state\n",
    "    def get_city(self):\n",
    "        return self.__city\n",
    "    \n",
    "add1 = Address(\"Gurgaon\", 122011 , 'Haryana')\n",
    "cust = Customer(\"Vinayak\", \"Male\" , add1)"
   ]
  },
  {
   "cell_type": "code",
   "execution_count": 16,
   "id": "659a6e04",
   "metadata": {},
   "outputs": [
    {
     "name": "stdout",
     "output_type": "stream",
     "text": [
      "City: Gurgaon , Pincode:122011 , State:Haryana\n"
     ]
    }
   ],
   "source": [
    "cust.print_address()"
   ]
  },
  {
   "cell_type": "markdown",
   "id": "e7e6312f",
   "metadata": {},
   "source": [
    "See now you were able to access pvt attribute , using getter method"
   ]
  },
  {
   "cell_type": "markdown",
   "id": "467ec67e",
   "metadata": {},
   "source": [
    "let's say i have to update the customer profile like name and address , how can we do . The ans is using methods\n",
    "- we have to update user profile which contains name , and address , since address is a separate class you have to update in address class and rest you can do in cust class"
   ]
  },
  {
   "cell_type": "code",
   "execution_count": 10,
   "id": "50fbb647",
   "metadata": {},
   "outputs": [
    {
     "name": "stdout",
     "output_type": "stream",
     "text": [
      "City:SRE , State:UP , Pincode:247001\n",
      "City:Chandigarh , State:Chandigarh , Pincode:247002\n"
     ]
    }
   ],
   "source": [
    "class Customer:\n",
    "    \n",
    "    def __init__(self , name , gender , address):\n",
    "        self.name = name\n",
    "        self.gender = gender\n",
    "        self.address = address\n",
    "    \n",
    "    def print_address(self):\n",
    "        print(f\"City:{self.address.city} , State:{self.address.state} , Pincode:{self.address.pincode}\")\n",
    "    \n",
    "    def edit_profile(self , new_name , new_city , new_state , new_pincode):\n",
    "        self.name = new_name\n",
    "        self.address.edit_address(new_city , new_state , new_pincode)\n",
    "\n",
    "class Address:\n",
    "    def __init__(self , city , state , pincode):\n",
    "        self.city = city\n",
    "        self.state = state\n",
    "        self.pincode = pincode\n",
    "    \n",
    "    def edit_address(self , new_city , new_state  , new_pincode):\n",
    "        self.city = new_city\n",
    "        self.state = new_state\n",
    "        self.pincode = new_pincode\n",
    "        \n",
    "add = Address(\"SRE\" , \"UP\" , 247001)\n",
    "cus = Customer(\"Vinayak\" , \"Male\" , add)\n",
    "cus.print_address()\n",
    "cus.edit_profile(\"Nitish\" , \"Chandigarh\" , \"Chandigarh\" , 247002)\n",
    "cus.print_address()"
   ]
  },
  {
   "cell_type": "code",
   "execution_count": 12,
   "id": "fb314517",
   "metadata": {
    "scrolled": true
   },
   "outputs": [
    {
     "name": "stdout",
     "output_type": "stream",
     "text": [
      "City:Chandigarh , State:Chandigarh , Pincode:247002\n"
     ]
    }
   ],
   "source": [
    "cus.print_address()"
   ]
  },
  {
   "cell_type": "code",
   "execution_count": 24,
   "id": "594442a4",
   "metadata": {},
   "outputs": [],
   "source": [
    "class Customer:\n",
    "    \n",
    "    def __init__(self, name , gender , address):\n",
    "        self.name = name\n",
    "        self.gender = gender\n",
    "        self.address = address\n",
    "    \n",
    "    def print_address(self):\n",
    "        print(f\"City: {self.address.get_city()} , Pincode:{self.address.pincode} , State:{self.address.state}\")\n",
    "    \n",
    "    def edit_profile(self , new_name , new_city , new_pincode , new_state):\n",
    "        self.name = new_name\n",
    "        self.address.edit_address(new_city , new_pincode , new_state)\n",
    "\n",
    "class Address:\n",
    "    def __init__(self, city , pincode , state):\n",
    "        self.__city = city\n",
    "        self.pincode  = pincode\n",
    "        self.state = state\n",
    "    def get_city(self):\n",
    "        return self.__city\n",
    "    \n",
    "    def edit_address(self , new_city  , new_pincode  ,new_state):\n",
    "        self.__city = new_city\n",
    "        self.pincode = new_pincode\n",
    "        self.state = new_state\n",
    "    \n",
    "add1 = Address(\"Gurgaon\", 122011 , 'Haryana')\n",
    "cust = Customer(\"Vinayak\", \"Male\" , add1)"
   ]
  },
  {
   "cell_type": "code",
   "execution_count": 25,
   "id": "42ba845b",
   "metadata": {},
   "outputs": [
    {
     "name": "stdout",
     "output_type": "stream",
     "text": [
      "City: Gurgaon , Pincode:122011 , State:Haryana\n"
     ]
    },
    {
     "data": {
      "text/plain": [
       "'Vinayak'"
      ]
     },
     "execution_count": 25,
     "metadata": {},
     "output_type": "execute_result"
    }
   ],
   "source": [
    "cust.print_address()\n",
    "cust.name"
   ]
  },
  {
   "cell_type": "code",
   "execution_count": 26,
   "id": "5e6cf828",
   "metadata": {},
   "outputs": [],
   "source": [
    "cust.edit_profile(\"Nitish\" , \"Saharanpur\", 21107, \"Uttar Pradesh\")"
   ]
  },
  {
   "cell_type": "code",
   "execution_count": 27,
   "id": "da861c90",
   "metadata": {},
   "outputs": [
    {
     "name": "stdout",
     "output_type": "stream",
     "text": [
      "City: Saharanpur , Pincode:21107 , State:Uttar Pradesh\n"
     ]
    }
   ],
   "source": [
    "cust.print_address()"
   ]
  },
  {
   "cell_type": "markdown",
   "id": "f321be40",
   "metadata": {},
   "source": [
    "- Aggregation final summary - When two classes have a `has a` relationship  ex restraurant has a menu , customer has an address\n",
    "- pass an obj of one class to obj of another class"
   ]
  },
  {
   "cell_type": "markdown",
   "id": "1b1b28a1",
   "metadata": {},
   "source": [
    "## Aggregation Class Diagram"
   ]
  },
  {
   "cell_type": "code",
   "execution_count": null,
   "id": "4bc4cb79",
   "metadata": {},
   "outputs": [],
   "source": []
  },
  {
   "cell_type": "markdown",
   "id": "f34b22fa",
   "metadata": {},
   "source": [
    "# Inheritance\n",
    "- Jo apke baap ka vo apki hai(even in dna)\n",
    "- even nature follows inheritance\n",
    "- you can create parent class and child class and child class can access to the attributes and methods of parent class\n",
    "- Bigess Benefit - Code reusability"
   ]
  },
  {
   "cell_type": "markdown",
   "id": "10943cde",
   "metadata": {},
   "source": [
    "ex - lets talk about udemy platform , it contain two classes \n",
    "1. Student which contains methods - login , register , enroll , review\n",
    "2. Instructor which contain methods - login , register , upload , feedback\n",
    "\n",
    "- you can see there are two methods which are common in both ie login and register\n",
    "- if you are writing the code for login and register after makinng for one class , you are violeting rule of programming called DRY, hence you are not considere a good programmer\n",
    "- DRY - Don't repeat yourself\n",
    "- what we can do is we can create a third class by the name of user which will be parent class and contain 2 methods -- login and register. Which will be common in the two classes Student and instructor, in this scenario we will use inheritance"
   ]
  },
  {
   "cell_type": "code",
   "execution_count": 29,
   "id": "01752729",
   "metadata": {},
   "outputs": [],
   "source": [
    "class user:\n",
    "    def __init__(self):\n",
    "        self.name = \"Vinayak\"\n",
    "    \n",
    "    def login(self):\n",
    "        print(\"Login\")\n",
    "\n",
    "class Student:\n",
    "    def __init__(self):\n",
    "        self.rollno = 100\n",
    "    \n",
    "    def enroll(self):\n",
    "        print(\"Enrolled in the course\")\n"
   ]
  },
  {
   "cell_type": "code",
   "execution_count": 30,
   "id": "6084db41",
   "metadata": {
    "scrolled": true
   },
   "outputs": [
    {
     "name": "stdout",
     "output_type": "stream",
     "text": [
      "Vinayak\n",
      "Login\n"
     ]
    }
   ],
   "source": [
    "u = user()\n",
    "print(u.name)\n",
    "u.login()"
   ]
  },
  {
   "cell_type": "code",
   "execution_count": 32,
   "id": "dcbd44b9",
   "metadata": {},
   "outputs": [
    {
     "name": "stdout",
     "output_type": "stream",
     "text": [
      "Enrolled in the course\n",
      "100\n"
     ]
    }
   ],
   "source": [
    "s = Student()\n",
    "s.enroll()\n",
    "print(s.rollno)"
   ]
  },
  {
   "cell_type": "markdown",
   "id": "a2d3839c",
   "metadata": {},
   "source": [
    "Uptill now they both are independent class to make user a parent class and student the child class code is written below-"
   ]
  },
  {
   "cell_type": "code",
   "execution_count": 35,
   "id": "b53f0ea5",
   "metadata": {},
   "outputs": [],
   "source": [
    "class User: # -----> Parent class\n",
    "    def __init__(self):\n",
    "        self.name = \"Vinayak\"\n",
    "    \n",
    "    def login(self):\n",
    "        print(\"Login\")\n",
    "\n",
    "class Student(User): #-------> child class(now it can access all the parent things\n",
    "    \n",
    "    def enroll(self):\n",
    "        print(\"Enrolled in the course\")\n"
   ]
  },
  {
   "cell_type": "code",
   "execution_count": 36,
   "id": "4dff0387",
   "metadata": {},
   "outputs": [],
   "source": [
    "u = User()\n",
    "s = Student()"
   ]
  },
  {
   "cell_type": "code",
   "execution_count": 37,
   "id": "8f5fd961",
   "metadata": {},
   "outputs": [
    {
     "data": {
      "text/plain": [
       "'Vinayak'"
      ]
     },
     "execution_count": 37,
     "metadata": {},
     "output_type": "execute_result"
    }
   ],
   "source": [
    "s.name"
   ]
  },
  {
   "cell_type": "markdown",
   "id": "97a1a16f",
   "metadata": {},
   "source": [
    "Please note that if you make constructor of child class , then it won't be able to access parent class attributes(constructor), \n",
    "but if do not make constructor for child class then it will inherit constructor and its attributes of parent class"
   ]
  },
  {
   "cell_type": "markdown",
   "id": "7efa5beb",
   "metadata": {},
   "source": [
    "## Inheritance Class diagram"
   ]
  },
  {
   "cell_type": "code",
   "execution_count": null,
   "id": "1c5d0e51",
   "metadata": {},
   "outputs": [],
   "source": []
  },
  {
   "cell_type": "markdown",
   "id": "068b795a",
   "metadata": {},
   "source": [
    "### What gets inherited?\n",
    "- Constructor\n",
    "- Non Private attributes\n",
    "- Non Private Methods"
   ]
  },
  {
   "cell_type": "markdown",
   "id": "24b910ce",
   "metadata": {},
   "source": [
    "### Example and concepts"
   ]
  },
  {
   "cell_type": "markdown",
   "id": "19496cfd",
   "metadata": {},
   "source": [
    "**concept 1 - When child doesn't have the constructor of its own , it will use exactly its parent constructor**"
   ]
  },
  {
   "cell_type": "code",
   "execution_count": 12,
   "id": "2625109d",
   "metadata": {},
   "outputs": [],
   "source": [
    "class Phone:\n",
    "    \n",
    "    def __init__(self , price , brand , camera):\n",
    "        print(\"Inside the constructor\")\n",
    "        self.price = price\n",
    "        self.brand = brand\n",
    "        self.camera = camera\n",
    "        \n",
    "    def buy(self): # -----> Non Private Method\n",
    "        print(\"Buying the Phone\")\n",
    "\n",
    "class SmartPhone(Phone):\n",
    "    pass"
   ]
  },
  {
   "cell_type": "markdown",
   "id": "d0aa858e",
   "metadata": {},
   "source": [
    "Notice that smartphone does't have any code , but still we are creating a smarphone obj and passing parameters , because it inherited the parent constructor"
   ]
  },
  {
   "cell_type": "code",
   "execution_count": 13,
   "id": "8238378b",
   "metadata": {},
   "outputs": [
    {
     "name": "stdout",
     "output_type": "stream",
     "text": [
      "Inside the constructor\n"
     ]
    }
   ],
   "source": [
    "s = SmartPhone(1000 , \"Apple\" , 13)"
   ]
  },
  {
   "cell_type": "code",
   "execution_count": 44,
   "id": "068efb17",
   "metadata": {},
   "outputs": [
    {
     "name": "stdout",
     "output_type": "stream",
     "text": [
      "Buying the Phone\n"
     ]
    }
   ],
   "source": [
    "s.buy()"
   ]
  },
  {
   "cell_type": "markdown",
   "id": "a58aebce",
   "metadata": {},
   "source": [
    "**concept 2 - When child does have the constructor of its own , it will use his constructor only not its parents and hence cannot access parent attributes but there is thing called super later , which will give you this opportunity**"
   ]
  },
  {
   "cell_type": "code",
   "execution_count": 45,
   "id": "f25147c5",
   "metadata": {},
   "outputs": [
    {
     "name": "stdout",
     "output_type": "stream",
     "text": [
      "Inside Smartphone Constructor\n"
     ]
    }
   ],
   "source": [
    "class Phone:\n",
    "    \n",
    "    def __init__(self , price , brand , camera):\n",
    "        print(\"Inside Phone constructor\")\n",
    "        self.price = price\n",
    "        self.brand = brand\n",
    "        self.camera = camera\n",
    "        \n",
    "    def buy(self): # -----> Non Private Method\n",
    "        print(\"Buying the Phone\")\n",
    "\n",
    "class SmartPhone(Phone):\n",
    "    def __init__(self , os , ram):\n",
    "        self.os = os\n",
    "        self.ram = ram\n",
    "        print(\"Inside Smartphone Constructor\")\n",
    "        \n",
    "        \n",
    "s = SmartPhone(\"Android\" , 8)"
   ]
  },
  {
   "cell_type": "code",
   "execution_count": 47,
   "id": "53fff0cc",
   "metadata": {},
   "outputs": [
    {
     "ename": "AttributeError",
     "evalue": "'SmartPhone' object has no attribute 'price'",
     "output_type": "error",
     "traceback": [
      "\u001b[1;31m---------------------------------------------------------------------------\u001b[0m",
      "\u001b[1;31mAttributeError\u001b[0m                            Traceback (most recent call last)",
      "Input \u001b[1;32mIn [47]\u001b[0m, in \u001b[0;36m<cell line: 1>\u001b[1;34m()\u001b[0m\n\u001b[1;32m----> 1\u001b[0m \u001b[43ms\u001b[49m\u001b[38;5;241;43m.\u001b[39;49m\u001b[43mprice\u001b[49m\n",
      "\u001b[1;31mAttributeError\u001b[0m: 'SmartPhone' object has no attribute 'price'"
     ]
    }
   ],
   "source": [
    "s.price #hence cannot access parent attributes (constructor)"
   ]
  },
  {
   "cell_type": "markdown",
   "id": "ac8635b9",
   "metadata": {},
   "source": [
    "**Concept 3 - Child object cannot access private members ie attributes and methods of the parent**"
   ]
  },
  {
   "cell_type": "code",
   "execution_count": 18,
   "id": "92f4e7a6",
   "metadata": {},
   "outputs": [
    {
     "name": "stdout",
     "output_type": "stream",
     "text": [
      "Inside Phone constructor\n"
     ]
    }
   ],
   "source": [
    "class Phone:\n",
    "    \n",
    "    def __init__(self , price , brand , camera):\n",
    "        print(\"Inside Phone constructor\")\n",
    "        self.__price = price\n",
    "        self.brand = brand\n",
    "        self.camera = camera\n",
    "        \n",
    "    def show(self): # Getter\n",
    "        print(self.__price)\n",
    "\n",
    "class SmartPhone(Phone):\n",
    "    def check(self):\n",
    "        print(self.__price)\n",
    "        \n",
    "        \n",
    "s = SmartPhone(10000 , \"Apple\" , 13)"
   ]
  },
  {
   "cell_type": "code",
   "execution_count": 19,
   "id": "c185dcfa",
   "metadata": {},
   "outputs": [
    {
     "ename": "AttributeError",
     "evalue": "'SmartPhone' object has no attribute '_SmartPhone__price'",
     "output_type": "error",
     "traceback": [
      "\u001b[1;31m---------------------------------------------------------------------------\u001b[0m",
      "\u001b[1;31mAttributeError\u001b[0m                            Traceback (most recent call last)",
      "Input \u001b[1;32mIn [19]\u001b[0m, in \u001b[0;36m<cell line: 1>\u001b[1;34m()\u001b[0m\n\u001b[1;32m----> 1\u001b[0m \u001b[43ms\u001b[49m\u001b[38;5;241;43m.\u001b[39;49m\u001b[43mcheck\u001b[49m\u001b[43m(\u001b[49m\u001b[43m)\u001b[49m\n",
      "Input \u001b[1;32mIn [18]\u001b[0m, in \u001b[0;36mSmartPhone.check\u001b[1;34m(self)\u001b[0m\n\u001b[0;32m     13\u001b[0m \u001b[38;5;28;01mdef\u001b[39;00m \u001b[38;5;21mcheck\u001b[39m(\u001b[38;5;28mself\u001b[39m):\n\u001b[1;32m---> 14\u001b[0m     \u001b[38;5;28mprint\u001b[39m(\u001b[38;5;28;43mself\u001b[39;49m\u001b[38;5;241;43m.\u001b[39;49m\u001b[43m__price\u001b[49m)\n",
      "\u001b[1;31mAttributeError\u001b[0m: 'SmartPhone' object has no attribute '_SmartPhone__price'"
     ]
    }
   ],
   "source": [
    "s.check() "
   ]
  },
  {
   "cell_type": "code",
   "execution_count": 20,
   "id": "0b12fcdc",
   "metadata": {},
   "outputs": [
    {
     "name": "stdout",
     "output_type": "stream",
     "text": [
      "10000\n"
     ]
    }
   ],
   "source": [
    "s.show() # but got using getter method"
   ]
  },
  {
   "cell_type": "code",
   "execution_count": 53,
   "id": "2de7da29",
   "metadata": {},
   "outputs": [],
   "source": [
    "# hence a child class cannot access pvt member of parent class"
   ]
  },
  {
   "cell_type": "markdown",
   "id": "36052585",
   "metadata": {},
   "source": [
    "### Testing"
   ]
  },
  {
   "cell_type": "markdown",
   "id": "31f3c737",
   "metadata": {},
   "source": [
    "**ques1** will the code excecute?"
   ]
  },
  {
   "cell_type": "code",
   "execution_count": 59,
   "id": "d32cf61a",
   "metadata": {},
   "outputs": [
    {
     "ename": "AttributeError",
     "evalue": "'Child' object has no attribute '_Parent__num'",
     "output_type": "error",
     "traceback": [
      "\u001b[1;31m---------------------------------------------------------------------------\u001b[0m",
      "\u001b[1;31mAttributeError\u001b[0m                            Traceback (most recent call last)",
      "Input \u001b[1;32mIn [59]\u001b[0m, in \u001b[0;36m<cell line: 17>\u001b[1;34m()\u001b[0m\n\u001b[0;32m     14\u001b[0m         \u001b[38;5;28;01mreturn\u001b[39;00m \u001b[38;5;28mself\u001b[39m\u001b[38;5;241m.\u001b[39m__val\n\u001b[0;32m     16\u001b[0m son \u001b[38;5;241m=\u001b[39m Child(\u001b[38;5;241m100\u001b[39m , \u001b[38;5;241m10\u001b[39m) \u001b[38;5;66;03m# this will run\u001b[39;00m\n\u001b[1;32m---> 17\u001b[0m \u001b[38;5;28mprint\u001b[39m(\u001b[38;5;124m\"\u001b[39m\u001b[38;5;124mParent:Num:\u001b[39m\u001b[38;5;124m\"\u001b[39m, \u001b[43mson\u001b[49m\u001b[38;5;241;43m.\u001b[39;49m\u001b[43mget_num\u001b[49m\u001b[43m(\u001b[49m\u001b[43m)\u001b[49m) \u001b[38;5;66;03m# this will not run as parent constructor is not excecuted therefore attributes value\u001b[39;00m\n\u001b[0;32m     18\u001b[0m \u001b[38;5;66;03m#is not initalized hence an error\u001b[39;00m\n\u001b[0;32m     19\u001b[0m \u001b[38;5;28mprint\u001b[39m(son\u001b[38;5;241m.\u001b[39mget_va)\n",
      "Input \u001b[1;32mIn [59]\u001b[0m, in \u001b[0;36mParent.get_num\u001b[1;34m(self)\u001b[0m\n\u001b[0;32m      5\u001b[0m \u001b[38;5;28;01mdef\u001b[39;00m \u001b[38;5;21mget_num\u001b[39m(\u001b[38;5;28mself\u001b[39m):\n\u001b[1;32m----> 6\u001b[0m     \u001b[38;5;28;01mreturn\u001b[39;00m \u001b[38;5;28;43mself\u001b[39;49m\u001b[38;5;241;43m.\u001b[39;49m\u001b[43m__num\u001b[49m\n",
      "\u001b[1;31mAttributeError\u001b[0m: 'Child' object has no attribute '_Parent__num'"
     ]
    }
   ],
   "source": [
    "class Parent:\n",
    "    def __init__(self , num):\n",
    "        self.__num = num\n",
    "    \n",
    "    def get_num(self):\n",
    "        return self.__num\n",
    "    \n",
    "class Child(Parent):\n",
    "    def __init__(self , val , num): #note - it have its own constructor\n",
    "        self.__val = val\n",
    "        \n",
    "    \n",
    "    def get_val(self): #getter\n",
    "        return self.__val\n",
    "\n",
    "son = Child(100 , 10) # this will run\n",
    "print(\"Parent:Num:\", son.get_num()) # ----> this will not run as parent constructor is not excecuted therefore attributes value\n",
    "#is not initalized hence an error\n",
    "print(son.get_va) # this will run"
   ]
  },
  {
   "cell_type": "markdown",
   "id": "4b7ad3c9",
   "metadata": {},
   "source": [
    "**ques 2**"
   ]
  },
  {
   "cell_type": "code",
   "execution_count": 61,
   "id": "6100426f",
   "metadata": {},
   "outputs": [
    {
     "name": "stdout",
     "output_type": "stream",
     "text": [
      "Class A: 100\n"
     ]
    }
   ],
   "source": [
    "class A:\n",
    "    \n",
    "    def  __init__(self):\n",
    "        self.var1 = 100\n",
    "    def display(self , var1): #var1 and self.var2 are completly diff variables , hence ans will be 100\n",
    "        print(\"Class A:\" , self.var1)\n",
    "class B(A):\n",
    "    \n",
    "    def display2(self , var1):\n",
    "        print(\"class B :\" , self.var1)\n",
    "\n",
    "obj = B()\n",
    "obj.display(200)"
   ]
  },
  {
   "cell_type": "markdown",
   "id": "d553a176",
   "metadata": {},
   "source": [
    "## Method Overriding\n",
    "- papa chahte hai ias banu , mai chahta hu majdoori karu , to mai apna dream choose krunga\n",
    "- similary when there are two funcctions by the same name , child class wll excecute its own function (just like in case of constructor)"
   ]
  },
  {
   "cell_type": "code",
   "execution_count": 62,
   "id": "f1e88273",
   "metadata": {},
   "outputs": [
    {
     "name": "stdout",
     "output_type": "stream",
     "text": [
      "Inside Phone Constructor\n",
      "Buying a smartphone\n"
     ]
    }
   ],
   "source": [
    "class Phone:\n",
    "    \n",
    "    def __init__(self , price , brand , camera):\n",
    "        print(\"Inside Phone Constructor\")\n",
    "        self.price = price\n",
    "        self.brand = brand\n",
    "        self.camera = camera\n",
    "    \n",
    "    def buy(self):\n",
    "        print(\"Buying a Phone\")\n",
    "        \n",
    "class SmartPhone(Phone):\n",
    "    def buy(self):\n",
    "        print(\"Buying a smartphone\")\n",
    "        \n",
    "s = SmartPhone(1000  ,\"Apple\", 13)\n",
    "s.buy()"
   ]
  },
  {
   "cell_type": "markdown",
   "id": "398bd1d2",
   "metadata": {},
   "source": [
    "Explaination - child had 2 choice two excecute functions one is parent's buy function and one is itself buy function but it choose to excecute its own function (Just like Farhan)"
   ]
  },
  {
   "cell_type": "markdown",
   "id": "d2386b86",
   "metadata": {},
   "source": [
    "## Super Keyword\n",
    "\n",
    "- buy using super you can call parents things(methods)"
   ]
  },
  {
   "cell_type": "code",
   "execution_count": 37,
   "id": "fd95ab19",
   "metadata": {},
   "outputs": [
    {
     "name": "stdout",
     "output_type": "stream",
     "text": [
      "Inside Phone Constructor\n",
      "Buying a smartphone\n",
      "Buying a Phone\n"
     ]
    }
   ],
   "source": [
    "class Phone:\n",
    "    \n",
    "    def __init__(self , price , brand , camera):\n",
    "        print(\"Inside Phone Constructor\")\n",
    "        self.price = price\n",
    "        self.brand = brand\n",
    "        self.camera = camera\n",
    "    \n",
    "    def buy(self):\n",
    "        print(\"Buying a Phone\")\n",
    "        \n",
    "class SmartPhone(Phone):\n",
    "    def buy(self):\n",
    "        print(\"Buying a smartphone\")\n",
    "        super().buy() # ---------> this will call the parent's function\n",
    "        \n",
    "s = SmartPhone(1000  ,\"Apple\", 13)\n",
    "s.buy()"
   ]
  },
  {
   "cell_type": "code",
   "execution_count": 33,
   "id": "044e953e",
   "metadata": {},
   "outputs": [
    {
     "name": "stdout",
     "output_type": "stream",
     "text": [
      "Inside Phone Constructor\n",
      "Buying a smartphone\n",
      "Buying a Phone\n",
      "hello\n",
      "Buying a Phone\n"
     ]
    }
   ],
   "source": [
    "class Phone:\n",
    "    \n",
    "    def __init__(self , price , brand , camera):\n",
    "        print(\"Inside Phone Constructor\")\n",
    "        self.price = price\n",
    "        self.brand = brand\n",
    "        self.camera = camera\n",
    "    \n",
    "    def buy(self):\n",
    "        print(\"Buying a Phone\")\n",
    "        \n",
    "class SmartPhone(Phone):\n",
    "    def buy(self):\n",
    "        print(\"Buying a smartphone\")\n",
    "        super().buy() # ---------> this will call the parent's function\n",
    "    def hello(self):\n",
    "        print(\"hello\")\n",
    "        super().buy()\n",
    "        \n",
    "s = SmartPhone(1000  ,\"Apple\", 13)\n",
    "s.buy()\n",
    "s.hello()"
   ]
  },
  {
   "cell_type": "code",
   "execution_count": null,
   "id": "ab24223f",
   "metadata": {},
   "outputs": [],
   "source": [
    "# note that you cannot access super keyword , super must be used inside a child's any function"
   ]
  },
  {
   "cell_type": "markdown",
   "id": "d7049fda",
   "metadata": {},
   "source": [
    "**Interesting way to use super-----**"
   ]
  },
  {
   "cell_type": "markdown",
   "id": "ebbdae69",
   "metadata": {},
   "source": [
    "- we know that every phone(parent) has price , brand camera .\n",
    "- but smartphone(child) have all these price , brand and camera but 2 more , that is os and ram\n",
    "- we will see how we will initialize the values of parent class.\n",
    "- flow we will have the child constructor too , and it will be called only , but we also want to intialize value of parent class and smartphone have all 5 values price , brand , camera , os , and ram.\n",
    "- then we will pass 3 values to initialize parents constructor too using super method"
   ]
  },
  {
   "cell_type": "code",
   "execution_count": 46,
   "id": "2883d227",
   "metadata": {},
   "outputs": [
    {
     "name": "stdout",
     "output_type": "stream",
     "text": [
      "Inside SmartPhone Constructor\n",
      "Inside Phone Constructor\n",
      "Inside SmartPhone Constructor\n"
     ]
    }
   ],
   "source": [
    "class Phone:\n",
    "    \n",
    "    def __init__(self, price , brand , camera):\n",
    "        print(\"Inside Phone Constructor\")\n",
    "        self.price = price\n",
    "        self.brand = brand\n",
    "        self.camera = camera\n",
    "        \n",
    "class Smartphone(Phone):\n",
    "    def __init__(self , price , brand , camera , os , ram):\n",
    "        print(\"Inside SmartPhone Constructor\")\n",
    "        super().__init__(price , brand , camera)\n",
    "        self.os = os\n",
    "        self.ram = ram\n",
    "        print(\"Inside SmartPhone Constructor\")\n",
    "        \n",
    "s = Smartphone(20000 , \"Samsung\", 12 , \"Android\" , 2)"
   ]
  },
  {
   "cell_type": "code",
   "execution_count": 47,
   "id": "223ef430",
   "metadata": {},
   "outputs": [
    {
     "name": "stdout",
     "output_type": "stream",
     "text": [
      "20000\n",
      "Samsung\n",
      "12\n",
      "Android\n",
      "2\n"
     ]
    }
   ],
   "source": [
    "print(s.price)\n",
    "print(s.brand)\n",
    "print(s.camera)\n",
    "print(s.os)\n",
    "print(s.ram)"
   ]
  },
  {
   "cell_type": "markdown",
   "id": "090309f1",
   "metadata": {},
   "source": [
    "Now the child class able to access its own as well as parent attributes\n",
    "- summary - It is only able to use 1 constructor bbut after using super we were able to access both constructors"
   ]
  },
  {
   "cell_type": "markdown",
   "id": "cee8fc77",
   "metadata": {},
   "source": [
    "**important point - Super keyword cannot be used outside the clss below is the example**"
   ]
  },
  {
   "cell_type": "code",
   "execution_count": 50,
   "id": "5a4a3479",
   "metadata": {},
   "outputs": [
    {
     "name": "stdout",
     "output_type": "stream",
     "text": [
      "Inside Phone Constructor\n"
     ]
    },
    {
     "ename": "AttributeError",
     "evalue": "'SmartPhone' object has no attribute 'super'",
     "output_type": "error",
     "traceback": [
      "\u001b[1;31m---------------------------------------------------------------------------\u001b[0m",
      "\u001b[1;31mAttributeError\u001b[0m                            Traceback (most recent call last)",
      "Input \u001b[1;32mIn [50]\u001b[0m, in \u001b[0;36m<cell line: 17>\u001b[1;34m()\u001b[0m\n\u001b[0;32m     14\u001b[0m         \u001b[38;5;28mprint\u001b[39m(\u001b[38;5;124m\"\u001b[39m\u001b[38;5;124mBuying a smartphone\u001b[39m\u001b[38;5;124m\"\u001b[39m)\n\u001b[0;32m     16\u001b[0m s \u001b[38;5;241m=\u001b[39m SmartPhone(\u001b[38;5;241m1000\u001b[39m  ,\u001b[38;5;124m\"\u001b[39m\u001b[38;5;124mApple\u001b[39m\u001b[38;5;124m\"\u001b[39m, \u001b[38;5;241m13\u001b[39m)\n\u001b[1;32m---> 17\u001b[0m \u001b[43ms\u001b[49m\u001b[38;5;241;43m.\u001b[39;49m\u001b[43msuper\u001b[49m()\u001b[38;5;241m.\u001b[39mbuy()\n",
      "\u001b[1;31mAttributeError\u001b[0m: 'SmartPhone' object has no attribute 'super'"
     ]
    }
   ],
   "source": [
    "class Phone:\n",
    "    \n",
    "    def __init__(self , price , brand , camera):\n",
    "        print(\"Inside Phone Constructor\")\n",
    "        self.price = price\n",
    "        self.brand = brand\n",
    "        self.camera = camera\n",
    "    \n",
    "    def buy(self):\n",
    "        print(\"Buying a Phone\")\n",
    "        \n",
    "class SmartPhone(Phone):\n",
    "    def buy(self):\n",
    "        print(\"Buying a smartphone\")\n",
    "        \n",
    "s = SmartPhone(1000  ,\"Apple\", 13)\n",
    "s.super().buy()"
   ]
  },
  {
   "cell_type": "markdown",
   "id": "08c4ec24",
   "metadata": {},
   "source": [
    "see it cannot be used outside the class"
   ]
  },
  {
   "cell_type": "code",
   "execution_count": 51,
   "id": "21d901fb",
   "metadata": {},
   "outputs": [
    {
     "name": "stdout",
     "output_type": "stream",
     "text": [
      "Inside Phone Constructor\n",
      "Buying a smartphone\n"
     ]
    },
    {
     "ename": "AttributeError",
     "evalue": "'super' object has no attribute 'brand'",
     "output_type": "error",
     "traceback": [
      "\u001b[1;31m---------------------------------------------------------------------------\u001b[0m",
      "\u001b[1;31mAttributeError\u001b[0m                            Traceback (most recent call last)",
      "Input \u001b[1;32mIn [51]\u001b[0m, in \u001b[0;36m<cell line: 18>\u001b[1;34m()\u001b[0m\n\u001b[0;32m     15\u001b[0m         \u001b[38;5;28mprint\u001b[39m(\u001b[38;5;28msuper\u001b[39m()\u001b[38;5;241m.\u001b[39mbrand) \u001b[38;5;66;03m# ----> super cannot access attributes\u001b[39;00m\n\u001b[0;32m     17\u001b[0m s \u001b[38;5;241m=\u001b[39m SmartPhone(\u001b[38;5;241m1000\u001b[39m  ,\u001b[38;5;124m\"\u001b[39m\u001b[38;5;124mApple\u001b[39m\u001b[38;5;124m\"\u001b[39m, \u001b[38;5;241m13\u001b[39m)\n\u001b[1;32m---> 18\u001b[0m \u001b[43ms\u001b[49m\u001b[38;5;241;43m.\u001b[39;49m\u001b[43mbuy\u001b[49m\u001b[43m(\u001b[49m\u001b[43m)\u001b[49m\n",
      "Input \u001b[1;32mIn [51]\u001b[0m, in \u001b[0;36mSmartPhone.buy\u001b[1;34m(self)\u001b[0m\n\u001b[0;32m     13\u001b[0m \u001b[38;5;28;01mdef\u001b[39;00m \u001b[38;5;21mbuy\u001b[39m(\u001b[38;5;28mself\u001b[39m):\n\u001b[0;32m     14\u001b[0m     \u001b[38;5;28mprint\u001b[39m(\u001b[38;5;124m\"\u001b[39m\u001b[38;5;124mBuying a smartphone\u001b[39m\u001b[38;5;124m\"\u001b[39m)\n\u001b[1;32m---> 15\u001b[0m     \u001b[38;5;28mprint\u001b[39m(\u001b[38;5;28;43msuper\u001b[39;49m\u001b[43m(\u001b[49m\u001b[43m)\u001b[49m\u001b[38;5;241;43m.\u001b[39;49m\u001b[43mbrand\u001b[49m)\n",
      "\u001b[1;31mAttributeError\u001b[0m: 'super' object has no attribute 'brand'"
     ]
    }
   ],
   "source": [
    "class Phone:\n",
    "    \n",
    "    def __init__(self , price , brand , camera):\n",
    "        print(\"Inside Phone Constructor\")\n",
    "        self.price = price\n",
    "        self.brand = brand\n",
    "        self.camera = camera\n",
    "    \n",
    "    def buy(self):\n",
    "        print(\"Buying a Phone\")\n",
    "        \n",
    "class SmartPhone(Phone):\n",
    "    def buy(self):\n",
    "        print(\"Buying a smartphone\")\n",
    "        print(super().brand) # ----> super cannot access attributes\n",
    "        \n",
    "s = SmartPhone(1000  ,\"Apple\", 13)\n",
    "s.buy()"
   ]
  },
  {
   "cell_type": "markdown",
   "id": "1b60b752",
   "metadata": {},
   "source": [
    "**Summary of Super**\n",
    "- used to access methods of parent class when there are two same methods\n",
    "- cannot be used outside the class\n",
    "- cannot access parents attributes , but indirectly can be access using getter method\n",
    "- super is always used inside child , ie if want to access buy() of parent then first you have to use buy() or any other function of child and inside child you will call super().buy() else it won't work"
   ]
  },
  {
   "cell_type": "markdown",
   "id": "a3e81139",
   "metadata": {},
   "source": [
    "##### Inheritance in summary\n",
    "\n",
    "- A class can inherit from another class.\n",
    "\n",
    "- Inheritance improves code reuse\n",
    "\n",
    "- Constructor, attributes, methods get inherited to the child class\n",
    "\n",
    "- The parent has no access to the child class <---- diff point we havnt discussed\n",
    "\n",
    "- Private properties of parent are not accessible directly in child class\n",
    "\n",
    "- Child class can override the attributes or methods. This is called method overriding\n",
    "\n",
    "- super() is an inbuilt function which is used to invoke the parent class methods and constructor"
   ]
  },
  {
   "cell_type": "markdown",
   "id": "e38623cf",
   "metadata": {},
   "source": [
    "###  Practice"
   ]
  },
  {
   "cell_type": "code",
   "execution_count": 36,
   "id": "fd5943e2",
   "metadata": {},
   "outputs": [
    {
     "name": "stdout",
     "output_type": "stream",
     "text": [
      "100\n",
      "200\n"
     ]
    }
   ],
   "source": [
    "class Parent:\n",
    "\n",
    "    def __init__(self,num):\n",
    "      self.__num=num\n",
    "\n",
    "    def get_num(self):\n",
    "      return self.__num\n",
    "\n",
    "class Child(Parent):\n",
    "  \n",
    "    def __init__(self,num,val):\n",
    "      super().__init__(num)\n",
    "      self.__val=val\n",
    "\n",
    "    def get_val(self):\n",
    "      return self.__val\n",
    "      \n",
    "son=Child(100,200)\n",
    "print(son.get_num())\n",
    "print(son.get_val())"
   ]
  },
  {
   "cell_type": "code",
   "execution_count": 88,
   "id": "9c188ba3",
   "metadata": {},
   "outputs": [
    {
     "name": "stdout",
     "output_type": "stream",
     "text": [
      "100\n",
      "200\n"
     ]
    }
   ],
   "source": [
    "class Parent:\n",
    "    def __init__(self):\n",
    "        self.num=100\n",
    "\n",
    "class Child(Parent):\n",
    "\n",
    "    def __init__(self):\n",
    "        super().__init__()\n",
    "        self.var=200\n",
    "        \n",
    "    def show(self):\n",
    "        print(self.num)\n",
    "        print(self.var)\n",
    "\n",
    "son=Child()\n",
    "son.show()"
   ]
  },
  {
   "cell_type": "code",
   "execution_count": 37,
   "id": "eff384f0",
   "metadata": {},
   "outputs": [
    {
     "name": "stdout",
     "output_type": "stream",
     "text": [
      "Child: 10\n"
     ]
    }
   ],
   "source": [
    "class Parent:\n",
    "    def __init__(self):\n",
    "        self.__num=100\n",
    "\n",
    "    def show(self):\n",
    "        print(\"Parent:\",self.__num)\n",
    "\n",
    "class Child(Parent):\n",
    "    def __init__(self):\n",
    "        super().__init__()\n",
    "        self.__var=10\n",
    "\n",
    "    def show(self):\n",
    "        print(\"Child:\",self.__var)\n",
    "\n",
    "obj=Child()\n",
    "obj.show()"
   ]
  },
  {
   "cell_type": "markdown",
   "id": "3f675938",
   "metadata": {},
   "source": [
    "###### Types of Inheritance\n",
    "\n",
    "- Single Inheritance\n",
    "- Multilevel Inheritance\n",
    "- Hierarchical Inheritance\n",
    "- Multiple Inheritance(Diamond Problem)\n",
    "- Hybrid Inheritance"
   ]
  },
  {
   "cell_type": "code",
   "execution_count": null,
   "id": "b56b7f3a",
   "metadata": {},
   "outputs": [],
   "source": []
  },
  {
   "cell_type": "code",
   "execution_count": 91,
   "id": "41fa3852",
   "metadata": {},
   "outputs": [
    {
     "name": "stdout",
     "output_type": "stream",
     "text": [
      "Inside phone constructor\n",
      "Buying a phone\n"
     ]
    }
   ],
   "source": [
    "# single inheritance\n",
    "class Phone:\n",
    "    def __init__(self, price, brand, camera):\n",
    "        print (\"Inside phone constructor\")\n",
    "        self.__price = price\n",
    "        self.brand = brand\n",
    "        self.camera = camera\n",
    "\n",
    "    def buy(self):\n",
    "        print (\"Buying a phone\")\n",
    "\n",
    "class SmartPhone(Phone):\n",
    "    pass\n",
    "\n",
    "SmartPhone(1000,\"Apple\",\"13px\").buy()"
   ]
  },
  {
   "cell_type": "code",
   "execution_count": 92,
   "id": "72107aca",
   "metadata": {},
   "outputs": [
    {
     "name": "stdout",
     "output_type": "stream",
     "text": [
      "Inside phone constructor\n",
      "Buying a phone\n",
      "Product customer review\n"
     ]
    }
   ],
   "source": [
    "# multilevel\n",
    "class Product:\n",
    "    def review(self):\n",
    "        print (\"Product customer review\")\n",
    "\n",
    "class Phone(Product):\n",
    "    def __init__(self, price, brand, camera):\n",
    "        print (\"Inside phone constructor\")\n",
    "        self.__price = price\n",
    "        self.brand = brand\n",
    "        self.camera = camera\n",
    "\n",
    "    def buy(self):\n",
    "        print (\"Buying a phone\")\n",
    "\n",
    "class SmartPhone(Phone):\n",
    "    pass\n",
    "\n",
    "s=SmartPhone(20000, \"Apple\", 12)\n",
    "\n",
    "s.buy()\n",
    "s.review()"
   ]
  },
  {
   "cell_type": "code",
   "execution_count": 93,
   "id": "b15aa3f4",
   "metadata": {},
   "outputs": [
    {
     "name": "stdout",
     "output_type": "stream",
     "text": [
      "Inside phone constructor\n",
      "Buying a phone\n",
      "Inside phone constructor\n",
      "Buying a phone\n"
     ]
    }
   ],
   "source": [
    "# Hierarchical\n",
    "class Phone:\n",
    "    def __init__(self, price, brand, camera):\n",
    "        print (\"Inside phone constructor\")\n",
    "        self.__price = price\n",
    "        self.brand = brand\n",
    "        self.camera = camera\n",
    "\n",
    "    def buy(self):\n",
    "        print (\"Buying a phone\")\n",
    "\n",
    "class SmartPhone(Phone):\n",
    "    pass\n",
    "\n",
    "class FeaturePhone(Phone):\n",
    "    pass\n",
    "\n",
    "SmartPhone(1000,\"Apple\",\"13px\").buy()\n",
    "FeaturePhone(10,\"Lava\",\"1px\").buy()"
   ]
  },
  {
   "cell_type": "code",
   "execution_count": 94,
   "id": "8107c9ee",
   "metadata": {},
   "outputs": [
    {
     "name": "stdout",
     "output_type": "stream",
     "text": [
      "Inside phone constructor\n",
      "Buying a phone\n",
      "Customer review\n"
     ]
    }
   ],
   "source": [
    "# Multiple\n",
    "class Phone:\n",
    "    def __init__(self, price, brand, camera):\n",
    "        print (\"Inside phone constructor\")\n",
    "        self.__price = price\n",
    "        self.brand = brand\n",
    "        self.camera = camera\n",
    "\n",
    "    def buy(self):\n",
    "        print (\"Buying a phone\")\n",
    "\n",
    "class Product:\n",
    "    def review(self):\n",
    "        print (\"Customer review\")\n",
    "\n",
    "class SmartPhone(Phone, Product):\n",
    "    pass\n",
    "\n",
    "s=SmartPhone(20000, \"Apple\", 12)\n",
    "\n",
    "s.buy()\n",
    "s.review()\n"
   ]
  },
  {
   "cell_type": "code",
   "execution_count": 95,
   "id": "75d7360c",
   "metadata": {},
   "outputs": [
    {
     "name": "stdout",
     "output_type": "stream",
     "text": [
      "Inside phone constructor\n",
      "Buying a phone\n"
     ]
    }
   ],
   "source": [
    "# the diamond problem\n",
    "# https://stackoverflow.com/questions/56361048/what-is-the-diamond-problem-in-python-and-why-its-not-appear-in-python2\n",
    "class Phone:\n",
    "    def __init__(self, price, brand, camera):\n",
    "        print (\"Inside phone constructor\")\n",
    "        self.__price = price\n",
    "        self.brand = brand\n",
    "        self.camera = camera\n",
    "\n",
    "    def buy(self):\n",
    "        print (\"Buying a phone\")\n",
    "\n",
    "class Product:\n",
    "    def buy(self):\n",
    "        print (\"Product buy method\")\n",
    "\n",
    "# Method resolution order (in this it will call that function whose is in first order in smartphone(phone , product) ie Phone)\n",
    "class SmartPhone(Phone,Product):\n",
    "    pass\n",
    "\n",
    "s=SmartPhone(20000, \"Apple\", 12)\n",
    "\n",
    "s.buy()"
   ]
  },
  {
   "cell_type": "code",
   "execution_count": 96,
   "id": "39b637d6",
   "metadata": {},
   "outputs": [
    {
     "name": "stdout",
     "output_type": "stream",
     "text": [
      "70\n"
     ]
    }
   ],
   "source": [
    "class A:\n",
    "\n",
    "    def m1(self):\n",
    "        return 20\n",
    "\n",
    "class B(A):\n",
    "\n",
    "    def m1(self):\n",
    "        return 30\n",
    "\n",
    "    def m2(self):\n",
    "        return 40\n",
    "\n",
    "class C(B):\n",
    "  \n",
    "    def m2(self):\n",
    "        return 20\n",
    "obj1=A()\n",
    "obj2=B()\n",
    "obj3=C()\n",
    "print(obj1.m1() + obj3.m1()+ obj3.m2())"
   ]
  },
  {
   "cell_type": "code",
   "execution_count": null,
   "id": "5793c1cb",
   "metadata": {},
   "outputs": [],
   "source": [
    "class A:\n",
    "\n",
    "    def m1(self):\n",
    "        return 20\n",
    "\n",
    "class B(A):\n",
    "\n",
    "    def m1(self):\n",
    "        val=super().m1()+30\n",
    "        return val\n",
    "\n",
    "class C(B):\n",
    "  \n",
    "    def m1(self):\n",
    "        val=self.m1()+20\n",
    "        return val\n",
    "obj=C()\n",
    "print(obj.m1())\n",
    "# recursion"
   ]
  },
  {
   "cell_type": "markdown",
   "id": "810b34ad",
   "metadata": {},
   "source": [
    "## Polymorphism(having multiple faces)\n",
    "\n",
    "- Method Overriding - Already done\n",
    "- Method Overloading\n",
    "- Operator Overloading"
   ]
  },
  {
   "cell_type": "markdown",
   "id": "e2266609",
   "metadata": {},
   "source": [
    "##### method overloading\n",
    "- in the single class you have same methods name but have different behaviours\n",
    "- it will choose based on the input\n",
    "- why use method overloading?\n",
    "- ans - code is more clean. mtlb fir aap aise krte area_circle , area_rectangle\n",
    "- In python it don't work \n"
   ]
  },
  {
   "cell_type": "code",
   "execution_count": 52,
   "id": "51732529",
   "metadata": {},
   "outputs": [
    {
     "ename": "TypeError",
     "evalue": "area() missing 1 required positional argument: 'b'",
     "output_type": "error",
     "traceback": [
      "\u001b[1;31m---------------------------------------------------------------------------\u001b[0m",
      "\u001b[1;31mTypeError\u001b[0m                                 Traceback (most recent call last)",
      "Input \u001b[1;32mIn [52]\u001b[0m, in \u001b[0;36m<cell line: 10>\u001b[1;34m()\u001b[0m\n\u001b[0;32m      7\u001b[0m         \u001b[38;5;28;01mreturn\u001b[39;00m l\u001b[38;5;241m*\u001b[39mb\n\u001b[0;32m      9\u001b[0m s \u001b[38;5;241m=\u001b[39m Shape()\n\u001b[1;32m---> 10\u001b[0m \u001b[43ms\u001b[49m\u001b[38;5;241;43m.\u001b[39;49m\u001b[43marea\u001b[49m\u001b[43m(\u001b[49m\u001b[38;5;241;43m4\u001b[39;49m\u001b[43m)\u001b[49m\n\u001b[0;32m     11\u001b[0m s\u001b[38;5;241m.\u001b[39marea(\u001b[38;5;241m12\u001b[39m , \u001b[38;5;241m3\u001b[39m)\n",
      "\u001b[1;31mTypeError\u001b[0m: area() missing 1 required positional argument: 'b'"
     ]
    }
   ],
   "source": [
    "class Shape:\n",
    "    \n",
    "    def area(self , radius):\n",
    "        return 3.14*radius*radius\n",
    "    \n",
    "    def area(self , l , b):\n",
    "        return l*b\n",
    "\n",
    "s = Shape()\n",
    "s.area(4)\n",
    "s.area(12 , 3)"
   ]
  },
  {
   "cell_type": "markdown",
   "id": "57adf3dc",
   "metadata": {},
   "source": [
    "But you can do this (default arguement) (smart way of method overloading)"
   ]
  },
  {
   "cell_type": "code",
   "execution_count": 2,
   "id": "451b02f3",
   "metadata": {},
   "outputs": [
    {
     "name": "stdout",
     "output_type": "stream",
     "text": [
      "12.56\n",
      "12\n"
     ]
    }
   ],
   "source": [
    "class Shape:\n",
    "\n",
    "  def area(self,a,b=0):\n",
    "    if b == 0:\n",
    "      return 3.14*a*a\n",
    "    else:\n",
    "      return a*b\n",
    "\n",
    "s = Shape()\n",
    "\n",
    "print(s.area(2))\n",
    "print(s.area(3,4))"
   ]
  },
  {
   "cell_type": "markdown",
   "id": "020b1643",
   "metadata": {},
   "source": [
    "##### operator overloading\n",
    "- same operator but depending on diff inputs uska behaviour alag hojata hai\n",
    "- concept already used when we made our fraction class"
   ]
  },
  {
   "cell_type": "code",
   "execution_count": 3,
   "id": "60f76b6a",
   "metadata": {},
   "outputs": [
    {
     "data": {
      "text/plain": [
       "'helloWorld'"
      ]
     },
     "execution_count": 3,
     "metadata": {},
     "output_type": "execute_result"
    }
   ],
   "source": [
    "\"hello\" + \"World\""
   ]
  },
  {
   "cell_type": "code",
   "execution_count": 4,
   "id": "ac351ea5",
   "metadata": {},
   "outputs": [
    {
     "data": {
      "text/plain": [
       "9"
      ]
     },
     "execution_count": 4,
     "metadata": {},
     "output_type": "execute_result"
    }
   ],
   "source": [
    "4 + 5"
   ]
  }
 ],
 "metadata": {
  "kernelspec": {
   "display_name": "Python 3 (ipykernel)",
   "language": "python",
   "name": "python3"
  },
  "language_info": {
   "codemirror_mode": {
    "name": "ipython",
    "version": 3
   },
   "file_extension": ".py",
   "mimetype": "text/x-python",
   "name": "python",
   "nbconvert_exporter": "python",
   "pygments_lexer": "ipython3",
   "version": "3.9.12"
  }
 },
 "nbformat": 4,
 "nbformat_minor": 5
}
