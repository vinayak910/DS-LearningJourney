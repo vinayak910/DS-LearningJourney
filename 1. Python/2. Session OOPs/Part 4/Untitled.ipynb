{
 "cells": [
  {
   "cell_type": "markdown",
   "id": "974b7a4c",
   "metadata": {},
   "source": [
    "## Abstraction\n",
    "\n",
    "- meaning - hidden\n",
    "- ex- Laptop is abstracted , as user is using on the surface level , whereas it implementation is way more depth than the surface\n",
    "- abstraction ais also present in nature , think of electro magnetic waves they can't be seen but they are present , and they have a big role in the human life"
   ]
  },
  {
   "cell_type": "markdown",
   "id": "30dc24d7",
   "metadata": {},
   "source": [
    "Example -  You are making a bank application which has let's say 3 applications\n",
    " 1. top level application - all the work related to database\n",
    " 2. web app\n",
    " 3. mobile app\n",
    "- so when the child classes ie web and mobile inherits from top level app they are forced to write a security code"
   ]
  },
  {
   "cell_type": "markdown",
   "id": "afd1b0d6",
   "metadata": {},
   "source": [
    "Below code explaination - \n",
    "- The bankapp class is an abstract class\n",
    "- abstract class- means the class which have atleast one abstract method and inhrit from ABC class\n",
    "- abstract method - method with not code/implementation"
   ]
  },
  {
   "cell_type": "code",
   "execution_count": 2,
   "id": "72d8616e",
   "metadata": {},
   "outputs": [],
   "source": [
    "from abc import ABC , abstractmethod\n",
    "class BankApp(ABC):  # ---------> abstract class\n",
    "    \n",
    "    def database(self):\n",
    "        print(\"Connected to the database\")\n",
    "    \n",
    "    @abstractmethod # --------->decorator\n",
    "    def security(): # --------------> abstract method\n",
    "        pass"
   ]
  },
  {
   "cell_type": "markdown",
   "id": "b85dd9b0",
   "metadata": {},
   "source": [
    "Senior programmer ki demands to access database method from BankApp class while inheriting is that in thr **child class you have to write a function for the security**"
   ]
  },
  {
   "cell_type": "markdown",
   "id": "16174174",
   "metadata": {},
   "source": [
    "- inshort if child have to use the parent class , it have to implement security\n",
    "- aur agar nahi kra to error dega jaise ke neeche"
   ]
  },
  {
   "cell_type": "code",
   "execution_count": 3,
   "id": "fc09b4da",
   "metadata": {},
   "outputs": [],
   "source": [
    "class MobileApp(BankApp):\n",
    "    \n",
    "    def mobile_login(self):\n",
    "        print(\"Login into the mobile\")"
   ]
  },
  {
   "cell_type": "code",
   "execution_count": 4,
   "id": "f64441dd",
   "metadata": {},
   "outputs": [
    {
     "ename": "TypeError",
     "evalue": "Can't instantiate abstract class MobileApp with abstract method security",
     "output_type": "error",
     "traceback": [
      "\u001b[1;31m---------------------------------------------------------------------------\u001b[0m",
      "\u001b[1;31mTypeError\u001b[0m                                 Traceback (most recent call last)",
      "Input \u001b[1;32mIn [4]\u001b[0m, in \u001b[0;36m<cell line: 1>\u001b[1;34m()\u001b[0m\n\u001b[1;32m----> 1\u001b[0m mob \u001b[38;5;241m=\u001b[39m \u001b[43mMobileApp\u001b[49m\u001b[43m(\u001b[49m\u001b[43m)\u001b[49m\n",
      "\u001b[1;31mTypeError\u001b[0m: Can't instantiate abstract class MobileApp with abstract method security"
     ]
    }
   ],
   "source": [
    "mob = MobileApp()"
   ]
  },
  {
   "cell_type": "code",
   "execution_count": 5,
   "id": "61ef9cd6",
   "metadata": {},
   "outputs": [],
   "source": [
    "# implementing security code below\n",
    "class MobileApp(BankApp):\n",
    "    \n",
    "    def mobile_login(self):\n",
    "        print(\"Login into the mobile\")\n",
    "    \n",
    "    def security(self):\n",
    "        print(\"Secured\")"
   ]
  },
  {
   "cell_type": "code",
   "execution_count": 6,
   "id": "adf4a0c4",
   "metadata": {},
   "outputs": [],
   "source": [
    "mob = MobileApp()"
   ]
  },
  {
   "cell_type": "code",
   "execution_count": 7,
   "id": "57e2603e",
   "metadata": {},
   "outputs": [
    {
     "name": "stdout",
     "output_type": "stream",
     "text": [
      "Connected to the database\n"
     ]
    }
   ],
   "source": [
    "mob.database()"
   ]
  },
  {
   "cell_type": "code",
   "execution_count": 12,
   "id": "41a2863e",
   "metadata": {},
   "outputs": [],
   "source": [
    "# see now it was able to run"
   ]
  },
  {
   "cell_type": "markdown",
   "id": "16ee7f1c",
   "metadata": {},
   "source": [
    "Can also have mutltiple abstract methods for those methods child class have to write the code for that abstract methods"
   ]
  },
  {
   "cell_type": "code",
   "execution_count": 20,
   "id": "cbc0c571",
   "metadata": {},
   "outputs": [],
   "source": [
    "from abc import ABC , abstractmethod\n",
    "class BankApp(ABC):  # ---------> abstract class\n",
    "    \n",
    "    def database(self):\n",
    "        print(\"Connected to the database\")\n",
    "    \n",
    "    @abstractmethod # --------->decorator\n",
    "    def security(): # --------------> abstract method\n",
    "        pass\n",
    "    @abstractmethod\n",
    "    def display():\n",
    "        pass"
   ]
  },
  {
   "cell_type": "code",
   "execution_count": 21,
   "id": "c4588de6",
   "metadata": {},
   "outputs": [],
   "source": [
    "# implementing security code below\n",
    "class MobileApp(BankApp):\n",
    "    \n",
    "    def mobile_login(self):\n",
    "        print(\"Login into the mobile\")\n",
    "    \n",
    "    def security(self):\n",
    "        print(\"Secured\")"
   ]
  },
  {
   "cell_type": "code",
   "execution_count": 22,
   "id": "4692fa27",
   "metadata": {},
   "outputs": [
    {
     "ename": "TypeError",
     "evalue": "Can't instantiate abstract class MobileApp with abstract method display",
     "output_type": "error",
     "traceback": [
      "\u001b[1;31m---------------------------------------------------------------------------\u001b[0m",
      "\u001b[1;31mTypeError\u001b[0m                                 Traceback (most recent call last)",
      "Input \u001b[1;32mIn [22]\u001b[0m, in \u001b[0;36m<cell line: 1>\u001b[1;34m()\u001b[0m\n\u001b[1;32m----> 1\u001b[0m mob \u001b[38;5;241m=\u001b[39m \u001b[43mMobileApp\u001b[49m\u001b[43m(\u001b[49m\u001b[43m)\u001b[49m\n",
      "\u001b[1;31mTypeError\u001b[0m: Can't instantiate abstract class MobileApp with abstract method display"
     ]
    }
   ],
   "source": [
    "mob = MobileApp()"
   ]
  },
  {
   "cell_type": "code",
   "execution_count": 19,
   "id": "c951ddeb",
   "metadata": {},
   "outputs": [
    {
     "name": "stdout",
     "output_type": "stream",
     "text": [
      "Secured\n"
     ]
    }
   ],
   "source": [
    "mob.security()"
   ]
  },
  {
   "cell_type": "markdown",
   "id": "62a9f6b0",
   "metadata": {},
   "source": [
    "So now you have to write the code for display method too in the child class"
   ]
  },
  {
   "cell_type": "code",
   "execution_count": 24,
   "id": "e11bfb6f",
   "metadata": {},
   "outputs": [],
   "source": [
    "# implementing security code below\n",
    "class MobileApp(BankApp):\n",
    "    \n",
    "    def mobile_login(self):\n",
    "        print(\"Login into the mobile\")\n",
    "    \n",
    "    def security(self):\n",
    "        print(\"Secured\")\n",
    "        \n",
    "    def display(self):\n",
    "        print(\"Display\")"
   ]
  },
  {
   "cell_type": "code",
   "execution_count": 25,
   "id": "b96ef15a",
   "metadata": {},
   "outputs": [],
   "source": [
    "mob = MobileApp()"
   ]
  },
  {
   "cell_type": "code",
   "execution_count": 26,
   "id": "2d3f75e5",
   "metadata": {},
   "outputs": [
    {
     "name": "stdout",
     "output_type": "stream",
     "text": [
      "Display\n"
     ]
    }
   ],
   "source": [
    "mob.display()"
   ]
  },
  {
   "cell_type": "markdown",
   "id": "f74e4da8",
   "metadata": {},
   "source": [
    "One thing more - you cannot make an obj for an abstract class"
   ]
  },
  {
   "cell_type": "code",
   "execution_count": 27,
   "id": "5ba6bb39",
   "metadata": {},
   "outputs": [
    {
     "ename": "TypeError",
     "evalue": "Can't instantiate abstract class BankApp with abstract methods display, security",
     "output_type": "error",
     "traceback": [
      "\u001b[1;31m---------------------------------------------------------------------------\u001b[0m",
      "\u001b[1;31mTypeError\u001b[0m                                 Traceback (most recent call last)",
      "Input \u001b[1;32mIn [27]\u001b[0m, in \u001b[0;36m<cell line: 1>\u001b[1;34m()\u001b[0m\n\u001b[1;32m----> 1\u001b[0m obj \u001b[38;5;241m=\u001b[39m \u001b[43mBankApp\u001b[49m\u001b[43m(\u001b[49m\u001b[43m)\u001b[49m\n",
      "\u001b[1;31mTypeError\u001b[0m: Can't instantiate abstract class BankApp with abstract methods display, security"
     ]
    }
   ],
   "source": [
    "obj = BankApp()"
   ]
  },
  {
   "cell_type": "code",
   "execution_count": null,
   "id": "91e6a7b7",
   "metadata": {},
   "outputs": [],
   "source": []
  }
 ],
 "metadata": {
  "kernelspec": {
   "display_name": "Python 3 (ipykernel)",
   "language": "python",
   "name": "python3"
  },
  "language_info": {
   "codemirror_mode": {
    "name": "ipython",
    "version": 3
   },
   "file_extension": ".py",
   "mimetype": "text/x-python",
   "name": "python",
   "nbconvert_exporter": "python",
   "pygments_lexer": "ipython3",
   "version": "3.9.12"
  }
 },
 "nbformat": 4,
 "nbformat_minor": 5
}
