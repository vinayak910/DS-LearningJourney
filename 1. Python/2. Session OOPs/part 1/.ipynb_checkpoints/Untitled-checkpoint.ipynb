{
 "cells": [
  {
   "cell_type": "code",
   "execution_count": 1,
   "id": "621e06b2",
   "metadata": {},
   "outputs": [
    {
     "ename": "AttributeError",
     "evalue": "'list' object has no attribute 'upper'",
     "output_type": "error",
     "traceback": [
      "\u001b[1;31m---------------------------------------------------------------------------\u001b[0m",
      "\u001b[1;31mAttributeError\u001b[0m                            Traceback (most recent call last)",
      "Input \u001b[1;32mIn [1]\u001b[0m, in \u001b[0;36m<cell line: 2>\u001b[1;34m()\u001b[0m\n\u001b[0;32m      1\u001b[0m l \u001b[38;5;241m=\u001b[39m [\u001b[38;5;241m1\u001b[39m, \u001b[38;5;241m2\u001b[39m, \u001b[38;5;241m3\u001b[39m, \u001b[38;5;241m4\u001b[39m]\n\u001b[1;32m----> 2\u001b[0m \u001b[43ml\u001b[49m\u001b[38;5;241;43m.\u001b[39;49m\u001b[43mupper\u001b[49m()\n",
      "\u001b[1;31mAttributeError\u001b[0m: 'list' object has no attribute 'upper'"
     ]
    }
   ],
   "source": [
    "l = [1, 2, 3, 4]\n",
    "l.upper()"
   ]
  },
  {
   "cell_type": "markdown",
   "id": "b5645356",
   "metadata": {},
   "source": [
    "Notice the error - it say's list `object` has no attribute upper , notice? what it says l as an object. Ok let's try another"
   ]
  },
  {
   "cell_type": "code",
   "execution_count": null,
   "id": "945bc2fc",
   "metadata": {},
   "outputs": [],
   "source": [
    "st = \"Vinayak\"\n",
    "st.append(\"chh\")"
   ]
  },
  {
   "cell_type": "markdown",
   "id": "f9e44eac",
   "metadata": {},
   "source": [
    "see it again , error called st an object"
   ]
  },
  {
   "cell_type": "markdown",
   "id": "42835918",
   "metadata": {},
   "source": [
    "Infact there is saying in python that everything is an object in python"
   ]
  },
  {
   "cell_type": "markdown",
   "id": "73f09ef7",
   "metadata": {},
   "source": [
    "what is this object? we will understand later. let's consider an example \n",
    "- nitish sir trying to buit website similar to linkedin in but without oops , it took 7 months to build it.\n",
    "- now he wanted to add 1 more feature , but the code structure became so complex he wasn't able to do it.\n",
    "- he tried oops appraoch he was able to build same web in 1.5 months , and even add more features, the complexity reduced too , number of lines too"
   ]
  },
  {
   "cell_type": "markdown",
   "id": "98e3a375",
   "metadata": {},
   "source": [
    "Now undertand the problem , previously he was trying procedural approach top to bottom which makes hard for real based application .\n",
    "### The main power of OOP's is that it gives a programmer a power to create his/her own data type"
   ]
  },
  {
   "cell_type": "markdown",
   "id": "7e4f212c",
   "metadata": {},
   "source": [
    "So to create your personal applicaation rather than using the old datatypes cant we create our own data type that will help to build the application easier"
   ]
  },
  {
   "cell_type": "markdown",
   "id": "d9fac586",
   "metadata": {},
   "source": [
    "## Class\n",
    "- class is a blueprint\n",
    "- set of rules that tell how the object will behave, it contains all functions how will they behave\n",
    "- and when the object is made , it follows behaviour defined by the class"
   ]
  },
  {
   "cell_type": "markdown",
   "id": "04614f6b",
   "metadata": {},
   "source": [
    "### Class include 2 things \n",
    "\n",
    "1. Attribute , data or property\n",
    "2. Functiond or behaviour"
   ]
  },
  {
   "cell_type": "markdown",
   "id": "34b74fbd",
   "metadata": {},
   "source": [
    "- Exammple car attribute - color , top_speed\n",
    "- behviour - calculate avg speed"
   ]
  },
  {
   "cell_type": "code",
   "execution_count": 1,
   "id": "5b3be131",
   "metadata": {},
   "outputs": [
    {
     "name": "stdout",
     "output_type": "stream",
     "text": [
      "<class 'list'>\n"
     ]
    }
   ],
   "source": [
    "L = [1,2, 3]\n",
    "print(type(L))"
   ]
  },
  {
   "cell_type": "code",
   "execution_count": 2,
   "id": "56116f08",
   "metadata": {},
   "outputs": [
    {
     "ename": "AttributeError",
     "evalue": "'list' object has no attribute 'upper'",
     "output_type": "error",
     "traceback": [
      "\u001b[1;31m---------------------------------------------------------------------------\u001b[0m",
      "\u001b[1;31mAttributeError\u001b[0m                            Traceback (most recent call last)",
      "Input \u001b[1;32mIn [2]\u001b[0m, in \u001b[0;36m<cell line: 1>\u001b[1;34m()\u001b[0m\n\u001b[1;32m----> 1\u001b[0m \u001b[43mL\u001b[49m\u001b[38;5;241;43m.\u001b[39;49m\u001b[43mupper\u001b[49m()\n",
      "\u001b[1;31mAttributeError\u001b[0m: 'list' object has no attribute 'upper'"
     ]
    }
   ],
   "source": [
    "L.upper()"
   ]
  },
  {
   "cell_type": "markdown",
   "id": "f1a012f0",
   "metadata": {},
   "source": [
    "Note - all datatypes such as int , float , tuple are classes . when we create variable for that classes is called object\n",
    "- Class are of two types - \n",
    "1. Builtin such as int float tuple etc\n",
    "2. User defined just like ATM class below"
   ]
  },
  {
   "cell_type": "markdown",
   "id": "f89ff385",
   "metadata": {},
   "source": [
    "## Object\n",
    "- is an instance of class\n",
    "- Examples - \n",
    "1. Car ---> Wagnar = Car()\n",
    "2. Sports ---> Cricket - Sports()\n",
    "3. Animals ---> Langoor = Animals()"
   ]
  },
  {
   "cell_type": "markdown",
   "id": "0a313e7e",
   "metadata": {},
   "source": [
    "ques- ? You are sayin syntax for making an obj is `object_name = class_name()`\n",
    "But in case of creating list we do not follow this sytanx , instead we make list by this----"
   ]
  },
  {
   "cell_type": "code",
   "execution_count": null,
   "id": "0ef42861",
   "metadata": {},
   "outputs": [],
   "source": [
    "l = [1 , 2, 3] \n",
    "#because that is object literal\n",
    "# but you can also make it like the syntax\n",
    "l = list() #where list() is class and l is the object \n",
    "l"
   ]
  },
  {
   "cell_type": "markdown",
   "id": "5c894845",
   "metadata": {},
   "source": [
    "## Making an atm application"
   ]
  },
  {
   "cell_type": "code",
   "execution_count": null,
   "id": "c23b4121",
   "metadata": {},
   "outputs": [],
   "source": [
    "# class name is pascal case ie means even if the class is of two names you will join and diff by cap letters \n",
    "# example  - HelloWorld\n"
   ]
  },
  {
   "cell_type": "markdown",
   "id": "c02842de",
   "metadata": {},
   "source": [
    "When creating class think about the data and functions , in case of ATM , data would be pin and balance"
   ]
  },
  {
   "cell_type": "markdown",
   "id": "c6207ba8",
   "metadata": {},
   "source": [
    "Key points\n",
    "1. whenever you create a variable you will made it inside the constructor\n",
    "2. Rather than creating variable by normal name in constructor, we will name it by self.variable_name"
   ]
  },
  {
   "cell_type": "code",
   "execution_count": 3,
   "id": "351c31a3",
   "metadata": {},
   "outputs": [],
   "source": [
    "class ATM:\n",
    "    \n",
    "    #constructor - A function inside the class that automatically gets excuted when obj is made\n",
    "    def __init__(self):\n",
    "        self.pin = \"\"\n",
    "        self.balance = 0"
   ]
  },
  {
   "cell_type": "code",
   "execution_count": 4,
   "id": "cebbacb2",
   "metadata": {},
   "outputs": [],
   "source": [
    "obj = ATM()"
   ]
  },
  {
   "cell_type": "code",
   "execution_count": 5,
   "id": "4b2e3148",
   "metadata": {},
   "outputs": [
    {
     "name": "stdout",
     "output_type": "stream",
     "text": [
      "<class '__main__.ATM'>\n"
     ]
    }
   ],
   "source": [
    "print(type(obj)) # its saying it is obj of ATM class"
   ]
  },
  {
   "cell_type": "code",
   "execution_count": 6,
   "id": "1f3e807e",
   "metadata": {},
   "outputs": [
    {
     "name": "stdout",
     "output_type": "stream",
     "text": [
      "\n",
      "0\n"
     ]
    }
   ],
   "source": [
    "print(obj.pin)\n",
    "print(obj.balance)"
   ]
  },
  {
   "cell_type": "markdown",
   "id": "d149603c",
   "metadata": {},
   "source": [
    "### Improving our ATM code"
   ]
  },
  {
   "cell_type": "markdown",
   "id": "7dbb5d81",
   "metadata": {},
   "source": [
    "adding functionalities in app such as set pin , change pin , withdraw money , depoist money"
   ]
  },
  {
   "cell_type": "markdown",
   "id": "b4c3d023",
   "metadata": {},
   "source": [
    "key points - \n",
    "\n",
    "1. Constructor is a special function , to excecute a call is not required. Normally a function requires a call to be excecuted , but constructor gets automatically excecuted when object is made(just to check write any print statement inside constructor and you will see it getting excecuted automatically when the obj is made)\n",
    "\n",
    "2. I'll smartly call menu in constructor so that when obj is made , user can see the menu"
   ]
  },
  {
   "cell_type": "code",
   "execution_count": 14,
   "id": "db4dec75",
   "metadata": {},
   "outputs": [],
   "source": [
    "class ATM:\n",
    "    \n",
    "    def __init__(self):\n",
    "        self.pin = \"\"\n",
    "        self.balance = 0\n",
    "        self.menu()\n",
    "    \n",
    "    def menu(self):\n",
    "        user_input = (input(\"\"\"How can I help you?\n",
    "        1. Press 1 to create pin\n",
    "        2. Press 2 to change pin\n",
    "        3. Press 3 to check balance\n",
    "        4. Press 4 to withdraw money\n",
    "        5. Anything else to exit\"\"\"))\n",
    "        if user_input == '1':\n",
    "            self.create_pin()\n",
    "            \n",
    "        elif user_input=='2':\n",
    "            self.change_pin()\n",
    "        elif user_input=='3':\n",
    "            self.check_balance()\n",
    "        elif user_input=='4':\n",
    "            self.withdraw_money()\n",
    "        else:\n",
    "            return\n",
    "    def create_pin(self):\n",
    "        user_pin = input(\"Enter your pin to set:\")\n",
    "        self.pin = user_pin\n",
    "        user_balance = int(input(\"Enter the balance:\"))\n",
    "        self.balance = user_balance\n",
    "        print(\"Pin set successfully\")\n",
    "        self.menu()\n",
    "    def change_pin(self):\n",
    "        user_pin = input(\"Enter the pin:\")\n",
    "        if user_pin == self.pin:\n",
    "            user_pin = input(\"Enter new Pin\")\n",
    "            self.pin = user_pin\n",
    "            print(\"New pin set successfully\")\n",
    "        else:\n",
    "            print(\"Wrong Pin\")\n",
    "        self.menu()\n",
    "    def check_balance(self):\n",
    "        user_pin = input(\"Enter the pin:\")\n",
    "        if user_pin == self.pin:\n",
    "            print(self.balance)\n",
    "        else:\n",
    "            print(\"Wrong Pin\")\n",
    "        self.menu()\n",
    "    def withdraw_money(self):\n",
    "        user_pin = input(\"Enter the pin:\")\n",
    "        if user_pin == self.pin:\n",
    "            amt = int(input(\"Enter the amount to witdraw:\"))\n",
    "            if self.balance<amt:\n",
    "                print(\"Insufficient Balance\")\n",
    "            else:\n",
    "                self.balance = self.balance - amt\n",
    "                print(\"Money withdrawl Success\")\n",
    "        else:\n",
    "            print(\"Wrong Pin\")\n",
    "        self.menu()\n",
    "            "
   ]
  },
  {
   "cell_type": "code",
   "execution_count": 15,
   "id": "cbdaa791",
   "metadata": {},
   "outputs": [
    {
     "name": "stdout",
     "output_type": "stream",
     "text": [
      "How can I help you?\n",
      "        1. Press 1 to create pin\n",
      "        2. Press 2 to change pin\n",
      "        3. Press 3 to check balance\n",
      "        4. Press 4 to withdraw money\n",
      "        5. Anything else to exit1\n",
      "Enter your pin to set:1234\n",
      "Enter the balance:100\n",
      "Pin set successfully\n",
      "How can I help you?\n",
      "        1. Press 1 to create pin\n",
      "        2. Press 2 to change pin\n",
      "        3. Press 3 to check balance\n",
      "        4. Press 4 to withdraw money\n",
      "        5. Anything else to exith\n"
     ]
    }
   ],
   "source": [
    "obj = ATM()"
   ]
  },
  {
   "cell_type": "code",
   "execution_count": 16,
   "id": "d7066a04",
   "metadata": {},
   "outputs": [
    {
     "data": {
      "text/plain": [
       "100"
      ]
     },
     "execution_count": 16,
     "metadata": {},
     "output_type": "execute_result"
    }
   ],
   "source": [
    "obj.balance"
   ]
  },
  {
   "cell_type": "code",
   "execution_count": 12,
   "id": "4bb625ba",
   "metadata": {},
   "outputs": [],
   "source": [
    "class ATM:\n",
    "    \n",
    "    #constructor - A function inside the class that automatically gets excuted when obj is made\n",
    "    def __init__(self):\n",
    "        self.pin = \"\"\n",
    "        self.balance = 0\n",
    "        self.menu()\n",
    "        \n",
    "    def menu(self):\n",
    "        user_input = input(\"\"\"\n",
    "        How can I help You?\n",
    "        1. Press 1 to create Pin\n",
    "        2. Press 2 to change Pin\n",
    "        3. Press 3 to check balance\n",
    "        4. Press 4 to withdraw\n",
    "        5. Anything else to exit\n",
    "        \"\"\")\n",
    "        \n",
    "        if user_input == \"1\":\n",
    "            #Create pin\n",
    "            self.create_pin()\n",
    "            \n",
    "        elif user_input == \"2\":\n",
    "            #  change Pin\n",
    "            self.change_pin()\n",
    "            \n",
    "        elif user_input == \"3\":\n",
    "            # Check Balance\n",
    "            self.check_Balance()\n",
    "        elif user_input == \"4\":\n",
    "            #wihdraw\n",
    "            self.withdraw_money()\n",
    "        else:\n",
    "            return\n",
    "    \n",
    "    def create_pin(self):\n",
    "        user_pin = input(\"Create your Pin:\")\n",
    "        self.pin = user_pin\n",
    "        user_balance = int(input(\"Enter your Balance:\"))\n",
    "        self.balance = user_balance\n",
    "        print(\"Pin Created Successfully\")\n",
    "        self.menu()\n",
    "     \n",
    "    def change_pin(self):\n",
    "        user_pin = input(\"Enter your pin:\")\n",
    "        if user_pin == self.pin:\n",
    "            user_pin = input(\"Enter your new pin:\")\n",
    "            self.pin = user_pin\n",
    "            print(\"Pin changed Successully\")\n",
    "            \n",
    "            self.menu()\n",
    "        else:\n",
    "            print(\"Wrong Pin\")\n",
    "            self.menu()\n",
    "    def check_Balance(self):\n",
    "        user_pin = input(\"Enter Your Pin:\")\n",
    "        if user_pin == self.pin:\n",
    "            #show balance\n",
    "             print(self.balance)\n",
    "        else:\n",
    "            #wrong pin\n",
    "            print(\"Wrong Pin\")\n",
    "       \n",
    "        self.menu()\n",
    "    def withdraw_money(self):\n",
    "        user_pin = input(\"Enter your pin:\")\n",
    "        if user_pin == self.pin:\n",
    "            amt = int(input(\"Enter the amount to withdraw\"))\n",
    "            if amt <= self.balance:\n",
    "                self.balance = self.balance - amt\n",
    "                print(f\"Current Balance:{self.balance}\")\n",
    "            else:\n",
    "                print(\"Insufficient Balance\")\n",
    "        else:\n",
    "            print(\"Chori karta hai madarjaat\")\n",
    "        self.menu()"
   ]
  },
  {
   "cell_type": "code",
   "execution_count": 13,
   "id": "725a0c0d",
   "metadata": {},
   "outputs": [
    {
     "name": "stdout",
     "output_type": "stream",
     "text": [
      "\n",
      "        How can I help You?\n",
      "        1. Press 1 to create Pin\n",
      "        2. Press 2 to change Pin\n",
      "        3. Press 3 to check balance\n",
      "        4. Press 4 to withdraw\n",
      "        5. Anything else to exit\n",
      "        1\n",
      "Create your Pin:1234\n",
      "Enter your Balance:100\n",
      "Pin Created Successfully\n",
      "\n",
      "        How can I help You?\n",
      "        1. Press 1 to create Pin\n",
      "        2. Press 2 to change Pin\n",
      "        3. Press 3 to check balance\n",
      "        4. Press 4 to withdraw\n",
      "        5. Anything else to exit\n",
      "        3\n",
      "Enter Your Pin:1234\n",
      "100\n",
      "\n",
      "        How can I help You?\n",
      "        1. Press 1 to create Pin\n",
      "        2. Press 2 to change Pin\n",
      "        3. Press 3 to check balance\n",
      "        4. Press 4 to withdraw\n",
      "        5. Anything else to exit\n",
      "        4\n",
      "Enter your pin:1234\n",
      "Enter the amount to withdraw190\n",
      "Insufficient Balance\n",
      "\n",
      "        How can I help You?\n",
      "        1. Press 1 to create Pin\n",
      "        2. Press 2 to change Pin\n",
      "        3. Press 3 to check balance\n",
      "        4. Press 4 to withdraw\n",
      "        5. Anything else to exit\n",
      "        4\n",
      "Enter your pin:145\n",
      "Chori karta hai madarjaat\n",
      "\n",
      "        How can I help You?\n",
      "        1. Press 1 to create Pin\n",
      "        2. Press 2 to change Pin\n",
      "        3. Press 3 to check balance\n",
      "        4. Press 4 to withdraw\n",
      "        5. Anything else to exit\n",
      "        4\n",
      "Enter your pin:1234\n",
      "Enter the amount to withdraw80\n",
      "Current Balance:20\n",
      "\n",
      "        How can I help You?\n",
      "        1. Press 1 to create Pin\n",
      "        2. Press 2 to change Pin\n",
      "        3. Press 3 to check balance\n",
      "        4. Press 4 to withdraw\n",
      "        5. Anything else to exit\n",
      "        4\n",
      "Enter your pin:1234\n",
      "Enter the amount to withdraw21\n",
      "Insufficient Balance\n",
      "\n",
      "        How can I help You?\n",
      "        1. Press 1 to create Pin\n",
      "        2. Press 2 to change Pin\n",
      "        3. Press 3 to check balance\n",
      "        4. Press 4 to withdraw\n",
      "        5. Anything else to exit\n",
      "        4\n",
      "Enter your pin:1234\n",
      "Enter the amount to withdraw20\n",
      "Current Balance:0\n",
      "\n",
      "        How can I help You?\n",
      "        1. Press 1 to create Pin\n",
      "        2. Press 2 to change Pin\n",
      "        3. Press 3 to check balance\n",
      "        4. Press 4 to withdraw\n",
      "        5. Anything else to exit\n",
      "        8\n"
     ]
    }
   ],
   "source": [
    "obj = ATM()"
   ]
  },
  {
   "cell_type": "code",
   "execution_count": 5,
   "id": "8910faa5",
   "metadata": {},
   "outputs": [
    {
     "data": {
      "text/plain": [
       "10000"
      ]
     },
     "execution_count": 5,
     "metadata": {},
     "output_type": "execute_result"
    }
   ],
   "source": [
    "obj.balance"
   ]
  },
  {
   "cell_type": "code",
   "execution_count": null,
   "id": "2fbf0741",
   "metadata": {},
   "outputs": [],
   "source": [
    "obj.pin"
   ]
  },
  {
   "cell_type": "code",
   "execution_count": null,
   "id": "53c42eb3",
   "metadata": {},
   "outputs": [],
   "source": [
    "obj.pin"
   ]
  },
  {
   "cell_type": "markdown",
   "id": "549581ce",
   "metadata": {},
   "source": [
    "## Methods VS Functions"
   ]
  },
  {
   "cell_type": "markdown",
   "id": "52236152",
   "metadata": {},
   "source": [
    "- function in class is called method"
   ]
  },
  {
   "cell_type": "code",
   "execution_count": 14,
   "id": "29f89fcd",
   "metadata": {},
   "outputs": [],
   "source": [
    "l = [1,2,3]\n",
    "len(l) # function\n",
    "l.append(4) # method"
   ]
  },
  {
   "cell_type": "markdown",
   "id": "1362d4de",
   "metadata": {},
   "source": [
    "## Class Diagram"
   ]
  },
  {
   "cell_type": "markdown",
   "id": "c1b9ebed",
   "metadata": {},
   "source": [
    "you can represent your class using a diagram"
   ]
  },
  {
   "cell_type": "markdown",
   "id": "8cf993bc",
   "metadata": {},
   "source": [
    "search an image for class diagramm\n",
    "- note- The + sign represent public method or an attribute whereas - sign represent private"
   ]
  },
  {
   "cell_type": "markdown",
   "id": "2d991c02",
   "metadata": {},
   "source": [
    "## Magic Methods or dunder methods\n",
    "- magic methods are special methods , diff methods have diff powers\n",
    "- represented by `__name__`\n",
    "- already familiar magic method ie constructor `__init__` super power - excecuted automatically when obj is created\n",
    "- By using these magic methods you can create your own data type"
   ]
  },
  {
   "cell_type": "markdown",
   "id": "0240df69",
   "metadata": {},
   "source": [
    "### Constructor\n",
    "- method but special method as it got superpower- automatically excecuted when obj is made\n",
    "- (interview ques) Benefit ? __used when you don't want give to control to user of something (generally `configuration code`)__\n",
    "- code related to connecting to data base , internet or etc . You don't want to depened on user , ie when user will call then it will connect with the database or have internet connectivity"
   ]
  },
  {
   "cell_type": "markdown",
   "id": "6848d4e4",
   "metadata": {},
   "source": [
    "## Self"
   ]
  },
  {
   "cell_type": "markdown",
   "id": "5762bea2",
   "metadata": {},
   "source": [
    "Before self , you must know the golden rule of OOP\n",
    "- __Golden Rule__ - OOPs contain two things , \n",
    "1. class\n",
    "2. object\n",
    "- class contain all the rules that will be followed by the object\n",
    "- rules include two things \n",
    "1. attribute or data ex - pin , balance \n",
    "2. Methods ex - check_balance , withdraw etc\n",
    "\n",
    "- Golden rule - Class ke jo member hai ie data and methods , unko __sirf access object kr skta hai__"
   ]
  },
  {
   "cell_type": "markdown",
   "id": "feea862a",
   "metadata": {},
   "source": [
    "To understand better ques - kya class ke andar ka ek function dusrre function ko call kr skta hai ?\n",
    "- __After hearing only and only object can access the members__"
   ]
  },
  {
   "cell_type": "markdown",
   "id": "1ee65766",
   "metadata": {},
   "source": [
    "Ans - No , it cannot . Not even the class function cannot call the other function.\n",
    "- but ques arised - In the menu function and other functions we called different functions such as check balance , withdraw etc. How?\n",
    "- ANS - The ans is self , self allows you to talk/call to other functions"
   ]
  },
  {
   "cell_type": "markdown",
   "id": "02af50b3",
   "metadata": {},
   "source": [
    "Ques - Then WHat is self?\n",
    "Since everything in a python is an object , hence it will be stored in memory somewhere let's check"
   ]
  },
  {
   "cell_type": "code",
   "execution_count": 47,
   "id": "17da7058",
   "metadata": {},
   "outputs": [],
   "source": [
    "class ATM:\n",
    "    \n",
    "    #constructor - A function inside the class that automatically gets excuted when obj is made\n",
    "    def __init__(self):\n",
    "        self.pin = \"\"\n",
    "        self.balance = 0\n",
    "        print(id(self))  # prints memory location when obj is made\n",
    "        #self.menu()\n",
    "        \n",
    "    def menu(self):\n",
    "        user_input = input(\"\"\"\n",
    "        How can I help You?\n",
    "        1. Press 1 to create Pin\n",
    "        2. Press 2 to change Pin\n",
    "        3. Press 3 to check balance\n",
    "        4. Press 4 to withdraw\n",
    "        5. Anything else to exit\n",
    "        \"\"\")\n",
    "        \n",
    "        if user_input == \"1\":\n",
    "            #Create pin\n",
    "            self.create_pin()\n",
    "            \n",
    "        elif user_input == \"2\":\n",
    "            #  change Pin\n",
    "            self.change_pin()\n",
    "            \n",
    "        elif user_input == \"3\":\n",
    "            # Check Balance\n",
    "            self.check_Balance()\n",
    "        elif user_input == \"4\":\n",
    "            #wihdraw\n",
    "            self.withdraw_money()\n",
    "        else:\n",
    "            return\n",
    "    \n",
    "    def create_pin(self):\n",
    "        user_pin = input(\"Create your Pin:\")\n",
    "        self.pin = user_pin\n",
    "        user_balance = int(input(\"Enter your Balance:\"))\n",
    "        self.balance = user_balance\n",
    "        print(\"Pin Created Successfully\")\n",
    "        self.menu()\n",
    "     \n",
    "    def change_pin(self):\n",
    "        user_pin = input(\"Enter your pin:\")\n",
    "        if user_pin == self.pin:\n",
    "            user_pin = input(\"Enter your new pin:\")\n",
    "            self.pin = user_pin\n",
    "            print(\"Pin changed Successully\")\n",
    "            \n",
    "            self.menu()\n",
    "        else:\n",
    "            print(\"Wrong Pin\")\n",
    "            self.menu()\n",
    "    def check_Balance(self):\n",
    "        user_pin = input(\"Enter Your Pin:\")\n",
    "        if user_pin == self.pin:\n",
    "            #show balance\n",
    "             print(self.balance)\n",
    "        else:\n",
    "            #wrong pin\n",
    "            print(\"Wrong Pin\")\n",
    "       \n",
    "        self.menu()\n",
    "    def withdraw_money(self):\n",
    "        user_pin = input(\"Enter your pin:\")\n",
    "        if user_pin == self.pin:\n",
    "            amt = int(input(\"Enter the amount to withdraw\"))\n",
    "            if amt <= self.balance:\n",
    "                self.balance = self.balance - amt\n",
    "                print(f\"Current Balance:{self.balance}\")\n",
    "            else:\n",
    "                print(\"Insufficient Balance\")\n",
    "        else:\n",
    "            print(\"Chori karta hai madarjaat\")\n",
    "        self.menu()"
   ]
  },
  {
   "cell_type": "code",
   "execution_count": 48,
   "id": "e644fc03",
   "metadata": {},
   "outputs": [
    {
     "name": "stdout",
     "output_type": "stream",
     "text": [
      "1368536784464\n"
     ]
    }
   ],
   "source": [
    "obj = ATM()"
   ]
  },
  {
   "cell_type": "markdown",
   "id": "9e94c634",
   "metadata": {},
   "source": [
    "The number above is a address of self"
   ]
  },
  {
   "cell_type": "code",
   "execution_count": 49,
   "id": "029f5841",
   "metadata": {},
   "outputs": [
    {
     "name": "stdout",
     "output_type": "stream",
     "text": [
      "1368536784464\n"
     ]
    }
   ],
   "source": [
    "print(id(obj))"
   ]
  },
  {
   "cell_type": "markdown",
   "id": "acdb8ca8",
   "metadata": {},
   "source": [
    "Notice - both the id of obj and and self are pointing to same memory address .\n",
    "- Means - self is same obj itself"
   ]
  },
  {
   "cell_type": "markdown",
   "id": "83c12fe8",
   "metadata": {},
   "source": [
    "Hence the problem is solved , Golden rule - only obj can access members of class , so now to talk function with diff functions , self is used which is what? oject itself "
   ]
  },
  {
   "cell_type": "markdown",
   "id": "f786dcfd",
   "metadata": {},
   "source": [
    "let's exclude self from one function and then call "
   ]
  },
  {
   "cell_type": "code",
   "execution_count": 50,
   "id": "f5367c03",
   "metadata": {},
   "outputs": [],
   "source": [
    "class ATM:\n",
    "    \n",
    "    #constructor - A function inside the class that automatically gets excuted when obj is made\n",
    "    def __init__(self):\n",
    "        self.pin = \"\"\n",
    "        self.balance = 0\n",
    "        print(id(self))  # prints memory location when obj is made\n",
    "        #self.menu()\n",
    "        \n",
    "    def menu(self):\n",
    "        user_input = input(\"\"\"\n",
    "        How can I help You?\n",
    "        1. Press 1 to create Pin\n",
    "        2. Press 2 to change Pin\n",
    "        3. Press 3 to check balance\n",
    "        4. Press 4 to withdraw\n",
    "        5. Anything else to exit\n",
    "        \"\"\")\n",
    "        \n",
    "        if user_input == \"1\":\n",
    "            #Create pin\n",
    "            self.create_pin()\n",
    "            \n",
    "        elif user_input == \"2\":\n",
    "            #  change Pin\n",
    "            self.change_pin()\n",
    "            \n",
    "        elif user_input == \"3\":\n",
    "            # Check Balance\n",
    "            self.check_Balance()\n",
    "        elif user_input == \"4\":\n",
    "            #wihdraw\n",
    "            self.withdraw_money()\n",
    "        else:\n",
    "            return\n",
    "    \n",
    "    def create_pin():\n",
    "        user_pin = input(\"Create your Pin:\")\n",
    "        self.pin = user_pin\n",
    "        user_balance = int(input(\"Enter your Balance:\"))\n",
    "        self.balance = user_balance\n",
    "        print(\"Pin Created Successfully\")\n",
    "        self.menu()\n",
    "     \n",
    "    def change_pin(self):\n",
    "        user_pin = input(\"Enter your pin:\")\n",
    "        if user_pin == self.pin:\n",
    "            user_pin = input(\"Enter your new pin:\")\n",
    "            self.pin = user_pin\n",
    "            print(\"Pin changed Successully\")\n",
    "            \n",
    "            self.menu()\n",
    "        else:\n",
    "            print(\"Wrong Pin\")\n",
    "            self.menu()\n",
    "    def check_Balance(self):\n",
    "        user_pin = input(\"Enter Your Pin:\")\n",
    "        if user_pin == self.pin:\n",
    "            #show balance\n",
    "             print(self.balance)\n",
    "        else:\n",
    "            #wrong pin\n",
    "            print(\"Wrong Pin\")\n",
    "       \n",
    "        self.menu()\n",
    "    def withdraw_money(self):\n",
    "        user_pin = input(\"Enter your pin:\")\n",
    "        if user_pin == self.pin:\n",
    "            amt = int(input(\"Enter the amount to withdraw\"))\n",
    "            if amt <= self.balance:\n",
    "                self.balance = self.balance - amt\n",
    "                print(f\"Current Balance:{self.balance}\")\n",
    "            else:\n",
    "                print(\"Insufficient Balance\")\n",
    "        else:\n",
    "            print(\"Chori karta hai madarjaat\")\n",
    "        self.menu()"
   ]
  },
  {
   "cell_type": "code",
   "execution_count": 51,
   "id": "843a234a",
   "metadata": {},
   "outputs": [
    {
     "name": "stdout",
     "output_type": "stream",
     "text": [
      "1368525726912\n"
     ]
    }
   ],
   "source": [
    "obj = ATM()"
   ]
  },
  {
   "cell_type": "code",
   "execution_count": 52,
   "id": "7c7443e1",
   "metadata": {},
   "outputs": [
    {
     "ename": "TypeError",
     "evalue": "create_pin() takes 0 positional arguments but 1 was given",
     "output_type": "error",
     "traceback": [
      "\u001b[1;31m---------------------------------------------------------------------------\u001b[0m",
      "\u001b[1;31mTypeError\u001b[0m                                 Traceback (most recent call last)",
      "Input \u001b[1;32mIn [52]\u001b[0m, in \u001b[0;36m<cell line: 1>\u001b[1;34m()\u001b[0m\n\u001b[1;32m----> 1\u001b[0m \u001b[43mobj\u001b[49m\u001b[38;5;241;43m.\u001b[39;49m\u001b[43mcreate_pin\u001b[49m\u001b[43m(\u001b[49m\u001b[43m)\u001b[49m\n",
      "\u001b[1;31mTypeError\u001b[0m: create_pin() takes 0 positional arguments but 1 was given"
     ]
    }
   ],
   "source": [
    "obj.create_pin()"
   ]
  },
  {
   "cell_type": "markdown",
   "id": "640bf06c",
   "metadata": {},
   "source": [
    " Notice the error , it is saying 0 positional arguements but one was given , when we are defining function we remove self (parameter) , ab isse kya hua humne function ko define kia ki usme kkoi arguements na bhejo .\n",
    " So jab bhi hum method ko call krte hai jaise 'obj.create_pin()' to usme as an arguement khud pass ho jata hai , but humne create_pin me koi paramater dala hi ni , aur islie jab obj.create_pin() call kra ye error aya kunki vo khud as an argurment chla gya"
   ]
  },
  {
   "cell_type": "markdown",
   "id": "26fe5fbb",
   "metadata": {},
   "source": [
    "## Creating our own Data Type 0 - Fraction"
   ]
  },
  {
   "cell_type": "code",
   "execution_count": 10,
   "id": "07bc5861",
   "metadata": {},
   "outputs": [
    {
     "data": {
      "text/plain": [
       "0.375"
      ]
     },
     "execution_count": 10,
     "metadata": {},
     "output_type": "execute_result"
    }
   ],
   "source": [
    "3/4*1/2"
   ]
  },
  {
   "cell_type": "code",
   "execution_count": 53,
   "id": "2e31e380",
   "metadata": {},
   "outputs": [],
   "source": [
    "class Fraction:\n",
    "    \n",
    "    # parameterized constructor\n",
    "    def __init__(self,x , y):\n",
    "        self.num = x\n",
    "        self.den = y"
   ]
  },
  {
   "cell_type": "code",
   "execution_count": 54,
   "id": "30ecdf12",
   "metadata": {},
   "outputs": [],
   "source": [
    "obj = Fraction(2 , 3)"
   ]
  },
  {
   "cell_type": "code",
   "execution_count": 55,
   "id": "c001e3ba",
   "metadata": {},
   "outputs": [
    {
     "name": "stdout",
     "output_type": "stream",
     "text": [
      "<__main__.Fraction object at 0x0000013EA2E9FA00>\n"
     ]
    }
   ],
   "source": [
    "print(obj)"
   ]
  },
  {
   "cell_type": "code",
   "execution_count": 56,
   "id": "3a77d035",
   "metadata": {},
   "outputs": [],
   "source": [
    "# Note - Python don't know how your abj looks like we wanted it show 3/4 .\n",
    "# that's where second magic method comes `__str__`"
   ]
  },
  {
   "cell_type": "markdown",
   "id": "59052295",
   "metadata": {},
   "source": [
    "## 2nd Magic Method  `__str__`\n",
    "\n",
    "- superpower - when calling print function on obj , python must know how your obj looks like , bydefault it will look in this special method called `__str__`\n",
    "- let's see through code"
   ]
  },
  {
   "cell_type": "code",
   "execution_count": 57,
   "id": "17c6630f",
   "metadata": {},
   "outputs": [],
   "source": [
    "class Fraction:\n",
    "    \n",
    "    # parameterized constructor\n",
    "    def __init__(self,x , y):\n",
    "        self.num = x\n",
    "        self.den = y\n",
    "        \n",
    "    def __str__(self):\n",
    "        return \"Kyu Hila dala na\""
   ]
  },
  {
   "cell_type": "code",
   "execution_count": 58,
   "id": "3f86051c",
   "metadata": {},
   "outputs": [],
   "source": [
    "# creating obj - \n",
    "obj = Fraction(2 , 3)"
   ]
  },
  {
   "cell_type": "code",
   "execution_count": 59,
   "id": "44a6f4f3",
   "metadata": {},
   "outputs": [
    {
     "name": "stdout",
     "output_type": "stream",
     "text": [
      "Kyu Hila dala na\n"
     ]
    }
   ],
   "source": [
    "#printing obj\n",
    "print(obj)"
   ]
  },
  {
   "cell_type": "markdown",
   "id": "b6e76309",
   "metadata": {},
   "source": [
    "Notice - WHen you called print function python looked default look inside `__str__` method and return some string , hence that's where you will write your logic"
   ]
  },
  {
   "cell_type": "code",
   "execution_count": 60,
   "id": "554640f9",
   "metadata": {},
   "outputs": [],
   "source": [
    "class Fraction:\n",
    "    \n",
    "    # parameterized constructor\n",
    "    def __init__(self,x , y):\n",
    "        self.num = x\n",
    "        self.den = y\n",
    "        \n",
    "    def __str__(self):\n",
    "        return f\"{self.num}/{self.den}\""
   ]
  },
  {
   "cell_type": "code",
   "execution_count": 61,
   "id": "5617ed17",
   "metadata": {},
   "outputs": [],
   "source": [
    "obj1 = Fraction(2 , 3)\n",
    "obj2 = Fraction(3 , 2)"
   ]
  },
  {
   "cell_type": "code",
   "execution_count": 62,
   "id": "69624f78",
   "metadata": {},
   "outputs": [
    {
     "name": "stdout",
     "output_type": "stream",
     "text": [
      "2/3\n",
      "3/2\n"
     ]
    }
   ],
   "source": [
    "print(obj1)\n",
    "print(obj2)"
   ]
  },
  {
   "cell_type": "markdown",
   "id": "7fdadc0d",
   "metadata": {},
   "source": [
    "### Adding arthimatic features to operate between two fraction obj ex - Addition , Multiplication"
   ]
  },
  {
   "cell_type": "code",
   "execution_count": 63,
   "id": "2dbc730f",
   "metadata": {},
   "outputs": [
    {
     "ename": "TypeError",
     "evalue": "unsupported operand type(s) for +: 'Fraction' and 'Fraction'",
     "output_type": "error",
     "traceback": [
      "\u001b[1;31m---------------------------------------------------------------------------\u001b[0m",
      "\u001b[1;31mTypeError\u001b[0m                                 Traceback (most recent call last)",
      "Input \u001b[1;32mIn [63]\u001b[0m, in \u001b[0;36m<cell line: 1>\u001b[1;34m()\u001b[0m\n\u001b[1;32m----> 1\u001b[0m \u001b[38;5;28mprint\u001b[39m(\u001b[43mobj1\u001b[49m\u001b[43m \u001b[49m\u001b[38;5;241;43m+\u001b[39;49m\u001b[43m \u001b[49m\u001b[43mobj2\u001b[49m)\n",
      "\u001b[1;31mTypeError\u001b[0m: unsupported operand type(s) for +: 'Fraction' and 'Fraction'"
     ]
    }
   ],
   "source": [
    "print(obj1 + obj2)"
   ]
  },
  {
   "cell_type": "code",
   "execution_count": 64,
   "id": "4b92b545",
   "metadata": {},
   "outputs": [],
   "source": [
    "# error because we didn't add logic for adding"
   ]
  },
  {
   "cell_type": "code",
   "execution_count": 65,
   "id": "ff9d45b7",
   "metadata": {},
   "outputs": [],
   "source": [
    "# NOte the error is similar to this watch this error----"
   ]
  },
  {
   "cell_type": "code",
   "execution_count": 66,
   "id": "ebfadb9c",
   "metadata": {},
   "outputs": [
    {
     "ename": "TypeError",
     "evalue": "unsupported operand type(s) for +: 'set' and 'set'",
     "output_type": "error",
     "traceback": [
      "\u001b[1;31m---------------------------------------------------------------------------\u001b[0m",
      "\u001b[1;31mTypeError\u001b[0m                                 Traceback (most recent call last)",
      "Input \u001b[1;32mIn [66]\u001b[0m, in \u001b[0;36m<cell line: 3>\u001b[1;34m()\u001b[0m\n\u001b[0;32m      1\u001b[0m s1 \u001b[38;5;241m=\u001b[39m {\u001b[38;5;241m1\u001b[39m , \u001b[38;5;241m2\u001b[39m, \u001b[38;5;241m3\u001b[39m}\n\u001b[0;32m      2\u001b[0m s2 \u001b[38;5;241m=\u001b[39m {\u001b[38;5;241m4\u001b[39m , \u001b[38;5;241m5\u001b[39m , \u001b[38;5;241m6\u001b[39m}\n\u001b[1;32m----> 3\u001b[0m \u001b[43ms1\u001b[49m\u001b[43m \u001b[49m\u001b[38;5;241;43m+\u001b[39;49m\u001b[43m \u001b[49m\u001b[43ms2\u001b[49m\n",
      "\u001b[1;31mTypeError\u001b[0m: unsupported operand type(s) for +: 'set' and 'set'"
     ]
    }
   ],
   "source": [
    "s1 = {1 , 2, 3}\n",
    "s2 = {4 , 5 , 6}\n",
    "s1 + s2"
   ]
  },
  {
   "cell_type": "code",
   "execution_count": 67,
   "id": "a94fa7cc",
   "metadata": {},
   "outputs": [],
   "source": [
    "# Notice how the both errors are similar , hence you get to know how these obj and their operations are made"
   ]
  },
  {
   "cell_type": "markdown",
   "id": "6d06e9f1",
   "metadata": {},
   "source": [
    "## 3rd Magic Method - `__add__`\n",
    " \n",
    "- superpower - automatically this method will trigger when you add `'+'` sign between 2 objects of this class"
   ]
  },
  {
   "cell_type": "markdown",
   "id": "3919cc36",
   "metadata": {},
   "source": [
    "- to add we need 2 Fraction obj first will go by the name of `self` , the other will be `other` , just for convention you can name it srk and salman too\n"
   ]
  },
  {
   "cell_type": "code",
   "execution_count": 40,
   "id": "863fa7fe",
   "metadata": {},
   "outputs": [],
   "source": [
    "class Fraction:\n",
    "    \n",
    "    # parameterized constructor\n",
    "    def __init__(self,x , y):\n",
    "        self.num = x\n",
    "        self.den = y\n",
    "        \n",
    "    def __str__(self):\n",
    "        return f\"{self.num}/{self.den}\"\n",
    "    \n",
    "    def __add__(self , other):\n",
    "        return \"Kyu hila dala na\""
   ]
  },
  {
   "cell_type": "code",
   "execution_count": 41,
   "id": "34b28023",
   "metadata": {},
   "outputs": [],
   "source": [
    "obj1 = Fraction(2 , 3)\n",
    "obj2 = Fraction(3 , 4)"
   ]
  },
  {
   "cell_type": "code",
   "execution_count": 42,
   "id": "9b3f0128",
   "metadata": {},
   "outputs": [
    {
     "data": {
      "text/plain": [
       "'Kyu hila dala na'"
      ]
     },
     "execution_count": 42,
     "metadata": {},
     "output_type": "execute_result"
    }
   ],
   "source": [
    "obj1 + obj2"
   ]
  },
  {
   "cell_type": "markdown",
   "id": "c575c936",
   "metadata": {},
   "source": [
    "When you are adding `+` the obj1 will go to self parameter as an arguement , and obj2 will go to other\n",
    "- Time to Write logic for adding two fractions"
   ]
  },
  {
   "cell_type": "code",
   "execution_count": 75,
   "id": "e3c8351b",
   "metadata": {},
   "outputs": [],
   "source": [
    "class Fraction:\n",
    "    \n",
    "    # parameterized constructor\n",
    "    def __init__(self,x , y):\n",
    "        self.num = x\n",
    "        self.den = y\n",
    "        \n",
    "    def __str__(self):\n",
    "        return f\"{self.num}/{self.den}\"\n",
    "    \n",
    "    def __add__(self , other):\n",
    "        new_num = self.num*other.den + self.den*other.num\n",
    "        new_den = self.den*other.den\n",
    "        return f\"{new_num}/{new_den}\"\n",
    "    "
   ]
  },
  {
   "cell_type": "code",
   "execution_count": 76,
   "id": "6096791f",
   "metadata": {},
   "outputs": [
    {
     "name": "stdout",
     "output_type": "stream",
     "text": [
      "2/3\n",
      "3/2\n",
      "13/6\n"
     ]
    }
   ],
   "source": [
    "obj1 = Fraction(2 , 3)\n",
    "obj2 = Fraction(3 , 2)\n",
    "print(obj1)\n",
    "print(obj2)\n",
    "print(obj1 + obj2)"
   ]
  },
  {
   "cell_type": "markdown",
   "id": "58223dfd",
   "metadata": {},
   "source": [
    "## 4th Magic Method - `__sub__`\n",
    " \n",
    "- superpower - automatically this method will trigger when you add `'-'` sign between 2 objects of this class"
   ]
  },
  {
   "cell_type": "code",
   "execution_count": 77,
   "id": "31d9e53d",
   "metadata": {},
   "outputs": [],
   "source": [
    "class Fraction:\n",
    "    \n",
    "    # parameterized constructor\n",
    "    def __init__(self,x , y):\n",
    "        self.num = x\n",
    "        self.den = y\n",
    "        \n",
    "    def __str__(self):\n",
    "        return f\"{self.num}/{self.den}\"\n",
    "    \n",
    "    def __add__(self , other):\n",
    "        new_num = self.num*other.den + self.den*other.num\n",
    "        new_den = self.den*other.den\n",
    "        return f\"{new_num}/{new_den}\"\n",
    "    def __sub__(self, other):\n",
    "        new_num = self.num*other.den - self.den*other.num\n",
    "        new_den = self.den*other.den\n",
    "        return f\"{new_num}/{new_den}\"\n",
    "        "
   ]
  },
  {
   "cell_type": "code",
   "execution_count": 78,
   "id": "d3bdcb27",
   "metadata": {},
   "outputs": [
    {
     "name": "stdout",
     "output_type": "stream",
     "text": [
      "2/3\n",
      "3/2\n",
      "-5/6\n"
     ]
    }
   ],
   "source": [
    "obj1 = Fraction(2 , 3)\n",
    "obj2 = Fraction(3 , 2)\n",
    "print(obj1)\n",
    "print(obj2)\n",
    "print(obj1 - obj2)"
   ]
  },
  {
   "cell_type": "markdown",
   "id": "9c19cf1f",
   "metadata": {},
   "source": [
    "## 5th Magic Method - `__mul__`\n",
    " \n",
    "- superpower - automatically this method will trigger when you add `'*'` sign between 2 objects of this class"
   ]
  },
  {
   "cell_type": "code",
   "execution_count": 79,
   "id": "574c9289",
   "metadata": {},
   "outputs": [],
   "source": [
    "class Fraction:\n",
    "    \n",
    "    # parameterized constructor\n",
    "    def __init__(self,x , y):\n",
    "        self.num = x\n",
    "        self.den = y\n",
    "        \n",
    "    def __str__(self):\n",
    "        return f\"{self.num}/{self.den}\"\n",
    "    \n",
    "    def __add__(self , other):\n",
    "        new_num = self.num*other.den + self.den*other.num\n",
    "        new_den = self.den*other.den\n",
    "        return f\"{new_num}/{new_den}\"\n",
    "    def __sub__(self, other):\n",
    "        new_num = self.num*other.den - self.den*other.num\n",
    "        new_den = self.den*other.den\n",
    "        return f\"{new_num}/{new_den}\"\n",
    "    def __mul__(self , other):\n",
    "        new_num = self.num*other.num\n",
    "        new_den = self.den*other.den\n",
    "        return f\"{new_num}/{new_den}\"\n"
   ]
  },
  {
   "cell_type": "code",
   "execution_count": 80,
   "id": "ec0058a7",
   "metadata": {},
   "outputs": [
    {
     "name": "stdout",
     "output_type": "stream",
     "text": [
      "2/3\n",
      "3/2\n",
      "6/6\n"
     ]
    }
   ],
   "source": [
    "obj1 = Fraction(2 , 3)\n",
    "obj2 = Fraction(3 , 2)\n",
    "print(obj1)\n",
    "print(obj2)\n",
    "print(obj1*obj2)"
   ]
  },
  {
   "cell_type": "markdown",
   "id": "2e547193",
   "metadata": {},
   "source": [
    "## 6th Magic Method - `__truediv__`\n",
    " \n",
    "- superpower - automatically this method will trigger when you add `'/'` sign between 2 objects of this class"
   ]
  },
  {
   "cell_type": "code",
   "execution_count": 82,
   "id": "abfdc7c3",
   "metadata": {},
   "outputs": [],
   "source": [
    "class Fraction:\n",
    "    \n",
    "    # parameterized constructor\n",
    "    def __init__(self,x , y):\n",
    "        self.num = x\n",
    "        self.den = y\n",
    "        \n",
    "    def __str__(self):\n",
    "        return f\"{self.num}/{self.den}\"\n",
    "    \n",
    "    def __add__(self , other):\n",
    "        new_num = self.num*other.den + self.den*other.num\n",
    "        new_den = self.den*other.den\n",
    "        return f\"{new_num}/{new_den}\"\n",
    "    def __sub__(self, other):\n",
    "        new_num = self.num*other.den - self.den*other.num\n",
    "        new_den = self.den*other.den\n",
    "        return f\"{new_num}/{new_den}\"\n",
    "    def __mul__(self , other):\n",
    "        new_num = self.num*other.num\n",
    "        new_den = self.den*other.den\n",
    "        return f\"{new_num}/{new_den}\"\n",
    "    \n",
    "    def __truediv__(self , other):\n",
    "        new_num = self.num*other.den\n",
    "        new_den = self.den*other.num\n",
    "        return f\"{new_num}/{new_den}\""
   ]
  },
  {
   "cell_type": "code",
   "execution_count": 83,
   "id": "df5769a2",
   "metadata": {},
   "outputs": [
    {
     "name": "stdout",
     "output_type": "stream",
     "text": [
      "2/3\n",
      "3/2\n",
      "4/9\n"
     ]
    }
   ],
   "source": [
    "obj1 = Fraction(2 , 3)\n",
    "obj2 = Fraction(3 , 2)\n",
    "print(obj1)\n",
    "print(obj2)\n",
    "print(obj1/obj2)"
   ]
  },
  {
   "cell_type": "markdown",
   "id": "6d2e42a1",
   "metadata": {},
   "source": [
    "- Can also create more methods such as convert to decimal"
   ]
  },
  {
   "cell_type": "code",
   "execution_count": 84,
   "id": "9dd46048",
   "metadata": {},
   "outputs": [],
   "source": [
    "class Fraction:\n",
    "    \n",
    "    # parameterized constructor\n",
    "    def __init__(self,x , y):\n",
    "        self.num = x\n",
    "        self.den = y\n",
    "        \n",
    "    def __str__(self):\n",
    "        return f\"{self.num}/{self.den}\"\n",
    "    \n",
    "    def __add__(self , other):\n",
    "        new_num = self.num*other.den + self.den*other.num\n",
    "        new_den = self.den*other.den\n",
    "        return f\"{new_num}/{new_den}\"\n",
    "    def __sub__(self, other):\n",
    "        new_num = self.num*other.den - self.den*other.num\n",
    "        new_den = self.den*other.den\n",
    "        return f\"{new_num}/{new_den}\"\n",
    "    def __mul__(self , other):\n",
    "        new_num = self.num*other.num\n",
    "        new_den = self.den*other.den\n",
    "        return f\"{new_num}/{new_den}\"\n",
    "    \n",
    "    def __truediv__(self , other):\n",
    "        new_num = self.num*other.den\n",
    "        new_den = self.den*other.num\n",
    "        return f\"{new_num}/{new_den}\"\n",
    "    \n",
    "    def convert_to_decimal(self):\n",
    "        return self.num/self.den"
   ]
  },
  {
   "cell_type": "code",
   "execution_count": 85,
   "id": "f3ad8dc1",
   "metadata": {},
   "outputs": [
    {
     "name": "stdout",
     "output_type": "stream",
     "text": [
      "10/5\n",
      "2.0\n"
     ]
    }
   ],
   "source": [
    "obj = Fraction(10 , 5)\n",
    "print(obj)\n",
    "print(obj.convert_to_decimal())"
   ]
  },
  {
   "cell_type": "code",
   "execution_count": 86,
   "id": "bd989a9c",
   "metadata": {},
   "outputs": [],
   "source": [
    "class Fraction:\n",
    "    def __init__(self , x , y):\n",
    "        self.num = x\n",
    "        self.den = y\n",
    "        \n",
    "    def __str__(self):\n",
    "        return f\"{self.num}/{self.den}\"\n",
    "    \n",
    "    def __add__(self , other):\n",
    "        num = (self.num*other.den) + (self.den*other.num)\n",
    "        den = self.den*other.den\n",
    "        return f\"{num}/{den}\"\n",
    "    \n",
    "    def __sub__(self , other):\n",
    "        num = (self.num*other.den) - (self.den*other.num)\n",
    "        den = self.den*other.den\n",
    "        return f\"{num}/{den}\"\n",
    "    def __mul__(self , other):\n",
    "        num = self.num*other.num\n",
    "        den = self.den*other.den\n",
    "        return f\"{num}/{den}\"\n",
    "        \n",
    "    def __truediv__(self , other):\n",
    "        \n",
    "        num = self.num*other.den\n",
    "        den  =self.den*other.num\n",
    "        return f\"{num}/{den}\"\n",
    "    def convert_to_decimal(self):\n",
    "        return f\"{self.num/self.den}\""
   ]
  },
  {
   "cell_type": "code",
   "execution_count": 91,
   "id": "2f337d4e",
   "metadata": {},
   "outputs": [
    {
     "name": "stdout",
     "output_type": "stream",
     "text": [
      "2/2\n",
      "2/2\n",
      "8/4\n",
      "0/4\n",
      "4/4\n",
      "4/4\n"
     ]
    }
   ],
   "source": [
    "f1 = Fraction(2 , 2)\n",
    "f2 = Fraction(2  , 2)\n",
    "print(f1)\n",
    "print(f2)\n",
    "print(f1 + f2)\n",
    "print(f1 - f2)\n",
    "print(f1*f2)\n",
    "print(f1/f2)"
   ]
  },
  {
   "cell_type": "code",
   "execution_count": null,
   "id": "d001ddf6",
   "metadata": {},
   "outputs": [],
   "source": []
  }
 ],
 "metadata": {
  "kernelspec": {
   "display_name": "Python 3 (ipykernel)",
   "language": "python",
   "name": "python3"
  },
  "language_info": {
   "codemirror_mode": {
    "name": "ipython",
    "version": 3
   },
   "file_extension": ".py",
   "mimetype": "text/x-python",
   "name": "python",
   "nbconvert_exporter": "python",
   "pygments_lexer": "ipython3",
   "version": "3.9.12"
  }
 },
 "nbformat": 4,
 "nbformat_minor": 5
}
