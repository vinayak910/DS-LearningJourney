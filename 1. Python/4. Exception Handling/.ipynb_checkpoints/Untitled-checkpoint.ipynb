{
 "cells": [
  {
   "cell_type": "markdown",
   "id": "96bc30db",
   "metadata": {},
   "source": [
    "There are 2 stages where error may happen in a program\n",
    "\n",
    "- During compilation -> Syntax Error\n",
    "- During execution -> Exceptions"
   ]
  },
  {
   "cell_type": "markdown",
   "id": "ce6c5aaf",
   "metadata": {},
   "source": [
    "### Syntax Error\n",
    "\n",
    "- Something in the program is not written according to the program grammar.\n",
    "- Error is raised by the interpreter/compiler\n",
    "- You can solve it by rectifying the program\n"
   ]
  },
  {
   "cell_type": "code",
   "execution_count": 1,
   "id": "cc8bfdfb",
   "metadata": {},
   "outputs": [
    {
     "ename": "SyntaxError",
     "evalue": "Missing parentheses in call to 'print'. Did you mean print('hello world')? (528539990.py, line 2)",
     "output_type": "error",
     "traceback": [
      "\u001b[1;36m  Input \u001b[1;32mIn [1]\u001b[1;36m\u001b[0m\n\u001b[1;33m    print 'hello world'\u001b[0m\n\u001b[1;37m          ^\u001b[0m\n\u001b[1;31mSyntaxError\u001b[0m\u001b[1;31m:\u001b[0m Missing parentheses in call to 'print'. Did you mean print('hello world')?\n"
     ]
    }
   ],
   "source": [
    "# Examples of syntax error\n",
    "print 'hello world'"
   ]
  },
  {
   "cell_type": "markdown",
   "id": "46b79335",
   "metadata": {},
   "source": [
    "### Other examples of syntax error\n",
    "\n",
    "- Leaving symbols like colon,brackets\n",
    "- Misspelling a keyword\n",
    "- Incorrect indentation\n",
    "- empty if/else/loops/class/functions"
   ]
  },
  {
   "cell_type": "code",
   "execution_count": 2,
   "id": "a97caea9",
   "metadata": {},
   "outputs": [
    {
     "ename": "SyntaxError",
     "evalue": "invalid syntax (3315782095.py, line 2)",
     "output_type": "error",
     "traceback": [
      "\u001b[1;36m  Input \u001b[1;32mIn [2]\u001b[1;36m\u001b[0m\n\u001b[1;33m    if a==3\u001b[0m\n\u001b[1;37m           ^\u001b[0m\n\u001b[1;31mSyntaxError\u001b[0m\u001b[1;31m:\u001b[0m invalid syntax\n"
     ]
    }
   ],
   "source": [
    "a = 5\n",
    "if a==3\n",
    "  print('hello')"
   ]
  },
  {
   "cell_type": "code",
   "execution_count": 3,
   "id": "413e0a60",
   "metadata": {},
   "outputs": [
    {
     "ename": "SyntaxError",
     "evalue": "invalid syntax (521424995.py, line 2)",
     "output_type": "error",
     "traceback": [
      "\u001b[1;36m  Input \u001b[1;32mIn [3]\u001b[1;36m\u001b[0m\n\u001b[1;33m    iff a==3:\u001b[0m\n\u001b[1;37m        ^\u001b[0m\n\u001b[1;31mSyntaxError\u001b[0m\u001b[1;31m:\u001b[0m invalid syntax\n"
     ]
    }
   ],
   "source": [
    "a = 5\n",
    "iff a==3:\n",
    "  print('hello')"
   ]
  },
  {
   "cell_type": "code",
   "execution_count": 4,
   "id": "ca26ce99",
   "metadata": {},
   "outputs": [
    {
     "ename": "IndentationError",
     "evalue": "expected an indented block (3610895221.py, line 3)",
     "output_type": "error",
     "traceback": [
      "\u001b[1;36m  Input \u001b[1;32mIn [4]\u001b[1;36m\u001b[0m\n\u001b[1;33m    print('hello')\u001b[0m\n\u001b[1;37m    ^\u001b[0m\n\u001b[1;31mIndentationError\u001b[0m\u001b[1;31m:\u001b[0m expected an indented block\n"
     ]
    }
   ],
   "source": [
    "a = 5\n",
    "if a==3:\n",
    "print('hello')"
   ]
  },
  {
   "cell_type": "code",
   "execution_count": 5,
   "id": "aec0f5a2",
   "metadata": {},
   "outputs": [
    {
     "ename": "IndexError",
     "evalue": "list index out of range",
     "output_type": "error",
     "traceback": [
      "\u001b[1;31m---------------------------------------------------------------------------\u001b[0m",
      "\u001b[1;31mIndexError\u001b[0m                                Traceback (most recent call last)",
      "Input \u001b[1;32mIn [5]\u001b[0m, in \u001b[0;36m<cell line: 4>\u001b[1;34m()\u001b[0m\n\u001b[0;32m      1\u001b[0m \u001b[38;5;66;03m# IndexError\u001b[39;00m\n\u001b[0;32m      2\u001b[0m \u001b[38;5;66;03m# The IndexError is thrown when trying to access an item at an invalid index.\u001b[39;00m\n\u001b[0;32m      3\u001b[0m L \u001b[38;5;241m=\u001b[39m [\u001b[38;5;241m1\u001b[39m,\u001b[38;5;241m2\u001b[39m,\u001b[38;5;241m3\u001b[39m]\n\u001b[1;32m----> 4\u001b[0m \u001b[43mL\u001b[49m\u001b[43m[\u001b[49m\u001b[38;5;241;43m100\u001b[39;49m\u001b[43m]\u001b[49m\n",
      "\u001b[1;31mIndexError\u001b[0m: list index out of range"
     ]
    }
   ],
   "source": [
    "# IndexError\n",
    "# The IndexError is thrown when trying to access an item at an invalid index.\n",
    "L = [1,2,3]\n",
    "L[100]"
   ]
  },
  {
   "cell_type": "code",
   "execution_count": 6,
   "id": "7e4cd90e",
   "metadata": {},
   "outputs": [
    {
     "ename": "ModuleNotFoundError",
     "evalue": "No module named 'mathi'",
     "output_type": "error",
     "traceback": [
      "\u001b[1;31m---------------------------------------------------------------------------\u001b[0m",
      "\u001b[1;31mModuleNotFoundError\u001b[0m                       Traceback (most recent call last)",
      "Input \u001b[1;32mIn [6]\u001b[0m, in \u001b[0;36m<cell line: 3>\u001b[1;34m()\u001b[0m\n\u001b[0;32m      1\u001b[0m \u001b[38;5;66;03m# ModuleNotFoundError\u001b[39;00m\n\u001b[0;32m      2\u001b[0m \u001b[38;5;66;03m# The ModuleNotFoundError is thrown when a module could not be found.\u001b[39;00m\n\u001b[1;32m----> 3\u001b[0m \u001b[38;5;28;01mimport\u001b[39;00m \u001b[38;5;21;01mmathi\u001b[39;00m\n\u001b[0;32m      4\u001b[0m math\u001b[38;5;241m.\u001b[39mfloor(\u001b[38;5;241m5.3\u001b[39m)\n",
      "\u001b[1;31mModuleNotFoundError\u001b[0m: No module named 'mathi'"
     ]
    }
   ],
   "source": [
    "# ModuleNotFoundError\n",
    "# The ModuleNotFoundError is thrown when a module could not be found.\n",
    "import mathi\n",
    "math.floor(5.3)"
   ]
  },
  {
   "cell_type": "code",
   "execution_count": 7,
   "id": "f3e06ead",
   "metadata": {},
   "outputs": [
    {
     "ename": "KeyError",
     "evalue": "'age'",
     "output_type": "error",
     "traceback": [
      "\u001b[1;31m---------------------------------------------------------------------------\u001b[0m",
      "\u001b[1;31mKeyError\u001b[0m                                  Traceback (most recent call last)",
      "Input \u001b[1;32mIn [7]\u001b[0m, in \u001b[0;36m<cell line: 5>\u001b[1;34m()\u001b[0m\n\u001b[0;32m      1\u001b[0m \u001b[38;5;66;03m# KeyError\u001b[39;00m\n\u001b[0;32m      2\u001b[0m \u001b[38;5;66;03m# The KeyError is thrown when a key is not found\u001b[39;00m\n\u001b[0;32m      4\u001b[0m d \u001b[38;5;241m=\u001b[39m {\u001b[38;5;124m'\u001b[39m\u001b[38;5;124mname\u001b[39m\u001b[38;5;124m'\u001b[39m:\u001b[38;5;124m'\u001b[39m\u001b[38;5;124mnitish\u001b[39m\u001b[38;5;124m'\u001b[39m}\n\u001b[1;32m----> 5\u001b[0m \u001b[43md\u001b[49m\u001b[43m[\u001b[49m\u001b[38;5;124;43m'\u001b[39;49m\u001b[38;5;124;43mage\u001b[39;49m\u001b[38;5;124;43m'\u001b[39;49m\u001b[43m]\u001b[49m\n",
      "\u001b[1;31mKeyError\u001b[0m: 'age'"
     ]
    }
   ],
   "source": [
    "# KeyError\n",
    "# The KeyError is thrown when a key is not found\n",
    "\n",
    "d = {'name':'nitish'}\n",
    "d['age']"
   ]
  },
  {
   "cell_type": "code",
   "execution_count": 8,
   "id": "88a4a583",
   "metadata": {},
   "outputs": [
    {
     "ename": "TypeError",
     "evalue": "unsupported operand type(s) for +: 'int' and 'str'",
     "output_type": "error",
     "traceback": [
      "\u001b[1;31m---------------------------------------------------------------------------\u001b[0m",
      "\u001b[1;31mTypeError\u001b[0m                                 Traceback (most recent call last)",
      "Input \u001b[1;32mIn [8]\u001b[0m, in \u001b[0;36m<cell line: 3>\u001b[1;34m()\u001b[0m\n\u001b[0;32m      1\u001b[0m \u001b[38;5;66;03m# TypeError\u001b[39;00m\n\u001b[0;32m      2\u001b[0m \u001b[38;5;66;03m# The TypeError is thrown when an operation or function is applied to an object of an inappropriate type.\u001b[39;00m\n\u001b[1;32m----> 3\u001b[0m \u001b[38;5;241;43m1\u001b[39;49m\u001b[43m \u001b[49m\u001b[38;5;241;43m+\u001b[39;49m\u001b[43m \u001b[49m\u001b[38;5;124;43m'\u001b[39;49m\u001b[38;5;124;43ma\u001b[39;49m\u001b[38;5;124;43m'\u001b[39;49m\n",
      "\u001b[1;31mTypeError\u001b[0m: unsupported operand type(s) for +: 'int' and 'str'"
     ]
    }
   ],
   "source": [
    "# TypeError\n",
    "# The TypeError is thrown when an operation or function is applied to an object of an inappropriate type.\n",
    "1 + 'a'"
   ]
  },
  {
   "cell_type": "code",
   "execution_count": 9,
   "id": "0d9b3cb5",
   "metadata": {},
   "outputs": [
    {
     "ename": "ValueError",
     "evalue": "invalid literal for int() with base 10: 'a'",
     "output_type": "error",
     "traceback": [
      "\u001b[1;31m---------------------------------------------------------------------------\u001b[0m",
      "\u001b[1;31mValueError\u001b[0m                                Traceback (most recent call last)",
      "Input \u001b[1;32mIn [9]\u001b[0m, in \u001b[0;36m<cell line: 3>\u001b[1;34m()\u001b[0m\n\u001b[0;32m      1\u001b[0m \u001b[38;5;66;03m# ValueError\u001b[39;00m\n\u001b[0;32m      2\u001b[0m \u001b[38;5;66;03m# The ValueError is thrown when a function's argument is of an inappropriate type.\u001b[39;00m\n\u001b[1;32m----> 3\u001b[0m \u001b[38;5;28;43mint\u001b[39;49m\u001b[43m(\u001b[49m\u001b[38;5;124;43m'\u001b[39;49m\u001b[38;5;124;43ma\u001b[39;49m\u001b[38;5;124;43m'\u001b[39;49m\u001b[43m)\u001b[49m\n",
      "\u001b[1;31mValueError\u001b[0m: invalid literal for int() with base 10: 'a'"
     ]
    }
   ],
   "source": [
    "# ValueError\n",
    "# The ValueError is thrown when a function's argument is of an inappropriate type.\n",
    "int('a')"
   ]
  },
  {
   "cell_type": "code",
   "execution_count": 10,
   "id": "f714791b",
   "metadata": {},
   "outputs": [
    {
     "ename": "NameError",
     "evalue": "name 'k' is not defined",
     "output_type": "error",
     "traceback": [
      "\u001b[1;31m---------------------------------------------------------------------------\u001b[0m",
      "\u001b[1;31mNameError\u001b[0m                                 Traceback (most recent call last)",
      "Input \u001b[1;32mIn [10]\u001b[0m, in \u001b[0;36m<cell line: 3>\u001b[1;34m()\u001b[0m\n\u001b[0;32m      1\u001b[0m \u001b[38;5;66;03m# NameError\u001b[39;00m\n\u001b[0;32m      2\u001b[0m \u001b[38;5;66;03m# The NameError is thrown when an object could not be found.\u001b[39;00m\n\u001b[1;32m----> 3\u001b[0m \u001b[38;5;28mprint\u001b[39m(\u001b[43mk\u001b[49m)\n",
      "\u001b[1;31mNameError\u001b[0m: name 'k' is not defined"
     ]
    }
   ],
   "source": [
    "# NameError\n",
    "# The NameError is thrown when an object could not be found.\n",
    "print(k)"
   ]
  },
  {
   "cell_type": "code",
   "execution_count": 11,
   "id": "0b4bd49f",
   "metadata": {},
   "outputs": [
    {
     "ename": "AttributeError",
     "evalue": "'list' object has no attribute 'upper'",
     "output_type": "error",
     "traceback": [
      "\u001b[1;31m---------------------------------------------------------------------------\u001b[0m",
      "\u001b[1;31mAttributeError\u001b[0m                            Traceback (most recent call last)",
      "Input \u001b[1;32mIn [11]\u001b[0m, in \u001b[0;36m<cell line: 3>\u001b[1;34m()\u001b[0m\n\u001b[0;32m      1\u001b[0m \u001b[38;5;66;03m# AttributeError\u001b[39;00m\n\u001b[0;32m      2\u001b[0m L \u001b[38;5;241m=\u001b[39m [\u001b[38;5;241m1\u001b[39m,\u001b[38;5;241m2\u001b[39m,\u001b[38;5;241m3\u001b[39m]\n\u001b[1;32m----> 3\u001b[0m \u001b[43mL\u001b[49m\u001b[38;5;241;43m.\u001b[39;49m\u001b[43mupper\u001b[49m()\n",
      "\u001b[1;31mAttributeError\u001b[0m: 'list' object has no attribute 'upper'"
     ]
    }
   ],
   "source": [
    "# AttributeError\n",
    "L = [1,2,3]\n",
    "L.upper()\n",
    "\n",
    "# Stacktrace"
   ]
  },
  {
   "cell_type": "markdown",
   "id": "17f7cb7b",
   "metadata": {},
   "source": [
    "The abovea all are compilation errors"
   ]
  },
  {
   "cell_type": "markdown",
   "id": "f63a02d7",
   "metadata": {},
   "source": [
    "### Exceptions\n",
    "\n",
    "If things go wrong during the execution of the program(runtime). It generally happens when something unforeseen has happened.These errors can't be identified by compilers. Instead they are logical errors\n",
    "\n",
    "- Exceptions are raised by python runtime\n",
    "- You have to takle is on the fly\n",
    "\n",
    "#### **Examples**\n",
    "\n",
    "- Memory overflow\n",
    "- Divide by 0 -> logical error\n",
    "- Database error\n",
    "- Now to handle those exceptions are called exception handling"
   ]
  },
  {
   "cell_type": "markdown",
   "id": "b7561e0b",
   "metadata": {},
   "source": [
    "- Why is it important to handle exceptions?\n",
    "- But before that lets undertand the horrible message what does it indicate?\n"
   ]
  },
  {
   "cell_type": "code",
   "execution_count": 12,
   "id": "824270a7",
   "metadata": {},
   "outputs": [
    {
     "ename": "AttributeError",
     "evalue": "'list' object has no attribute 'upper'",
     "output_type": "error",
     "traceback": [
      "\u001b[1;31m---------------------------------------------------------------------------\u001b[0m",
      "\u001b[1;31mAttributeError\u001b[0m                            Traceback (most recent call last)",
      "Input \u001b[1;32mIn [12]\u001b[0m, in \u001b[0;36m<cell line: 3>\u001b[1;34m()\u001b[0m\n\u001b[0;32m      1\u001b[0m \u001b[38;5;66;03m# AttributeError\u001b[39;00m\n\u001b[0;32m      2\u001b[0m L \u001b[38;5;241m=\u001b[39m [\u001b[38;5;241m1\u001b[39m,\u001b[38;5;241m2\u001b[39m,\u001b[38;5;241m3\u001b[39m]\n\u001b[1;32m----> 3\u001b[0m \u001b[43mL\u001b[49m\u001b[38;5;241;43m.\u001b[39;49m\u001b[43mupper\u001b[49m()\n",
      "\u001b[1;31mAttributeError\u001b[0m: 'list' object has no attribute 'upper'"
     ]
    }
   ],
   "source": [
    "# AttributeError\n",
    "L = [1,2,3]\n",
    "L.upper()\n",
    "\n",
    "# Stacktrace"
   ]
  },
  {
   "cell_type": "markdown",
   "id": "2244fadb",
   "metadata": {},
   "source": [
    "so the red color and whole message when code failed is called stacktrace\n",
    "- By these python tell programmers that there is some error . and give hints . By telling this points,\n",
    "- type of error\n",
    "- line number of error\n",
    "- explaination of error\n",
    "- file in which error occured\n",
    "- **Basically its a good thing for programmers but what if they are seen by user , then it would be bad thing**\n",
    "- first of all it is too technical and make user experiience bad\n",
    "- second reason - security - to protect it from hacker\n"
   ]
  },
  {
   "cell_type": "markdown",
   "id": "bf219301",
   "metadata": {},
   "source": [
    "how to handle exceptions?\n",
    "- Try except block\n",
    "- Whenever you feel that a piece of code can go wrong you put it in try and if there is something wrong the handling thing would be in except. That's it"
   ]
  },
  {
   "cell_type": "code",
   "execution_count": 13,
   "id": "ed826319",
   "metadata": {},
   "outputs": [],
   "source": [
    "with open(\"sample.txt\" , \"w\") as f:\n",
    "    f.write(\"HelloWorld\")"
   ]
  },
  {
   "cell_type": "code",
   "execution_count": 15,
   "id": "343653cd",
   "metadata": {},
   "outputs": [
    {
     "name": "stdout",
     "output_type": "stream",
     "text": [
      "HelloWorld\n"
     ]
    }
   ],
   "source": [
    "with open(\"sample.txt\" , \"r\") as f:\n",
    "        print(f.read())"
   ]
  },
  {
   "cell_type": "markdown",
   "id": "d7a0807b",
   "metadata": {},
   "source": [
    "Experience programmer would understand which line can cause an error , and then he would use try except"
   ]
  },
  {
   "cell_type": "code",
   "execution_count": 16,
   "id": "09668f43",
   "metadata": {},
   "outputs": [
    {
     "ename": "FileNotFoundError",
     "evalue": "[Errno 2] No such file or directory: 'sample1.txt'",
     "output_type": "error",
     "traceback": [
      "\u001b[1;31m---------------------------------------------------------------------------\u001b[0m",
      "\u001b[1;31mFileNotFoundError\u001b[0m                         Traceback (most recent call last)",
      "Input \u001b[1;32mIn [16]\u001b[0m, in \u001b[0;36m<cell line: 1>\u001b[1;34m()\u001b[0m\n\u001b[1;32m----> 1\u001b[0m \u001b[38;5;28;01mwith\u001b[39;00m \u001b[38;5;28;43mopen\u001b[39;49m\u001b[43m(\u001b[49m\u001b[38;5;124;43m\"\u001b[39;49m\u001b[38;5;124;43msample1.txt\u001b[39;49m\u001b[38;5;124;43m\"\u001b[39;49m\u001b[43m \u001b[49m\u001b[43m,\u001b[49m\u001b[43m \u001b[49m\u001b[38;5;124;43m\"\u001b[39;49m\u001b[38;5;124;43mr\u001b[39;49m\u001b[38;5;124;43m\"\u001b[39;49m\u001b[43m)\u001b[49m \u001b[38;5;28;01mas\u001b[39;00m f:\n\u001b[0;32m      2\u001b[0m         \u001b[38;5;28mprint\u001b[39m(f\u001b[38;5;241m.\u001b[39mread())\n",
      "\u001b[1;31mFileNotFoundError\u001b[0m: [Errno 2] No such file or directory: 'sample1.txt'"
     ]
    }
   ],
   "source": [
    "with open(\"sample1.txt\" , \"r\") as f:\n",
    "        print(f.read())"
   ]
  },
  {
   "cell_type": "markdown",
   "id": "f68ec288",
   "metadata": {},
   "source": [
    "to prevent it use try an except"
   ]
  },
  {
   "cell_type": "code",
   "execution_count": 17,
   "id": "de689f8a",
   "metadata": {},
   "outputs": [
    {
     "name": "stdout",
     "output_type": "stream",
     "text": [
      "Sorry , file not found\n"
     ]
    }
   ],
   "source": [
    "try:\n",
    "    with open(\"sample1.txt\" , \"r\") as f:\n",
    "        print(f.read())\n",
    "except:\n",
    "    print(\"Sorry , file not found\")"
   ]
  },
  {
   "cell_type": "markdown",
   "id": "606c9341",
   "metadata": {},
   "source": [
    "## Catching specific Exception\n",
    "\n",
    "- it may be possible in the lines you wrote there can be multiple errors\n",
    "- so rather than writing same things for all diff errors , you should be more specific"
   ]
  },
  {
   "cell_type": "code",
   "execution_count": 19,
   "id": "3ebc984a",
   "metadata": {},
   "outputs": [
    {
     "name": "stdout",
     "output_type": "stream",
     "text": [
      "HelloWorld\n",
      "Some Error Occured\n"
     ]
    }
   ],
   "source": [
    "try:\n",
    "    f = open(\"sample.txt\" , 'r')\n",
    "    print(f.read())\n",
    "    print(m)\n",
    "except:\n",
    "    print(\"Some Error Occured\")"
   ]
  },
  {
   "cell_type": "markdown",
   "id": "3c73f0a0",
   "metadata": {},
   "source": [
    "- You should always tell user , what is the problem and which error has been occured.\n",
    "- like in the above case , there are two types of error you will write two different except blocks to point out these errors"
   ]
  },
  {
   "cell_type": "markdown",
   "id": "04d4acd6",
   "metadata": {},
   "source": [
    "**for different types of error we will write different excepts block**"
   ]
  },
  {
   "cell_type": "code",
   "execution_count": 20,
   "id": "75dedec9",
   "metadata": {},
   "outputs": [
    {
     "name": "stdout",
     "output_type": "stream",
     "text": [
      "Some Error Occured\n"
     ]
    }
   ],
   "source": [
    "try:\n",
    "    f = open(\"sample1.txt\" , 'r') # ----> FileNotFoundError\n",
    "    print(f.read())\n",
    "    print(m) # let's say you don't know the error , so first try finding out the name of error\n",
    "except:\n",
    "    print(\"Some Error Occured\")"
   ]
  },
  {
   "cell_type": "markdown",
   "id": "3278ac22",
   "metadata": {},
   "source": [
    "You can found the type of error by doing this code , and after finding , then you should write specific exception for that error type"
   ]
  },
  {
   "cell_type": "code",
   "execution_count": 24,
   "id": "1f57ed0a",
   "metadata": {},
   "outputs": [
    {
     "name": "stdout",
     "output_type": "stream",
     "text": [
      "HelloWorld\n",
      "<built-in method with_traceback of NameError object at 0x00000152C988D400>\n"
     ]
    }
   ],
   "source": [
    "try:\n",
    "    f = open(\"sample.txt\" , 'r')\n",
    "    print(f.read())\n",
    "    print(m)\n",
    "except Exception as e: #-----> to find the type of error\n",
    "    print(e.with_traceback)\n",
    "   "
   ]
  },
  {
   "cell_type": "markdown",
   "id": "55f2f9e8",
   "metadata": {},
   "source": [
    "- Since in this case you didn't know the print(m) you used the above code\n",
    "- now write the specific exception"
   ]
  },
  {
   "cell_type": "code",
   "execution_count": 28,
   "id": "e68eb3da",
   "metadata": {},
   "outputs": [
    {
     "name": "stdout",
     "output_type": "stream",
     "text": [
      "HelloWorld\n",
      "Variable not defined\n"
     ]
    }
   ],
   "source": [
    "try:\n",
    "    f = open(\"sample.txt\" , 'r')\n",
    "    print(f.read())\n",
    "    print(m)\n",
    "except FileNotFoundError:\n",
    "    print(\"Sorry , File not found\")\n",
    "except NameError:\n",
    "    print(\"Variable not defined\")"
   ]
  },
  {
   "cell_type": "code",
   "execution_count": 29,
   "id": "0ebff25e",
   "metadata": {},
   "outputs": [
    {
     "name": "stdout",
     "output_type": "stream",
     "text": [
      "HelloWorld\n",
      "Can't divide by zero\n"
     ]
    }
   ],
   "source": [
    "try:\n",
    "    f = open(\"sample.txt\" , 'r')\n",
    "    print(f.read())\n",
    "    print(5/0) # ----> zero division error\n",
    "except FileNotFoundError:\n",
    "    print(\"Sorry , File not found\")\n",
    "except NameError:\n",
    "    print(\"Variable not defined\")\n",
    "except ZeroDivisionError:\n",
    "    print(\"Can't divide by zero\")"
   ]
  },
  {
   "cell_type": "markdown",
   "id": "26cacf0c",
   "metadata": {},
   "source": [
    "## Good Practice\n",
    "last me ek generic exception daal do , ki if there is some error occured you didn't know , the generic exception block can handle it"
   ]
  },
  {
   "cell_type": "code",
   "execution_count": 34,
   "id": "12330fce",
   "metadata": {},
   "outputs": [
    {
     "name": "stdout",
     "output_type": "stream",
     "text": [
      "HelloWorld\n",
      "2.5\n",
      "list index out of range\n"
     ]
    }
   ],
   "source": [
    "try:\n",
    "    f = open(\"sample.txt\" , 'r')\n",
    "    print(f.read())\n",
    "    print(5/2) \n",
    "    L = [1 , 2, 3]\n",
    "    L[100]\n",
    "except FileNotFoundError:\n",
    "    print(\"Sorry , File not found\")\n",
    "    \n",
    "except NameError:\n",
    "    print(\"Variable not defined\")\n",
    "except ZeroDivisionError:\n",
    "    print(\"Can't divide by zero\")\n",
    "except Exception as e:\n",
    "    print(e) #-----> Generic Exception"
   ]
  },
  {
   "cell_type": "markdown",
   "id": "f6b8b197",
   "metadata": {},
   "source": [
    "### Else Block\n",
    "\n",
    "- if Try excecute properly  , then in the else block you write a code that you are super sure about that it will work"
   ]
  },
  {
   "cell_type": "code",
   "execution_count": 35,
   "id": "dc4acfc5",
   "metadata": {},
   "outputs": [
    {
     "name": "stdout",
     "output_type": "stream",
     "text": [
      "HelloWorld\n"
     ]
    }
   ],
   "source": [
    "try:\n",
    "    f = open(\"sample.txt\" , 'r')\n",
    "except FileNotFoundError:\n",
    "    print(\"File Nahi mili\")\n",
    "except:\n",
    "    print(\"Kuch to lafda ho\")\n",
    "else:\n",
    "    print(f.read())"
   ]
  },
  {
   "cell_type": "markdown",
   "id": "0eb7c745",
   "metadata": {},
   "source": [
    "### Finally "
   ]
  },
  {
   "cell_type": "code",
   "execution_count": 36,
   "id": "00cd7a73",
   "metadata": {},
   "outputs": [
    {
     "name": "stdout",
     "output_type": "stream",
     "text": [
      "HelloWorld\n",
      "Hamesha Print hoga\n"
     ]
    }
   ],
   "source": [
    "try:\n",
    "    f = open(\"sample.txt\" , 'r')\n",
    "except FileNotFoundError:\n",
    "    print(\"File Nahi mili\")\n",
    "except:\n",
    "    print(\"Kuch to lafda ho\")\n",
    "else:\n",
    "    print(f.read())\n",
    "finally:\n",
    "    print(\"Hamesha Print hoga\")"
   ]
  },
  {
   "cell_type": "markdown",
   "id": "c3377d6e",
   "metadata": {},
   "source": [
    "### raise Exception\n",
    "- at any point of code , you can throw error by your choice"
   ]
  },
  {
   "cell_type": "code",
   "execution_count": 40,
   "id": "0c2dc84a",
   "metadata": {},
   "outputs": [
    {
     "ename": "NameError",
     "evalue": "Aise HI Try kr rha hu",
     "output_type": "error",
     "traceback": [
      "\u001b[1;31m---------------------------------------------------------------------------\u001b[0m",
      "\u001b[1;31mNameError\u001b[0m                                 Traceback (most recent call last)",
      "Input \u001b[1;32mIn [40]\u001b[0m, in \u001b[0;36m<cell line: 1>\u001b[1;34m()\u001b[0m\n\u001b[1;32m----> 1\u001b[0m \u001b[38;5;28;01mraise\u001b[39;00m \u001b[38;5;167;01mNameError\u001b[39;00m(\u001b[38;5;124m\"\u001b[39m\u001b[38;5;124mAise HI Try kr rha hu\u001b[39m\u001b[38;5;124m\"\u001b[39m)\n",
      "\u001b[1;31mNameError\u001b[0m: Aise HI Try kr rha hu"
     ]
    }
   ],
   "source": [
    "raise NameError(\"Aise HI Try kr rha hu\")"
   ]
  },
  {
   "cell_type": "code",
   "execution_count": 41,
   "id": "333cd025",
   "metadata": {},
   "outputs": [
    {
     "ename": "IndentationError",
     "evalue": "Meri marzi maine kha ye error hai to hai (<string>)",
     "output_type": "error",
     "traceback": [
      "Traceback \u001b[1;36m(most recent call last)\u001b[0m:\n",
      "  File \u001b[0;32m~\\anaconda3\\lib\\site-packages\\IPython\\core\\interactiveshell.py:3369\u001b[0m in \u001b[0;35mrun_code\u001b[0m\n    exec(code_obj, self.user_global_ns, self.user_ns)\n",
      "\u001b[1;36m  Input \u001b[1;32mIn [41]\u001b[1;36m in \u001b[1;35m<cell line: 1>\u001b[1;36m\u001b[0m\n\u001b[1;33m    raise IndentationError(\"Meri marzi maine kha ye error hai to hai\")\u001b[0m\n",
      "\u001b[1;36m  File \u001b[1;32m<string>\u001b[1;36m\u001b[0m\n\u001b[1;31mIndentationError\u001b[0m\u001b[1;31m:\u001b[0m Meri marzi maine kha ye error hai to hai\n"
     ]
    }
   ],
   "source": [
    "raise IndentationError(\"Meri marzi maine kha ye error hai to hai\")"
   ]
  },
  {
   "cell_type": "code",
   "execution_count": 42,
   "id": "e699d4a0",
   "metadata": {},
   "outputs": [
    {
     "ename": "IndexError",
     "evalue": "Kyu hila dala mna",
     "output_type": "error",
     "traceback": [
      "\u001b[1;31m---------------------------------------------------------------------------\u001b[0m",
      "\u001b[1;31mIndexError\u001b[0m                                Traceback (most recent call last)",
      "Input \u001b[1;32mIn [42]\u001b[0m, in \u001b[0;36m<cell line: 1>\u001b[1;34m()\u001b[0m\n\u001b[1;32m----> 1\u001b[0m \u001b[38;5;28;01mraise\u001b[39;00m \u001b[38;5;167;01mIndexError\u001b[39;00m(\u001b[38;5;124m\"\u001b[39m\u001b[38;5;124mKyu hila dala mna\u001b[39m\u001b[38;5;124m\"\u001b[39m)\n",
      "\u001b[1;31mIndexError\u001b[0m: Kyu hila dala mna"
     ]
    }
   ],
   "source": [
    "raise IndexError(\"Kyu hila dala mna\")"
   ]
  },
  {
   "cell_type": "markdown",
   "id": "fd6a2c7e",
   "metadata": {},
   "source": [
    "**Benefit????**\n",
    "- In java :\n",
    "- raise -> throw\n",
    "- except -> catch"
   ]
  },
  {
   "cell_type": "markdown",
   "id": "83b898cd",
   "metadata": {},
   "source": [
    "Example - of benefit of raise"
   ]
  },
  {
   "cell_type": "code",
   "execution_count": 50,
   "id": "76c13fcb",
   "metadata": {},
   "outputs": [
    {
     "name": "stdout",
     "output_type": "stream",
     "text": [
      "amount cannot be -ve\n"
     ]
    }
   ],
   "source": [
    "class Bank:\n",
    "\n",
    "  def __init__(self,balance):\n",
    "    self.balance = balance\n",
    "\n",
    "  def withdraw(self,amount):\n",
    "    if amount < 0:\n",
    "      raise Exception('amount cannot be -ve') #----> The Exception is a class and the obj of this class will be catch by except block\n",
    "    if self.balance < amount:\n",
    "      raise Exception('paise nai hai tere paas')\n",
    "    self.balance = self.balance - amount\n",
    "\n",
    "obj = Bank(10000)\n",
    "try:\n",
    "    obj.withdraw(-5000) # ---> potential error\n",
    "except Exception as e: #if the raise error occured it will be catched by except block\n",
    "    print(e)\n",
    "else:\n",
    "    print(obj.balance)"
   ]
  },
  {
   "cell_type": "code",
   "execution_count": 51,
   "id": "dcf7bf7d",
   "metadata": {},
   "outputs": [
    {
     "name": "stdout",
     "output_type": "stream",
     "text": [
      "paise nai hai tere paas\n"
     ]
    }
   ],
   "source": [
    "obj = Bank(10000)\n",
    "try:\n",
    "    obj.withdraw(15000)\n",
    "except Exception as e:\n",
    "    print(e)\n",
    "else:\n",
    "    print(obj.balance)"
   ]
  },
  {
   "cell_type": "markdown",
   "id": "4b1a280c",
   "metadata": {},
   "source": [
    "Benefit of raise - Using 1 try except block you were able to handle multiple exceptions"
   ]
  },
  {
   "cell_type": "markdown",
   "id": "da3fe3ed",
   "metadata": {},
   "source": [
    "## creating custom exceptions\n",
    "- previously u saw exceptions made by other people such as ModuleNotFoundError , NameError\n",
    "- And all these exceptions are classes\n",
    "- Exception -> base class\n",
    "- other Exceptions -> Child class\n",
    "- search exception hierarchy in python\n",
    "- python gives you power to create your own exception class like NameError , IndexOutOfRang etc"
   ]
  },
  {
   "cell_type": "markdown",
   "id": "92cf6d1c",
   "metadata": {},
   "source": [
    "Important point - You are able to create your own custom exception class , when your own class is the child of Exception class , without it you will not be able to raise erro"
   ]
  },
  {
   "cell_type": "code",
   "execution_count": 57,
   "id": "472e9f2b",
   "metadata": {},
   "outputs": [
    {
     "name": "stdout",
     "output_type": "stream",
     "text": [
      "paise nai hai tere paas\n"
     ]
    }
   ],
   "source": [
    "class MyException(Exception):\n",
    "    def __init__(self , message):\n",
    "        print(message)\n",
    "class Bank:\n",
    "\n",
    "  def __init__(self,balance):\n",
    "    self.balance = balance\n",
    "\n",
    "  def withdraw(self,amount):\n",
    "    if amount < 0:\n",
    "      raise MyException('amount cannot be -ve') #----> Now you can call your own exception class\n",
    "    if amount>self.balance:\n",
    "      raise MyException('paise nai hai tere paas')\n",
    "    self.balance = self.balance - amount\n",
    "\n",
    "obj = Bank(10000)\n",
    "try:\n",
    "    obj.withdraw(15000) # ---> potential error\n",
    "except MyException as e:\n",
    "    pass #if the raise error occured it will be catched by except block\n",
    "else:\n",
    "    print(obj.balance)"
   ]
  },
  {
   "cell_type": "markdown",
   "id": "0426aadb",
   "metadata": {},
   "source": [
    "Explaination - \n",
    "- when you are raising exception by doing this - raise MyException(\"Amount cannot be =ve\") , it means it is an object of MyException class\n",
    "- when obj is made , the constructor gets automatically called and in the constructor you are printing the message you passed in the constructor that is Amount cannot be -ve"
   ]
  },
  {
   "cell_type": "markdown",
   "id": "cdaaa9ba",
   "metadata": {},
   "source": [
    "**But the ques is why we are creating our own exception class , we are doing the same thing as before with the Exception class , why need of MyException class????**\n",
    "- You use custom exception when you want full control over your error\n",
    "- by this we were not only able to print error , but also can do other things\n",
    "- application based logic exception chye  , jo mujhe more flexibility deta hai"
   ]
  },
  {
   "cell_type": "markdown",
   "id": "a1608286",
   "metadata": {},
   "source": [
    "EXample - In the start agar maine obj android se banaya pr login ke time pe window se kr rha hu , there is a risk of chance of being hacker , ab rather than printing exception we give more control , just llike logout krne ka\n"
   ]
  },
  {
   "cell_type": "code",
   "execution_count": 62,
   "id": "eb1bb52b",
   "metadata": {},
   "outputs": [
    {
     "name": "stdout",
     "output_type": "stream",
     "text": [
      "Bhai teri to lag gyi\n",
      "Logout\n",
      "database connection closed\n"
     ]
    }
   ],
   "source": [
    "class SecurityException(Exception):\n",
    "    def __init__(self , message):\n",
    "        print(message)\n",
    "    \n",
    "    def logout(self):\n",
    "        print(\"Logout\")\n",
    "class Google:\n",
    "    \n",
    "    def __init__(self , name , email , password , device):\n",
    "        self.name = name \n",
    "        self.email = email\n",
    "        self.password = password\n",
    "        self.device = device\n",
    "    \n",
    "    def login(self , email , password , device):\n",
    "        \n",
    "        if device != self.device:\n",
    "            raise SecurityException(\"Bhai teri to lag gyi\")\n",
    "        if email == self.email and password == self.password:\n",
    "            print(\"Login Successful\")\n",
    "        else:\n",
    "            print('Login Error')\n",
    "            \n",
    "obj = Google(\"Vinayak\" , \"vinayakchhabra545.vc@gmail.com\" , \"1234\" , \"Android\")\n",
    "\n",
    "try:\n",
    "    obj.login(\"vinayakchhabra545.vc@gmail.com\", \"1234\" , \"Windows\")\n",
    "    \n",
    "except SecurityException as e:\n",
    "    e.logout()\n",
    "else:\n",
    "    print(\"Vinayak\")\n",
    "finally:\n",
    "    print(\"database connection closed\")"
   ]
  },
  {
   "cell_type": "code",
   "execution_count": null,
   "id": "bd8e7ae7",
   "metadata": {},
   "outputs": [],
   "source": []
  }
 ],
 "metadata": {
  "kernelspec": {
   "display_name": "Python 3 (ipykernel)",
   "language": "python",
   "name": "python3"
  },
  "language_info": {
   "codemirror_mode": {
    "name": "ipython",
    "version": 3
   },
   "file_extension": ".py",
   "mimetype": "text/x-python",
   "name": "python",
   "nbconvert_exporter": "python",
   "pygments_lexer": "ipython3",
   "version": "3.9.12"
  }
 },
 "nbformat": 4,
 "nbformat_minor": 5
}
