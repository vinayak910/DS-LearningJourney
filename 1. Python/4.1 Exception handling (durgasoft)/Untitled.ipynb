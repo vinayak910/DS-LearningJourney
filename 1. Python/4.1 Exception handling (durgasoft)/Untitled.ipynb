{
 "cells": [
  {
   "cell_type": "markdown",
   "id": "2c39fffd",
   "metadata": {},
   "source": [
    "Absolutely, you're on the right track! Exceptions in Python are unexpected events that disrupt the normal flow of a program. Exception handling is the process of dealing with these disruptions in a controlled manner so that the program can gracefully handle errors without crashing.\n",
    "\n",
    "Python treats every exception as an object of a particular class. When an error occurs, an instance of the corresponding exception class is created. If there's code specifically designed to handle that type of exception, the program executes that code. Otherwise, if there's no appropriate handling code, the program terminates, showing the exception's traceback.\n",
    "\n",
    "Would you like to delve deeper into specific types of exceptions or how to handle them using try-except blocks in Python?"
   ]
  },
  {
   "cell_type": "markdown",
   "id": "868fc243",
   "metadata": {},
   "source": [
    "Absolutely correct! In Python, the `BaseException` class serves as the root of the exception hierarchy. All built-in exceptions directly or indirectly inherit from this class. \n",
    "\n",
    "Here's a simplified representation of the exception hierarchy:\n",
    "\n",
    "- **BaseException**\n",
    "  - **Exception**\n",
    "    - **StandardError**\n",
    "      - **ArithmeticError**\n",
    "        - **ZeroDivisionError**\n",
    "      - **LookupError**\n",
    "        - **IndexError**\n",
    "        - **KeyError**\n",
    "      - **AssertionError**\n",
    "      - **TypeError**\n",
    "      - and more...\n",
    "    - **StopIteration**\n",
    "    - **GeneratorExit**\n",
    "    - **SystemExit**\n",
    "    - and more...\n",
    "\n",
    "This hierarchy allows for a systematic organization of various types of exceptions based on their characteristics and relationships. By having this structure, it becomes easier to catch specific types of exceptions or handle different categories of errors in Python code using `try-except` blocks.\n",
    "\n",
    "Understanding this hierarchy can help in designing more robust and specific exception handling strategies in Python programs. Would you like more examples or information about how to handle exceptions based on this hierarchy?"
   ]
  },
  {
   "cell_type": "markdown",
   "id": "46a679cd",
   "metadata": {},
   "source": [
    "**ques - and what does it mean >  Base exception is the child class of object**\n",
    "- ans - \n",
    "In Python, everything is an object. All classes, including the `BaseException` class, ultimately inherit from the `object` class, which is the root of Python's class hierarchy. This inheritance chain forms the basis of the object-oriented paradigm in Python.\n",
    "\n",
    "The inheritance chain typically looks like this:\n",
    "\n",
    "- **object** (the root of Python's class hierarchy)\n",
    "  - **BaseException** (the root of Python's exception hierarchy)\n",
    "    - **Exception** (a subclass of `BaseException`)\n",
    "      - Various built-in exceptions (e.g., `TypeError`, `ValueError`, `ZeroDivisionError`, etc.)\n",
    "\n",
    "So, when we say that `BaseException` is a child class of `object`, it means that `BaseException` inherits from `object`. In practical terms, this inheritance implies that the methods and properties defined in the `object` class are available to all classes in Python, including the `BaseException` class and its subclasses.\n",
    "\n",
    "Understanding this inheritance relationship helps in comprehending the fundamental concepts of Python's object-oriented programming model and how exceptions are structured within this framework. It also means that exception classes, like any other Python class, can exhibit behavior inherited from the `object` class.\n",
    "\n",
    "Is there anything specific you'd like to know more about concerning Python's class hierarchy or object-oriented concepts?"
   ]
  },
  {
   "cell_type": "markdown",
   "id": "4f9f5467",
   "metadata": {},
   "source": [
    "`SystemExit` and `GeneratorExit` are both exceptions in Python that are used for specific purposes:\n",
    "\n",
    "1. **`SystemExit`**:\n",
    "   - `SystemExit` is an exception raised by the `sys.exit()` function.\n",
    "   - It's used to request the Python interpreter to exit.\n",
    "   - When this exception is raised and not caught by an exception handler, it usually results in the termination of the program.\n",
    "   - It's a subclass of `BaseException` and directly inherits from it.\n",
    "   - Typically, `sys.exit()` is used to cleanly exit the program or signal the interpreter to exit with a specified exit code.\n",
    "\n",
    "Example of `SystemExit`:\n",
    "\n",
    "```python\n",
    "import sys\n",
    "\n",
    "try:\n",
    "    sys.exit(0)  # Exiting the program with exit code 0\n",
    "except SystemExit:\n",
    "    print(\"Caught SystemExit exception\")\n",
    "```\n",
    "\n",
    "2. **`GeneratorExit`**:\n",
    "   - `GeneratorExit` is an exception that is raised inside a generator function when the generator is closed using its `close()` method.\n",
    "   - It's raised to perform cleanup operations or release resources when the generator is explicitly closed.\n",
    "   - This exception is raised by the Python interpreter itself when `close()` is called on a generator.\n",
    "\n",
    "Example of `GeneratorExit`:\n",
    "\n",
    "```python\n",
    "def my_generator():\n",
    "    try:\n",
    "        yield 1\n",
    "        yield 2\n",
    "        yield 3\n",
    "    finally:\n",
    "        print(\"Cleaning up in the generator\")\n",
    "\n",
    "gen = my_generator()\n",
    "print(next(gen))  # Outputs: 1\n",
    "gen.close()  # Raises GeneratorExit and triggers cleanup\n",
    "```\n",
    "\n",
    "Both `SystemExit` and `GeneratorExit` are subclasses of `BaseException`. While `SystemExit` is commonly used for program termination or signaling the interpreter to exit, `GeneratorExit` is specifically related to generators and is raised when a generator is explicitly closed to perform cleanup operations.\n",
    "\n",
    "If you'd like more information or examples related to these exceptions, feel free to ask!"
   ]
  },
  {
   "cell_type": "code",
   "execution_count": 3,
   "id": "24228a8b",
   "metadata": {},
   "outputs": [
    {
     "name": "stdout",
     "output_type": "stream",
     "text": [
      "First num:98\n",
      "second num:900\n",
      "0.10888888888888888\n"
     ]
    }
   ],
   "source": [
    "try:\n",
    "    x = int(input(\"First num:\"))\n",
    "    y = int(input(\"second num:\"))\n",
    "    print(x/y)\n",
    "except ZeroDivisionError as e:\n",
    "    print(\"Exception raised and it's description:{}\".format(e))\n",
    "except ValueError as e:\n",
    "    print(\"Exception raised and it's description:{}\".format(e))\n",
    "except Exception as e:\n",
    "    print(\"Exception raised and it's description:{}\".format(e))"
   ]
  },
  {
   "cell_type": "markdown",
   "id": "1a59224e",
   "metadata": {},
   "source": [
    "**points to notice:**\n",
    "1. flow to execute exception code will be from top to bottom , hence specific exceptions will be before the general\n",
    "2. can use multiple except blocks for diff exceptions\n",
    "3. since we are using same output or handling diff exceptions using same way , then why we are taking multiple except blocks\n",
    "4. ques - can we use single except block to handle multiple exceptions . ans - yes\n"
   ]
  },
  {
   "cell_type": "markdown",
   "id": "c484258b",
   "metadata": {},
   "source": [
    "### Single except block that can handle multiple exceptions"
   ]
  },
  {
   "cell_type": "code",
   "execution_count": 6,
   "id": "a5c382af",
   "metadata": {},
   "outputs": [
    {
     "name": "stdout",
     "output_type": "stream",
     "text": [
      "First num:3\n",
      "second num:t\n",
      "Exception raised and it's description:invalid literal for int() with base 10: 't'\n"
     ]
    }
   ],
   "source": [
    "try:\n",
    "    x = int(input(\"First num:\"))\n",
    "    y = int(input(\"second num:\"))\n",
    "    print(x/y)\n",
    "except (ZeroDivisionError , ValueError) as e:\n",
    "    print(\"Exception raised and it's description:{}\".format(e))"
   ]
  },
  {
   "cell_type": "code",
   "execution_count": 8,
   "id": "795335a1",
   "metadata": {},
   "outputs": [
    {
     "name": "stdout",
     "output_type": "stream",
     "text": [
      "First num:4\n",
      "second num:0\n",
      "Exception raised and it's description:division by zero\n",
      "ZeroDivisionError\n"
     ]
    }
   ],
   "source": [
    "# can also include base exception in single except block \n",
    "try:\n",
    "    x = int(input(\"First num:\"))\n",
    "    y = int(input(\"second num:\"))\n",
    "    print(x/y)\n",
    "except (ZeroDivisionError , ValueError , BaseException) as e:\n",
    "    print(\"Exception raised and it's description:{}\".format(e))\n",
    "    print(e.__class__.__name__)"
   ]
  },
  {
   "cell_type": "code",
   "execution_count": 10,
   "id": "9eaafd0e",
   "metadata": {},
   "outputs": [
    {
     "name": "stdout",
     "output_type": "stream",
     "text": [
      "First num:4\n",
      "second num:0\n",
      "Exception raised and it's description:division by zero\n",
      "ZeroDivisionError\n"
     ]
    }
   ],
   "source": [
    "# can also include base exception in single except block \n",
    "try:\n",
    "    x = int(input(\"First num:\"))\n",
    "    y = int(input(\"second num:\"))\n",
    "    print(x/y)\n",
    "except (BaseException,ZeroDivisionError , ValueError ) as e:\n",
    "    print(\"Exception raised and it's description:{}\".format(e))\n",
    "    print(e.__class__.__name__)\n",
    "# in single except block order doesnt matter it only executed the specific except block"
   ]
  },
  {
   "cell_type": "markdown",
   "id": "00be1de4",
   "metadata": {},
   "source": [
    "### Default except block\n",
    "1. default except can handle any type of exception\n",
    "2. same as BaseException"
   ]
  },
  {
   "cell_type": "code",
   "execution_count": 11,
   "id": "1b2a0914",
   "metadata": {},
   "outputs": [
    {
     "name": "stdout",
     "output_type": "stream",
     "text": [
      "First num:4\n",
      "second num:0\n",
      "Exception raised and it's description:division by zero\n"
     ]
    }
   ],
   "source": [
    "try:\n",
    "    x = int(input(\"First num:\"))\n",
    "    y = int(input(\"second num:\"))\n",
    "    print(x/y)\n",
    "except ZeroDivisionError as e:\n",
    "    print(\"Exception raised and it's description:{}\".format(e))\n",
    "except ValueError as e:\n",
    "    print(\"Exception raised and it's description:{}\".format(e))\n",
    "except:\n",
    "    print(\"generic\")"
   ]
  },
  {
   "cell_type": "code",
   "execution_count": null,
   "id": "af5f3afe",
   "metadata": {},
   "outputs": [],
   "source": [
    "# use baseexception when you want description of error"
   ]
  },
  {
   "cell_type": "markdown",
   "id": "17ed225a",
   "metadata": {},
   "source": [
    "**loophole with the default except block**\n",
    "- if you choose default except before specific , your compiler will throw an error but not in case of baseexception"
   ]
  },
  {
   "cell_type": "code",
   "execution_count": 12,
   "id": "35a2f294",
   "metadata": {},
   "outputs": [
    {
     "ename": "SyntaxError",
     "evalue": "default 'except:' must be last (36163615.py, line 4)",
     "output_type": "error",
     "traceback": [
      "\u001b[1;36m  Input \u001b[1;32mIn [12]\u001b[1;36m\u001b[0m\n\u001b[1;33m    print(x/y)\u001b[0m\n\u001b[1;37m    ^\u001b[0m\n\u001b[1;31mSyntaxError\u001b[0m\u001b[1;31m:\u001b[0m default 'except:' must be last\n"
     ]
    }
   ],
   "source": [
    "try:\n",
    "    x = int(input(\"First num:\"))\n",
    "    y = int(input(\"second num:\"))\n",
    "    print(x/y)\n",
    "except:\n",
    "    print(\"generic\")\n",
    "except ZeroDivisionError as e:\n",
    "    print(\"Exception raised and it's description:{}\".format(e))"
   ]
  },
  {
   "cell_type": "code",
   "execution_count": 25,
   "id": "3854f0da",
   "metadata": {},
   "outputs": [
    {
     "name": "stdout",
     "output_type": "stream",
     "text": [
      "First num:4\n",
      "second num:0\n",
      "Exception raised and it's description:division by zero\n",
      "ZeroDivisionError\n"
     ]
    }
   ],
   "source": [
    "# but not in case of baseexception  and Exception\n",
    "try:\n",
    "    x = int(input(\"First num:\"))\n",
    "    y = int(input(\"second num:\"))\n",
    "    print(x/y)\n",
    "except Exception as e:\n",
    "    print(\"Exception raised and it's description:{}\".format(e))\n",
    "    print(e.__class__.__name__)\n",
    "except ZeroDivisionError as e:\n",
    "    print(\"check\")\n",
    "\n"
   ]
  },
  {
   "cell_type": "code",
   "execution_count": 24,
   "id": "2bb0a503",
   "metadata": {},
   "outputs": [
    {
     "name": "stdout",
     "output_type": "stream",
     "text": [
      "First num:4\n",
      "second num:0\n",
      "Exception raised and it's description:division by zero\n",
      "ZeroDivisionError\n"
     ]
    }
   ],
   "source": [
    "try:\n",
    "    x = int(input(\"First num:\"))\n",
    "    y = int(input(\"second num:\"))\n",
    "    print(x/y)\n",
    "except BaseException as e:\n",
    "    print(\"Exception raised and it's description:{}\".format(e))\n",
    "    print(e.__class__.__name__)\n",
    "except ZeroDivisionError as e:\n",
    "    print(\"check\")\n",
    "# see this time baseexception class executed even though error is zerodivisionerror , hence pvm executes from top to bottom"
   ]
  },
  {
   "cell_type": "markdown",
   "id": "2a1bd596",
   "metadata": {},
   "source": [
    "### Finally Block\n"
   ]
  },
  {
   "cell_type": "code",
   "execution_count": 26,
   "id": "1f7e8203",
   "metadata": {},
   "outputs": [],
   "source": [
    "#try:\n",
    "#     open database conn\n",
    "#     read data\n",
    "#     close db conn\n",
    "#except:\n",
    "#     code"
   ]
  },
  {
   "cell_type": "markdown",
   "id": "881b1e4b",
   "metadata": {},
   "source": [
    "**breakdown**\n",
    "1. we had open db conn successfully\n",
    "2. read data , but error the flow will be transferred to except block , so the next line which is close db conn will not execute and the resource will be used continuously\n",
    "3. hence the resourse deallocation/cleanup code should not/not recommended to  be in try block , as there is no guarantee of execution of every statement in the try block\n",
    "4.  not recommended to put in except block to\n",
    "5. That's where comes the finally block , which will be executed everytime , irrespective of whether exception raised or not , handled or not handles"
   ]
  },
  {
   "cell_type": "markdown",
   "id": "90d768cb",
   "metadata": {},
   "source": [
    "**finally vs return**\n",
    "- Before returning final will be executed for sure\n",
    "- pvm will check before returning is there any finally statement or not , after executing finally then it will return the value"
   ]
  },
  {
   "cell_type": "code",
   "execution_count": 1,
   "id": "95c7a654",
   "metadata": {},
   "outputs": [
    {
     "name": "stdout",
     "output_type": "stream",
     "text": [
      "try\n",
      "Finally\n",
      "0\n"
     ]
    }
   ],
   "source": [
    "def f1():\n",
    "    try:\n",
    "        print(\"try\")\n",
    "        return 0\n",
    "    except:\n",
    "        print(\"except\")\n",
    "    finally:\n",
    "        print(\"Finally\")\n",
    "print(f1())\n",
    "        \n",
    "        "
   ]
  },
  {
   "cell_type": "code",
   "execution_count": 2,
   "id": "9dbae597",
   "metadata": {},
   "outputs": [
    {
     "name": "stdout",
     "output_type": "stream",
     "text": [
      "try\n",
      "10\n"
     ]
    }
   ],
   "source": [
    "def f1():\n",
    "    try:\n",
    "        print(\"try\")\n",
    "        return 0\n",
    "    except:\n",
    "        print(\"except\")\n",
    "    finally:\n",
    "        return 10 # finally statement will have the priority\n",
    "print(f1())"
   ]
  },
  {
   "cell_type": "markdown",
   "id": "af3765df",
   "metadata": {},
   "source": [
    "**cases where finally block will not be executed**\n",
    "1. power cut off\n",
    "2. pvm exited"
   ]
  },
  {
   "cell_type": "code",
   "execution_count": null,
   "id": "33fec5cf",
   "metadata": {},
   "outputs": [],
   "source": [
    "#example of pvm exit/shut down pvm programitically \n",
    "import os\n",
    "def f1():\n",
    "    try:\n",
    "        print(\"try\")\n",
    "        os._exit(0)\n",
    "    except:\n",
    "        print(\"except\")\n",
    "    finally:\n",
    "        print(\"Finally\")\n",
    "print(f1())\n",
    "        "
   ]
  },
  {
   "cell_type": "markdown",
   "id": "3e07e7b1",
   "metadata": {},
   "source": [
    "### Control flow in nested try except finally"
   ]
  },
  {
   "cell_type": "code",
   "execution_count": 3,
   "id": "74fe5d69",
   "metadata": {},
   "outputs": [
    {
     "name": "stdout",
     "output_type": "stream",
     "text": [
      "Outer try block\n",
      "Inner try block\n",
      "Inner Finally block\n",
      "Outer except block\n",
      "Outer finally block\n"
     ]
    }
   ],
   "source": [
    "try:\n",
    "    print(\"Outer try block\")\n",
    "    try:\n",
    "        print(\"Inner try block\")\n",
    "        print(10/0)\n",
    "    except ValueError:\n",
    "        print(\"inner except block\")\n",
    "    finally:\n",
    "        print(\"Inner Finally block\")\n",
    "except:\n",
    "    print(\"Outer except block\")\n",
    "finally:\n",
    "    print(\"Outer finally block\")"
   ]
  },
  {
   "cell_type": "markdown",
   "id": "bc1d4d8a",
   "metadata": {},
   "source": [
    "in the above case , since innner except block was not able to handle exception , outer except block handled it . "
   ]
  },
  {
   "cell_type": "markdown",
   "id": "62ddee47",
   "metadata": {},
   "source": [
    "Note - YOu can use try except block in try except or even finally blocks"
   ]
  },
  {
   "cell_type": "code",
   "execution_count": null,
   "id": "462bebc8",
   "metadata": {},
   "outputs": [],
   "source": [
    "# try:\n",
    "#     st1\n",
    "#     st2\n",
    "#     st3\n",
    "#     try:\n",
    "#         st4\n",
    "#         st5\n",
    "#         st6\n",
    "#     except xxx:\n",
    "#         st7\n",
    "#     finally:\n",
    "#         st8\n",
    "#     st9\n",
    "# except yyy:\n",
    "#     st10\n",
    "# finally:\n",
    "#     st11\n",
    "# st12\n"
   ]
  },
  {
   "cell_type": "markdown",
   "id": "e9000c5d",
   "metadata": {},
   "source": [
    "1. **case 1 if there is no exception** \n",
    "- except 7 and 10 every statement will be executed -> Nt\n",
    "2.  **case 2 if exception raised at st2 and corrosponding except block matched**\n",
    "- 1 , 10 , 11 , 12 , Since you didnt entered into inner try block hence inner finally block wont be executed\n",
    "3. **case 3 - if exception raised at st2 and corrosponding except block not matched**\n",
    "- 1 , 11 --- AT\n",
    "4. **case 4 if exception raised at st5 and corrosponding except block matched**\n",
    "- 1 2 3 4 7 8 9 11 12 - NT\n",
    "5. **case 5 if exception raised at st5 and corrosponding inner except block not matched but outer does**\n",
    "- 1 2 3 4 8 10 11 12 - NT if inner except block will not able to handle it will immediately shift to outer except block but before execution of inner finally block hence 9 is not executed"
   ]
  },
  {
   "cell_type": "markdown",
   "id": "14338e1a",
   "metadata": {},
   "source": [
    "### else with try except finally\n",
    "- if inside try block if any exception occures==> except block will be executed\n",
    "- if try block executes without any exception ==> else\n",
    "- can't change the order\n",
    "- if want to use else block compulsory except block should be there"
   ]
  },
  {
   "cell_type": "code",
   "execution_count": 1,
   "id": "d3386cf1",
   "metadata": {},
   "outputs": [
    {
     "name": "stdout",
     "output_type": "stream",
     "text": [
      "try\n",
      "No exception\n",
      "finally\n"
     ]
    }
   ],
   "source": [
    "try:\n",
    "    print(\"try\")\n",
    "except ZeroDivisionError:\n",
    "    print(\"except\")\n",
    "else:\n",
    "    print(\"No exception\")\n",
    "finally:\n",
    "    print(\"finally\")"
   ]
  },
  {
   "cell_type": "markdown",
   "id": "48d2fc7b",
   "metadata": {},
   "source": [
    "**opening , closing and reading the file**"
   ]
  },
  {
   "cell_type": "code",
   "execution_count": 5,
   "id": "ab01825c",
   "metadata": {},
   "outputs": [
    {
     "name": "stdout",
     "output_type": "stream",
     "text": [
      "Not available\n"
     ]
    }
   ],
   "source": [
    "f = None\n",
    "try:\n",
    "    f = open(\"abc.txt\")\n",
    "except FileNotFoundError:\n",
    "    print(\"Not available\")\n",
    "else:\n",
    "    print(f.read()) # ---> else will increase readability \n",
    "finally:\n",
    "    if f is not None:\n",
    "        f.close()\n",
    "    "
   ]
  },
  {
   "cell_type": "markdown",
   "id": "d533a6fa",
   "metadata": {},
   "source": [
    "**important note**\n",
    "- try without except or finally is always invalid"
   ]
  },
  {
   "cell_type": "markdown",
   "id": "e94c7eb6",
   "metadata": {},
   "source": [
    "**Numerous combination of try except else finally**"
   ]
  },
  {
   "cell_type": "code",
   "execution_count": 7,
   "id": "5168d903",
   "metadata": {},
   "outputs": [
    {
     "ename": "SyntaxError",
     "evalue": "unexpected EOF while parsing (21873114.py, line 3)",
     "output_type": "error",
     "traceback": [
      "\u001b[1;36m  Input \u001b[1;32mIn [7]\u001b[1;36m\u001b[0m\n\u001b[1;33m    print(\"hello\")\u001b[0m\n\u001b[1;37m                  ^\u001b[0m\n\u001b[1;31mSyntaxError\u001b[0m\u001b[1;31m:\u001b[0m unexpected EOF while parsing\n"
     ]
    }
   ],
   "source": [
    "#try without except or finally \n",
    "try:\n",
    "    print(\"hello\")"
   ]
  },
  {
   "cell_type": "code",
   "execution_count": 8,
   "id": "b5003fdd",
   "metadata": {},
   "outputs": [
    {
     "name": "stdout",
     "output_type": "stream",
     "text": [
      "hello\n"
     ]
    }
   ],
   "source": [
    "#try with except\n",
    "try:\n",
    "    print(\"hello\")\n",
    "except:\n",
    "    print(\"yo\")"
   ]
  },
  {
   "cell_type": "code",
   "execution_count": 9,
   "id": "3b4cdcbf",
   "metadata": {},
   "outputs": [
    {
     "name": "stdout",
     "output_type": "stream",
     "text": [
      "Hello\n",
      "cleanup code\n"
     ]
    }
   ],
   "source": [
    "#try without except but with finally\n",
    "try:\n",
    "    print(\"Hello\")\n",
    "finally:\n",
    "    print(\"cleanup code\")"
   ]
  },
  {
   "cell_type": "markdown",
   "id": "62a80d5a",
   "metadata": {},
   "source": [
    "### Types of Exceptions- \n",
    "- Based on the person  ,who is raising an exception\n",
    "\n",
    "1. **Predefined Exception/Inbuilt Exceptions:** Whenever event occurs automatically PVM will raise these exceptions\n",
    "- ZeroDivisionError\n",
    "- NameError\n",
    "- ValueError\n",
    "- FileNotFoundError\n",
    "- Refer to python exception heirarchy\n",
    "\n",
    "2. **User Defined Exceptions/ Customized Exceptions /Programatic Exceptions:** Sometimes we can define/write our own exceptions based on our programming requirement to indicate something goes wrong"
   ]
  },
  {
   "cell_type": "markdown",
   "id": "2fe10068",
   "metadata": {},
   "source": [
    "**Need of User defined Excepitions**\n",
    "- Ex : trying to withdraw 30k when balance is 20k , in these type of situations we can raise an exception to indicate that something goes wrong"
   ]
  },
  {
   "cell_type": "code",
   "execution_count": 15,
   "id": "f9ab6a8b",
   "metadata": {},
   "outputs": [],
   "source": [
    "# def withdraw(amount):\n",
    "#     if amount>balance:\n",
    "#         raise InsufficientFunds()  ----> this is the customized exception"
   ]
  },
  {
   "cell_type": "markdown",
   "id": "b97a3bb2",
   "metadata": {},
   "source": [
    "**Lets's say you are making a software for matrimony**\n",
    "- there should be some exceptions like tooyoungexception , tooldexception\n",
    "- just like this error - **ZeroDivisionError:Cant't be divided by zero**\n",
    "- ZeroDivisionError is a class name and further there is a description"
   ]
  },
  {
   "cell_type": "markdown",
   "id": "d6422cfe",
   "metadata": {},
   "source": [
    "**Every exception is a class , and it directly or indirectly comes under/inherited from BaseException**\n",
    "- Similarly to make our own exception , it should be inherited from BaseException class"
   ]
  },
  {
   "cell_type": "code",
   "execution_count": 1,
   "id": "1a2eef21",
   "metadata": {},
   "outputs": [],
   "source": [
    "class TooOldException(Exception):\n",
    "    def __init__(self , msg):\n",
    "        self.msg = msg"
   ]
  },
  {
   "cell_type": "code",
   "execution_count": 2,
   "id": "b98fb276",
   "metadata": {},
   "outputs": [],
   "source": [
    "class TooYoungException(Exception):\n",
    "    def __init__(self , msg):\n",
    "        self.msg = msg"
   ]
  },
  {
   "cell_type": "code",
   "execution_count": 8,
   "id": "f6b409ed",
   "metadata": {
    "scrolled": true
   },
   "outputs": [
    {
     "name": "stdout",
     "output_type": "stream",
     "text": [
      "Enter age:1\n"
     ]
    }
   ],
   "source": [
    "age = int(input(\"Enter age:\"))\n",
    "def check_age(age):\n",
    "    if age<18:\n",
    "        raise TooYoungException(\"Please Wait some more time , you will get the best match\") #---> description for the exception\n",
    "    elif age>60:\n",
    "        raise TooOldException(\"Your Age is already crossed. You won't get married\")\n"
   ]
  },
  {
   "cell_type": "markdown",
   "id": "a1c34dfd",
   "metadata": {},
   "source": [
    "**Note**\n",
    "- Useless to handle customized exception , as we created to indicate that something is not right"
   ]
  },
  {
   "cell_type": "code",
   "execution_count": 10,
   "id": "ec7a98ca",
   "metadata": {},
   "outputs": [
    {
     "name": "stdout",
     "output_type": "stream",
     "text": [
      "TooYoungException\n",
      "Please Wait some more time , you will get the best match\n"
     ]
    }
   ],
   "source": [
    "try:\n",
    "    check_age(age)\n",
    "except (TooOldException , TooYoungException) as e:\n",
    "    print(e.__class__.__name__)\n",
    "    print(e)\n"
   ]
  }
 ],
 "metadata": {
  "kernelspec": {
   "display_name": "Python 3 (ipykernel)",
   "language": "python",
   "name": "python3"
  },
  "language_info": {
   "codemirror_mode": {
    "name": "ipython",
    "version": 3
   },
   "file_extension": ".py",
   "mimetype": "text/x-python",
   "name": "python",
   "nbconvert_exporter": "python",
   "pygments_lexer": "ipython3",
   "version": "3.9.18"
  }
 },
 "nbformat": 4,
 "nbformat_minor": 5
}
