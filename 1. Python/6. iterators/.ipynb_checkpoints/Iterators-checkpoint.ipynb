{
 "cells": [
  {
   "cell_type": "markdown",
   "id": "2d9e8884",
   "metadata": {},
   "source": [
    "## What is an Iteration\n",
    "\n",
    "Iteration is a general term for taking each item of something, one after another. Any time you use a loop, explicit or implicit, to go over a group of items, that is iteration."
   ]
  },
  {
   "cell_type": "code",
   "execution_count": 19,
   "id": "26fadf7e",
   "metadata": {},
   "outputs": [
    {
     "name": "stdout",
     "output_type": "stream",
     "text": [
      "1\n",
      "2\n",
      "3\n"
     ]
    }
   ],
   "source": [
    "# Example\n",
    "num = [1,2,3]\n",
    "\n",
    "for i in num:\n",
    "    print(i)"
   ]
  },
  {
   "cell_type": "markdown",
   "id": "c7ea3a1a",
   "metadata": {},
   "source": [
    "## What is Iterator\n",
    "\n",
    "An Iterator is an object that allows the programmer to traverse through a sequence of data without having to store the entire data in the memory\n",
    "- best thing about iterator is , it doesn't require to store the entire data into the memory , it uses single by single approach\n",
    "- **Proof is below**"
   ]
  },
  {
   "cell_type": "markdown",
   "id": "c44d6f03",
   "metadata": {},
   "source": [
    "we have to write a program to display the numbers multiplied by 2 from 1 to 10000 \n",
    "- There are two ways- "
   ]
  },
  {
   "cell_type": "code",
   "execution_count": 1,
   "id": "ff765a6c",
   "metadata": {},
   "outputs": [
    {
     "name": "stdout",
     "output_type": "stream",
     "text": [
      "1330.875\n",
      "0.75\n"
     ]
    }
   ],
   "source": [
    "\n",
    "# Example\n",
    "# 1st way\n",
    "L = [x for x in range(1,10000)]\n",
    "\n",
    "#for i in L:\n",
    "    #print(i*2)\n",
    "    \n",
    "import sys\n",
    "\n",
    "print(sys.getsizeof(L)/64)\n",
    "\n",
    "# 2nd way\n",
    "\n",
    "x = range(1,10000000000)    #------> iterator\n",
    "\n",
    "#for i in x:\n",
    "    #print(i*2)\n",
    "    \n",
    "print(sys.getsizeof(x)/64)\n",
    "\n"
   ]
  },
  {
   "cell_type": "markdown",
   "id": "5efe3df1",
   "metadata": {},
   "source": [
    "**But the problem with this approach the list is taking space in the memory, hence instead of this we can use range function to generate no between 1 to 10000 output will be same but with the range function is it took way less space . Because when we made list it was loaded into the memory at once , but when we used range what it did is it didn't stores number from 1 to 100000 into the memory , it created an iterator and that iterator firstly took one into the memory after the work is done it removess from the memory , then it picked 2 work done , removed fromt the memory and so on, even if you took 100000000 the memory will not increase , that's the main reason for studying the iterator**"
   ]
  },
  {
   "cell_type": "markdown",
   "id": "99fff65f",
   "metadata": {},
   "source": [
    "## What is Iterable\n",
    "Iterable is an object, which one can iterate over\n",
    "\n",
    " It generates an Iterator when passed to iter() method.\n",
    " - aise obj jisnke upar loop use kr skte hai \n",
    " - in the above example list and range both are iterables as loop can be used on the both\n",
    " - **Any iterable can give iterator just like in the below example**"
   ]
  },
  {
   "cell_type": "code",
   "execution_count": 32,
   "id": "77650fa6",
   "metadata": {},
   "outputs": [
    {
     "data": {
      "text/plain": [
       "list_iterator"
      ]
     },
     "execution_count": 32,
     "metadata": {},
     "output_type": "execute_result"
    }
   ],
   "source": [
    "# Example\n",
    "\n",
    "L = [1,2,3]\n",
    "type(L)\n",
    "\n",
    "\n",
    "# L is an iterable\n",
    "type(iter(L))\n",
    "\n",
    "# iter(L) --> iterator"
   ]
  },
  {
   "cell_type": "markdown",
   "id": "f9482d80",
   "metadata": {},
   "source": [
    "## Point to remember\n",
    "\n",
    "- Every **Iterator** is also and **Iterable**\n",
    "- Not all **Iterables** are **Iterators**"
   ]
  },
  {
   "cell_type": "markdown",
   "id": "f31a5703",
   "metadata": {},
   "source": [
    "Understanding second point\n",
    "- **Not all iterables are iterators**\n",
    "- ex - list is an iterable , which means uske upar loop chla skte hai , but it is not iterator kunki jab list banate hai vo ek sath load hoti hai memory me\n",
    "\n",
    "- **Iterable is also an iterable**\n",
    "- we can use loop on iterator hence it is also an iterable\n",
    "\n",
    "- ques - how to know if the thing is iterator or not?\n",
    "- below is the trick"
   ]
  },
  {
   "cell_type": "markdown",
   "id": "9c4c52a7",
   "metadata": {},
   "source": [
    "## Trick\n",
    "- Every Iterable has an **iter function**\n",
    "- Every Iterator has both **iter function** as well as a **next function**"
   ]
  },
  {
   "cell_type": "markdown",
   "id": "fcdc0123",
   "metadata": {},
   "source": [
    "## ques - a iterable or not?"
   ]
  },
  {
   "cell_type": "markdown",
   "id": "ce48d311",
   "metadata": {},
   "source": [
    "**Example 1**"
   ]
  },
  {
   "cell_type": "code",
   "execution_count": 2,
   "id": "802be65a",
   "metadata": {
    "scrolled": true
   },
   "outputs": [
    {
     "data": {
      "text/plain": [
       "['__abs__',\n",
       " '__add__',\n",
       " '__and__',\n",
       " '__bool__',\n",
       " '__ceil__',\n",
       " '__class__',\n",
       " '__delattr__',\n",
       " '__dir__',\n",
       " '__divmod__',\n",
       " '__doc__',\n",
       " '__eq__',\n",
       " '__float__',\n",
       " '__floor__',\n",
       " '__floordiv__',\n",
       " '__format__',\n",
       " '__ge__',\n",
       " '__getattribute__',\n",
       " '__getnewargs__',\n",
       " '__gt__',\n",
       " '__hash__',\n",
       " '__index__',\n",
       " '__init__',\n",
       " '__init_subclass__',\n",
       " '__int__',\n",
       " '__invert__',\n",
       " '__le__',\n",
       " '__lshift__',\n",
       " '__lt__',\n",
       " '__mod__',\n",
       " '__mul__',\n",
       " '__ne__',\n",
       " '__neg__',\n",
       " '__new__',\n",
       " '__or__',\n",
       " '__pos__',\n",
       " '__pow__',\n",
       " '__radd__',\n",
       " '__rand__',\n",
       " '__rdivmod__',\n",
       " '__reduce__',\n",
       " '__reduce_ex__',\n",
       " '__repr__',\n",
       " '__rfloordiv__',\n",
       " '__rlshift__',\n",
       " '__rmod__',\n",
       " '__rmul__',\n",
       " '__ror__',\n",
       " '__round__',\n",
       " '__rpow__',\n",
       " '__rrshift__',\n",
       " '__rshift__',\n",
       " '__rsub__',\n",
       " '__rtruediv__',\n",
       " '__rxor__',\n",
       " '__setattr__',\n",
       " '__sizeof__',\n",
       " '__str__',\n",
       " '__sub__',\n",
       " '__subclasshook__',\n",
       " '__truediv__',\n",
       " '__trunc__',\n",
       " '__xor__',\n",
       " 'as_integer_ratio',\n",
       " 'bit_length',\n",
       " 'conjugate',\n",
       " 'denominator',\n",
       " 'from_bytes',\n",
       " 'imag',\n",
       " 'numerator',\n",
       " 'real',\n",
       " 'to_bytes']"
      ]
     },
     "execution_count": 2,
     "metadata": {},
     "output_type": "execute_result"
    }
   ],
   "source": [
    "a = 2\n",
    "a\n",
    "#ques - a iterable or not?\n",
    "#ans - 1st way - if loop works , then iterable\n",
    "#2nd\n",
    "#for i in a: \n",
    "    #print(i)\n",
    "    \n",
    "dir(a)"
   ]
  },
  {
   "cell_type": "markdown",
   "id": "d9d1521c",
   "metadata": {},
   "source": [
    "**Example 2**"
   ]
  },
  {
   "cell_type": "code",
   "execution_count": 7,
   "id": "d69c8427",
   "metadata": {},
   "outputs": [
    {
     "data": {
      "text/plain": [
       "True"
      ]
     },
     "execution_count": 7,
     "metadata": {},
     "output_type": "execute_result"
    }
   ],
   "source": [
    "t = (1 , 2 , 3)\n",
    "#check if it is an iterable or not?\n",
    "'__iter__' in dir(t)"
   ]
  },
  {
   "cell_type": "code",
   "execution_count": 8,
   "id": "2daf8b0a",
   "metadata": {},
   "outputs": [
    {
     "data": {
      "text/plain": [
       "True"
      ]
     },
     "execution_count": 8,
     "metadata": {},
     "output_type": "execute_result"
    }
   ],
   "source": [
    "T = {1:2,3:4}\n",
    "'__iter__' in dir(T)"
   ]
  },
  {
   "cell_type": "markdown",
   "id": "61abd5f4",
   "metadata": {},
   "source": [
    "## ques - Iterator or not? \n",
    "- ans - if it has iter as well as next method , it is an iterator"
   ]
  },
  {
   "cell_type": "code",
   "execution_count": 10,
   "id": "72a974e5",
   "metadata": {},
   "outputs": [
    {
     "data": {
      "text/plain": [
       "False"
      ]
     },
     "execution_count": 10,
     "metadata": {},
     "output_type": "execute_result"
    }
   ],
   "source": [
    "# example\n",
    "L = [1 , 2, 3]\n",
    "'__next__' in dir(L)\n",
    "# hence list is not an iterator"
   ]
  },
  {
   "cell_type": "markdown",
   "id": "71f9d029",
   "metadata": {},
   "source": [
    "**But we can do something interesting with iterable that , it can give the iterator when use iter on that iterable , since now it is been converted into an iterator therefore it will contain both `__iter__` as well as `__next__` method**"
   ]
  },
  {
   "cell_type": "code",
   "execution_count": 12,
   "id": "7468f8bf",
   "metadata": {},
   "outputs": [
    {
     "data": {
      "text/plain": [
       "True"
      ]
     },
     "execution_count": 12,
     "metadata": {},
     "output_type": "execute_result"
    }
   ],
   "source": [
    "L = [1,2,3]\n",
    "\n",
    "# L is not an iterator\n",
    "iter_L = iter(L) #---> now it is an iterator\n",
    "\n",
    "# iter_L is an iterator\n",
    "'__next__' and '__iter__' in dir(iter_L)"
   ]
  },
  {
   "cell_type": "markdown",
   "id": "5f02c4b7",
   "metadata": {},
   "source": [
    "## Understanding how for loop works"
   ]
  },
  {
   "cell_type": "markdown",
   "id": "687d4a94",
   "metadata": {},
   "source": [
    "- Step 1 - Jiske upar loop chlana hai that should be an iterable\n",
    "- step 2 - for loop fetches an iterator using iter function\n",
    "- step 3 - next fn tells the state of your iterator , ki abhi konse item ke upar ho , it will automatically detect you are on which item and print that item\n",
    "- Note -  You will find all these steps in the below second code"
   ]
  },
  {
   "cell_type": "code",
   "execution_count": 42,
   "id": "8b518b08",
   "metadata": {},
   "outputs": [
    {
     "name": "stdout",
     "output_type": "stream",
     "text": [
      "1\n",
      "2\n",
      "3\n"
     ]
    }
   ],
   "source": [
    "num = [1,2,3]\n",
    "\n",
    "for i in num:\n",
    "    print(i)"
   ]
  },
  {
   "cell_type": "code",
   "execution_count": 15,
   "id": "bfb4f98d",
   "metadata": {},
   "outputs": [
    {
     "data": {
      "text/plain": [
       "3"
      ]
     },
     "execution_count": 15,
     "metadata": {},
     "output_type": "execute_result"
    }
   ],
   "source": [
    "num = [1,2,3]\n",
    "\n",
    "\n",
    "iter_num = iter(num) # ------->fetch the iterator\n",
    "\n",
    "# step2 --> next\n",
    "next(iter_num)\n",
    "next(iter_num)\n",
    "next(iter_num)"
   ]
  },
  {
   "cell_type": "markdown",
   "id": "b4f800a9",
   "metadata": {},
   "source": [
    "this is what is happening behind the scenes"
   ]
  },
  {
   "cell_type": "markdown",
   "id": "e35d6e87",
   "metadata": {},
   "source": [
    "## Making our own for loop"
   ]
  },
  {
   "cell_type": "code",
   "execution_count": 16,
   "id": "7822da8e",
   "metadata": {},
   "outputs": [],
   "source": [
    "def mera_khudka_for_loop(iterable):\n",
    "    \n",
    "    iterator = iter(iterable)\n",
    "    \n",
    "    while True:\n",
    "        \n",
    "        try:\n",
    "            print(next(iterator))\n",
    "        except StopIteration:\n",
    "            break           "
   ]
  },
  {
   "cell_type": "code",
   "execution_count": 21,
   "id": "68a428be",
   "metadata": {},
   "outputs": [
    {
     "name": "stdout",
     "output_type": "stream",
     "text": [
      "0\n",
      "1\n"
     ]
    }
   ],
   "source": [
    "a = [1,2,3]\n",
    "b = range(1,11)\n",
    "c = (1,2,3)\n",
    "d = {1,2,3}\n",
    "e = {0:1,1:1}\n",
    "\n",
    "mera_khudka_for_loop(e)"
   ]
  },
  {
   "cell_type": "markdown",
   "id": "81a3e616",
   "metadata": {},
   "source": [
    "## A confusing point\n",
    "- explaination of below code - \n",
    "- list is an iterable but not an iterator\n",
    "- since it is iterable it contains iter method\n",
    "- we use iter method and stored in the variable of iter_obj which is an iterator \n",
    "- now iterator next method but it also has iter method\n",
    "- that means we can use iter on an iterator as it contains iter method and it returns an iterator \n",
    "- so what is this new iterator?\n",
    "- the new iterator is the old iterator itself , proof - print the address of the both"
   ]
  },
  {
   "cell_type": "code",
   "execution_count": 22,
   "id": "269d3c83",
   "metadata": {},
   "outputs": [
    {
     "name": "stdout",
     "output_type": "stream",
     "text": [
      "1760183200112 Address of iterator 1\n",
      "1760183200112 Address of iterator 2\n"
     ]
    }
   ],
   "source": [
    "num = [1,2,3]\n",
    "iter_obj = iter(num)\n",
    "\n",
    "print(id(iter_obj),'Address of iterator 1')\n",
    "\n",
    "iter_obj2 = iter(iter_obj)\n",
    "print(id(iter_obj2),'Address of iterator 2')"
   ]
  },
  {
   "cell_type": "markdown",
   "id": "5216d841",
   "metadata": {},
   "source": [
    "**Benefit of Iterator**\n",
    "-- \n",
    "- when you want to create an object of yours , and you want ki uske upar loop chl ske then you must have knowledge to make your own obj an iterable"
   ]
  },
  {
   "cell_type": "markdown",
   "id": "051af6bc",
   "metadata": {},
   "source": [
    "## Let's create our own range() function"
   ]
  },
  {
   "cell_type": "code",
   "execution_count": 23,
   "id": "7eaf1228",
   "metadata": {},
   "outputs": [],
   "source": [
    "class mera_range:\n",
    "    \n",
    "    def __init__(self,start,end):\n",
    "        self.start = start      # ------>this class is of iterable\n",
    "        self.end = end\n",
    "        \n",
    "    def __iter__(self):       # so jab hum loop me dalenge , then the loop will demand for an iterator\n",
    "        # tbhi vo one by one item ko fetch krta hai , to hum ek dusri class return krenge which is of iterator\n",
    "        return mera_range_iterator(self)"
   ]
  },
  {
   "cell_type": "code",
   "execution_count": 29,
   "id": "28118f2d",
   "metadata": {},
   "outputs": [],
   "source": [
    "class mera_range_iterator:\n",
    "    \n",
    "    def __init__(self,iterable_obj):\n",
    "        self.iterable = iterable_obj\n",
    "    \n",
    "    def __iter__(self):\n",
    "        return self   # when you use iter on iterator it returns itself\n",
    "                                     # ------>this class is of iterator\n",
    "    def __next__(self):\n",
    "        \n",
    "        if self.iterable.start > self.iterable.end:\n",
    "            raise StopIteration\n",
    "            \n",
    "        current = self.iterable.start\n",
    "        self.iterable.start+=1\n",
    "        return current"
   ]
  },
  {
   "cell_type": "code",
   "execution_count": 30,
   "id": "142c0b98",
   "metadata": {},
   "outputs": [],
   "source": [
    "x = mera_range(1,11)"
   ]
  },
  {
   "cell_type": "code",
   "execution_count": 31,
   "id": "5aaaeeb3",
   "metadata": {},
   "outputs": [
    {
     "data": {
      "text/plain": [
       "__main__.mera_range"
      ]
     },
     "execution_count": 31,
     "metadata": {},
     "output_type": "execute_result"
    }
   ],
   "source": [
    "type(x)"
   ]
  },
  {
   "cell_type": "code",
   "execution_count": 32,
   "id": "8e742864",
   "metadata": {},
   "outputs": [
    {
     "data": {
      "text/plain": [
       "<__main__.mera_range_iterator at 0x199d320a4f0>"
      ]
     },
     "execution_count": 32,
     "metadata": {},
     "output_type": "execute_result"
    }
   ],
   "source": [
    "iter(x)"
   ]
  },
  {
   "cell_type": "code",
   "execution_count": 33,
   "id": "95380d0b",
   "metadata": {},
   "outputs": [
    {
     "name": "stdout",
     "output_type": "stream",
     "text": [
      "1\n",
      "2\n",
      "3\n",
      "4\n",
      "5\n",
      "6\n",
      "7\n",
      "8\n",
      "9\n",
      "10\n"
     ]
    }
   ],
   "source": [
    "for i in mera_range(1 , 10):\n",
    "    print(i)"
   ]
  },
  {
   "cell_type": "code",
   "execution_count": 34,
   "id": "edf34293",
   "metadata": {},
   "outputs": [
    {
     "data": {
      "text/plain": [
       "[1, 2, 3, 4, 5, 6, 7, 8, 9, 10, 11]"
      ]
     },
     "execution_count": 34,
     "metadata": {},
     "output_type": "execute_result"
    }
   ],
   "source": [
    "x = mera_range(1 , 11)\n",
    "list(x)"
   ]
  }
 ],
 "metadata": {
  "kernelspec": {
   "display_name": "Python 3 (ipykernel)",
   "language": "python",
   "name": "python3"
  },
  "language_info": {
   "codemirror_mode": {
    "name": "ipython",
    "version": 3
   },
   "file_extension": ".py",
   "mimetype": "text/x-python",
   "name": "python",
   "nbconvert_exporter": "python",
   "pygments_lexer": "ipython3",
   "version": "3.9.12"
  }
 },
 "nbformat": 4,
 "nbformat_minor": 5
}
