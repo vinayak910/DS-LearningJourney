{
 "cells": [
  {
   "cell_type": "markdown",
   "id": "905a4e72",
   "metadata": {},
   "source": [
    "## What is a Generator\n",
    "\n",
    "Python generators are a simple way of creating iterators. "
   ]
  },
  {
   "cell_type": "code",
   "execution_count": null,
   "id": "478a2bbc",
   "metadata": {},
   "outputs": [],
   "source": [
    "# iterable\n",
    "class mera_range:\n",
    "    \n",
    "    def __init__(self,start,end):\n",
    "        self.start = start\n",
    "        self.end = end\n",
    "        \n",
    "    def __iter__(self):\n",
    "        return mera_iterator(self)\n",
    "    \n",
    "\n",
    "# iterator\n",
    "class mera_iterator:\n",
    "    \n",
    "    def __init__(self,iterable_obj):\n",
    "        self.iterable = iterable_obj\n",
    "    \n",
    "    def __iter__(self):\n",
    "        return self\n",
    "    \n",
    "    def __next__(self):\n",
    "        \n",
    "        if self.iterable.start >= self.iterable.end:\n",
    "            raise StopIteration\n",
    "        \n",
    "        current = self.iterable.start\n",
    "        self.iterable.start+=1\n",
    "        return current"
   ]
  },
  {
   "cell_type": "markdown",
   "id": "b9255aeb",
   "metadata": {},
   "source": [
    "The above big code is just to make a range function , hence need of generators - easy way of making an iterator"
   ]
  },
  {
   "cell_type": "markdown",
   "id": "fd44bc77",
   "metadata": {},
   "source": [
    "## The Why"
   ]
  },
  {
   "cell_type": "code",
   "execution_count": 27,
   "id": "ea3d5fa3",
   "metadata": {},
   "outputs": [
    {
     "data": {
      "text/plain": [
       "48"
      ]
     },
     "execution_count": 27,
     "metadata": {},
     "output_type": "execute_result"
    }
   ],
   "source": [
    "L = [x for x in range(100000)]\n",
    "\n",
    "#for i in L:\n",
    "    #print(i**2)\n",
    "    \n",
    "import sys\n",
    "sys.getsizeof(L)\n",
    "\n",
    "x = range(10000000)\n",
    "\n",
    "#for i in x:\n",
    "    #print(i**2)\n",
    "sys.getsizeof(x)"
   ]
  },
  {
   "cell_type": "markdown",
   "id": "b22fe091",
   "metadata": {},
   "source": [
    "## A Simple Example\n",
    "- Generators are a type of iterable, but they are defined using functions with the yield keyword.\n",
    "- generator doesn't have return statement\n",
    "- when you call generator it returns a generator obj\n",
    "- you can use next statements to print items and the print statement will print the yield statements\n",
    "- same thing can be done using loops"
   ]
  },
  {
   "cell_type": "code",
   "execution_count": 1,
   "id": "43d4ce12",
   "metadata": {},
   "outputs": [],
   "source": [
    "def gen_demo():\n",
    "    \n",
    "    yield \"first statement\"\n",
    "    yield \"second statement\"\n",
    "    yield \"third statement\""
   ]
  },
  {
   "cell_type": "code",
   "execution_count": 6,
   "id": "6fdb211f",
   "metadata": {},
   "outputs": [
    {
     "name": "stdout",
     "output_type": "stream",
     "text": [
      "first statement\n",
      "second statement\n",
      "third statement\n"
     ]
    }
   ],
   "source": [
    "gen = gen_demo()\n",
    "# generator is a function that returns generator obj\n",
    "# ben of generator obj - we can use next function and print one by one yield outputs\n",
    "\n",
    "print(next(gen))\n",
    "print(next(gen))\n",
    "print(next(gen))"
   ]
  },
  {
   "cell_type": "code",
   "execution_count": 7,
   "id": "92d9a52e",
   "metadata": {
    "scrolled": true
   },
   "outputs": [
    {
     "name": "stdout",
     "output_type": "stream",
     "text": [
      "first statement\n",
      "second statement\n",
      "third statement\n"
     ]
    }
   ],
   "source": [
    "gen = gen_demo()\n",
    "\n",
    "for i in gen:\n",
    "    print(i)"
   ]
  },
  {
   "cell_type": "markdown",
   "id": "dbf5895b",
   "metadata": {},
   "source": [
    "- Initally to make an iterator we have to make a class that contains iter function and another class which is an iterator class that have 2 methods iter and next \n",
    "- but with the help of generators , you don't have to classess and write a big code for that"
   ]
  },
  {
   "cell_type": "markdown",
   "id": "75eb3d2b",
   "metadata": {},
   "source": [
    "## Python Tutor Demo (yield vs return)"
   ]
  },
  {
   "cell_type": "code",
   "execution_count": null,
   "id": "386534f3",
   "metadata": {},
   "outputs": [],
   "source": [
    "def gen_demo():\n",
    "    \n",
    "    yield \"first statement\"\n",
    "    yield \"second statement\"\n",
    "    yield \"third statement\"\n",
    "\n",
    "gen = gen_demo()\n",
    "\n",
    "for i in gen:\n",
    "    print(i)\n",
    "# run this code in python tutor"
   ]
  },
  {
   "cell_type": "markdown",
   "id": "c595b1dd",
   "metadata": {},
   "source": [
    "**Key things to notice after running on the python tutor**\n",
    "- When you called the function ie `gem = gen_demo()` , it doesn't get called , but it is actually called when you used loop on that generator object ie `for i in gen:`\n",
    "- aur jab 1 baar loop chlaya get_demo() fn call hua first time intially usne print kia first statement , aur jab dubara call hua gen tb usne yaad rkha ki ek yeild statement phle hi print ho gyi hai  , to usne next yield statement ko print kia \n",
    "- **conclusion - when you called function , it gets excecuted and memory se remove ho jata hai , whereas generators are special function when called they are temporarly paused and remember its state and variables , jise jab dubara call hua it continues jaha se usne chodda tha**"
   ]
  },
  {
   "cell_type": "markdown",
   "id": "f86e2b35",
   "metadata": {},
   "source": [
    "## Example 2"
   ]
  },
  {
   "cell_type": "code",
   "execution_count": 8,
   "id": "d83fbb40",
   "metadata": {},
   "outputs": [],
   "source": [
    "def square(num):\n",
    "    for i in range(1 , num + 1):\n",
    "        yield i**2"
   ]
  },
  {
   "cell_type": "code",
   "execution_count": 9,
   "id": "dd43c14d",
   "metadata": {},
   "outputs": [
    {
     "name": "stdout",
     "output_type": "stream",
     "text": [
      "1\n",
      "4\n",
      "9\n"
     ]
    }
   ],
   "source": [
    "gen = square(10)\n",
    "print(next(gen))\n",
    "print(next(gen))\n",
    "print(next(gen))"
   ]
  },
  {
   "cell_type": "code",
   "execution_count": null,
   "id": "70736359",
   "metadata": {},
   "outputs": [],
   "source": [
    "# now we know that for loop automatically calls next function which will pick each item"
   ]
  },
  {
   "cell_type": "code",
   "execution_count": 10,
   "id": "96cc0add",
   "metadata": {
    "scrolled": false
   },
   "outputs": [
    {
     "name": "stdout",
     "output_type": "stream",
     "text": [
      "16\n",
      "25\n",
      "36\n",
      "49\n",
      "64\n",
      "81\n",
      "100\n"
     ]
    }
   ],
   "source": [
    "for i in gen:\n",
    "    print(i)"
   ]
  },
  {
   "cell_type": "markdown",
   "id": "6e07a476",
   "metadata": {},
   "source": [
    "**see even apne alag statement chlayi , but still the generator remembers ki aapne bhi 3 baar statements print ki hai , aur uske aage se print kia**"
   ]
  },
  {
   "cell_type": "code",
   "execution_count": 11,
   "id": "d1f06da9",
   "metadata": {},
   "outputs": [],
   "source": [
    "for i in gen:\n",
    "    print(i)"
   ]
  },
  {
   "cell_type": "markdown",
   "id": "3745f70d",
   "metadata": {},
   "source": [
    "__see ab loop nhi chla kyunki it already is exhausted__\""
   ]
  },
  {
   "cell_type": "markdown",
   "id": "875edb12",
   "metadata": {},
   "source": [
    "## Range Function using Generator\n",
    "- see using generator humne itne asan kr dia khud ka range function baana , jiske lie humne classes banayi thi"
   ]
  },
  {
   "cell_type": "code",
   "execution_count": 12,
   "id": "14721877",
   "metadata": {},
   "outputs": [],
   "source": [
    "def mera_range(start,end):\n",
    "    \n",
    "    for i in range(start,end):\n",
    "        yield i"
   ]
  },
  {
   "cell_type": "code",
   "execution_count": 13,
   "id": "7f438fad",
   "metadata": {
    "scrolled": false
   },
   "outputs": [
    {
     "name": "stdout",
     "output_type": "stream",
     "text": [
      "15\n",
      "16\n",
      "17\n",
      "18\n",
      "19\n",
      "20\n",
      "21\n",
      "22\n",
      "23\n",
      "24\n",
      "25\n"
     ]
    }
   ],
   "source": [
    "for i in mera_range(15,26):\n",
    "    print(i)"
   ]
  },
  {
   "cell_type": "markdown",
   "id": "52d16c9b",
   "metadata": {},
   "source": [
    "__notice jab humne mera_range ie generator ka obj banaya ie x ,aur jab uspe loop use kia first time it works fine , but next time jab chlaya nahi print hua lkuch kunki it already is exhausted__"
   ]
  },
  {
   "cell_type": "code",
   "execution_count": 14,
   "id": "d840b0e9",
   "metadata": {},
   "outputs": [
    {
     "name": "stdout",
     "output_type": "stream",
     "text": [
      "5\n",
      "6\n",
      "7\n",
      "8\n",
      "9\n"
     ]
    }
   ],
   "source": [
    "x = mera_range(5  ,10)\n",
    "for i in x:\n",
    "    print(i)"
   ]
  },
  {
   "cell_type": "code",
   "execution_count": 15,
   "id": "8f710a36",
   "metadata": {},
   "outputs": [],
   "source": [
    "for i in x:\n",
    "    print(x)"
   ]
  },
  {
   "cell_type": "markdown",
   "id": "98b5a50a",
   "metadata": {},
   "source": [
    "## Generator Expression"
   ]
  },
  {
   "cell_type": "code",
   "execution_count": 45,
   "id": "722796db",
   "metadata": {},
   "outputs": [],
   "source": [
    "# list comprehension\n",
    "L = [i**2 for i in range(1,101)]"
   ]
  },
  {
   "cell_type": "code",
   "execution_count": 22,
   "id": "cc01bd9d",
   "metadata": {},
   "outputs": [
    {
     "name": "stdout",
     "output_type": "stream",
     "text": [
      "1\n",
      "4\n",
      "9\n",
      "16\n",
      "25\n",
      "36\n",
      "49\n",
      "64\n",
      "81\n",
      "100\n",
      "121\n",
      "144\n",
      "169\n",
      "196\n",
      "225\n",
      "256\n",
      "289\n",
      "324\n",
      "361\n",
      "400\n",
      "441\n",
      "484\n",
      "529\n",
      "576\n",
      "625\n",
      "676\n",
      "729\n",
      "784\n",
      "841\n",
      "900\n",
      "961\n",
      "1024\n",
      "1089\n",
      "1156\n",
      "1225\n",
      "1296\n",
      "1369\n",
      "1444\n",
      "1521\n",
      "1600\n",
      "1681\n",
      "1764\n",
      "1849\n",
      "1936\n",
      "2025\n",
      "2116\n",
      "2209\n",
      "2304\n",
      "2401\n",
      "2500\n",
      "2601\n",
      "2704\n",
      "2809\n",
      "2916\n",
      "3025\n",
      "3136\n",
      "3249\n",
      "3364\n",
      "3481\n",
      "3600\n",
      "3721\n",
      "3844\n",
      "3969\n",
      "4096\n",
      "4225\n",
      "4356\n",
      "4489\n",
      "4624\n",
      "4761\n",
      "4900\n",
      "5041\n",
      "5184\n",
      "5329\n",
      "5476\n",
      "5625\n",
      "5776\n",
      "5929\n",
      "6084\n",
      "6241\n",
      "6400\n",
      "6561\n",
      "6724\n",
      "6889\n",
      "7056\n",
      "7225\n",
      "7396\n",
      "7569\n",
      "7744\n",
      "7921\n",
      "8100\n",
      "8281\n",
      "8464\n",
      "8649\n",
      "8836\n",
      "9025\n",
      "9216\n",
      "9409\n",
      "9604\n",
      "9801\n",
      "10000\n"
     ]
    }
   ],
   "source": [
    "gen = (i**2 for i in range(1,101))  # rather than storing in the list , you can use generator expression\n",
    "\n",
    "for i in gen:\n",
    "    print(i)"
   ]
  },
  {
   "cell_type": "code",
   "execution_count": 23,
   "id": "01f4069f",
   "metadata": {},
   "outputs": [],
   "source": [
    "for i in gen:\n",
    "    print(i)"
   ]
  },
  {
   "cell_type": "code",
   "execution_count": null,
   "id": "c5b7d801",
   "metadata": {},
   "outputs": [],
   "source": [
    "# next time you use it would be already exhausted"
   ]
  },
  {
   "cell_type": "markdown",
   "id": "0c7d14fc",
   "metadata": {},
   "source": [
    "## Practical Example"
   ]
  },
  {
   "cell_type": "code",
   "execution_count": 9,
   "id": "b03eb0a7",
   "metadata": {},
   "outputs": [],
   "source": [
    "import os\n",
    "import cv2\n",
    "   \n",
    "def image_data_reader(folder_path):\n",
    "\n",
    "    for file in os.listdir(folder_path):\n",
    "        f_array = cv2.imread(os.path.join(folder_path,file))\n",
    "        yield f_array\n",
    "    "
   ]
  },
  {
   "cell_type": "code",
   "execution_count": 50,
   "id": "c0ccdc67",
   "metadata": {},
   "outputs": [
    {
     "data": {
      "text/plain": [
       "array([[[ 38,  38,  38],\n",
       "        [ 26,  26,  26],\n",
       "        [ 23,  23,  23],\n",
       "        ...,\n",
       "        [198, 198, 198],\n",
       "        [196, 196, 196],\n",
       "        [167, 167, 167]],\n",
       "\n",
       "       [[ 32,  32,  32],\n",
       "        [ 25,  25,  25],\n",
       "        [ 26,  26,  26],\n",
       "        ...,\n",
       "        [194, 194, 194],\n",
       "        [204, 204, 204],\n",
       "        [181, 181, 181]],\n",
       "\n",
       "       [[ 44,  44,  44],\n",
       "        [ 42,  42,  42],\n",
       "        [ 38,  38,  38],\n",
       "        ...,\n",
       "        [156, 156, 156],\n",
       "        [214, 214, 214],\n",
       "        [199, 199, 199]],\n",
       "\n",
       "       ...,\n",
       "\n",
       "       [[150, 150, 150],\n",
       "        [165, 165, 165],\n",
       "        [186, 186, 186],\n",
       "        ...,\n",
       "        [229, 229, 229],\n",
       "        [226, 226, 226],\n",
       "        [239, 239, 239]],\n",
       "\n",
       "       [[145, 145, 145],\n",
       "        [156, 156, 156],\n",
       "        [180, 180, 180],\n",
       "        ...,\n",
       "        [227, 227, 227],\n",
       "        [228, 228, 228],\n",
       "        [221, 221, 221]],\n",
       "\n",
       "       [[144, 144, 144],\n",
       "        [150, 150, 150],\n",
       "        [172, 172, 172],\n",
       "        ...,\n",
       "        [211, 211, 211],\n",
       "        [189, 189, 189],\n",
       "        [217, 217, 217]]], dtype=uint8)"
      ]
     },
     "execution_count": 50,
     "metadata": {},
     "output_type": "execute_result"
    }
   ],
   "source": [
    "gen = image_data_reader('C:/Users/91842/emotion-detector/train/Sad')\n",
    "\n",
    "next(gen)\n",
    "next(gen)\n",
    "\n",
    "next(gen)\n",
    "next(gen)"
   ]
  },
  {
   "cell_type": "markdown",
   "id": "8cb79570",
   "metadata": {},
   "source": [
    "## Benefits of using a Generator"
   ]
  },
  {
   "cell_type": "markdown",
   "id": "3329b0d1",
   "metadata": {},
   "source": [
    "#### 1. Ease of Implementation"
   ]
  },
  {
   "cell_type": "code",
   "execution_count": null,
   "id": "a1cae9cd",
   "metadata": {},
   "outputs": [],
   "source": [
    "class mera_range:\n",
    "    \n",
    "    def __init__(self,start,end):\n",
    "        self.start = start\n",
    "        self.end = end\n",
    "        \n",
    "    def __iter__(self):\n",
    "        return mera_iterator(self)"
   ]
  },
  {
   "cell_type": "code",
   "execution_count": null,
   "id": "a16123e0",
   "metadata": {},
   "outputs": [],
   "source": [
    "# iterator\n",
    "class mera_iterator:\n",
    "    \n",
    "    def __init__(self,iterable_obj):\n",
    "        self.iterable = iterable_obj\n",
    "    \n",
    "    def __iter__(self):\n",
    "        return self\n",
    "    \n",
    "    def __next__(self):\n",
    "        \n",
    "        if self.iterable.start >= self.iterable.end:\n",
    "            raise StopIteration\n",
    "        \n",
    "        current = self.iterable.start\n",
    "        self.iterable.start+=1\n",
    "        return current"
   ]
  },
  {
   "cell_type": "code",
   "execution_count": null,
   "id": "999b118f",
   "metadata": {},
   "outputs": [],
   "source": [
    "def mera_range(start,end):\n",
    "    \n",
    "    for i in range(start,end):\n",
    "        yield i"
   ]
  },
  {
   "cell_type": "markdown",
   "id": "1cee95cb",
   "metadata": {},
   "source": [
    "#### 2. Memory Efficient"
   ]
  },
  {
   "cell_type": "code",
   "execution_count": 51,
   "id": "d9886270",
   "metadata": {},
   "outputs": [
    {
     "name": "stdout",
     "output_type": "stream",
     "text": [
      "Size of L in memory 824456\n",
      "Size of gen in memory 112\n"
     ]
    }
   ],
   "source": [
    "L = [x for x in range(100000)]\n",
    "gen = (x for x in range(100000))\n",
    "\n",
    "import sys\n",
    "\n",
    "print('Size of L in memory',sys.getsizeof(L))\n",
    "print('Size of gen in memory',sys.getsizeof(gen))"
   ]
  },
  {
   "cell_type": "markdown",
   "id": "5d7c5229",
   "metadata": {},
   "source": [
    "#### 3. Representing Infinite Streams"
   ]
  },
  {
   "cell_type": "code",
   "execution_count": 24,
   "id": "a144da66",
   "metadata": {},
   "outputs": [],
   "source": [
    "def all_even():\n",
    "    n = 0\n",
    "    while True:\n",
    "        yield n\n",
    "        n += 2"
   ]
  },
  {
   "cell_type": "code",
   "execution_count": 26,
   "id": "04b11520",
   "metadata": {},
   "outputs": [
    {
     "data": {
      "text/plain": [
       "2"
      ]
     },
     "execution_count": 26,
     "metadata": {},
     "output_type": "execute_result"
    }
   ],
   "source": [
    "even_num_gen = all_even()\n",
    "next(even_num_gen)\n",
    "next(even_num_gen)   "
   ]
  },
  {
   "cell_type": "markdown",
   "id": "e80fec2f",
   "metadata": {},
   "source": [
    "#### 4. Chaining Generators"
   ]
  },
  {
   "cell_type": "code",
   "execution_count": 21,
   "id": "fc9972b1",
   "metadata": {},
   "outputs": [
    {
     "name": "stdout",
     "output_type": "stream",
     "text": [
      "4895\n"
     ]
    }
   ],
   "source": [
    "def fibonacci_numbers(nums):\n",
    "    x, y = 0, 1\n",
    "    for _ in range(nums):\n",
    "        x, y = y, x+y\n",
    "        yield x\n",
    "\n",
    "def square(nums):\n",
    "    for num in nums:\n",
    "        yield num**2\n",
    "\n",
    "print(sum(square(fibonacci_numbers(10))))"
   ]
  },
  {
   "cell_type": "code",
   "execution_count": null,
   "id": "0558f0f9",
   "metadata": {},
   "outputs": [],
   "source": []
  }
 ],
 "metadata": {
  "kernelspec": {
   "display_name": "Python 3 (ipykernel)",
   "language": "python",
   "name": "python3"
  },
  "language_info": {
   "codemirror_mode": {
    "name": "ipython",
    "version": 3
   },
   "file_extension": ".py",
   "mimetype": "text/x-python",
   "name": "python",
   "nbconvert_exporter": "python",
   "pygments_lexer": "ipython3",
   "version": "3.9.12"
  }
 },
 "nbformat": 4,
 "nbformat_minor": 5
}
