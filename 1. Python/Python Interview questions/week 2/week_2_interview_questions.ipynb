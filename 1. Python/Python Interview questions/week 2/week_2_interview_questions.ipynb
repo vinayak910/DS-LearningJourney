{
 "cells": [
  {
   "cell_type": "markdown",
   "metadata": {
    "id": "4-D6SfjrHAKw"
   },
   "source": [
    "| Question No. | Question |\n",
    "| :--: | :-- |\n",
    "| 1 | What is aliasing?  |\n",
    "| 2 | What is garbage collection?  |\n",
    "| 3 | What is mutability and why is it dangerous in certain scenarios? |\n",
    "| 4 | What is cloning? |\n",
    "| 5 | Differentiate between deep and shallow copies |\n",
    "| 6 | How nested lists are stored in memory? |\n",
    "| 7 | How strings are stored in memory |\n",
    "| 8 | Why tuples take less memory than lists? |\n",
    "| 9 | How set index position is decided? |\n",
    "| 10 | Why mutable types are not allowed in sets/dicts |"
   ]
  },
  {
   "cell_type": "markdown",
   "metadata": {},
   "source": [
    "## Aliasing"
   ]
  },
  {
   "cell_type": "code",
   "execution_count": 2,
   "metadata": {
    "id": "WX2sFkyxlt1D"
   },
   "outputs": [],
   "source": [
    "a = 4"
   ]
  },
  {
   "cell_type": "code",
   "execution_count": 3,
   "metadata": {
    "colab": {
     "base_uri": "https://localhost:8080/"
    },
    "id": "HWiio_s6U4Ln",
    "outputId": "c463554f-8ff9-4e43-a09e-a25c093382c1"
   },
   "outputs": [
    {
     "data": {
      "text/plain": [
       "2109497633168"
      ]
     },
     "execution_count": 3,
     "metadata": {},
     "output_type": "execute_result"
    }
   ],
   "source": [
    "id(a)"
   ]
  },
  {
   "cell_type": "code",
   "execution_count": 4,
   "metadata": {
    "colab": {
     "base_uri": "https://localhost:8080/"
    },
    "id": "5qygxCagVJf_",
    "outputId": "7806a8d8-f114-4bdf-f0c9-f6b737f56132"
   },
   "outputs": [
    {
     "data": {
      "text/plain": [
       "2109497633168"
      ]
     },
     "execution_count": 4,
     "metadata": {},
     "output_type": "execute_result"
    }
   ],
   "source": [
    "id(4)"
   ]
  },
  {
   "cell_type": "code",
   "execution_count": 5,
   "metadata": {
    "colab": {
     "base_uri": "https://localhost:8080/",
     "height": 36
    },
    "id": "oI-j2mJ7VNT_",
    "outputId": "945a3d64-1bcc-4d9a-8348-110a8e426781"
   },
   "outputs": [
    {
     "data": {
      "text/plain": [
       "'0xa9c800'"
      ]
     },
     "execution_count": 5,
     "metadata": {},
     "output_type": "execute_result"
    }
   ],
   "source": [
    "hex(11126784)"
   ]
  },
  {
   "cell_type": "code",
   "execution_count": 6,
   "metadata": {
    "id": "uQJAXjl2VT9Y"
   },
   "outputs": [],
   "source": [
    "a = 4 \n",
    "b = a # --> this is called aliasing"
   ]
  },
  {
   "cell_type": "markdown",
   "metadata": {},
   "source": [
    "both are pointing to same location"
   ]
  },
  {
   "cell_type": "code",
   "execution_count": 8,
   "metadata": {
    "colab": {
     "base_uri": "https://localhost:8080/"
    },
    "id": "TvMESuXVVlJO",
    "outputId": "03a4cb36-5ce7-4759-f3dc-a99455b81a21"
   },
   "outputs": [
    {
     "name": "stdout",
     "output_type": "stream",
     "text": [
      "2109497633168\n",
      "2109497633168\n"
     ]
    }
   ],
   "source": [
    "print(id(a))\n",
    "print(id(b))"
   ]
  },
  {
   "cell_type": "code",
   "execution_count": 10,
   "metadata": {
    "id": "v2AmxMDgVnbX"
   },
   "outputs": [],
   "source": [
    "c = b"
   ]
  },
  {
   "cell_type": "code",
   "execution_count": 11,
   "metadata": {
    "colab": {
     "base_uri": "https://localhost:8080/"
    },
    "id": "l2uFTClXVtXP",
    "outputId": "1d48fac5-8017-476a-cb7c-117fdc44fb91"
   },
   "outputs": [
    {
     "name": "stdout",
     "output_type": "stream",
     "text": [
      "2109497633168\n"
     ]
    }
   ],
   "source": [
    "print(id(c))"
   ]
  },
  {
   "cell_type": "markdown",
   "metadata": {},
   "source": [
    "benefit of aliasing:\n",
    "- memory save\n"
   ]
  },
  {
   "cell_type": "code",
   "execution_count": 12,
   "metadata": {
    "id": "bE-sdPx7VuZr"
   },
   "outputs": [],
   "source": [
    "del a"
   ]
  },
  {
   "cell_type": "code",
   "execution_count": 13,
   "metadata": {
    "colab": {
     "base_uri": "https://localhost:8080/",
     "height": 169
    },
    "id": "5_swNhajWHAZ",
    "outputId": "184e3506-9503-4b96-fc47-8288ee0f2667"
   },
   "outputs": [
    {
     "ename": "NameError",
     "evalue": "name 'a' is not defined",
     "output_type": "error",
     "traceback": [
      "\u001b[1;31m---------------------------------------------------------------------------\u001b[0m",
      "\u001b[1;31mNameError\u001b[0m                                 Traceback (most recent call last)",
      "Input \u001b[1;32mIn [13]\u001b[0m, in \u001b[0;36m<cell line: 1>\u001b[1;34m()\u001b[0m\n\u001b[1;32m----> 1\u001b[0m \u001b[43ma\u001b[49m\n",
      "\u001b[1;31mNameError\u001b[0m: name 'a' is not defined"
     ]
    }
   ],
   "source": [
    "a"
   ]
  },
  {
   "cell_type": "markdown",
   "metadata": {},
   "source": [
    "ques- after deleting a , will the value of b will also be deleted?\n"
   ]
  },
  {
   "cell_type": "code",
   "execution_count": 14,
   "metadata": {
    "colab": {
     "base_uri": "https://localhost:8080/"
    },
    "id": "QDe9T_1YWHv3",
    "outputId": "e47cc2d9-587a-49b8-8bb3-482c33d14eec"
   },
   "outputs": [
    {
     "name": "stdout",
     "output_type": "stream",
     "text": [
      "4\n"
     ]
    }
   ],
   "source": [
    "print(b) # 4 is also printing"
   ]
  },
  {
   "cell_type": "markdown",
   "metadata": {},
   "source": [
    "How delete works?\n",
    "- The reason why after deleting a , b value is still there because when deleted a , it deleted the reference to the address , not the actual value stored in the register"
   ]
  },
  {
   "cell_type": "code",
   "execution_count": 15,
   "metadata": {
    "colab": {
     "base_uri": "https://localhost:8080/"
    },
    "id": "6xgF66uQWQnq",
    "outputId": "b1cc783e-6cd9-454e-cc42-4f205850ab42"
   },
   "outputs": [
    {
     "name": "stdout",
     "output_type": "stream",
     "text": [
      "4\n"
     ]
    }
   ],
   "source": [
    "del b\n",
    "print(c)"
   ]
  },
  {
   "cell_type": "code",
   "execution_count": null,
   "metadata": {
    "id": "Cc9yfxBRWiWu"
   },
   "outputs": [],
   "source": [
    "a = 'DSMP 2022-23'\n",
    "b = a\n",
    "c = b"
   ]
  },
  {
   "cell_type": "markdown",
   "metadata": {},
   "source": [
    "Aliasing in summery:\n",
    "- way to save memory .\n",
    "- if you want to make multiple variables by the same value ,by making more variables in the memory , instead make on variable , and other variables will refer to that address"
   ]
  },
  {
   "cell_type": "code",
   "execution_count": null,
   "metadata": {
    "colab": {
     "base_uri": "https://localhost:8080/"
    },
    "id": "iXxpHxNcXD2r",
    "outputId": "15402061-1e3c-4c50-a6ee-323283ca61d9"
   },
   "outputs": [
    {
     "data": {
      "text/plain": [
       "3"
      ]
     },
     "execution_count": 29,
     "metadata": {},
     "output_type": "execute_result"
    }
   ],
   "source": [
    "import sys\n",
    "sys.getrefcount('DSMP 2022-23') # will tell how many variables are pointing to the address of this value"
   ]
  },
  {
   "cell_type": "markdown",
   "metadata": {},
   "source": [
    "## Garbage Collection"
   ]
  },
  {
   "cell_type": "markdown",
   "metadata": {},
   "source": [
    "When deleting all reference to the particular value stored in memory ,since all reference is deleted , therefore can't access it , and that value is using memory , hence there is a concept of garbage collection\n",
    "- so what garbage collection is , it is a program which periodically checks for somthing that is in memory , but noone is using or utilizg it and remove that garbages from memory.\n",
    "- python doesnt give you/programmer power to delete values from memory"
   ]
  },
  {
   "cell_type": "markdown",
   "metadata": {},
   "source": [
    "## Mutability\n",
    "list of mutable and immutable:\n",
    "- Mutable: list , sets , dictionary\n",
    "- immutable: int , float , string , boolean , complex , tuple\n",
    "- concept: ability of a datatype to gets changed on its memory location , is called mutablity. and Mutability depends on data type"
   ]
  },
  {
   "cell_type": "code",
   "execution_count": null,
   "metadata": {
    "colab": {
     "base_uri": "https://localhost:8080/"
    },
    "id": "oDdEA7PMXObC",
    "outputId": "bf390387-e8e5-4046-d227-4b0d1c32345e"
   },
   "outputs": [
    {
     "name": "stdout",
     "output_type": "stream",
     "text": [
      "139652074757168\n",
      "[1, 2, 3, 4]\n",
      "139652074757168\n"
     ]
    }
   ],
   "source": [
    "L = [1,2,3] # list and address of list\n",
    "print(id(L))\n",
    "\n",
    "L.append(4) # change in the list\n",
    "print(L) # list is changed\n",
    "print(id(L)) # the address is also same , which means the change is done on the memory level"
   ]
  },
  {
   "cell_type": "code",
   "execution_count": null,
   "metadata": {
    "colab": {
     "base_uri": "https://localhost:8080/"
    },
    "id": "cclpQY2qZmYY",
    "outputId": "5178fa40-d382-4a9e-8f02-b310363e1ef6"
   },
   "outputs": [
    {
     "name": "stdout",
     "output_type": "stream",
     "text": [
      "139652076050304\n",
      "(1, 2, 3, 4)\n",
      "139652075362160\n"
     ]
    }
   ],
   "source": [
    "T = (1,2,3)\n",
    "print(id(T))\n",
    "\n",
    "T = T + (4,)\n",
    "\n",
    "print(T)\n",
    "print(id(T))"
   ]
  },
  {
   "cell_type": "markdown",
   "metadata": {},
   "source": [
    "since tupe is immutable , the changes to tuple will not be done on memory level instead a new tuple object will be created with new memory address , as tuple is immutable"
   ]
  },
  {
   "cell_type": "code",
   "execution_count": null,
   "metadata": {
    "colab": {
     "base_uri": "https://localhost:8080/"
    },
    "id": "B8OfnvEBaYrS",
    "outputId": "c590565b-6fa4-441d-c33f-e7a5bb59708e"
   },
   "outputs": [
    {
     "name": "stdout",
     "output_type": "stream",
     "text": [
      "[1, 2, 3, 4]\n"
     ]
    }
   ],
   "source": [
    "a = [1,2,3] # why mutability is dangerous(changes will also be on other)\n",
    "b = a # scenario 1\n",
    "\n",
    "b.append(4)\n",
    "print(b)"
   ]
  },
  {
   "cell_type": "code",
   "execution_count": null,
   "metadata": {
    "colab": {
     "base_uri": "https://localhost:8080/"
    },
    "id": "TKYJM-Bla_hl",
    "outputId": "1b41dc21-5954-4aef-9eb0-a8f72db9c226"
   },
   "outputs": [
    {
     "name": "stdout",
     "output_type": "stream",
     "text": [
      "[1, 2, 3, 4]\n"
     ]
    }
   ],
   "source": [
    "print(a)"
   ]
  },
  {
   "cell_type": "code",
   "execution_count": null,
   "metadata": {
    "colab": {
     "base_uri": "https://localhost:8080/"
    },
    "id": "XxGAq_nLbAx_",
    "outputId": "d1e2d99e-54b2-4311-f040-c0578859039c",
    "scrolled": true
   },
   "outputs": [
    {
     "name": "stdout",
     "output_type": "stream",
     "text": [
      "[1, 2, 3]\n"
     ]
    }
   ],
   "source": [
    "def func(data):\n",
    "  data.append(4) # scenorio 2 : even without using global keyword\n",
    "# you changed the global variable which is risky\n",
    "\n",
    "a = [1,2,3]\n",
    "func(a[:])\n",
    "print(a)"
   ]
  },
  {
   "cell_type": "markdown",
   "metadata": {},
   "source": [
    "## Cloning"
   ]
  },
  {
   "cell_type": "code",
   "execution_count": 16,
   "metadata": {
    "id": "Ek1_pIqJbg17"
   },
   "outputs": [],
   "source": [
    "a = [1,2,3]\n",
    "# cloning\n",
    "b = a[:] # -->cloning"
   ]
  },
  {
   "cell_type": "code",
   "execution_count": 17,
   "metadata": {
    "colab": {
     "base_uri": "https://localhost:8080/"
    },
    "id": "8F2gdB3OdLjD",
    "outputId": "11736066-c3fe-4da1-e971-252aa7fc38ab"
   },
   "outputs": [
    {
     "data": {
      "text/plain": [
       "2109609678976"
      ]
     },
     "execution_count": 17,
     "metadata": {},
     "output_type": "execute_result"
    }
   ],
   "source": [
    "id(a)"
   ]
  },
  {
   "cell_type": "code",
   "execution_count": 18,
   "metadata": {
    "colab": {
     "base_uri": "https://localhost:8080/"
    },
    "id": "pKiRpTlxdNF6",
    "outputId": "27d559c8-4c64-4306-9165-070774b6af55"
   },
   "outputs": [
    {
     "data": {
      "text/plain": [
       "2109581013248"
      ]
     },
     "execution_count": 18,
     "metadata": {},
     "output_type": "execute_result"
    }
   ],
   "source": [
    "id(b)"
   ]
  },
  {
   "cell_type": "code",
   "execution_count": 19,
   "metadata": {
    "colab": {
     "base_uri": "https://localhost:8080/"
    },
    "id": "WtORN19xdOX4",
    "outputId": "bbf7c783-30e3-47dc-cba7-b91681cb5372"
   },
   "outputs": [
    {
     "data": {
      "text/plain": [
       "[1, 2, 3, 4]"
      ]
     },
     "execution_count": 19,
     "metadata": {},
     "output_type": "execute_result"
    }
   ],
   "source": [
    "b.append(4)\n",
    "b"
   ]
  },
  {
   "cell_type": "code",
   "execution_count": 20,
   "metadata": {
    "colab": {
     "base_uri": "https://localhost:8080/"
    },
    "id": "h669pb8gdQte",
    "outputId": "210b528e-edc6-4f62-ed82-26de02a6b4b2"
   },
   "outputs": [
    {
     "data": {
      "text/plain": [
       "[1, 2, 3]"
      ]
     },
     "execution_count": 20,
     "metadata": {},
     "output_type": "execute_result"
    }
   ],
   "source": [
    "a"
   ]
  },
  {
   "cell_type": "code",
   "execution_count": null,
   "metadata": {
    "colab": {
     "base_uri": "https://localhost:8080/"
    },
    "id": "xdt-p00MdWGa",
    "outputId": "37f8e349-c292-4888-ba81-cd882ae01a10",
    "scrolled": true
   },
   "outputs": [
    {
     "name": "stdout",
     "output_type": "stream",
     "text": [
      "{'name': 'nitish', 'age': 33, 'gender': 'male'}\n",
      "{'name': 'nitish', 'age': 33}\n"
     ]
    }
   ],
   "source": [
    "a = {'name':'nitish','age':33}\n",
    "#cloning = copy()\n",
    "b = a.copy()\n",
    "\n",
    "b['gender'] = 'male'\n",
    "\n",
    "print(b)\n",
    "print(a)"
   ]
  },
  {
   "cell_type": "markdown",
   "metadata": {},
   "source": [
    "## Shallow vs Deep Copies"
   ]
  },
  {
   "cell_type": "code",
   "execution_count": 22,
   "metadata": {
    "colab": {
     "base_uri": "https://localhost:8080/"
    },
    "id": "Y4Q8UF2_eeIx",
    "outputId": "03a5ff0d-5755-4abb-e1e5-0113d5563581"
   },
   "outputs": [
    {
     "name": "stdout",
     "output_type": "stream",
     "text": [
      "[1, 2, 3]\n",
      "[1, 2, 3, 4]\n"
     ]
    }
   ],
   "source": [
    "a = [1,2,3]\n",
    "# shallow\n",
    "b = a.copy() # cloning is actually called shallow copy\n",
    "\n",
    "b.append(4)\n",
    "\n",
    "print(a)\n",
    "print(b)"
   ]
  },
  {
   "cell_type": "markdown",
   "metadata": {},
   "source": [
    "Problem with shallow copy:\n",
    "- When used 2d list and done shallow copy, and then apply changes to internal component of that 2d list , the change will be done to the original too. as for internal values it is getting changed on the memory level\n",
    "- look below"
   ]
  },
  {
   "cell_type": "code",
   "execution_count": 24,
   "metadata": {
    "colab": {
     "base_uri": "https://localhost:8080/"
    },
    "id": "Y92fFI-Me-Pt",
    "outputId": "f4be669a-f43e-4e51-d16a-dc906816ac25"
   },
   "outputs": [
    {
     "data": {
      "text/plain": [
       "[1, 2, 3, [4, 5]]"
      ]
     },
     "execution_count": 24,
     "metadata": {},
     "output_type": "execute_result"
    }
   ],
   "source": [
    "a = [1,2,3,[4,5]]\n",
    "a"
   ]
  },
  {
   "cell_type": "code",
   "execution_count": 25,
   "metadata": {},
   "outputs": [
    {
     "data": {
      "text/plain": [
       "[1, 2, 3, [4, 5]]"
      ]
     },
     "execution_count": 25,
     "metadata": {},
     "output_type": "execute_result"
    }
   ],
   "source": [
    "b = a.copy()\n",
    "b"
   ]
  },
  {
   "cell_type": "code",
   "execution_count": 27,
   "metadata": {},
   "outputs": [],
   "source": [
    "#changing internal values\n",
    "b[-1][0] = 400\n",
    "# now change will also happen to a"
   ]
  },
  {
   "cell_type": "code",
   "execution_count": 28,
   "metadata": {},
   "outputs": [
    {
     "data": {
      "text/plain": [
       "[1, 2, 3, [400, 5]]"
      ]
     },
     "execution_count": 28,
     "metadata": {},
     "output_type": "execute_result"
    }
   ],
   "source": [
    "b"
   ]
  },
  {
   "cell_type": "code",
   "execution_count": 29,
   "metadata": {},
   "outputs": [
    {
     "data": {
      "text/plain": [
       "[1, 2, 3, [400, 5]]"
      ]
     },
     "execution_count": 29,
     "metadata": {},
     "output_type": "execute_result"
    }
   ],
   "source": [
    "a"
   ]
  },
  {
   "cell_type": "code",
   "execution_count": null,
   "metadata": {
    "colab": {
     "base_uri": "https://localhost:8080/"
    },
    "id": "VJlWEzy9ftIs",
    "outputId": "24c6813b-4217-43b5-ab65-b81fad52bbe0"
   },
   "outputs": [
    {
     "name": "stdout",
     "output_type": "stream",
     "text": [
      "139652074560480\n",
      "139652074560480\n"
     ]
    }
   ],
   "source": [
    "print(id(a[-1]))\n",
    "print(id(b[-1])) # see for the internal element both have the same address"
   ]
  },
  {
   "cell_type": "code",
   "execution_count": null,
   "metadata": {
    "colab": {
     "base_uri": "https://localhost:8080/"
    },
    "id": "1JxShZ_lfLUT",
    "outputId": "bd5a2a9b-e15d-4d10-9dae-c282aa60f9ef"
   },
   "outputs": [
    {
     "data": {
      "text/plain": [
       "[1, 2, 3, [4, 5]]"
      ]
     },
     "execution_count": 57,
     "metadata": {},
     "output_type": "execute_result"
    }
   ],
   "source": [
    "b = a.copy()\n",
    "b"
   ]
  },
  {
   "cell_type": "code",
   "execution_count": null,
   "metadata": {
    "colab": {
     "base_uri": "https://localhost:8080/"
    },
    "id": "i6c_KmtNflFc",
    "outputId": "1aeb0b0c-59d5-44a0-fb31-080ac3c6fa6a"
   },
   "outputs": [
    {
     "name": "stdout",
     "output_type": "stream",
     "text": [
      "139652074868240\n",
      "139652074561280\n"
     ]
    }
   ],
   "source": [
    "print(id(a))\n",
    "print(id(b))"
   ]
  },
  {
   "cell_type": "code",
   "execution_count": null,
   "metadata": {
    "colab": {
     "base_uri": "https://localhost:8080/"
    },
    "id": "pGW751pyfOVD",
    "outputId": "aaa883f0-92a2-4f3b-88bb-53ed27666cc1"
   },
   "outputs": [
    {
     "name": "stdout",
     "output_type": "stream",
     "text": [
      "[1, 2, 3, [400, 5]]\n"
     ]
    }
   ],
   "source": [
    "b[-1][0] = 400\n",
    "print(b)"
   ]
  },
  {
   "cell_type": "code",
   "execution_count": null,
   "metadata": {
    "colab": {
     "base_uri": "https://localhost:8080/"
    },
    "id": "VrQIx3EvfWCa",
    "outputId": "ca5b1e43-e6ca-4738-8bee-04fb5d00776c",
    "scrolled": true
   },
   "outputs": [
    {
     "data": {
      "text/plain": [
       "[1, 2, 3, [400, 5]]"
      ]
     },
     "execution_count": 55,
     "metadata": {},
     "output_type": "execute_result"
    }
   ],
   "source": [
    "a"
   ]
  },
  {
   "cell_type": "code",
   "execution_count": 30,
   "metadata": {},
   "outputs": [],
   "source": [
    "#conclusion - shallow copy is working correctly on 1d list\n",
    "# to prevent this use DEEP COPY"
   ]
  },
  {
   "cell_type": "code",
   "execution_count": 31,
   "metadata": {
    "colab": {
     "base_uri": "https://localhost:8080/"
    },
    "id": "PcBbad_ZfX5x",
    "outputId": "1e80d3f0-8186-4f6d-8ac8-24eb08407c7f"
   },
   "outputs": [
    {
     "data": {
      "text/plain": [
       "[1, 2, 3, [4, 5]]"
      ]
     },
     "execution_count": 31,
     "metadata": {},
     "output_type": "execute_result"
    }
   ],
   "source": [
    "# DEEP COPY\n",
    "import copy\n",
    "\n",
    "a = [1,2,3,[4,5]]\n",
    "a"
   ]
  },
  {
   "cell_type": "code",
   "execution_count": 32,
   "metadata": {},
   "outputs": [
    {
     "data": {
      "text/plain": [
       "[1, 2, 3, [4, 5]]"
      ]
     },
     "execution_count": 32,
     "metadata": {},
     "output_type": "execute_result"
    }
   ],
   "source": [
    "b = copy.deepcopy(a)\n",
    "b"
   ]
  },
  {
   "cell_type": "code",
   "execution_count": 35,
   "metadata": {
    "colab": {
     "base_uri": "https://localhost:8080/"
    },
    "id": "JPYwFan8gBk8",
    "outputId": "1d08bbac-c09a-46db-c9a0-87e6c9ab6c83"
   },
   "outputs": [
    {
     "data": {
      "text/plain": [
       "[1, 2, 3, [400, 5]]"
      ]
     },
     "execution_count": 35,
     "metadata": {},
     "output_type": "execute_result"
    }
   ],
   "source": [
    "b[-1][0] = 400\n",
    "b"
   ]
  },
  {
   "cell_type": "code",
   "execution_count": 36,
   "metadata": {
    "colab": {
     "base_uri": "https://localhost:8080/"
    },
    "id": "_8TTFVJrgFVf",
    "outputId": "5d6ae404-cf06-4c47-9a20-6f2acfaab753"
   },
   "outputs": [
    {
     "data": {
      "text/plain": [
       "[1, 2, 3, [4, 5]]"
      ]
     },
     "execution_count": 36,
     "metadata": {},
     "output_type": "execute_result"
    }
   ],
   "source": [
    "a # now a is still same as before"
   ]
  },
  {
   "cell_type": "code",
   "execution_count": null,
   "metadata": {
    "colab": {
     "base_uri": "https://localhost:8080/"
    },
    "id": "rNq70GK_gJOf",
    "outputId": "729ef335-b731-4187-e32f-c5b5108ccd38"
   },
   "outputs": [
    {
     "data": {
      "text/plain": [
       "[1, 2, 3, [400, 5]]"
      ]
     },
     "execution_count": 73,
     "metadata": {},
     "output_type": "execute_result"
    }
   ],
   "source": [
    "a"
   ]
  },
  {
   "cell_type": "code",
   "execution_count": 37,
   "metadata": {
    "colab": {
     "base_uri": "https://localhost:8080/"
    },
    "id": "89Gf8mA5gKcY",
    "outputId": "d5c7c552-c6ae-4343-ddc1-0023195a3bff"
   },
   "outputs": [
    {
     "name": "stdout",
     "output_type": "stream",
     "text": [
      "2109609748608\n",
      "2109580425792\n"
     ]
    }
   ],
   "source": [
    "print(id(a[-1]))\n",
    "print(id(b[-1]))"
   ]
  },
  {
   "cell_type": "code",
   "execution_count": null,
   "metadata": {
    "id": "IUxoqpGbgPDA"
   },
   "outputs": [],
   "source": [
    "# [:] or copy() fn -> shallow copy"
   ]
  },
  {
   "cell_type": "code",
   "execution_count": null,
   "metadata": {},
   "outputs": [],
   "source": [
    "# copy.deepcopy() -> deep copy"
   ]
  },
  {
   "cell_type": "markdown",
   "metadata": {},
   "source": [
    "## how List and nested list stored in memory?"
   ]
  },
  {
   "cell_type": "markdown",
   "metadata": {},
   "source": [
    "in other languages , array directly stores the value in the array , and have addresses\n",
    "- but in python , lists are referencial array by this means - different elements are stored in different locations and then in the list the address of different values are stored , and the list also have its own address .\n",
    "- Benefit - this structure takes more space but it also allows python list to store multiple data types in a list"
   ]
  },
  {
   "cell_type": "markdown",
   "metadata": {},
   "source": [
    "## How Strings are stored in memory?\n",
    "- As we know python lists are referential arrays as well as they dynamic , which means they are not fixed in size .\n",
    "- Strings are just referential arrays , But not dynamic"
   ]
  },
  {
   "cell_type": "markdown",
   "metadata": {},
   "source": [
    "## Why tuple takes less memory than list?\n",
    "- lists are dynamic array and tuples are static array"
   ]
  },
  {
   "cell_type": "code",
   "execution_count": null,
   "metadata": {
    "colab": {
     "base_uri": "https://localhost:8080/"
    },
    "id": "zy6J4OSykDg9",
    "outputId": "41face7b-707a-47ac-e32b-16e7abe3b73a"
   },
   "outputs": [
    {
     "data": {
      "text/plain": [
       "139652297075120"
      ]
     },
     "execution_count": 74,
     "metadata": {},
     "output_type": "execute_result"
    }
   ],
   "source": [
    "s = 'hello'\n",
    "\n",
    "id(s)"
   ]
  },
  {
   "cell_type": "code",
   "execution_count": null,
   "metadata": {
    "colab": {
     "base_uri": "https://localhost:8080/"
    },
    "id": "lzCZx0pPkFdF",
    "outputId": "e91e140d-f8de-4984-de53-556dc9a99ce1"
   },
   "outputs": [
    {
     "data": {
      "text/plain": [
       "139652626357424"
      ]
     },
     "execution_count": 75,
     "metadata": {},
     "output_type": "execute_result"
    }
   ],
   "source": [
    "id(s[0])"
   ]
  },
  {
   "cell_type": "code",
   "execution_count": null,
   "metadata": {
    "colab": {
     "base_uri": "https://localhost:8080/"
    },
    "id": "V2sBOBaRkIos",
    "outputId": "0a4180f8-3753-463d-ebc4-37041dd41566"
   },
   "outputs": [
    {
     "data": {
      "text/plain": [
       "139652626357424"
      ]
     },
     "execution_count": 76,
     "metadata": {},
     "output_type": "execute_result"
    }
   ],
   "source": [
    "id('h')"
   ]
  },
  {
   "cell_type": "code",
   "execution_count": null,
   "metadata": {
    "id": "7CMQ7jtBkLJC"
   },
   "outputs": [],
   "source": [
    "{12,}"
   ]
  }
 ],
 "metadata": {
  "colab": {
   "provenance": []
  },
  "kernelspec": {
   "display_name": "Python 3 (ipykernel)",
   "language": "python",
   "name": "python3"
  },
  "language_info": {
   "codemirror_mode": {
    "name": "ipython",
    "version": 3
   },
   "file_extension": ".py",
   "mimetype": "text/x-python",
   "name": "python",
   "nbconvert_exporter": "python",
   "pygments_lexer": "ipython3",
   "version": "3.9.12"
  }
 },
 "nbformat": 4,
 "nbformat_minor": 1
}
