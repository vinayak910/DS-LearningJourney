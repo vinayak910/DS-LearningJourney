{
 "cells": [
  {
   "cell_type": "markdown",
   "metadata": {
    "id": "8g7s0N6vQFNW"
   },
   "source": [
    "- How indexing works in sets\n",
    "- Why dict key cant be mutable data types\n",
    "- Enumerate\n",
    "- destructor\n",
    "- dir/isinstance/issubclass\n",
    "- classmethod vs staticmethod\n",
    "- The diamond problem\n",
    "- What’s the meaning of single and double underscores in Python variable and method names\n",
    "- Magic Methods (repr vs str)\n",
    "- How can objects be stored in sets even though they are mutable"
   ]
  },
  {
   "cell_type": "markdown",
   "metadata": {},
   "source": [
    "**Q1 How indexing works in sets?**"
   ]
  },
  {
   "cell_type": "code",
   "execution_count": 2,
   "metadata": {
    "colab": {
     "base_uri": "https://localhost:8080/"
    },
    "id": "4YADog27XRE_",
    "outputId": "e763b5c7-4eb1-4d6c-f847-97223c9b5f34",
    "scrolled": true
   },
   "outputs": [
    {
     "data": {
      "text/plain": [
       "{11, 21, 34, 39, 56}"
      ]
     },
     "execution_count": 2,
     "metadata": {},
     "output_type": "execute_result"
    }
   ],
   "source": [
    "s = {21,34,11,56,39} # sets follow hashing thats why it isnt in order\n",
    "s"
   ]
  },
  {
   "cell_type": "markdown",
   "metadata": {},
   "source": [
    "In hashing there is a hash function which will tell at which position the value will be stored"
   ]
  },
  {
   "cell_type": "markdown",
   "metadata": {},
   "source": [
    "benefit of hashing-\n",
    "- searching is performed in O(1)\n",
    "- dictionary , sets both are hashing based"
   ]
  },
  {
   "cell_type": "markdown",
   "metadata": {},
   "source": [
    "**Q2 Why dict key cant be mutable data types?**"
   ]
  },
  {
   "cell_type": "code",
   "execution_count": null,
   "metadata": {
    "colab": {
     "base_uri": "https://localhost:8080/"
    },
    "id": "v1SP9lAYcDns",
    "outputId": "1d72074e-0786-4606-f69f-b0e0bdfbf59f"
   },
   "outputs": [
    {
     "data": {
      "text/plain": [
       "{(1, 2, 3): 'nitish'}"
      ]
     },
     "execution_count": 98,
     "metadata": {},
     "output_type": "execute_result"
    }
   ],
   "source": [
    "d = {(1,2,3):'nitish'} # tuple is immutabhle\n",
    "d "
   ]
  },
  {
   "cell_type": "code",
   "execution_count": null,
   "metadata": {
    "colab": {
     "base_uri": "https://localhost:8080/",
     "height": 187
    },
    "id": "ZL2OZTZDcHv3",
    "outputId": "9cbc1da3-6f53-45d3-8153-b2409e2a08aa"
   },
   "outputs": [
    {
     "ename": "TypeError",
     "evalue": "ignored",
     "output_type": "error",
     "traceback": [
      "\u001b[0;31m---------------------------------------------------------------------------\u001b[0m",
      "\u001b[0;31mTypeError\u001b[0m                                 Traceback (most recent call last)",
      "\u001b[0;32m<ipython-input-99-968dc6d378a3>\u001b[0m in \u001b[0;36m<module>\u001b[0;34m\u001b[0m\n\u001b[0;32m----> 1\u001b[0;31m \u001b[0md\u001b[0m \u001b[0;34m=\u001b[0m \u001b[0;34m{\u001b[0m\u001b[0;34m[\u001b[0m\u001b[0;36m1\u001b[0m\u001b[0;34m,\u001b[0m\u001b[0;36m2\u001b[0m\u001b[0;34m,\u001b[0m\u001b[0;36m3\u001b[0m\u001b[0;34m]\u001b[0m\u001b[0;34m:\u001b[0m\u001b[0;34m'nitish'\u001b[0m\u001b[0;34m}\u001b[0m\u001b[0;34m\u001b[0m\u001b[0;34m\u001b[0m\u001b[0m\n\u001b[0m\u001b[1;32m      2\u001b[0m \u001b[0md\u001b[0m\u001b[0;34m\u001b[0m\u001b[0;34m\u001b[0m\u001b[0m\n",
      "\u001b[0;31mTypeError\u001b[0m: unhashable type: 'list'"
     ]
    }
   ],
   "source": [
    "d = {[1,2,3]:'nitish'} # lists are mutable\n",
    "d"
   ]
  },
  {
   "cell_type": "markdown",
   "metadata": {},
   "source": [
    "- In dictionary , hashing is performed based on keys. key is passed into the hashing function , and then position for key value pair is decided\n",
    "- If key is mutable , means value can be changed , if changed the the hash function will calculate new position for the changed key this will lead in recalculating the hash function for other keys well and will be rearranged , this will be quite troublesome memorywise , operationwise"
   ]
  },
  {
   "cell_type": "markdown",
   "metadata": {},
   "source": [
    "**Q3 Enumerate?**\n",
    "- The enumerate() method adds a counter to an iterable and returns it (the enumerate object).\n"
   ]
  },
  {
   "cell_type": "code",
   "execution_count": 3,
   "metadata": {},
   "outputs": [
    {
     "data": {
      "text/plain": [
       "[(0, 15), (1, 21), (2, 13), (3, 13)]"
      ]
     },
     "execution_count": 3,
     "metadata": {},
     "output_type": "execute_result"
    }
   ],
   "source": [
    "L = [15,21,13,13]\n",
    "list(enumerate(L))"
   ]
  },
  {
   "cell_type": "code",
   "execution_count": 9,
   "metadata": {},
   "outputs": [
    {
     "data": {
      "text/plain": [
       "[(3, 13), (2, 13), (1, 21), (0, 15)]"
      ]
     },
     "execution_count": 9,
     "metadata": {},
     "output_type": "execute_result"
    }
   ],
   "source": [
    "L = [15,21,13,13]\n",
    " \n",
    "sorted(list(enumerate(L)))"
   ]
  },
  {
   "cell_type": "code",
   "execution_count": 10,
   "metadata": {
    "scrolled": true
   },
   "outputs": [
    {
     "data": {
      "text/plain": [
       "[(3, 13), (2, 13), (1, 21), (0, 15)]"
      ]
     },
     "execution_count": 10,
     "metadata": {},
     "output_type": "execute_result"
    }
   ],
   "source": [
    "L = [15,21,13,13]\n",
    "\n",
    "sorted(list(enumerate(L)), reverse = True)\n"
   ]
  },
  {
   "cell_type": "markdown",
   "metadata": {},
   "source": [
    "Sorting is perfomed based on first value\n",
    "- what if arrange in descending order but on second value of tuple"
   ]
  },
  {
   "cell_type": "code",
   "execution_count": 14,
   "metadata": {
    "colab": {
     "base_uri": "https://localhost:8080/"
    },
    "id": "SNuZUS02QHgn",
    "outputId": "f4185458-09c5-43e4-da87-bbe52470bb38"
   },
   "outputs": [
    {
     "data": {
      "text/plain": [
       "[('nitish', 31), ('ankit', 45), ('ankita', 40)]"
      ]
     },
     "execution_count": 14,
     "metadata": {},
     "output_type": "execute_result"
    }
   ],
   "source": [
    "L = [('nitish',31),('ankit',45),('ankita',40)]\n",
    "L\n"
   ]
  },
  {
   "cell_type": "code",
   "execution_count": 15,
   "metadata": {},
   "outputs": [
    {
     "data": {
      "text/plain": [
       "[('ankit', 45), ('ankita', 40), ('nitish', 31)]"
      ]
     },
     "execution_count": 15,
     "metadata": {},
     "output_type": "execute_result"
    }
   ],
   "source": [
    "sorted(L,key=lambda x:x[1],reverse=True)"
   ]
  },
  {
   "cell_type": "markdown",
   "metadata": {},
   "source": [
    "**Q4 Destructor?**"
   ]
  },
  {
   "cell_type": "code",
   "execution_count": 16,
   "metadata": {
    "colab": {
     "base_uri": "https://localhost:8080/"
    },
    "id": "h7Z7xBiCcF6t",
    "outputId": "b1ab55f1-d0ef-4b43-bd29-5afb1c7176df"
   },
   "outputs": [
    {
     "name": "stdout",
     "output_type": "stream",
     "text": [
      "constructor called\n",
      "destructor called\n"
     ]
    }
   ],
   "source": [
    "# destructor\n",
    "class Example:\n",
    "\n",
    "  def __init__(self):\n",
    "    print('constructor called')\n",
    "\n",
    "  # destructor\n",
    "  def __del__(self):\n",
    "    print('destructor called')\n",
    "\n",
    "obj = Example()\n",
    "del obj"
   ]
  },
  {
   "cell_type": "markdown",
   "metadata": {},
   "source": [
    "- When **del obj** the destructor will be called which will delete object from memory\n",
    "- In python destructors arent useful because it already has a garbage manager unlike c or c++\n",
    "- But one can use destructor for configuration code such as closing db connection , closing file , disconnecting internet etc , just like one write configuration code in constructor\n",
    "- **NOTE: Until all objects are deleted , destructor isnt called , it will be only called when the all objects of class will be deleted**"
   ]
  },
  {
   "cell_type": "code",
   "execution_count": 20,
   "metadata": {
    "scrolled": true
   },
   "outputs": [
    {
     "name": "stdout",
     "output_type": "stream",
     "text": [
      "constructor called\n",
      "destructor called\n"
     ]
    }
   ],
   "source": [
    "# destructor\n",
    "class Example:\n",
    "\n",
    "  def __init__(self):\n",
    "    print('constructor called')\n",
    "\n",
    "  # destructor\n",
    "  def __del__(self):\n",
    "    print('destructor called')\n",
    "\n",
    "obj = Example()\n",
    "a = obj\n",
    "del obj # both should be deleted in order to call destructor\n",
    "del a"
   ]
  },
  {
   "cell_type": "markdown",
   "metadata": {},
   "source": [
    "**Q5 dir?**\n",
    " - This gives us a list with the object’s attributes of class\n",
    " - that includes variables , methods , magic methods"
   ]
  },
  {
   "cell_type": "code",
   "execution_count": null,
   "metadata": {
    "colab": {
     "base_uri": "https://localhost:8080/"
    },
    "id": "7zpWBxLmc0QF",
    "outputId": "4f3c924c-3fb6-427d-c11e-6cb9b46b7e11"
   },
   "outputs": [
    {
     "name": "stdout",
     "output_type": "stream",
     "text": [
      "['_Test__baz', '__class__', '__delattr__', '__dict__', '__dir__', '__doc__', '__eq__', '__format__', '__ge__', '__getattribute__', '__gt__', '__hash__', '__init__', '__init_subclass__', '__le__', '__lt__', '__module__', '__ne__', '__new__', '__reduce__', '__reduce_ex__', '__repr__', '__setattr__', '__sizeof__', '__str__', '__subclasshook__', '__weakref__', '_bar', 'foo', 'greet']\n"
     ]
    }
   ],
   "source": [
    "class Test:\n",
    "    def __init__(self):\n",
    "        self.foo = 11\n",
    "        self._bar = 23\n",
    "        self.__baz = 23\n",
    "\n",
    "    def greet(self):\n",
    "      print('hello')\n",
    "\n",
    "t = Test()\n",
    "print(dir(t)) # This gives us a list with the object’s attributes"
   ]
  },
  {
   "cell_type": "markdown",
   "metadata": {},
   "source": [
    "**Q6 Name mangling?**\n",
    "- In python , when you make attribute pvt the name of the variable will be changed in memory by *`_Classname__attribute`*"
   ]
  },
  {
   "cell_type": "markdown",
   "metadata": {},
   "source": [
    "**Q7 isinstance?**\n",
    "- will  tell if the obj is of the class"
   ]
  },
  {
   "cell_type": "code",
   "execution_count": 21,
   "metadata": {
    "colab": {
     "base_uri": "https://localhost:8080/"
    },
    "id": "gbqv-qpDjfIf",
    "outputId": "772f72ce-aff6-4fe9-fcc3-af69ebd5b137",
    "scrolled": true
   },
   "outputs": [
    {
     "name": "stdout",
     "output_type": "stream",
     "text": [
      "hello\n"
     ]
    },
    {
     "data": {
      "text/plain": [
       "True"
      ]
     },
     "execution_count": 21,
     "metadata": {},
     "output_type": "execute_result"
    }
   ],
   "source": [
    "# isinstance\n",
    "\n",
    "class Example:\n",
    "\n",
    "  def __init__(self):\n",
    "    print('hello')\n",
    "\n",
    "obj = Example()\n",
    "\n",
    "isinstance(obj,Example)"
   ]
  },
  {
   "cell_type": "markdown",
   "metadata": {},
   "source": [
    "**Q8 issubclass?**\n",
    "- will tell if one class is child of another class\n"
   ]
  },
  {
   "cell_type": "code",
   "execution_count": 22,
   "metadata": {
    "colab": {
     "base_uri": "https://localhost:8080/"
    },
    "id": "IaoALHTHscQk",
    "outputId": "13617314-bb99-4754-f2e0-ea9b11cc9fea"
   },
   "outputs": [
    {
     "data": {
      "text/plain": [
       "True"
      ]
     },
     "execution_count": 22,
     "metadata": {},
     "output_type": "execute_result"
    }
   ],
   "source": [
    "# issubclass\n",
    "class A:\n",
    "  def __init__(self):\n",
    "    pass\n",
    "\n",
    "class B(A):\n",
    "  pass\n",
    "\n",
    "issubclass(B,A)"
   ]
  },
  {
   "cell_type": "markdown",
   "metadata": {},
   "source": [
    "**Q9 Class method vs Static method?**"
   ]
  },
  {
   "cell_type": "markdown",
   "metadata": {
    "id": "K1bywWmVC0-5"
   },
   "source": [
    "### classmethod\n",
    "- A class method is a method that is bound to the class and not the object of the class.\n",
    "- They have the access to the state of the class as it takes a class parameter that points to the class and not the object instance.\n",
    "- It can modify a class state that would apply across all the instances of the class. For example, it can modify a class variable that will be applicable to all the instances."
   ]
  },
  {
   "cell_type": "markdown",
   "metadata": {
    "id": "t-FxUfxODJcy"
   },
   "source": [
    "### staticmethod\n",
    "A static method does not receive an implicit first argument. A static method is also a method that is bound to the class and not the object of the class. This method can’t access or modify the class state. It is present in a class because it makes sense for the method to be present in class."
   ]
  },
  {
   "cell_type": "code",
   "execution_count": null,
   "metadata": {
    "id": "7ZQAYpyk5Pfs"
   },
   "outputs": [],
   "source": [
    "class A:\n",
    "\n",
    "  def normal_m(self):\n",
    "    print('normal method')\n",
    "\n",
    "  @staticmethod\n",
    "  def static_m():\n",
    "    print('static method')\n",
    "\n",
    "  @classmethod\n",
    "  def class_m(cls):\n",
    "    print('class method')"
   ]
  },
  {
   "cell_type": "code",
   "execution_count": null,
   "metadata": {
    "colab": {
     "base_uri": "https://localhost:8080/"
    },
    "id": "Cglb4jgH_r6s",
    "outputId": "db551854-0680-4179-d93e-df107a77a8fa"
   },
   "outputs": [
    {
     "name": "stdout",
     "output_type": "stream",
     "text": [
      "normal method\n",
      "class method\n",
      "static method\n"
     ]
    }
   ],
   "source": [
    "a = A()\n",
    "\n",
    "# normal -> object -> callable\n",
    "a.normal_m()\n",
    "# class -> object -> callable\n",
    "a.class_m()\n",
    "# static -> object -> not callable\n",
    "a.static_m()"
   ]
  },
  {
   "cell_type": "code",
   "execution_count": null,
   "metadata": {
    "colab": {
     "base_uri": "https://localhost:8080/",
     "height": 241
    },
    "id": "Wg2GbrV9_xlQ",
    "outputId": "9d940e2c-c91e-414e-f557-b5bddf8f6675"
   },
   "outputs": [
    {
     "name": "stdout",
     "output_type": "stream",
     "text": [
      "static method\n",
      "class method\n"
     ]
    },
    {
     "ename": "TypeError",
     "evalue": "ignored",
     "output_type": "error",
     "traceback": [
      "\u001b[0;31m---------------------------------------------------------------------------\u001b[0m",
      "\u001b[0;31mTypeError\u001b[0m                                 Traceback (most recent call last)",
      "\u001b[0;32m<ipython-input-94-088d25a52aaf>\u001b[0m in \u001b[0;36m<module>\u001b[0;34m\u001b[0m\n\u001b[1;32m      4\u001b[0m \u001b[0mA\u001b[0m\u001b[0;34m.\u001b[0m\u001b[0mclass_m\u001b[0m\u001b[0;34m(\u001b[0m\u001b[0;34m)\u001b[0m\u001b[0;34m\u001b[0m\u001b[0;34m\u001b[0m\u001b[0m\n\u001b[1;32m      5\u001b[0m \u001b[0;31m# normal -> class -> not callable\u001b[0m\u001b[0;34m\u001b[0m\u001b[0;34m\u001b[0m\u001b[0;34m\u001b[0m\u001b[0m\n\u001b[0;32m----> 6\u001b[0;31m \u001b[0mA\u001b[0m\u001b[0;34m.\u001b[0m\u001b[0mnormal_m\u001b[0m\u001b[0;34m(\u001b[0m\u001b[0;34m)\u001b[0m\u001b[0;34m\u001b[0m\u001b[0;34m\u001b[0m\u001b[0m\n\u001b[0m",
      "\u001b[0;31mTypeError\u001b[0m: normal_m() missing 1 required positional argument: 'self'"
     ]
    }
   ],
   "source": [
    "# static -> class -> callable\n",
    "A.static_m()\n",
    "# class method -> class -> callable\n",
    "A.class_m()\n",
    "# normal -> class -> not callable\n",
    "A.normal_m()"
   ]
  },
  {
   "cell_type": "code",
   "execution_count": null,
   "metadata": {
    "id": "QZSo-vziBksz"
   },
   "outputs": [],
   "source": [
    "# Alternate syntax\n",
    "A.normal_m(a)"
   ]
  },
  {
   "cell_type": "markdown",
   "metadata": {
    "id": "aPbAGeiuDjTn"
   },
   "source": [
    "### Class method vs Static Method<br>\n",
    "The difference between the Class method and the static method is:\n",
    "\n",
    "- A class method takes cls as the first parameter while a static method needs no specific parameters.\n",
    "- A class method can access or modify the class state while a static method can’t access or modify it.\n",
    "- In general, static methods know nothing about the class state. They are utility-type methods that take some parameters and work upon those parameters. On the other hand class methods must have class as a parameter.\n",
    "- We use @classmethod decorator in python to create a class method and we use @staticmethod decorator to create a static method in python."
   ]
  },
  {
   "cell_type": "markdown",
   "metadata": {
    "id": "IxbCxvXPD5CS"
   },
   "source": [
    "### When to use the class or static method?\n",
    "- We generally use the class method to create factory methods. Factory methods return class objects ( similar to a constructor ) for different use cases.\n",
    "- We generally use static methods to create utility functions."
   ]
  },
  {
   "cell_type": "markdown",
   "metadata": {},
   "source": [
    "**Q10 the diamond problem?**\n",
    "- When one class has two or more parents and both parents have same function \n",
    "- which parents function will be executed will depend on the order of class when child class inherits the parent class\n",
    "- ex - class Class4(Class3, Class2):\n",
    "- since class 3 is before , hence it will have more preference over class2\n",
    "- this concept is called **method resolution order**"
   ]
  },
  {
   "cell_type": "code",
   "execution_count": 23,
   "metadata": {
    "colab": {
     "base_uri": "https://localhost:8080/"
    },
    "id": "UpVqHn5HDrMM",
    "outputId": "30b61a92-8e37-4971-eabb-dd16377105b4"
   },
   "outputs": [
    {
     "name": "stdout",
     "output_type": "stream",
     "text": [
      "In Class3\n"
     ]
    }
   ],
   "source": [
    "# The diamond problem\n",
    "class Class1:\n",
    "    def m(self):\n",
    "        print(\"In Class1\")\n",
    "\n",
    "class Class2(Class1):\n",
    "    def m(self):\n",
    "        print(\"In Class2\")\n",
    "\n",
    "class Class3(Class1):\n",
    "    def m(self):\n",
    "        print(\"In Class3\")\n",
    "\n",
    "class Class4(Class3, Class2):\n",
    "    pass\n",
    "\n",
    "obj = Class4()\n",
    "obj.m()\n",
    "# MRO"
   ]
  },
  {
   "cell_type": "markdown",
   "metadata": {
    "id": "ZvCjJSt6EMF7"
   },
   "source": [
    "**Q11 Double and single score?**"
   ]
  },
  {
   "cell_type": "markdown",
   "metadata": {},
   "source": [
    "* Single Leading Underscore: `_var`\n",
    "* Single Trailing Underscore: `var_`\n",
    "* Double Leading Underscore: `__var`\n",
    "* Double Leading and Trailing Underscore: `__var__`\n",
    "* Single Underscore: `_`\n",
    "\n",
    "1. **Single Leading Underscore:** `_var` are a Python naming convention that indicates a name is meant for internal use. It is generally not enforced by the\n",
    "Python interpreter and is only meant as a hint to the programmer.\n",
    "\n",
    " Adding a single underscore in front of a variable name is more like someone putting up a tiny underscore warning sign that says:\n",
    "\n",
    "> “Hey, this isn’t really meant to be a part of the public interface of this class. Best to leave it alone.”\n",
    "- **Its generally way of saying that _var is meant for class only do not use outside from the class**"
   ]
  },
  {
   "cell_type": "code",
   "execution_count": 24,
   "metadata": {
    "scrolled": true
   },
   "outputs": [
    {
     "name": "stdout",
     "output_type": "stream",
     "text": [
      "11\n",
      "23\n"
     ]
    }
   ],
   "source": [
    "class Test:\n",
    "    def __init__(self):\n",
    "        self.foo = 11\n",
    "        self._bar = 23\n",
    "\n",
    "t = Test()\n",
    "print(t.foo) #Print 11\n",
    "\n",
    "print(t._bar) # Print 23"
   ]
  },
  {
   "cell_type": "markdown",
   "metadata": {},
   "source": [
    "2. **Single Trailing Underscore:** `var_`\n",
    " Sometimes the most fitting name for a variable is already taken by a keyword in the Python language. Therefore, names like class or def cannot be used as variable names in Python. In this case, you can append a single underscore to break the naming conflict:\n",
    "\n",
    "- **You cant use variable by the keyword names , but sometimes the appropriate name for variable can be same as of keyword , hence to use keyword as variable name you can put underscore after it.**\n",
    "- **Ex- if_ = 20**"
   ]
  },
  {
   "cell_type": "code",
   "execution_count": 25,
   "metadata": {},
   "outputs": [
    {
     "ename": "SyntaxError",
     "evalue": "invalid syntax (295413822.py, line 1)",
     "output_type": "error",
     "traceback": [
      "\u001b[1;36m  Input \u001b[1;32mIn [25]\u001b[1;36m\u001b[0m\n\u001b[1;33m    def make_object(name, class):\u001b[0m\n\u001b[1;37m                          ^\u001b[0m\n\u001b[1;31mSyntaxError\u001b[0m\u001b[1;31m:\u001b[0m invalid syntax\n"
     ]
    }
   ],
   "source": [
    "def make_object(name, class):\n",
    "    pass"
   ]
  },
  {
   "cell_type": "code",
   "execution_count": 26,
   "metadata": {},
   "outputs": [],
   "source": [
    "def make_object(name, class_):\n",
    "    pass"
   ]
  },
  {
   "cell_type": "markdown",
   "metadata": {},
   "source": [
    "3. **Double Leading Underscore**: `__var`\n",
    "\n",
    "A double underscore prefix causes the Python interpreter to rewrite\n",
    "the attribute name in order to avoid naming conflicts in subclasses.\n",
    "\n",
    "This is also called *name mangling*—the interpreter changes the name\n",
    "of the variable in a way that makes it harder to create collisions when\n",
    "the class is extended later.\n",
    "- **means you are making your attribute pvt**"
   ]
  },
  {
   "cell_type": "markdown",
   "metadata": {},
   "source": [
    "4. **Double Leading and Trailing Underscore**: `__var__`\n",
    "\n",
    "Double underscores `__` are often referred to as “**dunders**” in the Python\n",
    "community. The reason is that double underscores appear quite often\n",
    "in Python code, and to avoid fatiguing their jaw muscles, Pythonistas\n",
    "often shorten “**double underscore**” to “**dunder**.”\n",
    "\n",
    "The names that have both leading and trailing double underscores are reserved for special use in the language. This rule covers things like `__init__` for object constructors, or `__call__` to make objects callable.\n",
    "\n",
    "These dunder methods are often referred to as magic methods.\n",
    "\n",
    "There are many dunder methods, here are some:-\n",
    "\n",
    "`__str__, __repr__, __call__, __add__, __sub__, __len__` etc.\n",
    "\n"
   ]
  },
  {
   "cell_type": "markdown",
   "metadata": {},
   "source": [
    "5. **Single Underscore** `_`:\n",
    " Sometimes used as a name for temporary or insignificant variables (“don’t care). Also, it represents the result of the last expression in a Python REPL session.\n"
   ]
  },
  {
   "cell_type": "markdown",
   "metadata": {},
   "source": [
    "**Q12 - Magic Methods (repr vs str)**"
   ]
  },
  {
   "cell_type": "code",
   "execution_count": null,
   "metadata": {
    "colab": {
     "base_uri": "https://localhost:8080/"
    },
    "id": "lJ9pdrNtEOtH",
    "outputId": "ed5a1a6c-ce1d-4ce8-daee-d50f302a544b"
   },
   "outputs": [
    {
     "name": "stdout",
     "output_type": "stream",
     "text": [
      "hello\n",
      "'hello'\n"
     ]
    }
   ],
   "source": [
    "# repr and other magic/dunder methods\n",
    "\n",
    "a = 'hello'\n",
    "\n",
    "print(str(a))\n",
    "print(repr(a))"
   ]
  },
  {
   "cell_type": "code",
   "execution_count": null,
   "metadata": {
    "colab": {
     "base_uri": "https://localhost:8080/"
    },
    "id": "qbtNfndVNkgv",
    "outputId": "4f02f7dc-d188-4e36-9cb2-9b135b70731b"
   },
   "outputs": [
    {
     "name": "stdout",
     "output_type": "stream",
     "text": [
      "2022-11-26 15:46:52.007475\n",
      "2022-11-26 15:46:52.007475\n",
      "datetime.datetime(2022, 11, 26, 15, 46, 52, 7475)\n",
      "'2022-11-26 15:46:52.007475'\n"
     ]
    }
   ],
   "source": [
    "import datetime\n",
    "\n",
    "a = datetime.datetime.now()\n",
    "b = str(a)\n",
    "\n",
    "print(str(a))\n",
    "print(str(b))\n",
    "\n",
    "print(repr(a))\n",
    "print(repr(b))"
   ]
  },
  {
   "cell_type": "markdown",
   "metadata": {
    "id": "iLQeyt0WN88O"
   },
   "source": [
    "### In summary\n",
    "\n",
    "- str is for users -> meant to be more readable\n",
    "- repr is for developers for debugging - > for being unambigous"
   ]
  },
  {
   "cell_type": "markdown",
   "metadata": {},
   "source": [
    "**Q13 how objects are stored even though they are mutable?**\n",
    "- Basic funda is sets doesnt allow unhashable types even though objects are mutable but when they are made there is magic method as `__hash__` which will make object hashable , hence sets allow hashable it will allow obj to be in it.\n",
    "- But object will only be hashable when `__hash__` method will return an integer"
   ]
  },
  {
   "cell_type": "code",
   "execution_count": 27,
   "metadata": {
    "colab": {
     "base_uri": "https://localhost:8080/"
    },
    "id": "gVAOLF4sEUkV",
    "outputId": "a2d1bb93-5600-483e-87f0-96875948b965"
   },
   "outputs": [
    {
     "name": "stdout",
     "output_type": "stream",
     "text": [
      "constructor\n",
      "hello\n",
      "{<__main__.A object at 0x0000025DD82E4160>}\n"
     ]
    },
    {
     "data": {
      "text/plain": [
       "['__class__',\n",
       " '__delattr__',\n",
       " '__dict__',\n",
       " '__dir__',\n",
       " '__doc__',\n",
       " '__eq__',\n",
       " '__format__',\n",
       " '__ge__',\n",
       " '__getattribute__',\n",
       " '__gt__',\n",
       " '__hash__',\n",
       " '__init__',\n",
       " '__init_subclass__',\n",
       " '__le__',\n",
       " '__lt__',\n",
       " '__module__',\n",
       " '__ne__',\n",
       " '__new__',\n",
       " '__reduce__',\n",
       " '__reduce_ex__',\n",
       " '__repr__',\n",
       " '__setattr__',\n",
       " '__sizeof__',\n",
       " '__str__',\n",
       " '__subclasshook__',\n",
       " '__weakref__',\n",
       " 'hello']"
      ]
     },
     "execution_count": 27,
     "metadata": {},
     "output_type": "execute_result"
    }
   ],
   "source": [
    "# how objects are stored even though they are mutable\n",
    "# https://stackoverflow.com/questions/31340756/python-why-can-i-put-mutable-object-in-a-dict-or-set\n",
    "class A:\n",
    "\n",
    "  def __init__(self):\n",
    "    print('constructor')\n",
    "\n",
    "  def hello(self):\n",
    "    print('hello')\n",
    "\n",
    "a = A()\n",
    "a.hello()\n",
    "s = {a}\n",
    "print(s)\n",
    "dir(a)"
   ]
  },
  {
   "cell_type": "code",
   "execution_count": 28,
   "metadata": {
    "colab": {
     "base_uri": "https://localhost:8080/"
    },
    "id": "NevwX99-IBKq",
    "outputId": "83f3cf9b-c013-4cd0-d151-f5f6412203ea"
   },
   "outputs": [
    {
     "name": "stdout",
     "output_type": "stream",
     "text": [
      "constructor\n",
      "hello\n"
     ]
    },
    {
     "ename": "TypeError",
     "evalue": "__hash__ method should return an integer",
     "output_type": "error",
     "traceback": [
      "\u001b[1;31m---------------------------------------------------------------------------\u001b[0m",
      "\u001b[1;31mTypeError\u001b[0m                                 Traceback (most recent call last)",
      "Input \u001b[1;32mIn [28]\u001b[0m, in \u001b[0;36m<cell line: 18>\u001b[1;34m()\u001b[0m\n\u001b[0;32m     16\u001b[0m a \u001b[38;5;241m=\u001b[39m A()\n\u001b[0;32m     17\u001b[0m a\u001b[38;5;241m.\u001b[39mhello()\n\u001b[1;32m---> 18\u001b[0m s \u001b[38;5;241m=\u001b[39m {a}\n\u001b[0;32m     19\u001b[0m \u001b[38;5;28mprint\u001b[39m(s)\n\u001b[0;32m     21\u001b[0m \u001b[38;5;28mdir\u001b[39m(a)\n",
      "\u001b[1;31mTypeError\u001b[0m: __hash__ method should return an integer"
     ]
    }
   ],
   "source": [
    "class A:\n",
    "\n",
    "  def __init__(self):\n",
    "    print('constructor')\n",
    "\n",
    "  def __eq__(self):\n",
    "    pass\n",
    "\n",
    "  def __hash__(self):\n",
    "    pass # -> overriding hash by not making it return integer\n",
    "# hence object will not be hashable and can't be stored in sets\n",
    "\n",
    "  def hello(self):\n",
    "    print('hello')\n",
    "\n",
    "a = A()\n",
    "a.hello()\n",
    "s = {a}\n",
    "print(s)\n",
    "\n",
    "dir(a)\n",
    "\n"
   ]
  },
  {
   "cell_type": "code",
   "execution_count": null,
   "metadata": {
    "colab": {
     "base_uri": "https://localhost:8080/"
    },
    "id": "3nJqj8h4IdWB",
    "outputId": "a3b8038d-2a4f-4fe2-f239-ade6eb516654"
   },
   "outputs": [
    {
     "data": {
      "text/plain": [
       "10"
      ]
     },
     "execution_count": 121,
     "metadata": {},
     "output_type": "execute_result"
    }
   ],
   "source": [
    "class A:\n",
    "\n",
    "  def __init__(self):\n",
    "    self._var = 10\n",
    "\n",
    "a = A()\n",
    "a._var"
   ]
  },
  {
   "cell_type": "code",
   "execution_count": 29,
   "metadata": {
    "colab": {
     "base_uri": "https://localhost:8080/",
     "height": 169
    },
    "id": "BYZqiXGzll5W",
    "outputId": "eb225366-d672-4a67-88fd-99d2134f3a05"
   },
   "outputs": [
    {
     "ename": "TypeError",
     "evalue": "unhashable type: 'list'",
     "output_type": "error",
     "traceback": [
      "\u001b[1;31m---------------------------------------------------------------------------\u001b[0m",
      "\u001b[1;31mTypeError\u001b[0m                                 Traceback (most recent call last)",
      "Input \u001b[1;32mIn [29]\u001b[0m, in \u001b[0;36m<cell line: 1>\u001b[1;34m()\u001b[0m\n\u001b[1;32m----> 1\u001b[0m s \u001b[38;5;241m=\u001b[39m {[\u001b[38;5;241m1\u001b[39m,\u001b[38;5;241m2\u001b[39m]}\n",
      "\u001b[1;31mTypeError\u001b[0m: unhashable type: 'list'"
     ]
    }
   ],
   "source": [
    "s = {[1,2]} # list is unhashable"
   ]
  },
  {
   "cell_type": "code",
   "execution_count": 30,
   "metadata": {
    "colab": {
     "base_uri": "https://localhost:8080/",
     "height": 187
    },
    "id": "ZXDsBJ_apicW",
    "outputId": "2f3350e9-982d-42a2-d478-140facf7519c"
   },
   "outputs": [
    {
     "ename": "TypeError",
     "evalue": "unhashable type: 'list'",
     "output_type": "error",
     "traceback": [
      "\u001b[1;31m---------------------------------------------------------------------------\u001b[0m",
      "\u001b[1;31mTypeError\u001b[0m                                 Traceback (most recent call last)",
      "Input \u001b[1;32mIn [30]\u001b[0m, in \u001b[0;36m<cell line: 2>\u001b[1;34m()\u001b[0m\n\u001b[0;32m      1\u001b[0m L \u001b[38;5;241m=\u001b[39m [\u001b[38;5;241m1\u001b[39m,\u001b[38;5;241m2\u001b[39m,\u001b[38;5;241m3\u001b[39m]\n\u001b[1;32m----> 2\u001b[0m s \u001b[38;5;241m=\u001b[39m {L}\n",
      "\u001b[1;31mTypeError\u001b[0m: unhashable type: 'list'"
     ]
    }
   ],
   "source": [
    "L = [1,2,3]\n",
    "s = {L}"
   ]
  },
  {
   "cell_type": "code",
   "execution_count": 31,
   "metadata": {
    "colab": {
     "base_uri": "https://localhost:8080/"
    },
    "id": "khQSIzGKp8Tv",
    "outputId": "34562a4c-23ae-42e0-d99c-2cb687c7ab12"
   },
   "outputs": [
    {
     "name": "stdout",
     "output_type": "stream",
     "text": [
      "None\n"
     ]
    }
   ],
   "source": [
    "print(L.__hash__)"
   ]
  },
  {
   "cell_type": "code",
   "execution_count": null,
   "metadata": {
    "colab": {
     "base_uri": "https://localhost:8080/"
    },
    "id": "ZwBQesPWrSCN",
    "outputId": "f4cef974-f796-487c-9b4e-341a2f1f2775"
   },
   "outputs": [
    {
     "data": {
      "text/plain": [
       "1"
      ]
     },
     "execution_count": 138,
     "metadata": {},
     "output_type": "execute_result"
    }
   ],
   "source": [
    "hash(1)"
   ]
  },
  {
   "cell_type": "code",
   "execution_count": null,
   "metadata": {
    "colab": {
     "base_uri": "https://localhost:8080/"
    },
    "id": "p4pL0CNPrjB-",
    "outputId": "01cacbc6-38b1-4f1d-b05d-48f268c17868"
   },
   "outputs": [
    {
     "data": {
      "text/plain": [
       "4306082800328210013"
      ]
     },
     "execution_count": 139,
     "metadata": {},
     "output_type": "execute_result"
    }
   ],
   "source": [
    "hash('hello')"
   ]
  },
  {
   "cell_type": "code",
   "execution_count": null,
   "metadata": {
    "colab": {
     "base_uri": "https://localhost:8080/"
    },
    "id": "Jlj1CykIrlbj",
    "outputId": "d208b4c4-2532-4f30-f331-72d3d205c970"
   },
   "outputs": [
    {
     "data": {
      "text/plain": [
       "2528502973977326415"
      ]
     },
     "execution_count": 140,
     "metadata": {},
     "output_type": "execute_result"
    }
   ],
   "source": [
    "hash((1,2,3,))"
   ]
  },
  {
   "cell_type": "code",
   "execution_count": null,
   "metadata": {
    "colab": {
     "base_uri": "https://localhost:8080/",
     "height": 169
    },
    "id": "1weAzIBSrnm2",
    "outputId": "44392ed0-022a-4221-eba2-91682da94aff"
   },
   "outputs": [
    {
     "ename": "TypeError",
     "evalue": "ignored",
     "output_type": "error",
     "traceback": [
      "\u001b[0;31m---------------------------------------------------------------------------\u001b[0m",
      "\u001b[0;31mTypeError\u001b[0m                                 Traceback (most recent call last)",
      "\u001b[0;32m<ipython-input-141-35e31e935e9e>\u001b[0m in \u001b[0;36m<module>\u001b[0;34m\u001b[0m\n\u001b[0;32m----> 1\u001b[0;31m \u001b[0mhash\u001b[0m\u001b[0;34m(\u001b[0m\u001b[0;34m[\u001b[0m\u001b[0;36m1\u001b[0m\u001b[0;34m,\u001b[0m\u001b[0;36m2\u001b[0m\u001b[0;34m,\u001b[0m\u001b[0;36m3\u001b[0m\u001b[0;34m]\u001b[0m\u001b[0;34m)\u001b[0m\u001b[0;34m\u001b[0m\u001b[0;34m\u001b[0m\u001b[0m\n\u001b[0m",
      "\u001b[0;31mTypeError\u001b[0m: unhashable type: 'list'"
     ]
    }
   ],
   "source": [
    "hash([1,2,3])"
   ]
  },
  {
   "cell_type": "code",
   "execution_count": null,
   "metadata": {
    "id": "0rqE0HyIrqJq"
   },
   "outputs": [],
   "source": []
  }
 ],
 "metadata": {
  "colab": {
   "provenance": []
  },
  "kernelspec": {
   "display_name": "Python 3 (ipykernel)",
   "language": "python",
   "name": "python3"
  },
  "language_info": {
   "codemirror_mode": {
    "name": "ipython",
    "version": 3
   },
   "file_extension": ".py",
   "mimetype": "text/x-python",
   "name": "python",
   "nbconvert_exporter": "python",
   "pygments_lexer": "ipython3",
   "version": "3.9.12"
  }
 },
 "nbformat": 4,
 "nbformat_minor": 1
}
