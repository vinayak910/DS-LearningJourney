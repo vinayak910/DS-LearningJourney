{
 "cells": [
  {
   "cell_type": "code",
   "execution_count": 1,
   "id": "8e11040f",
   "metadata": {},
   "outputs": [],
   "source": [
    "# 1. What do you mean by __name__ == '__main__'"
   ]
  },
  {
   "cell_type": "markdown",
   "id": "5aa88e03",
   "metadata": {},
   "source": [
    "### What is a module?\n",
    "\n",
    "Any file with an extention of .py is called a module in python.\n",
    "\n",
    "Whenever we execute a program it's module name is `__main__` and this name is stored in `__name__` variable"
   ]
  },
  {
   "cell_type": "code",
   "execution_count": 2,
   "id": "b23438af",
   "metadata": {},
   "outputs": [
    {
     "name": "stdout",
     "output_type": "stream",
     "text": [
      "hello\n",
      "__main__\n"
     ]
    }
   ],
   "source": [
    "def display():\n",
    "  print('hello')\n",
    "\n",
    "display()\n",
    "print(__name__)"
   ]
  },
  {
   "cell_type": "code",
   "execution_count": null,
   "id": "1c80eb6b",
   "metadata": {},
   "outputs": [],
   "source": [
    "# file which is currently executing is called __main__ by python interpreter and that info is stored in __name__"
   ]
  },
  {
   "cell_type": "markdown",
   "id": "48aafa14",
   "metadata": {},
   "source": [
    "**concept - Whenever a file is run , its `__name__` is` __main__` but when we import another file lets say module 1 , and then print(`module1.__name__`) then it is run by the name of its file name ie module1**\n",
    "- checkout the two py files module1.py and module2.py\n",
    "- har file jab apne aap me run hoti hai to `__main__` ke naam se hoti hai\n",
    "- jab file import hoke run krti hai then vo apne file ke naam se run hoti hai"
   ]
  },
  {
   "cell_type": "markdown",
   "id": "f9598712",
   "metadata": {},
   "source": [
    "But there is some problem while importing the problem is that jab bbhi hum import krte hai file ko uska saara code current file ie jisme import kia hai aise maano waha likh jata hai to jab bhi hum run krenge to pura code jo import file ka hai vo bhi execute ho jayega that is loop wala code bhi"
   ]
  },
  {
   "cell_type": "markdown",
   "id": "6749e901",
   "metadata": {},
   "source": [
    "and we can avoid the code we dont won't to import using if `__name__` == `__main__`"
   ]
  },
  {
   "cell_type": "markdown",
   "id": "8e281216",
   "metadata": {},
   "source": [
    "ie loop wala code hum iske andar rakh denge isse kya hoga hamara loop wala code tbhi execute hoga jab hmari file directly run hori hogi ie main wali , kyunki import wali file ke name ki value hogi uski file ka naam isse loop wala code execute nhi hoga kyunki condition hai  if `__name__` == `__main__`"
   ]
  },
  {
   "cell_type": "markdown",
   "id": "813722d8",
   "metadata": {},
   "source": [
    "But there is a option to execute that code also which is inside if statement. \n",
    "- ques? how?"
   ]
  },
  {
   "cell_type": "markdown",
   "id": "25668433",
   "metadata": {},
   "source": [
    "what we can do is instead writing that code inside if statement we can make a function and write that code inside function and then call the function inside if statement ie we can use code when we required"
   ]
  },
  {
   "cell_type": "code",
   "execution_count": 3,
   "id": "70cab7ea",
   "metadata": {},
   "outputs": [
    {
     "name": "stdout",
     "output_type": "stream",
     "text": [
      "1\n",
      "4\n",
      "9\n",
      "16\n",
      "25\n",
      "36\n",
      "49\n",
      "64\n",
      "81\n"
     ]
    }
   ],
   "source": [
    "#ex - \n",
    "def square(num):\n",
    "    print(num**2)\n",
    "def main():\n",
    "    for i in range(1 , 10):\n",
    "        square(i)\n",
    "if __name__ == '__main__':\n",
    "    main()"
   ]
  },
  {
   "cell_type": "markdown",
   "id": "6782106a",
   "metadata": {},
   "source": [
    "### Importing a module\n",
    "\n",
    "- ques - But what is the need to import a module?\n",
    "    - modularity\n",
    "    - code reusability\n",
    "- How to import a modul"
   ]
  },
  {
   "cell_type": "markdown",
   "id": "1a9887e9",
   "metadata": {},
   "source": [
    "### Order of execution of a module\n"
   ]
  },
  {
   "cell_type": "code",
   "execution_count": 4,
   "id": "485f23ac",
   "metadata": {},
   "outputs": [
    {
     "name": "stdout",
     "output_type": "stream",
     "text": [
      "D:\\DSMP\\1. Python\\Python Interview questions\n",
      "C:\\Users\\vinay\\anaconda3\\python39.zip\n",
      "C:\\Users\\vinay\\anaconda3\\DLLs\n",
      "C:\\Users\\vinay\\anaconda3\\lib\n",
      "C:\\Users\\vinay\\anaconda3\n",
      "\n",
      "C:\\Users\\vinay\\AppData\\Roaming\\Python\\Python39\\site-packages\n",
      "C:\\Users\\vinay\\anaconda3\\lib\\site-packages\n",
      "C:\\Users\\vinay\\anaconda3\\lib\\site-packages\\win32\n",
      "C:\\Users\\vinay\\anaconda3\\lib\\site-packages\\win32\\lib\n",
      "C:\\Users\\vinay\\anaconda3\\lib\\site-packages\\Pythonwin\n"
     ]
    }
   ],
   "source": [
    "import sys\n",
    "for p in sys.path:\n",
    "  print(p)\n",
    "\n",
    "# how python searches for module when used import statement"
   ]
  },
  {
   "cell_type": "markdown",
   "id": "a6e9d58f",
   "metadata": {},
   "source": [
    "as you see python searches for module in system path , so if you want module or package to be available everywhere to use , add that file or package to system path"
   ]
  },
  {
   "cell_type": "markdown",
   "id": "1ce8710d",
   "metadata": {},
   "source": [
    "### What are packages in Python\n",
    "\n",
    "A package in python is a directory containing similar sub packages and modules.\n",
    "\n",
    "- A particular directory is treated as package if it has `__init__.py` file in it.\n",
    "- The `__init__.py` file may be empty or contain some initialization code related to the package"
   ]
  },
  {
   "cell_type": "code",
   "execution_count": null,
   "id": "ebcdeeab",
   "metadata": {},
   "outputs": [],
   "source": []
  }
 ],
 "metadata": {
  "kernelspec": {
   "display_name": "Python 3 (ipykernel)",
   "language": "python",
   "name": "python3"
  },
  "language_info": {
   "codemirror_mode": {
    "name": "ipython",
    "version": 3
   },
   "file_extension": ".py",
   "mimetype": "text/x-python",
   "name": "python",
   "nbconvert_exporter": "python",
   "pygments_lexer": "ipython3",
   "version": "3.9.12"
  }
 },
 "nbformat": 4,
 "nbformat_minor": 5
}
