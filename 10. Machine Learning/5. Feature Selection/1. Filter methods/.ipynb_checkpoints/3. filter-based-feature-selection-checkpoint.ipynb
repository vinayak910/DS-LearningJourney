{
 "cells": [
  {
   "cell_type": "code",
   "execution_count": 2,
   "metadata": {
    "_cell_guid": "b1076dfc-b9ad-4769-8c92-a6c4dae69d19",
    "_uuid": "8f2839f25d086af736a60e9eeb907d3b93b6e0e5",
    "execution": {
     "iopub.execute_input": "2023-05-11T14:55:20.064476Z",
     "iopub.status.busy": "2023-05-11T14:55:20.064065Z",
     "iopub.status.idle": "2023-05-11T14:55:20.112495Z",
     "shell.execute_reply": "2023-05-11T14:55:20.111245Z",
     "shell.execute_reply.started": "2023-05-11T14:55:20.064447Z"
    }
   },
   "outputs": [],
   "source": [
    "# This Python 3 environment comes with many helpful analytics libraries installed\n",
    "# It is defined by the kaggle/python Docker image: https://github.com/kaggle/docker-python\n",
    "# For example, here's several helpful packages to load\n",
    "\n",
    "import numpy as np # linear algebra\n",
    "import pandas as pd # data processing, CSV file I/O (e.g. pd.read_csv)\n",
    "\n",
    "# Input data files are available in the read-only \"../input/\" directory\n",
    "# For example, running this (by clicking run or pressing Shift+Enter) will list all files under the input directory\n",
    "\n",
    "# You can write up to 20GB to the current directory (/kaggle/working/) that gets preserved as output when you create a version using \"Save & Run All\" \n",
    "# You can also write temporary files to /kaggle/temp/, but they won't be saved outside of the current session"
   ]
  },
  {
   "cell_type": "code",
   "execution_count": 3,
   "metadata": {
    "execution": {
     "iopub.execute_input": "2023-05-11T14:56:35.768675Z",
     "iopub.status.busy": "2023-05-11T14:56:35.768244Z",
     "iopub.status.idle": "2023-05-11T14:56:36.831733Z",
     "shell.execute_reply": "2023-05-11T14:56:36.830682Z",
     "shell.execute_reply.started": "2023-05-11T14:56:35.768645Z"
    }
   },
   "outputs": [
    {
     "data": {
      "text/html": [
       "<div>\n",
       "<style scoped>\n",
       "    .dataframe tbody tr th:only-of-type {\n",
       "        vertical-align: middle;\n",
       "    }\n",
       "\n",
       "    .dataframe tbody tr th {\n",
       "        vertical-align: top;\n",
       "    }\n",
       "\n",
       "    .dataframe thead th {\n",
       "        text-align: right;\n",
       "    }\n",
       "</style>\n",
       "<table border=\"1\" class=\"dataframe\">\n",
       "  <thead>\n",
       "    <tr style=\"text-align: right;\">\n",
       "      <th></th>\n",
       "      <th>tBodyAcc-mean()-X</th>\n",
       "      <th>tBodyAcc-mean()-Y</th>\n",
       "      <th>tBodyAcc-mean()-Z</th>\n",
       "      <th>tBodyAcc-std()-X</th>\n",
       "      <th>tBodyAcc-std()-Y</th>\n",
       "      <th>tBodyAcc-std()-Z</th>\n",
       "      <th>tBodyAcc-mad()-X</th>\n",
       "      <th>tBodyAcc-mad()-Y</th>\n",
       "      <th>tBodyAcc-mad()-Z</th>\n",
       "      <th>tBodyAcc-max()-X</th>\n",
       "      <th>...</th>\n",
       "      <th>fBodyBodyGyroJerkMag-skewness()</th>\n",
       "      <th>fBodyBodyGyroJerkMag-kurtosis()</th>\n",
       "      <th>angle(tBodyAccMean,gravity)</th>\n",
       "      <th>angle(tBodyAccJerkMean),gravityMean)</th>\n",
       "      <th>angle(tBodyGyroMean,gravityMean)</th>\n",
       "      <th>angle(tBodyGyroJerkMean,gravityMean)</th>\n",
       "      <th>angle(X,gravityMean)</th>\n",
       "      <th>angle(Y,gravityMean)</th>\n",
       "      <th>angle(Z,gravityMean)</th>\n",
       "      <th>Activity</th>\n",
       "    </tr>\n",
       "  </thead>\n",
       "  <tbody>\n",
       "    <tr>\n",
       "      <th>0</th>\n",
       "      <td>0.288585</td>\n",
       "      <td>-0.020294</td>\n",
       "      <td>-0.132905</td>\n",
       "      <td>-0.995279</td>\n",
       "      <td>-0.983111</td>\n",
       "      <td>-0.913526</td>\n",
       "      <td>-0.995112</td>\n",
       "      <td>-0.983185</td>\n",
       "      <td>-0.923527</td>\n",
       "      <td>-0.934724</td>\n",
       "      <td>...</td>\n",
       "      <td>-0.298676</td>\n",
       "      <td>-0.710304</td>\n",
       "      <td>-0.112754</td>\n",
       "      <td>0.030400</td>\n",
       "      <td>-0.464761</td>\n",
       "      <td>-0.018446</td>\n",
       "      <td>-0.841247</td>\n",
       "      <td>0.179941</td>\n",
       "      <td>-0.058627</td>\n",
       "      <td>STANDING</td>\n",
       "    </tr>\n",
       "    <tr>\n",
       "      <th>1</th>\n",
       "      <td>0.278419</td>\n",
       "      <td>-0.016411</td>\n",
       "      <td>-0.123520</td>\n",
       "      <td>-0.998245</td>\n",
       "      <td>-0.975300</td>\n",
       "      <td>-0.960322</td>\n",
       "      <td>-0.998807</td>\n",
       "      <td>-0.974914</td>\n",
       "      <td>-0.957686</td>\n",
       "      <td>-0.943068</td>\n",
       "      <td>...</td>\n",
       "      <td>-0.595051</td>\n",
       "      <td>-0.861499</td>\n",
       "      <td>0.053477</td>\n",
       "      <td>-0.007435</td>\n",
       "      <td>-0.732626</td>\n",
       "      <td>0.703511</td>\n",
       "      <td>-0.844788</td>\n",
       "      <td>0.180289</td>\n",
       "      <td>-0.054317</td>\n",
       "      <td>STANDING</td>\n",
       "    </tr>\n",
       "    <tr>\n",
       "      <th>2</th>\n",
       "      <td>0.279653</td>\n",
       "      <td>-0.019467</td>\n",
       "      <td>-0.113462</td>\n",
       "      <td>-0.995380</td>\n",
       "      <td>-0.967187</td>\n",
       "      <td>-0.978944</td>\n",
       "      <td>-0.996520</td>\n",
       "      <td>-0.963668</td>\n",
       "      <td>-0.977469</td>\n",
       "      <td>-0.938692</td>\n",
       "      <td>...</td>\n",
       "      <td>-0.390748</td>\n",
       "      <td>-0.760104</td>\n",
       "      <td>-0.118559</td>\n",
       "      <td>0.177899</td>\n",
       "      <td>0.100699</td>\n",
       "      <td>0.808529</td>\n",
       "      <td>-0.848933</td>\n",
       "      <td>0.180637</td>\n",
       "      <td>-0.049118</td>\n",
       "      <td>STANDING</td>\n",
       "    </tr>\n",
       "    <tr>\n",
       "      <th>3</th>\n",
       "      <td>0.279174</td>\n",
       "      <td>-0.026201</td>\n",
       "      <td>-0.123283</td>\n",
       "      <td>-0.996091</td>\n",
       "      <td>-0.983403</td>\n",
       "      <td>-0.990675</td>\n",
       "      <td>-0.997099</td>\n",
       "      <td>-0.982750</td>\n",
       "      <td>-0.989302</td>\n",
       "      <td>-0.938692</td>\n",
       "      <td>...</td>\n",
       "      <td>-0.117290</td>\n",
       "      <td>-0.482845</td>\n",
       "      <td>-0.036788</td>\n",
       "      <td>-0.012892</td>\n",
       "      <td>0.640011</td>\n",
       "      <td>-0.485366</td>\n",
       "      <td>-0.848649</td>\n",
       "      <td>0.181935</td>\n",
       "      <td>-0.047663</td>\n",
       "      <td>STANDING</td>\n",
       "    </tr>\n",
       "    <tr>\n",
       "      <th>4</th>\n",
       "      <td>0.276629</td>\n",
       "      <td>-0.016570</td>\n",
       "      <td>-0.115362</td>\n",
       "      <td>-0.998139</td>\n",
       "      <td>-0.980817</td>\n",
       "      <td>-0.990482</td>\n",
       "      <td>-0.998321</td>\n",
       "      <td>-0.979672</td>\n",
       "      <td>-0.990441</td>\n",
       "      <td>-0.942469</td>\n",
       "      <td>...</td>\n",
       "      <td>-0.351471</td>\n",
       "      <td>-0.699205</td>\n",
       "      <td>0.123320</td>\n",
       "      <td>0.122542</td>\n",
       "      <td>0.693578</td>\n",
       "      <td>-0.615971</td>\n",
       "      <td>-0.847865</td>\n",
       "      <td>0.185151</td>\n",
       "      <td>-0.043892</td>\n",
       "      <td>STANDING</td>\n",
       "    </tr>\n",
       "  </tbody>\n",
       "</table>\n",
       "<p>5 rows × 562 columns</p>\n",
       "</div>"
      ],
      "text/plain": [
       "   tBodyAcc-mean()-X  tBodyAcc-mean()-Y  tBodyAcc-mean()-Z  tBodyAcc-std()-X  \\\n",
       "0           0.288585          -0.020294          -0.132905         -0.995279   \n",
       "1           0.278419          -0.016411          -0.123520         -0.998245   \n",
       "2           0.279653          -0.019467          -0.113462         -0.995380   \n",
       "3           0.279174          -0.026201          -0.123283         -0.996091   \n",
       "4           0.276629          -0.016570          -0.115362         -0.998139   \n",
       "\n",
       "   tBodyAcc-std()-Y  tBodyAcc-std()-Z  tBodyAcc-mad()-X  tBodyAcc-mad()-Y  \\\n",
       "0         -0.983111         -0.913526         -0.995112         -0.983185   \n",
       "1         -0.975300         -0.960322         -0.998807         -0.974914   \n",
       "2         -0.967187         -0.978944         -0.996520         -0.963668   \n",
       "3         -0.983403         -0.990675         -0.997099         -0.982750   \n",
       "4         -0.980817         -0.990482         -0.998321         -0.979672   \n",
       "\n",
       "   tBodyAcc-mad()-Z  tBodyAcc-max()-X  ...  fBodyBodyGyroJerkMag-skewness()  \\\n",
       "0         -0.923527         -0.934724  ...                        -0.298676   \n",
       "1         -0.957686         -0.943068  ...                        -0.595051   \n",
       "2         -0.977469         -0.938692  ...                        -0.390748   \n",
       "3         -0.989302         -0.938692  ...                        -0.117290   \n",
       "4         -0.990441         -0.942469  ...                        -0.351471   \n",
       "\n",
       "   fBodyBodyGyroJerkMag-kurtosis()  angle(tBodyAccMean,gravity)  \\\n",
       "0                        -0.710304                    -0.112754   \n",
       "1                        -0.861499                     0.053477   \n",
       "2                        -0.760104                    -0.118559   \n",
       "3                        -0.482845                    -0.036788   \n",
       "4                        -0.699205                     0.123320   \n",
       "\n",
       "   angle(tBodyAccJerkMean),gravityMean)  angle(tBodyGyroMean,gravityMean)  \\\n",
       "0                              0.030400                         -0.464761   \n",
       "1                             -0.007435                         -0.732626   \n",
       "2                              0.177899                          0.100699   \n",
       "3                             -0.012892                          0.640011   \n",
       "4                              0.122542                          0.693578   \n",
       "\n",
       "   angle(tBodyGyroJerkMean,gravityMean)  angle(X,gravityMean)  \\\n",
       "0                             -0.018446             -0.841247   \n",
       "1                              0.703511             -0.844788   \n",
       "2                              0.808529             -0.848933   \n",
       "3                             -0.485366             -0.848649   \n",
       "4                             -0.615971             -0.847865   \n",
       "\n",
       "   angle(Y,gravityMean)  angle(Z,gravityMean)  Activity  \n",
       "0              0.179941             -0.058627  STANDING  \n",
       "1              0.180289             -0.054317  STANDING  \n",
       "2              0.180637             -0.049118  STANDING  \n",
       "3              0.181935             -0.047663  STANDING  \n",
       "4              0.185151             -0.043892  STANDING  \n",
       "\n",
       "[5 rows x 562 columns]"
      ]
     },
     "execution_count": 3,
     "metadata": {},
     "output_type": "execute_result"
    }
   ],
   "source": [
    "df = pd.read_csv('train.csv').drop(columns='subject')\n",
    "df.head()"
   ]
  },
  {
   "cell_type": "code",
   "execution_count": null,
   "metadata": {
    "execution": {
     "iopub.execute_input": "2023-05-11T14:56:54.385513Z",
     "iopub.status.busy": "2023-05-11T14:56:54.38519Z",
     "iopub.status.idle": "2023-05-11T14:56:54.402105Z",
     "shell.execute_reply": "2023-05-11T14:56:54.400671Z",
     "shell.execute_reply.started": "2023-05-11T14:56:54.385487Z"
    }
   },
   "outputs": [],
   "source": [
    "df['Activity'].value_counts()"
   ]
  },
  {
   "cell_type": "code",
   "execution_count": null,
   "metadata": {
    "execution": {
     "iopub.execute_input": "2023-05-11T12:14:18.357136Z",
     "iopub.status.busy": "2023-05-11T12:14:18.356139Z",
     "iopub.status.idle": "2023-05-11T12:14:18.364209Z",
     "shell.execute_reply": "2023-05-11T12:14:18.362748Z",
     "shell.execute_reply.started": "2023-05-11T12:14:18.357012Z"
    }
   },
   "outputs": [],
   "source": [
    "print(df.shape)"
   ]
  },
  {
   "cell_type": "code",
   "execution_count": null,
   "metadata": {
    "execution": {
     "iopub.execute_input": "2023-05-11T15:01:21.991082Z",
     "iopub.status.busy": "2023-05-11T15:01:21.990657Z",
     "iopub.status.idle": "2023-05-11T15:01:22.71053Z",
     "shell.execute_reply": "2023-05-11T15:01:22.709308Z",
     "shell.execute_reply.started": "2023-05-11T15:01:21.991054Z"
    }
   },
   "outputs": [],
   "source": [
    "from sklearn.preprocessing import LabelEncoder\n",
    "from sklearn.model_selection import train_test_split\n",
    "from sklearn.linear_model import LogisticRegression\n",
    "from sklearn.metrics import accuracy_score\n",
    "\n",
    "# Separate features and target\n",
    "X = df.drop('Activity', axis=1)\n",
    "y = df['Activity']\n",
    "\n",
    "# Encode target labels\n",
    "le = LabelEncoder()\n",
    "y = le.fit_transform(y)\n",
    "\n",
    "# Split data into training and testing sets\n",
    "X_train, X_test, y_train, y_test = train_test_split(X, y, test_size=0.2, random_state=42)"
   ]
  },
  {
   "cell_type": "code",
   "execution_count": null,
   "metadata": {
    "execution": {
     "iopub.execute_input": "2023-05-11T15:01:33.197408Z",
     "iopub.status.busy": "2023-05-11T15:01:33.196981Z",
     "iopub.status.idle": "2023-05-11T15:01:33.203491Z",
     "shell.execute_reply": "2023-05-11T15:01:33.202659Z",
     "shell.execute_reply.started": "2023-05-11T15:01:33.197376Z"
    }
   },
   "outputs": [],
   "source": [
    "print(X_train.shape)\n",
    "print(X_test.shape)"
   ]
  },
  {
   "cell_type": "markdown",
   "metadata": {},
   "source": [
    "### Applying Logistic Regression"
   ]
  },
  {
   "cell_type": "code",
   "execution_count": null,
   "metadata": {
    "execution": {
     "iopub.execute_input": "2023-05-11T15:02:09.374192Z",
     "iopub.status.busy": "2023-05-11T15:02:09.373753Z",
     "iopub.status.idle": "2023-05-11T15:02:25.868495Z",
     "shell.execute_reply": "2023-05-11T15:02:25.866963Z",
     "shell.execute_reply.started": "2023-05-11T15:02:09.374161Z"
    }
   },
   "outputs": [],
   "source": [
    "# Initialize and train logistic regression model\n",
    "log_reg = LogisticRegression(max_iter=1000)  # Increase max_iter if it doesn't converge\n",
    "log_reg.fit(X_train, y_train)\n",
    "\n",
    "# Make predictions on the test set\n",
    "y_pred = log_reg.predict(X_test)\n",
    "\n",
    "# Calculate and print accuracy score\n",
    "accuracy = accuracy_score(y_test, y_pred)\n",
    "print(\"Test accuracy:\", accuracy)"
   ]
  },
  {
   "cell_type": "markdown",
   "metadata": {},
   "source": [
    "### 1. Removing Duplicate Columns"
   ]
  },
  {
   "cell_type": "code",
   "execution_count": null,
   "metadata": {
    "execution": {
     "iopub.execute_input": "2023-05-11T15:03:56.078795Z",
     "iopub.status.busy": "2023-05-11T15:03:56.078329Z",
     "iopub.status.idle": "2023-05-11T15:03:56.0876Z",
     "shell.execute_reply": "2023-05-11T15:03:56.086137Z",
     "shell.execute_reply.started": "2023-05-11T15:03:56.078757Z"
    }
   },
   "outputs": [],
   "source": [
    "def get_duplicate_columns(df):\n",
    "    \n",
    "    duplicate_columns = {}\n",
    "    seen_columns = {}\n",
    "\n",
    "    for column in df.columns:\n",
    "        current_column = df[column]\n",
    "\n",
    "        # Convert column data to bytes\n",
    "        try:\n",
    "            current_column_hash = current_column.values.tobytes()\n",
    "        except AttributeError:\n",
    "            current_column_hash = current_column.to_string().encode()\n",
    "\n",
    "        if current_column_hash in seen_columns:\n",
    "            if seen_columns[current_column_hash] in duplicate_columns:\n",
    "                duplicate_columns[seen_columns[current_column_hash]].append(column)\n",
    "            else:\n",
    "                duplicate_columns[seen_columns[current_column_hash]] = [column]\n",
    "        else:\n",
    "            seen_columns[current_column_hash] = column\n",
    "\n",
    "    return duplicate_columns\n"
   ]
  },
  {
   "cell_type": "code",
   "execution_count": null,
   "metadata": {
    "execution": {
     "iopub.execute_input": "2023-05-11T15:04:18.171013Z",
     "iopub.status.busy": "2023-05-11T15:04:18.170558Z",
     "iopub.status.idle": "2023-05-11T15:04:18.222063Z",
     "shell.execute_reply": "2023-05-11T15:04:18.221178Z",
     "shell.execute_reply.started": "2023-05-11T15:04:18.17098Z"
    }
   },
   "outputs": [],
   "source": [
    "duplicate_columns = get_duplicate_columns(X_train)"
   ]
  },
  {
   "cell_type": "code",
   "execution_count": null,
   "metadata": {
    "execution": {
     "iopub.execute_input": "2023-05-11T15:04:19.837936Z",
     "iopub.status.busy": "2023-05-11T15:04:19.837531Z",
     "iopub.status.idle": "2023-05-11T15:04:19.846865Z",
     "shell.execute_reply": "2023-05-11T15:04:19.845475Z",
     "shell.execute_reply.started": "2023-05-11T15:04:19.837907Z"
    }
   },
   "outputs": [],
   "source": [
    "duplicate_columns"
   ]
  },
  {
   "cell_type": "code",
   "execution_count": null,
   "metadata": {
    "execution": {
     "iopub.execute_input": "2023-05-11T15:05:28.77944Z",
     "iopub.status.busy": "2023-05-11T15:05:28.778415Z",
     "iopub.status.idle": "2023-05-11T15:05:28.795596Z",
     "shell.execute_reply": "2023-05-11T15:05:28.794307Z",
     "shell.execute_reply.started": "2023-05-11T15:05:28.779402Z"
    }
   },
   "outputs": [],
   "source": [
    "X_train[['tBodyAccMag-mean()','tBodyAccMag-sma()','tGravityAccMag-mean()','tGravityAccMag-sma()']]"
   ]
  },
  {
   "cell_type": "code",
   "execution_count": null,
   "metadata": {
    "execution": {
     "iopub.execute_input": "2023-05-11T15:06:25.273338Z",
     "iopub.status.busy": "2023-05-11T15:06:25.272937Z",
     "iopub.status.idle": "2023-05-11T15:06:25.454791Z",
     "shell.execute_reply": "2023-05-11T15:06:25.453618Z",
     "shell.execute_reply.started": "2023-05-11T15:06:25.273309Z"
    }
   },
   "outputs": [],
   "source": [
    "for one_list in duplicate_columns.values():\n",
    "    X_train.drop(columns=one_list,inplace=True)\n",
    "    X_test.drop(columns=one_list,inplace=True)"
   ]
  },
  {
   "cell_type": "code",
   "execution_count": null,
   "metadata": {
    "execution": {
     "iopub.execute_input": "2023-05-11T15:06:27.372554Z",
     "iopub.status.busy": "2023-05-11T15:06:27.372176Z",
     "iopub.status.idle": "2023-05-11T15:06:27.378116Z",
     "shell.execute_reply": "2023-05-11T15:06:27.376912Z",
     "shell.execute_reply.started": "2023-05-11T15:06:27.372527Z"
    }
   },
   "outputs": [],
   "source": [
    "print(X_train.shape)\n",
    "print(X_test.shape)"
   ]
  },
  {
   "cell_type": "markdown",
   "metadata": {},
   "source": [
    "### 2. Variance Threshold"
   ]
  },
  {
   "cell_type": "code",
   "execution_count": null,
   "metadata": {
    "execution": {
     "iopub.execute_input": "2023-05-11T15:15:34.697927Z",
     "iopub.status.busy": "2023-05-11T15:15:34.697504Z",
     "iopub.status.idle": "2023-05-11T15:15:34.868321Z",
     "shell.execute_reply": "2023-05-11T15:15:34.867177Z",
     "shell.execute_reply.started": "2023-05-11T15:15:34.697894Z"
    }
   },
   "outputs": [],
   "source": [
    "from sklearn.feature_selection import VarianceThreshold\n",
    "sel = VarianceThreshold(threshold=0.05)"
   ]
  },
  {
   "cell_type": "code",
   "execution_count": null,
   "metadata": {
    "execution": {
     "iopub.execute_input": "2023-05-11T15:16:12.067327Z",
     "iopub.status.busy": "2023-05-11T15:16:12.066923Z",
     "iopub.status.idle": "2023-05-11T15:16:12.120978Z",
     "shell.execute_reply": "2023-05-11T15:16:12.119762Z",
     "shell.execute_reply.started": "2023-05-11T15:16:12.067298Z"
    }
   },
   "outputs": [],
   "source": [
    "sel.fit(X_train)"
   ]
  },
  {
   "cell_type": "code",
   "execution_count": null,
   "metadata": {
    "execution": {
     "iopub.execute_input": "2023-05-11T15:16:49.35739Z",
     "iopub.status.busy": "2023-05-11T15:16:49.356974Z",
     "iopub.status.idle": "2023-05-11T15:16:49.365326Z",
     "shell.execute_reply": "2023-05-11T15:16:49.364187Z",
     "shell.execute_reply.started": "2023-05-11T15:16:49.357355Z"
    }
   },
   "outputs": [],
   "source": [
    "sum(sel.get_support())"
   ]
  },
  {
   "cell_type": "code",
   "execution_count": null,
   "metadata": {
    "execution": {
     "iopub.execute_input": "2023-05-11T15:17:14.371926Z",
     "iopub.status.busy": "2023-05-11T15:17:14.371469Z",
     "iopub.status.idle": "2023-05-11T15:17:14.377212Z",
     "shell.execute_reply": "2023-05-11T15:17:14.375912Z",
     "shell.execute_reply.started": "2023-05-11T15:17:14.371893Z"
    }
   },
   "outputs": [],
   "source": [
    "columns = X_train.columns[sel.get_support()]"
   ]
  },
  {
   "cell_type": "code",
   "execution_count": null,
   "metadata": {
    "execution": {
     "iopub.execute_input": "2023-05-11T15:17:20.597313Z",
     "iopub.status.busy": "2023-05-11T15:17:20.596785Z",
     "iopub.status.idle": "2023-05-11T15:17:20.60585Z",
     "shell.execute_reply": "2023-05-11T15:17:20.604754Z",
     "shell.execute_reply.started": "2023-05-11T15:17:20.597271Z"
    }
   },
   "outputs": [],
   "source": [
    "columns"
   ]
  },
  {
   "cell_type": "code",
   "execution_count": null,
   "metadata": {
    "execution": {
     "iopub.execute_input": "2023-05-11T15:17:59.401102Z",
     "iopub.status.busy": "2023-05-11T15:17:59.400678Z",
     "iopub.status.idle": "2023-05-11T15:17:59.430866Z",
     "shell.execute_reply": "2023-05-11T15:17:59.429911Z",
     "shell.execute_reply.started": "2023-05-11T15:17:59.401073Z"
    }
   },
   "outputs": [],
   "source": [
    "X_train = sel.transform(X_train)\n",
    "X_test = sel.transform(X_test)\n",
    "\n",
    "X_train = pd.DataFrame(X_train, columns=columns)\n",
    "X_test = pd.DataFrame(X_test, columns=columns)"
   ]
  },
  {
   "cell_type": "code",
   "execution_count": null,
   "metadata": {
    "execution": {
     "iopub.execute_input": "2023-05-11T15:18:01.331987Z",
     "iopub.status.busy": "2023-05-11T15:18:01.331479Z",
     "iopub.status.idle": "2023-05-11T15:18:01.338161Z",
     "shell.execute_reply": "2023-05-11T15:18:01.337056Z",
     "shell.execute_reply.started": "2023-05-11T15:18:01.33195Z"
    }
   },
   "outputs": [],
   "source": [
    "print(X_train.shape)\n",
    "print(X_test.shape)"
   ]
  },
  {
   "cell_type": "code",
   "execution_count": null,
   "metadata": {
    "execution": {
     "iopub.execute_input": "2023-05-11T15:18:29.374127Z",
     "iopub.status.busy": "2023-05-11T15:18:29.373747Z",
     "iopub.status.idle": "2023-05-11T15:18:29.409218Z",
     "shell.execute_reply": "2023-05-11T15:18:29.408145Z",
     "shell.execute_reply.started": "2023-05-11T15:18:29.374101Z"
    }
   },
   "outputs": [],
   "source": [
    "X_train.head()"
   ]
  },
  {
   "cell_type": "markdown",
   "metadata": {},
   "source": [
    "### 3. Correlation"
   ]
  },
  {
   "cell_type": "code",
   "execution_count": null,
   "metadata": {
    "execution": {
     "iopub.execute_input": "2023-05-11T15:29:35.385443Z",
     "iopub.status.busy": "2023-05-11T15:29:35.385018Z",
     "iopub.status.idle": "2023-05-11T15:29:35.74023Z",
     "shell.execute_reply": "2023-05-11T15:29:35.739073Z",
     "shell.execute_reply.started": "2023-05-11T15:29:35.385408Z"
    }
   },
   "outputs": [],
   "source": [
    "import seaborn as sns"
   ]
  },
  {
   "cell_type": "code",
   "execution_count": null,
   "metadata": {
    "execution": {
     "iopub.execute_input": "2023-05-11T15:29:47.756005Z",
     "iopub.status.busy": "2023-05-11T15:29:47.75524Z",
     "iopub.status.idle": "2023-05-11T15:29:50.797681Z",
     "shell.execute_reply": "2023-05-11T15:29:50.796457Z",
     "shell.execute_reply.started": "2023-05-11T15:29:47.755935Z"
    }
   },
   "outputs": [],
   "source": [
    "sns.heatmap(X_train.corr())"
   ]
  },
  {
   "cell_type": "code",
   "execution_count": null,
   "metadata": {
    "execution": {
     "iopub.execute_input": "2023-05-11T15:30:57.400936Z",
     "iopub.status.busy": "2023-05-11T15:30:57.400246Z",
     "iopub.status.idle": "2023-05-11T15:30:59.337729Z",
     "shell.execute_reply": "2023-05-11T15:30:59.336619Z",
     "shell.execute_reply.started": "2023-05-11T15:30:57.400902Z"
    }
   },
   "outputs": [],
   "source": [
    "corr_matrix = X_train.corr()"
   ]
  },
  {
   "cell_type": "code",
   "execution_count": null,
   "metadata": {
    "execution": {
     "iopub.execute_input": "2023-05-11T15:31:37.099404Z",
     "iopub.status.busy": "2023-05-11T15:31:37.099003Z",
     "iopub.status.idle": "2023-05-11T15:31:38.326301Z",
     "shell.execute_reply": "2023-05-11T15:31:38.325064Z",
     "shell.execute_reply.started": "2023-05-11T15:31:37.099376Z"
    }
   },
   "outputs": [],
   "source": [
    "# Get the column names of the DataFrame\n",
    "columns = corr_matrix.columns\n",
    "\n",
    "# Create an empty list to keep track of columns to drop\n",
    "columns_to_drop = []\n",
    "\n",
    "# Loop over the columns\n",
    "for i in range(len(columns)):\n",
    "    for j in range(i + 1, len(columns)):\n",
    "        # Access the cell of the DataFrame\n",
    "        if corr_matrix.loc[columns[i], columns[j]] > 0.95:\n",
    "            columns_to_drop.append(columns[j])\n",
    "\n",
    "print(len(columns_to_drop))\n"
   ]
  },
  {
   "cell_type": "code",
   "execution_count": null,
   "metadata": {
    "execution": {
     "iopub.execute_input": "2023-05-11T15:32:10.321782Z",
     "iopub.status.busy": "2023-05-11T15:32:10.321338Z",
     "iopub.status.idle": "2023-05-11T15:32:10.327293Z",
     "shell.execute_reply": "2023-05-11T15:32:10.326045Z",
     "shell.execute_reply.started": "2023-05-11T15:32:10.321747Z"
    }
   },
   "outputs": [],
   "source": [
    "columns_to_drop = set(columns_to_drop)"
   ]
  },
  {
   "cell_type": "code",
   "execution_count": null,
   "metadata": {
    "execution": {
     "iopub.execute_input": "2023-05-11T15:32:21.480143Z",
     "iopub.status.busy": "2023-05-11T15:32:21.479751Z",
     "iopub.status.idle": "2023-05-11T15:32:21.487766Z",
     "shell.execute_reply": "2023-05-11T15:32:21.486825Z",
     "shell.execute_reply.started": "2023-05-11T15:32:21.480114Z"
    }
   },
   "outputs": [],
   "source": [
    "len(columns_to_drop)"
   ]
  },
  {
   "cell_type": "code",
   "execution_count": null,
   "metadata": {
    "execution": {
     "iopub.execute_input": "2023-05-11T15:32:41.567228Z",
     "iopub.status.busy": "2023-05-11T15:32:41.566384Z",
     "iopub.status.idle": "2023-05-11T15:32:41.578361Z",
     "shell.execute_reply": "2023-05-11T15:32:41.577158Z",
     "shell.execute_reply.started": "2023-05-11T15:32:41.567178Z"
    }
   },
   "outputs": [],
   "source": [
    "X_train.drop(columns = columns_to_drop, axis = 1, inplace=True)\n",
    "X_test.drop(columns = columns_to_drop, axis = 1, inplace=True)"
   ]
  },
  {
   "cell_type": "code",
   "execution_count": null,
   "metadata": {
    "execution": {
     "iopub.execute_input": "2023-05-11T15:32:44.199219Z",
     "iopub.status.busy": "2023-05-11T15:32:44.198812Z",
     "iopub.status.idle": "2023-05-11T15:32:44.204987Z",
     "shell.execute_reply": "2023-05-11T15:32:44.203814Z",
     "shell.execute_reply.started": "2023-05-11T15:32:44.199188Z"
    }
   },
   "outputs": [],
   "source": [
    "print(X_train.shape)\n",
    "print(X_test.shape)"
   ]
  },
  {
   "cell_type": "code",
   "execution_count": null,
   "metadata": {
    "execution": {
     "iopub.execute_input": "2023-05-11T15:50:14.777749Z",
     "iopub.status.busy": "2023-05-11T15:50:14.777279Z",
     "iopub.status.idle": "2023-05-11T15:50:14.813061Z",
     "shell.execute_reply": "2023-05-11T15:50:14.811295Z",
     "shell.execute_reply.started": "2023-05-11T15:50:14.777716Z"
    }
   },
   "outputs": [],
   "source": [
    "X_train"
   ]
  },
  {
   "cell_type": "markdown",
   "metadata": {},
   "source": [
    "### 4. ANOVA"
   ]
  },
  {
   "cell_type": "code",
   "execution_count": null,
   "metadata": {
    "execution": {
     "iopub.execute_input": "2023-05-11T15:57:23.2438Z",
     "iopub.status.busy": "2023-05-11T15:57:23.243342Z",
     "iopub.status.idle": "2023-05-11T15:57:23.273564Z",
     "shell.execute_reply": "2023-05-11T15:57:23.272511Z",
     "shell.execute_reply.started": "2023-05-11T15:57:23.243766Z"
    }
   },
   "outputs": [],
   "source": [
    "from sklearn.feature_selection import f_classif\n",
    "from sklearn.feature_selection import SelectKBest\n",
    "\n",
    "\n",
    "sel = SelectKBest(f_classif, k=100).fit(X_train, y_train)\n",
    "\n",
    "# display selected feature names\n",
    "X_train.columns[sel.get_support()]"
   ]
  },
  {
   "cell_type": "code",
   "execution_count": null,
   "metadata": {
    "execution": {
     "iopub.execute_input": "2023-05-11T15:57:38.802124Z",
     "iopub.status.busy": "2023-05-11T15:57:38.801723Z",
     "iopub.status.idle": "2023-05-11T15:57:38.807989Z",
     "shell.execute_reply": "2023-05-11T15:57:38.806847Z",
     "shell.execute_reply.started": "2023-05-11T15:57:38.802097Z"
    }
   },
   "outputs": [],
   "source": [
    "columns = X_train.columns[sel.get_support()]"
   ]
  },
  {
   "cell_type": "code",
   "execution_count": null,
   "metadata": {
    "execution": {
     "iopub.execute_input": "2023-05-11T15:57:50.928388Z",
     "iopub.status.busy": "2023-05-11T15:57:50.927986Z",
     "iopub.status.idle": "2023-05-11T15:57:50.944946Z",
     "shell.execute_reply": "2023-05-11T15:57:50.943643Z",
     "shell.execute_reply.started": "2023-05-11T15:57:50.928358Z"
    }
   },
   "outputs": [],
   "source": [
    "X_train = sel.transform(X_train)\n",
    "X_test = sel.transform(X_test)\n",
    "\n",
    "X_train = pd.DataFrame(X_train, columns=columns)\n",
    "X_test = pd.DataFrame(X_test, columns=columns)"
   ]
  },
  {
   "cell_type": "code",
   "execution_count": null,
   "metadata": {
    "execution": {
     "iopub.execute_input": "2023-05-11T15:57:52.141833Z",
     "iopub.status.busy": "2023-05-11T15:57:52.141385Z",
     "iopub.status.idle": "2023-05-11T15:57:52.147825Z",
     "shell.execute_reply": "2023-05-11T15:57:52.146769Z",
     "shell.execute_reply.started": "2023-05-11T15:57:52.1418Z"
    }
   },
   "outputs": [],
   "source": [
    "print(X_train.shape)\n",
    "print(X_test.shape)"
   ]
  },
  {
   "cell_type": "code",
   "execution_count": null,
   "metadata": {
    "execution": {
     "iopub.execute_input": "2023-05-11T12:15:53.419277Z",
     "iopub.status.busy": "2023-05-11T12:15:53.418641Z",
     "iopub.status.idle": "2023-05-11T12:15:53.450423Z",
     "shell.execute_reply": "2023-05-11T12:15:53.448956Z",
     "shell.execute_reply.started": "2023-05-11T12:15:53.419241Z"
    }
   },
   "outputs": [],
   "source": [
    "X_train.head()"
   ]
  },
  {
   "cell_type": "markdown",
   "metadata": {},
   "source": [
    "### Moment of Truth"
   ]
  },
  {
   "cell_type": "code",
   "execution_count": null,
   "metadata": {
    "execution": {
     "iopub.execute_input": "2023-05-11T16:00:58.376028Z",
     "iopub.status.busy": "2023-05-11T16:00:58.37561Z",
     "iopub.status.idle": "2023-05-11T16:01:01.643348Z",
     "shell.execute_reply": "2023-05-11T16:01:01.641549Z",
     "shell.execute_reply.started": "2023-05-11T16:00:58.375998Z"
    }
   },
   "outputs": [],
   "source": [
    "# Initialize and train logistic regression model\n",
    "log_reg = LogisticRegression(max_iter=1000)  # Increase max_iter if it doesn't converge\n",
    "log_reg.fit(X_train, y_train)\n",
    "\n",
    "# Make predictions on the test set\n",
    "y_pred = log_reg.predict(X_test)\n",
    "\n",
    "# Calculate and print accuracy score\n",
    "accuracy = accuracy_score(y_test, y_pred)\n",
    "print(\"Test accuracy:\", accuracy)"
   ]
  },
  {
   "cell_type": "markdown",
   "metadata": {},
   "source": [
    "### 5. Chi-square Test"
   ]
  },
  {
   "cell_type": "code",
   "execution_count": null,
   "metadata": {
    "execution": {
     "iopub.execute_input": "2023-05-11T16:08:23.070011Z",
     "iopub.status.busy": "2023-05-11T16:08:23.069624Z",
     "iopub.status.idle": "2023-05-11T16:08:23.096065Z",
     "shell.execute_reply": "2023-05-11T16:08:23.09488Z",
     "shell.execute_reply.started": "2023-05-11T16:08:23.069982Z"
    }
   },
   "outputs": [],
   "source": [
    "titanic = pd.read_csv('/kaggle/input/titanic/train.csv')[['Pclass','Sex','SibSp','Parch','Embarked','Survived']]\n",
    "titanic.head()"
   ]
  },
  {
   "cell_type": "code",
   "execution_count": null,
   "metadata": {
    "execution": {
     "iopub.execute_input": "2023-05-11T16:10:10.091751Z",
     "iopub.status.busy": "2023-05-11T16:10:10.091328Z",
     "iopub.status.idle": "2023-05-11T16:10:10.143091Z",
     "shell.execute_reply": "2023-05-11T16:10:10.141827Z",
     "shell.execute_reply.started": "2023-05-11T16:10:10.091718Z"
    }
   },
   "outputs": [],
   "source": [
    "ct = pd.crosstab(titanic['Survived'],titanic['Sex'],margins=True)\n",
    "ct"
   ]
  },
  {
   "cell_type": "code",
   "execution_count": null,
   "metadata": {
    "execution": {
     "iopub.execute_input": "2023-05-11T16:16:06.212546Z",
     "iopub.status.busy": "2023-05-11T16:16:06.212132Z",
     "iopub.status.idle": "2023-05-11T16:16:06.221678Z",
     "shell.execute_reply": "2023-05-11T16:16:06.220453Z",
     "shell.execute_reply.started": "2023-05-11T16:16:06.212516Z"
    }
   },
   "outputs": [],
   "source": [
    "from scipy.stats import chi2_contingency\n",
    "chi2_contingency(ct)"
   ]
  },
  {
   "cell_type": "code",
   "execution_count": null,
   "metadata": {
    "execution": {
     "iopub.execute_input": "2023-05-11T16:17:04.043137Z",
     "iopub.status.busy": "2023-05-11T16:17:04.0426Z",
     "iopub.status.idle": "2023-05-11T16:17:04.106193Z",
     "shell.execute_reply": "2023-05-11T16:17:04.105199Z",
     "shell.execute_reply.started": "2023-05-11T16:17:04.043084Z"
    }
   },
   "outputs": [],
   "source": [
    "score = []\n",
    "\n",
    "for feature in titanic.columns[:-1]:\n",
    "    \n",
    "    # create contingency table\n",
    "    ct = pd.crosstab(titanic['Survived'], titanic[feature])\n",
    "    \n",
    "    # chi_test\n",
    "    p_value = chi2_contingency(ct)[1]\n",
    "    score.append(p_value)"
   ]
  },
  {
   "cell_type": "code",
   "execution_count": null,
   "metadata": {
    "execution": {
     "iopub.execute_input": "2023-05-11T16:17:06.159289Z",
     "iopub.status.busy": "2023-05-11T16:17:06.158756Z",
     "iopub.status.idle": "2023-05-11T16:17:06.482858Z",
     "shell.execute_reply": "2023-05-11T16:17:06.481718Z",
     "shell.execute_reply.started": "2023-05-11T16:17:06.159245Z"
    }
   },
   "outputs": [],
   "source": [
    "pd.Series(score, index=titanic.columns[:-1]).sort_values(ascending=True).plot(kind='bar')"
   ]
  },
  {
   "cell_type": "code",
   "execution_count": null,
   "metadata": {
    "execution": {
     "iopub.execute_input": "2023-05-11T10:49:23.519112Z",
     "iopub.status.busy": "2023-05-11T10:49:23.518487Z",
     "iopub.status.idle": "2023-05-11T10:49:23.781662Z",
     "shell.execute_reply": "2023-05-11T10:49:23.780465Z",
     "shell.execute_reply.started": "2023-05-11T10:49:23.519075Z"
    }
   },
   "outputs": [],
   "source": [
    "from sklearn.preprocessing import LabelEncoder\n",
    "from sklearn.feature_selection import chi2\n",
    "import matplotlib.pyplot as plt\n",
    "\n",
    "# assuming titanic is your DataFrame and 'Survived' is the target column\n",
    "\n",
    "# Encode categorical variables\n",
    "le = LabelEncoder()\n",
    "titanic_encoded = titanic.apply(le.fit_transform)\n",
    "\n",
    "X = titanic_encoded.drop('Survived', axis=1)\n",
    "y = titanic_encoded['Survived']\n",
    "\n",
    "# Calculate chi-squared stats\n",
    "chi_scores = chi2(X, y)\n",
    "\n",
    "# chi_scores[1] are the p-values of each feature.\n",
    "p_values = pd.Series(chi_scores[1], index = X.columns)\n",
    "p_values.sort_values(inplace = True)\n",
    "\n",
    "# Plotting the p-values\n",
    "p_values.plot.bar()\n",
    "\n",
    "plt.title('Chi-square test - P-values')\n",
    "plt.xlabel('Feature')\n",
    "plt.ylabel('P-value')\n",
    "\n",
    "plt.show()\n"
   ]
  },
  {
   "cell_type": "code",
   "execution_count": null,
   "metadata": {},
   "outputs": [],
   "source": []
  }
 ],
 "metadata": {
  "kaggle": {
   "accelerator": "none",
   "dataSources": [
    {
     "databundleVersionId": 26502,
     "sourceId": 3136,
     "sourceType": "competition"
    },
    {
     "datasetId": 226,
     "sourceId": 793070,
     "sourceType": "datasetVersion"
    }
   ],
   "dockerImageVersionId": 30474,
   "isGpuEnabled": false,
   "isInternetEnabled": true,
   "language": "python",
   "sourceType": "notebook"
  },
  "kernelspec": {
   "display_name": "Python 3 (ipykernel)",
   "language": "python",
   "name": "python3"
  },
  "language_info": {
   "codemirror_mode": {
    "name": "ipython",
    "version": 3
   },
   "file_extension": ".py",
   "mimetype": "text/x-python",
   "name": "python",
   "nbconvert_exporter": "python",
   "pygments_lexer": "ipython3",
   "version": "3.9.18"
  }
 },
 "nbformat": 4,
 "nbformat_minor": 4
}
