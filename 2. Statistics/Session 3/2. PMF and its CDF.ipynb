{
 "cells": [
  {
   "cell_type": "markdown",
   "id": "d6fe7bb0",
   "metadata": {},
   "source": [
    "# Making a PMF for rolling a dice 10000 times "
   ]
  },
  {
   "cell_type": "code",
   "execution_count": 6,
   "id": "1f2941fd",
   "metadata": {
    "scrolled": true
   },
   "outputs": [
    {
     "name": "stderr",
     "output_type": "stream",
     "text": [
      "C:\\Users\\vinay\\anaconda3\\lib\\site-packages\\scipy\\__init__.py:146: UserWarning: A NumPy version >=1.16.5 and <1.23.0 is required for this version of SciPy (detected version 1.26.4\n",
      "  warnings.warn(f\"A NumPy version >={np_minversion} and <{np_maxversion}\"\n"
     ]
    }
   ],
   "source": [
    "import pandas as pd\n",
    "import numpy as np\n",
    "import matplotlib.pyplot as plt\n",
    "import seaborn as sns\n",
    "%matplotlib inline"
   ]
  },
  {
   "cell_type": "code",
   "execution_count": 1,
   "id": "70a57b8b",
   "metadata": {},
   "outputs": [],
   "source": [
    "# rolling a dice 10000 times and storing output in list"
   ]
  },
  {
   "cell_type": "code",
   "execution_count": 2,
   "id": "5c98559c",
   "metadata": {},
   "outputs": [],
   "source": [
    "import random"
   ]
  },
  {
   "cell_type": "code",
   "execution_count": 3,
   "id": "7ee640b3",
   "metadata": {},
   "outputs": [],
   "source": [
    "L = []\n",
    "for i in range(10000):\n",
    "    L.append(random.randint(1 , 6))"
   ]
  },
  {
   "cell_type": "code",
   "execution_count": 8,
   "id": "6504a406",
   "metadata": {},
   "outputs": [],
   "source": [
    "L = pd.Series(L)"
   ]
  },
  {
   "cell_type": "code",
   "execution_count": null,
   "id": "9658ee40",
   "metadata": {},
   "outputs": [],
   "source": [
    "# Finding probablities for each outcome"
   ]
  },
  {
   "cell_type": "code",
   "execution_count": 13,
   "id": "caa873d5",
   "metadata": {},
   "outputs": [
    {
     "data": {
      "text/plain": [
       "3    0.1681\n",
       "4    0.1680\n",
       "2    0.1675\n",
       "5    0.1674\n",
       "1    0.1663\n",
       "6    0.1627\n",
       "Name: count, dtype: float64"
      ]
     },
     "execution_count": 13,
     "metadata": {},
     "output_type": "execute_result"
    }
   ],
   "source": [
    "s = L.value_counts()/L.value_counts().sum()\n",
    "s"
   ]
  },
  {
   "cell_type": "code",
   "execution_count": 14,
   "id": "4b24177e",
   "metadata": {},
   "outputs": [
    {
     "data": {
      "text/plain": [
       "<Axes: >"
      ]
     },
     "execution_count": 14,
     "metadata": {},
     "output_type": "execute_result"
    },
    {
     "data": {
      "image/png": "[encoded data removed]",
      "text/plain": [
       "<Figure size 432x288 with 1 Axes>"
      ]
     },
     "metadata": {
      "needs_background": "light"
     },
     "output_type": "display_data"
    }
   ],
   "source": [
    "s.plot(kind = 'bar') "
   ]
  },
  {
   "cell_type": "markdown",
   "id": "f82c2bd0",
   "metadata": {},
   "source": [
    "# making a PMF for rolling 2 dice and finding sum 1000 times"
   ]
  },
  {
   "cell_type": "code",
   "execution_count": 18,
   "id": "91743952",
   "metadata": {},
   "outputs": [],
   "source": [
    "L = []\n",
    "\n",
    "for i in range(10000):\n",
    "    num1 = random.randint( 1 , 6)\n",
    "    num2 = random.randint(1 , 6)\n",
    "    total = num1 + num2\n",
    "    L.append(total)"
   ]
  },
  {
   "cell_type": "code",
   "execution_count": 24,
   "id": "23966617",
   "metadata": {},
   "outputs": [
    {
     "data": {
      "text/plain": [
       "2     0.0282\n",
       "3     0.0573\n",
       "4     0.0824\n",
       "5     0.1025\n",
       "6     0.1388\n",
       "7     0.1675\n",
       "8     0.1425\n",
       "9     0.1130\n",
       "10    0.0814\n",
       "11    0.0586\n",
       "12    0.0278\n",
       "Name: count, dtype: float64"
      ]
     },
     "execution_count": 24,
     "metadata": {},
     "output_type": "execute_result"
    }
   ],
   "source": [
    "(pd.Series(L).value_counts()/pd.Series(L).value_counts().sum()).sort_index()"
   ]
  },
  {
   "cell_type": "code",
   "execution_count": 25,
   "id": "cfc940fb",
   "metadata": {
    "scrolled": true
   },
   "outputs": [
    {
     "data": {
      "text/plain": [
       "<Axes: >"
      ]
     },
     "execution_count": 25,
     "metadata": {},
     "output_type": "execute_result"
    },
    {
     "data": {
      "image/png": "[encoded data removed]",
      "text/plain": [
       "<Figure size 432x288 with 1 Axes>"
      ]
     },
     "metadata": {
      "needs_background": "light"
     },
     "output_type": "display_data"
    }
   ],
   "source": [
    "(pd.Series(L).value_counts()/pd.Series(L).value_counts().sum()).sort_index().plot(kind = 'bar')"
   ]
  },
  {
   "cell_type": "markdown",
   "id": "59caf3d5",
   "metadata": {},
   "source": [
    "Interpretation : if x = 3 , then it is telling the probablity of sum to be 3 is 0.06"
   ]
  },
  {
   "cell_type": "markdown",
   "id": "a32b0126",
   "metadata": {},
   "source": [
    "# Calculating CDF"
   ]
  },
  {
   "cell_type": "code",
   "execution_count": 27,
   "id": "071a4087",
   "metadata": {},
   "outputs": [
    {
     "data": {
      "text/plain": [
       "2     0.0282\n",
       "3     0.0855\n",
       "4     0.1679\n",
       "5     0.2704\n",
       "6     0.4092\n",
       "7     0.5767\n",
       "8     0.7192\n",
       "9     0.8322\n",
       "10    0.9136\n",
       "11    0.9722\n",
       "12    1.0000\n",
       "Name: count, dtype: float64"
      ]
     },
     "execution_count": 27,
     "metadata": {},
     "output_type": "execute_result"
    }
   ],
   "source": [
    "np.cumsum((pd.Series(L).value_counts()/pd.Series(L).value_counts().sum()).sort_index())"
   ]
  },
  {
   "cell_type": "code",
   "execution_count": 29,
   "id": "fbc6e8be",
   "metadata": {},
   "outputs": [
    {
     "data": {
      "text/plain": [
       "<Axes: >"
      ]
     },
     "execution_count": 29,
     "metadata": {},
     "output_type": "execute_result"
    },
    {
     "data": {
      "image/png": "[encoded data removed]",
      "text/plain": [
       "<Figure size 432x288 with 1 Axes>"
      ]
     },
     "metadata": {
      "needs_background": "light"
     },
     "output_type": "display_data"
    }
   ],
   "source": [
    "np.cumsum((pd.Series(L).value_counts()/pd.Series(L).value_counts().sum()).sort_index()).plot(kind = 'bar')"
   ]
  },
  {
   "cell_type": "markdown",
   "id": "b6f12a5c",
   "metadata": {},
   "source": [
    "Interpretation - if x = 5 , then on y axis it is telling the probablity of x to be 5 or less than 5 is 0.23"
   ]
  },
  {
   "cell_type": "code",
   "execution_count": null,
   "id": "d19d3f1d",
   "metadata": {},
   "outputs": [],
   "source": []
  }
 ],
 "metadata": {
  "kernelspec": {
   "display_name": "Python 3 (ipykernel)",
   "language": "python",
   "name": "python3"
  },
  "language_info": {
   "codemirror_mode": {
    "name": "ipython",
    "version": 3
   },
   "file_extension": ".py",
   "mimetype": "text/x-python",
   "name": "python",
   "nbconvert_exporter": "python",
   "pygments_lexer": "ipython3",
   "version": "3.9.12"
  }
 },
 "nbformat": 4,
 "nbformat_minor": 5
}
