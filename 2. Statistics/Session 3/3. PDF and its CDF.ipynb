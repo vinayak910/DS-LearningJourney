{
 "cells": [
  {
   "cell_type": "markdown",
   "id": "21d6bb6b",
   "metadata": {},
   "source": [
    "# Parametric Density Estimation"
   ]
  },
  {
   "cell_type": "code",
   "execution_count": 1,
   "id": "15e902e7",
   "metadata": {},
   "outputs": [
    {
     "name": "stderr",
     "output_type": "stream",
     "text": [
      "C:\\Users\\vinay\\anaconda3\\lib\\site-packages\\numpy\\_distributor_init.py:30: UserWarning: loaded more than 1 DLL from .libs:\n",
      "C:\\Users\\vinay\\anaconda3\\lib\\site-packages\\numpy\\.libs\\libopenblas.EL2C6PLE4ZYW3ECEVIV3OXXGRN2NRFM2.gfortran-win_amd64.dll\n",
      "C:\\Users\\vinay\\anaconda3\\lib\\site-packages\\numpy\\.libs\\libopenblas.XWYDX2IKJW2NMTWSFYNGFUWKQU3LYTCZ.gfortran-win_amd64.dll\n",
      "  warnings.warn(\"loaded more than 1 DLL from .libs:\"\n"
     ]
    }
   ],
   "source": [
    "import pandas as pd\n",
    "import matplotlib.pyplot as plt\n",
    "import numpy as np\n",
    "from numpy.random import normal\n",
    "import seaborn as sns\n",
    "%matplotlib inline"
   ]
  },
  {
   "cell_type": "code",
   "execution_count": 2,
   "id": "a0f09883",
   "metadata": {},
   "outputs": [],
   "source": [
    "sample = normal(loc = 50 , scale = 5 , size = 1000) "
   ]
  },
  {
   "cell_type": "markdown",
   "id": "a18efddc",
   "metadata": {},
   "source": [
    "Explaination - generated 1000 points for sample based on popoulation parameters of mean 50 and std 5\n",
    "thats why after the sample is made the mean and scale will not be exactly equal to population parameters"
   ]
  },
  {
   "cell_type": "code",
   "execution_count": 3,
   "id": "f2049f8d",
   "metadata": {},
   "outputs": [
    {
     "name": "stdout",
     "output_type": "stream",
     "text": [
      "50.070352195259446\n",
      "4.881565180593476\n"
     ]
    }
   ],
   "source": [
    "print(sample.mean())\n",
    "print(sample.std())"
   ]
  },
  {
   "cell_type": "code",
   "execution_count": 4,
   "id": "87631f2d",
   "metadata": {},
   "outputs": [
    {
     "data": {
      "text/plain": [
       "(1000,)"
      ]
     },
     "execution_count": 4,
     "metadata": {},
     "output_type": "execute_result"
    }
   ],
   "source": [
    "sample.shape"
   ]
  },
  {
   "cell_type": "code",
   "execution_count": 5,
   "id": "fbcf1ad4",
   "metadata": {},
   "outputs": [
    {
     "data": {
      "text/plain": [
       "(array([  5.,  44., 158., 254., 273., 183.,  73.,   9.,   0.,   1.]),\n",
       " array([34.70900662, 38.41763019, 42.12625375, 45.83487731, 49.54350087,\n",
       "        53.25212444, 56.960748  , 60.66937156, 64.37799513, 68.08661869,\n",
       "        71.79524225]),\n",
       " <BarContainer object of 10 artists>)"
      ]
     },
     "execution_count": 5,
     "metadata": {},
     "output_type": "execute_result"
    },
    {
     "data": {
      "image/png": "[encoded data removed]",
      "text/plain": [
       "<Figure size 432x288 with 1 Axes>"
      ]
     },
     "metadata": {
      "needs_background": "light"
     },
     "output_type": "display_data"
    }
   ],
   "source": [
    "# plotting the histogram to know the distribution of sample to know how will our data look like \n",
    "plt.hist(sample, bins = 10)"
   ]
  },
  {
   "cell_type": "markdown",
   "id": "cf12f4b6",
   "metadata": {},
   "source": [
    "After plotting the histogram we see that our data somelike normal"
   ]
  },
  {
   "cell_type": "code",
   "execution_count": 6,
   "id": "ec9bc346",
   "metadata": {},
   "outputs": [],
   "source": [
    "sample_mean = sample.mean()\n",
    "sample_std = sample.std()"
   ]
  },
  {
   "cell_type": "code",
   "execution_count": 7,
   "id": "3b58e908",
   "metadata": {},
   "outputs": [],
   "source": [
    "# fitting the values of mean and std with the pdf of normal , checkout the equation of normal distribution pdf.\n",
    "from scipy.stats import norm\n",
    "dist = norm(sample_mean , sample_std)"
   ]
  },
  {
   "cell_type": "markdown",
   "id": "04091d8c",
   "metadata": {},
   "source": [
    "Important Note -  We fitted equation of pdf of normal with sample_mean and sample_std for the sake of simplicity.IN real Scenario What we would do is we will try to infer the population mean and std from sample_mean and sample_std.And then we will\n",
    "fit the equation of pdf with the population parameters as this is the right thing to do .(checkout the formula for pdf of normal you will see it contains population mean and population std)"
   ]
  },
  {
   "cell_type": "code",
   "execution_count": 8,
   "id": "2277bf0d",
   "metadata": {},
   "outputs": [],
   "source": [
    "# now only thing is left the  x-values. for x-values we will create 100 linspace values from minimum value of sample till max"
   ]
  },
  {
   "cell_type": "code",
   "execution_count": 9,
   "id": "f4359089",
   "metadata": {},
   "outputs": [],
   "source": [
    "values = np.linspace(sample.min() , sample.max(), 100)"
   ]
  },
  {
   "cell_type": "code",
   "execution_count": 10,
   "id": "c1d28ebb",
   "metadata": {},
   "outputs": [],
   "source": [
    "# for every x value we are calculating y value(Probability density)\n",
    "density_estimation = [dist.pdf(value) for value in values]"
   ]
  },
  {
   "cell_type": "code",
   "execution_count": 11,
   "id": "415d11ba",
   "metadata": {
    "scrolled": true
   },
   "outputs": [
    {
     "data": {
      "text/plain": [
       "[<matplotlib.lines.Line2D at 0x2206a106e20>]"
      ]
     },
     "execution_count": 11,
     "metadata": {},
     "output_type": "execute_result"
    },
    {
     "data": {
      "image/png": "[encoded data removed]",
      "text/plain": [
       "<Figure size 432x288 with 1 Axes>"
      ]
     },
     "metadata": {
      "needs_background": "light"
     },
     "output_type": "display_data"
    }
   ],
   "source": [
    "plt.hist(sample,bins = 10,density=True)\n",
    "plt.plot(values , density_estimation)"
   ]
  },
  {
   "cell_type": "code",
   "execution_count": 12,
   "id": "229dab58",
   "metadata": {},
   "outputs": [],
   "source": [
    "# you can do same thing using sns.distplot"
   ]
  },
  {
   "cell_type": "code",
   "execution_count": 14,
   "id": "f2b7448c",
   "metadata": {},
   "outputs": [
    {
     "name": "stderr",
     "output_type": "stream",
     "text": [
      "C:\\Users\\vinay\\AppData\\Local\\Temp\\ipykernel_3428\\689646231.py:1: UserWarning: \n",
      "\n",
      "`distplot` is a deprecated function and will be removed in seaborn v0.14.0.\n",
      "\n",
      "Please adapt your code to use either `displot` (a figure-level function with\n",
      "similar flexibility) or `histplot` (an axes-level function for histograms).\n",
      "\n",
      "For a guide to updating your code to use the new functions, please see\n",
      "https://gist.github.com/mwaskom/de44147ed2974457ad6372750bbe5751\n",
      "\n",
      "  sns.distplot(sample, kde=True, bins=10, color='blue')\n",
      "C:\\Users\\vinay\\AppData\\Roaming\\Python\\Python39\\site-packages\\seaborn\\_oldcore.py:1119: FutureWarning: use_inf_as_na option is deprecated and will be removed in a future version. Convert inf values to NaN before operating instead.\n",
      "  with pd.option_context('mode.use_inf_as_na', True):\n"
     ]
    },
    {
     "data": {
      "text/plain": [
       "<Axes: ylabel='Density'>"
      ]
     },
     "execution_count": 14,
     "metadata": {},
     "output_type": "execute_result"
    },
    {
     "data": {
      "image/png": "[encoded data removed]",
      "text/plain": [
       "<Figure size 432x288 with 1 Axes>"
      ]
     },
     "metadata": {
      "needs_background": "light"
     },
     "output_type": "display_data"
    }
   ],
   "source": [
    "sns.distplot(sample, kde=True, bins=10, color='blue')\n"
   ]
  },
  {
   "cell_type": "markdown",
   "id": "6f8f9d44",
   "metadata": {},
   "source": [
    "# Kernel Density Estimation"
   ]
  },
  {
   "cell_type": "code",
   "execution_count": 23,
   "id": "18a6b58b",
   "metadata": {},
   "outputs": [],
   "source": [
    "s1 = normal(loc = 20 , scale = 5 , size = 300)\n",
    "s2 = normal(loc = 40 , scale = 5 , size = 700)\n",
    "sample = np.hstack((s1 , s2))\n",
    "sample = sample.reshape(1000 , 1)"
   ]
  },
  {
   "cell_type": "code",
   "execution_count": 24,
   "id": "d1754758",
   "metadata": {},
   "outputs": [
    {
     "data": {
      "text/plain": [
       "(array([ 3.,  2.,  3.,  2.,  5., 15., 11., 10., 20., 14., 16., 25., 33.,\n",
       "        34., 23., 24., 16.,  6., 10., 10., 10.,  6.,  7., 18., 18., 18.,\n",
       "        23., 43., 46., 42., 54., 55., 49., 52., 50., 55., 36., 36., 29.,\n",
       "        14., 16., 21.,  4.,  4.,  7.,  2.,  1.,  1.,  0.,  1.]),\n",
       " array([ 7.44648544,  8.4411606 ,  9.43583577, 10.43051093, 11.42518609,\n",
       "        12.41986125, 13.41453642, 14.40921158, 15.40388674, 16.39856191,\n",
       "        17.39323707, 18.38791223, 19.3825874 , 20.37726256, 21.37193772,\n",
       "        22.36661288, 23.36128805, 24.35596321, 25.35063837, 26.34531354,\n",
       "        27.3399887 , 28.33466386, 29.32933902, 30.32401419, 31.31868935,\n",
       "        32.31336451, 33.30803968, 34.30271484, 35.29739   , 36.29206517,\n",
       "        37.28674033, 38.28141549, 39.27609065, 40.27076582, 41.26544098,\n",
       "        42.26011614, 43.25479131, 44.24946647, 45.24414163, 46.23881679,\n",
       "        47.23349196, 48.22816712, 49.22284228, 50.21751745, 51.21219261,\n",
       "        52.20686777, 53.20154294, 54.1962181 , 55.19089326, 56.18556842,\n",
       "        57.18024359]),\n",
       " <BarContainer object of 50 artists>)"
      ]
     },
     "execution_count": 24,
     "metadata": {},
     "output_type": "execute_result"
    },
    {
     "data": {
      "image/png": "[encoded data removed]",
      "text/plain": [
       "<Figure size 432x288 with 1 Axes>"
      ]
     },
     "metadata": {
      "needs_background": "light"
     },
     "output_type": "display_data"
    }
   ],
   "source": [
    "plt.hist(sample , bins = 50)"
   ]
  },
  {
   "cell_type": "code",
   "execution_count": 25,
   "id": "f53a2834",
   "metadata": {},
   "outputs": [
    {
     "data": {
      "text/html": [
       "<style>#sk-container-id-2 {color: black;background-color: white;}#sk-container-id-2 pre{padding: 0;}#sk-container-id-2 div.sk-toggleable {background-color: white;}#sk-container-id-2 label.sk-toggleable__label {cursor: pointer;display: block;width: 100%;margin-bottom: 0;padding: 0.3em;box-sizing: border-box;text-align: center;}#sk-container-id-2 label.sk-toggleable__label-arrow:before {content: \"▸\";float: left;margin-right: 0.25em;color: #696969;}#sk-container-id-2 label.sk-toggleable__label-arrow:hover:before {color: black;}#sk-container-id-2 div.sk-estimator:hover label.sk-toggleable__label-arrow:before {color: black;}#sk-container-id-2 div.sk-toggleable__content {max-height: 0;max-width: 0;overflow: hidden;text-align: left;background-color: #f0f8ff;}#sk-container-id-2 div.sk-toggleable__content pre {margin: 0.2em;color: black;border-radius: 0.25em;background-color: #f0f8ff;}#sk-container-id-2 input.sk-toggleable__control:checked~div.sk-toggleable__content {max-height: 200px;max-width: 100%;overflow: auto;}#sk-container-id-2 input.sk-toggleable__control:checked~label.sk-toggleable__label-arrow:before {content: \"▾\";}#sk-container-id-2 div.sk-estimator input.sk-toggleable__control:checked~label.sk-toggleable__label {background-color: #d4ebff;}#sk-container-id-2 div.sk-label input.sk-toggleable__control:checked~label.sk-toggleable__label {background-color: #d4ebff;}#sk-container-id-2 input.sk-hidden--visually {border: 0;clip: rect(1px 1px 1px 1px);clip: rect(1px, 1px, 1px, 1px);height: 1px;margin: -1px;overflow: hidden;padding: 0;position: absolute;width: 1px;}#sk-container-id-2 div.sk-estimator {font-family: monospace;background-color: #f0f8ff;border: 1px dotted black;border-radius: 0.25em;box-sizing: border-box;margin-bottom: 0.5em;}#sk-container-id-2 div.sk-estimator:hover {background-color: #d4ebff;}#sk-container-id-2 div.sk-parallel-item::after {content: \"\";width: 100%;border-bottom: 1px solid gray;flex-grow: 1;}#sk-container-id-2 div.sk-label:hover label.sk-toggleable__label {background-color: #d4ebff;}#sk-container-id-2 div.sk-serial::before {content: \"\";position: absolute;border-left: 1px solid gray;box-sizing: border-box;top: 0;bottom: 0;left: 50%;z-index: 0;}#sk-container-id-2 div.sk-serial {display: flex;flex-direction: column;align-items: center;background-color: white;padding-right: 0.2em;padding-left: 0.2em;position: relative;}#sk-container-id-2 div.sk-item {position: relative;z-index: 1;}#sk-container-id-2 div.sk-parallel {display: flex;align-items: stretch;justify-content: center;background-color: white;position: relative;}#sk-container-id-2 div.sk-item::before, #sk-container-id-2 div.sk-parallel-item::before {content: \"\";position: absolute;border-left: 1px solid gray;box-sizing: border-box;top: 0;bottom: 0;left: 50%;z-index: -1;}#sk-container-id-2 div.sk-parallel-item {display: flex;flex-direction: column;z-index: 1;position: relative;background-color: white;}#sk-container-id-2 div.sk-parallel-item:first-child::after {align-self: flex-end;width: 50%;}#sk-container-id-2 div.sk-parallel-item:last-child::after {align-self: flex-start;width: 50%;}#sk-container-id-2 div.sk-parallel-item:only-child::after {width: 0;}#sk-container-id-2 div.sk-dashed-wrapped {border: 1px dashed gray;margin: 0 0.4em 0.5em 0.4em;box-sizing: border-box;padding-bottom: 0.4em;background-color: white;}#sk-container-id-2 div.sk-label label {font-family: monospace;font-weight: bold;display: inline-block;line-height: 1.2em;}#sk-container-id-2 div.sk-label-container {text-align: center;}#sk-container-id-2 div.sk-container {/* jupyter's `normalize.less` sets `[hidden] { display: none; }` but bootstrap.min.css set `[hidden] { display: none !important; }` so we also need the `!important` here to be able to override the default hidden behavior on the sphinx rendered scikit-learn.org. See: https://github.com/scikit-learn/scikit-learn/issues/21755 */display: inline-block !important;position: relative;}#sk-container-id-2 div.sk-text-repr-fallback {display: none;}</style><div id=\"sk-container-id-2\" class=\"sk-top-container\"><div class=\"sk-text-repr-fallback\"><pre>KernelDensity(bandwidth=3)</pre><b>In a Jupyter environment, please rerun this cell to show the HTML representation or trust the notebook. <br />On GitHub, the HTML representation is unable to render, please try loading this page with nbviewer.org.</b></div><div class=\"sk-container\" hidden><div class=\"sk-item\"><div class=\"sk-estimator sk-toggleable\"><input class=\"sk-toggleable__control sk-hidden--visually\" id=\"sk-estimator-id-2\" type=\"checkbox\" checked><label for=\"sk-estimator-id-2\" class=\"sk-toggleable__label sk-toggleable__label-arrow\">KernelDensity</label><div class=\"sk-toggleable__content\"><pre>KernelDensity(bandwidth=3)</pre></div></div></div></div></div>"
      ],
      "text/plain": [
       "KernelDensity(bandwidth=3)"
      ]
     },
     "execution_count": 25,
     "metadata": {},
     "output_type": "execute_result"
    }
   ],
   "source": [
    "from sklearn.neighbors import KernelDensity\n",
    "model = KernelDensity(bandwidth= 3 , kernel = 'gaussian')\n",
    "model.fit(sample)"
   ]
  },
  {
   "cell_type": "code",
   "execution_count": 26,
   "id": "e6553d6b",
   "metadata": {},
   "outputs": [],
   "source": [
    "values = np.linspace(sample.min(),sample.max(),100)\n",
    "values = values.reshape(100 , 1)\n",
    "density_estimation = model.score_samples(values)\n",
    "density_estimation = np.exp(density_estimation)"
   ]
  },
  {
   "cell_type": "code",
   "execution_count": 27,
   "id": "91c6995f",
   "metadata": {},
   "outputs": [
    {
     "data": {
      "text/plain": [
       "[<matplotlib.lines.Line2D at 0x2206c85ac40>]"
      ]
     },
     "execution_count": 27,
     "metadata": {},
     "output_type": "execute_result"
    },
    {
     "data": {
      "image/png": "[encoded data removed]",
      "text/plain": [
       "<Figure size 432x288 with 1 Axes>"
      ]
     },
     "metadata": {
      "needs_background": "light"
     },
     "output_type": "display_data"
    }
   ],
   "source": [
    "plt.hist(sample , bins = 50 , density=True)\n",
    "plt.plot(values , density_estimation)"
   ]
  },
  {
   "cell_type": "code",
   "execution_count": 31,
   "id": "be506bf7",
   "metadata": {},
   "outputs": [
    {
     "name": "stderr",
     "output_type": "stream",
     "text": [
      "C:\\Users\\vinay\\AppData\\Roaming\\Python\\Python39\\site-packages\\seaborn\\_oldcore.py:1119: FutureWarning: use_inf_as_na option is deprecated and will be removed in a future version. Convert inf values to NaN before operating instead.\n",
      "  with pd.option_context('mode.use_inf_as_na', True):\n"
     ]
    },
    {
     "data": {
      "text/plain": [
       "<Axes: ylabel='Density'>"
      ]
     },
     "execution_count": 31,
     "metadata": {},
     "output_type": "execute_result"
    },
    {
     "data": {
      "image/png": "[encoded data removed]",
      "text/plain": [
       "<Figure size 432x288 with 1 Axes>"
      ]
     },
     "metadata": {
      "needs_background": "light"
     },
     "output_type": "display_data"
    }
   ],
   "source": [
    "sns.kdeplot(sample.reshape(1000) , bw_adjust = 1)"
   ]
  },
  {
   "cell_type": "code",
   "execution_count": null,
   "id": "91cade41",
   "metadata": {},
   "outputs": [],
   "source": []
  },
  {
   "cell_type": "code",
   "execution_count": null,
   "id": "4bc82fca",
   "metadata": {},
   "outputs": [],
   "source": []
  }
 ],
 "metadata": {
  "kernelspec": {
   "display_name": "Python 3 (ipykernel)",
   "language": "python",
   "name": "python3"
  },
  "language_info": {
   "codemirror_mode": {
    "name": "ipython",
    "version": 3
   },
   "file_extension": ".py",
   "mimetype": "text/x-python",
   "name": "python",
   "nbconvert_exporter": "python",
   "pygments_lexer": "ipython3",
   "version": "3.9.12"
  }
 },
 "nbformat": 4,
 "nbformat_minor": 5
}
