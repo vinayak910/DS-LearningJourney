{
 "cells": [
  {
   "cell_type": "markdown",
   "id": "21d6bb6b",
   "metadata": {},
   "source": [
    "# Parametric Density Estimation"
   ]
  },
  {
   "cell_type": "code",
   "execution_count": 1,
   "id": "15e902e7",
   "metadata": {},
   "outputs": [],
   "source": [
    "import pandas as pd\n",
    "import matplotlib.pyplot as plt\n",
    "import numpy as np\n",
    "from numpy.random import normal\n",
    "import seaborn as sns\n",
    "%matplotlib inline"
   ]
  },
  {
   "cell_type": "code",
   "execution_count": 2,
   "id": "a0f09883",
   "metadata": {},
   "outputs": [],
   "source": [
    "sample = normal(loc = 50 , scale = 5 , size = 1000) "
   ]
  },
  {
   "cell_type": "markdown",
   "id": "a18efddc",
   "metadata": {},
   "source": [
    "Explaination - generated 1000 points for sample based on popoulation parameters of mean 50 and std 5\n",
    "thats why after the sample is made the mean and scale will not be exactly equal to population parameters"
   ]
  },
  {
   "cell_type": "code",
   "execution_count": 3,
   "id": "f2049f8d",
   "metadata": {},
   "outputs": [
    {
     "name": "stdout",
     "output_type": "stream",
     "text": [
      "50.07265842708423\n",
      "5.176053629424139\n"
     ]
    }
   ],
   "source": [
    "print(sample.mean())\n",
    "print(sample.std())"
   ]
  },
  {
   "cell_type": "code",
   "execution_count": 6,
   "id": "87631f2d",
   "metadata": {},
   "outputs": [
    {
     "data": {
      "text/plain": [
       "(1000,)"
      ]
     },
     "execution_count": 6,
     "metadata": {},
     "output_type": "execute_result"
    }
   ],
   "source": [
    "sample.shape"
   ]
  },
  {
   "cell_type": "code",
   "execution_count": 8,
   "id": "fbcf1ad4",
   "metadata": {},
   "outputs": [
    {
     "data": {
      "text/plain": [
       "(array([  4.,  27.,  94., 189., 239., 228., 139.,  63.,  13.,   4.]),\n",
       " array([34.03154217, 37.38256474, 40.7335873 , 44.08460987, 47.43563244,\n",
       "        50.78665501, 54.13767758, 57.48870015, 60.83972272, 64.19074529,\n",
       "        67.54176786]),\n",
       " <BarContainer object of 10 artists>)"
      ]
     },
     "execution_count": 8,
     "metadata": {},
     "output_type": "execute_result"
    },
    {
     "data": {
      "image/png": "[encoded data removed]",
      "text/plain": [
       "<Figure size 432x288 with 1 Axes>"
      ]
     },
     "metadata": {
      "needs_background": "light"
     },
     "output_type": "display_data"
    }
   ],
   "source": [
    "# plotting the histogram to know the distribution of sample to know how will our data look like \n",
    "plt.hist(sample, bins = 10)"
   ]
  },
  {
   "cell_type": "markdown",
   "id": "cf12f4b6",
   "metadata": {},
   "source": [
    "After plotting the histogram we see that our data somelike normal"
   ]
  },
  {
   "cell_type": "code",
   "execution_count": 9,
   "id": "ec9bc346",
   "metadata": {},
   "outputs": [],
   "source": [
    "sample_mean = sample.mean()\n",
    "sample_std = sample.std()"
   ]
  },
  {
   "cell_type": "code",
   "execution_count": 10,
   "id": "3b58e908",
   "metadata": {},
   "outputs": [],
   "source": [
    "# fitting the values of mean and std with the pdf of normal , checkout the equation of normal distribution pdf.\n",
    "from scipy.stats import norm\n",
    "dist = norm(sample_mean , sample_std)"
   ]
  },
  {
   "cell_type": "markdown",
   "id": "04091d8c",
   "metadata": {},
   "source": [
    "Important Note -  We fitted equation of pdf of normal with sample_mean and sample_std for the sake of simplicity.IN real Scenario What we would do is we will try to infer the population mean and std from sample_mean and sample_std.And then we will\n",
    "fit the equation of pdf with the population parameters as this is the right thing to do .(checkout the formula for pdf of normal you will see it contains population mean and population std)"
   ]
  },
  {
   "cell_type": "code",
   "execution_count": 11,
   "id": "2277bf0d",
   "metadata": {},
   "outputs": [],
   "source": [
    "# now only thing is left the  x-values for x-values we will create 100 linspace values from minimum value of sample till max"
   ]
  },
  {
   "cell_type": "code",
   "execution_count": 12,
   "id": "f4359089",
   "metadata": {},
   "outputs": [],
   "source": [
    "values = np.linspace(sample.min() , sample.max(), 100)"
   ]
  },
  {
   "cell_type": "code",
   "execution_count": 13,
   "id": "c1d28ebb",
   "metadata": {},
   "outputs": [],
   "source": [
    "density_estimation = [dist.pdf(value) for value in values]"
   ]
  },
  {
   "cell_type": "code",
   "execution_count": 15,
   "id": "415d11ba",
   "metadata": {},
   "outputs": [
    {
     "data": {
      "text/plain": [
       "[<matplotlib.lines.Line2D at 0x1ddb2b8ddc0>]"
      ]
     },
     "execution_count": 15,
     "metadata": {},
     "output_type": "execute_result"
    },
    {
     "data": {
      "image/png": "[encoded data removed]",
      "text/plain": [
       "<Figure size 432x288 with 1 Axes>"
      ]
     },
     "metadata": {
      "needs_background": "light"
     },
     "output_type": "display_data"
    }
   ],
   "source": [
    "plt.hist(sample,bins = 10,density=True)\n",
    "plt.plot(values , density_estimation)"
   ]
  },
  {
   "cell_type": "markdown",
   "id": "6f8f9d44",
   "metadata": {},
   "source": [
    "# Kernel Density Estimation"
   ]
  },
  {
   "cell_type": "code",
   "execution_count": 19,
   "id": "18a6b58b",
   "metadata": {},
   "outputs": [],
   "source": [
    "s1 = normal(loc = 20 , scale = 5 , size = 300)\n",
    "s2 = normal(loc = 40 , scale = 5 , size = 700)\n",
    "sample = np.hstack((s1 , s2))\n",
    "sample = sample.reshape(1000 , 1)"
   ]
  },
  {
   "cell_type": "code",
   "execution_count": 20,
   "id": "d1754758",
   "metadata": {},
   "outputs": [
    {
     "data": {
      "text/plain": [
       "(array([ 1.,  2.,  3.,  1.,  1.,  1.,  5.,  3., 15., 15., 14., 20., 17.,\n",
       "        20., 21., 22., 23., 27., 23., 19., 13., 15., 10., 11., 11., 11.,\n",
       "        17., 20., 32., 34., 42., 54., 54., 52., 59., 55., 47., 45., 41.,\n",
       "        37., 28., 16., 15., 12.,  5.,  6.,  3.,  0.,  1.,  1.]),\n",
       " array([ 4.69456318,  5.72337506,  6.75218695,  7.78099883,  8.80981071,\n",
       "         9.83862259, 10.86743447, 11.89624635, 12.92505823, 13.95387011,\n",
       "        14.98268199, 16.01149387, 17.04030575, 18.06911763, 19.09792952,\n",
       "        20.1267414 , 21.15555328, 22.18436516, 23.21317704, 24.24198892,\n",
       "        25.2708008 , 26.29961268, 27.32842456, 28.35723644, 29.38604832,\n",
       "        30.41486021, 31.44367209, 32.47248397, 33.50129585, 34.53010773,\n",
       "        35.55891961, 36.58773149, 37.61654337, 38.64535525, 39.67416713,\n",
       "        40.70297901, 41.73179089, 42.76060278, 43.78941466, 44.81822654,\n",
       "        45.84703842, 46.8758503 , 47.90466218, 48.93347406, 49.96228594,\n",
       "        50.99109782, 52.0199097 , 53.04872158, 54.07753347, 55.10634535,\n",
       "        56.13515723]),\n",
       " <BarContainer object of 50 artists>)"
      ]
     },
     "execution_count": 20,
     "metadata": {},
     "output_type": "execute_result"
    },
    {
     "data": {
      "image/png": "[encoded data removed]",
      "text/plain": [
       "<Figure size 432x288 with 1 Axes>"
      ]
     },
     "metadata": {
      "needs_background": "light"
     },
     "output_type": "display_data"
    }
   ],
   "source": [
    "plt.hist(sample , bins = 50)"
   ]
  },
  {
   "cell_type": "code",
   "execution_count": 21,
   "id": "f53a2834",
   "metadata": {},
   "outputs": [
    {
     "data": {
      "text/html": [
       "<style>#sk-container-id-1 {color: black;background-color: white;}#sk-container-id-1 pre{padding: 0;}#sk-container-id-1 div.sk-toggleable {background-color: white;}#sk-container-id-1 label.sk-toggleable__label {cursor: pointer;display: block;width: 100%;margin-bottom: 0;padding: 0.3em;box-sizing: border-box;text-align: center;}#sk-container-id-1 label.sk-toggleable__label-arrow:before {content: \"▸\";float: left;margin-right: 0.25em;color: #696969;}#sk-container-id-1 label.sk-toggleable__label-arrow:hover:before {color: black;}#sk-container-id-1 div.sk-estimator:hover label.sk-toggleable__label-arrow:before {color: black;}#sk-container-id-1 div.sk-toggleable__content {max-height: 0;max-width: 0;overflow: hidden;text-align: left;background-color: #f0f8ff;}#sk-container-id-1 div.sk-toggleable__content pre {margin: 0.2em;color: black;border-radius: 0.25em;background-color: #f0f8ff;}#sk-container-id-1 input.sk-toggleable__control:checked~div.sk-toggleable__content {max-height: 200px;max-width: 100%;overflow: auto;}#sk-container-id-1 input.sk-toggleable__control:checked~label.sk-toggleable__label-arrow:before {content: \"▾\";}#sk-container-id-1 div.sk-estimator input.sk-toggleable__control:checked~label.sk-toggleable__label {background-color: #d4ebff;}#sk-container-id-1 div.sk-label input.sk-toggleable__control:checked~label.sk-toggleable__label {background-color: #d4ebff;}#sk-container-id-1 input.sk-hidden--visually {border: 0;clip: rect(1px 1px 1px 1px);clip: rect(1px, 1px, 1px, 1px);height: 1px;margin: -1px;overflow: hidden;padding: 0;position: absolute;width: 1px;}#sk-container-id-1 div.sk-estimator {font-family: monospace;background-color: #f0f8ff;border: 1px dotted black;border-radius: 0.25em;box-sizing: border-box;margin-bottom: 0.5em;}#sk-container-id-1 div.sk-estimator:hover {background-color: #d4ebff;}#sk-container-id-1 div.sk-parallel-item::after {content: \"\";width: 100%;border-bottom: 1px solid gray;flex-grow: 1;}#sk-container-id-1 div.sk-label:hover label.sk-toggleable__label {background-color: #d4ebff;}#sk-container-id-1 div.sk-serial::before {content: \"\";position: absolute;border-left: 1px solid gray;box-sizing: border-box;top: 0;bottom: 0;left: 50%;z-index: 0;}#sk-container-id-1 div.sk-serial {display: flex;flex-direction: column;align-items: center;background-color: white;padding-right: 0.2em;padding-left: 0.2em;position: relative;}#sk-container-id-1 div.sk-item {position: relative;z-index: 1;}#sk-container-id-1 div.sk-parallel {display: flex;align-items: stretch;justify-content: center;background-color: white;position: relative;}#sk-container-id-1 div.sk-item::before, #sk-container-id-1 div.sk-parallel-item::before {content: \"\";position: absolute;border-left: 1px solid gray;box-sizing: border-box;top: 0;bottom: 0;left: 50%;z-index: -1;}#sk-container-id-1 div.sk-parallel-item {display: flex;flex-direction: column;z-index: 1;position: relative;background-color: white;}#sk-container-id-1 div.sk-parallel-item:first-child::after {align-self: flex-end;width: 50%;}#sk-container-id-1 div.sk-parallel-item:last-child::after {align-self: flex-start;width: 50%;}#sk-container-id-1 div.sk-parallel-item:only-child::after {width: 0;}#sk-container-id-1 div.sk-dashed-wrapped {border: 1px dashed gray;margin: 0 0.4em 0.5em 0.4em;box-sizing: border-box;padding-bottom: 0.4em;background-color: white;}#sk-container-id-1 div.sk-label label {font-family: monospace;font-weight: bold;display: inline-block;line-height: 1.2em;}#sk-container-id-1 div.sk-label-container {text-align: center;}#sk-container-id-1 div.sk-container {/* jupyter's `normalize.less` sets `[hidden] { display: none; }` but bootstrap.min.css set `[hidden] { display: none !important; }` so we also need the `!important` here to be able to override the default hidden behavior on the sphinx rendered scikit-learn.org. See: https://github.com/scikit-learn/scikit-learn/issues/21755 */display: inline-block !important;position: relative;}#sk-container-id-1 div.sk-text-repr-fallback {display: none;}</style><div id=\"sk-container-id-1\" class=\"sk-top-container\"><div class=\"sk-text-repr-fallback\"><pre>KernelDensity(bandwidth=3)</pre><b>In a Jupyter environment, please rerun this cell to show the HTML representation or trust the notebook. <br />On GitHub, the HTML representation is unable to render, please try loading this page with nbviewer.org.</b></div><div class=\"sk-container\" hidden><div class=\"sk-item\"><div class=\"sk-estimator sk-toggleable\"><input class=\"sk-toggleable__control sk-hidden--visually\" id=\"sk-estimator-id-1\" type=\"checkbox\" checked><label for=\"sk-estimator-id-1\" class=\"sk-toggleable__label sk-toggleable__label-arrow\">KernelDensity</label><div class=\"sk-toggleable__content\"><pre>KernelDensity(bandwidth=3)</pre></div></div></div></div></div>"
      ],
      "text/plain": [
       "KernelDensity(bandwidth=3)"
      ]
     },
     "execution_count": 21,
     "metadata": {},
     "output_type": "execute_result"
    }
   ],
   "source": [
    "from sklearn.neighbors import KernelDensity\n",
    "model = KernelDensity(bandwidth= 3 , kernel = 'gaussian')\n",
    "model.fit(sample)"
   ]
  },
  {
   "cell_type": "code",
   "execution_count": 23,
   "id": "e6553d6b",
   "metadata": {},
   "outputs": [],
   "source": [
    "values = np.linspace(sample.min(),sample.max(),100)\n",
    "values = values.reshape(100 , 1)\n",
    "density_estimation = model.score_samples(values)\n",
    "density_estimation = np.exp(density_estimation)"
   ]
  },
  {
   "cell_type": "code",
   "execution_count": 24,
   "id": "91c6995f",
   "metadata": {},
   "outputs": [
    {
     "data": {
      "text/plain": [
       "[<matplotlib.lines.Line2D at 0x1ddb4d97ee0>]"
      ]
     },
     "execution_count": 24,
     "metadata": {},
     "output_type": "execute_result"
    },
    {
     "data": {
      "image/png": "[encoded data removed]",
      "text/plain": [
       "<Figure size 432x288 with 1 Axes>"
      ]
     },
     "metadata": {
      "needs_background": "light"
     },
     "output_type": "display_data"
    }
   ],
   "source": [
    "plt.hist(sample , bins = 50 , density=True)\n",
    "plt.plot(values , density_estimation)"
   ]
  },
  {
   "cell_type": "code",
   "execution_count": null,
   "id": "be506bf7",
   "metadata": {},
   "outputs": [],
   "source": []
  }
 ],
 "metadata": {
  "kernelspec": {
   "display_name": "Python 3 (ipykernel)",
   "language": "python",
   "name": "python3"
  },
  "language_info": {
   "codemirror_mode": {
    "name": "ipython",
    "version": 3
   },
   "file_extension": ".py",
   "mimetype": "text/x-python",
   "name": "python",
   "nbconvert_exporter": "python",
   "pygments_lexer": "ipython3",
   "version": "3.9.12"
  }
 },
 "nbformat": 4,
 "nbformat_minor": 5
}
