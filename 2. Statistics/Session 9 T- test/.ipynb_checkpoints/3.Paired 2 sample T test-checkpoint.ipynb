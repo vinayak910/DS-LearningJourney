{
 "cells": [
  {
   "cell_type": "markdown",
   "id": "ae3b4fc3",
   "metadata": {},
   "source": [
    "## Paired 2 sample T test"
   ]
  },
  {
   "cell_type": "code",
   "execution_count": 1,
   "id": "bfe8a72b",
   "metadata": {},
   "outputs": [],
   "source": [
    "import numpy as np\n",
    "import pandas as pd\n",
    "import matplotlib.pyplot as plt\n",
    "import seaborn as sns\n",
    "%matplotlib inline"
   ]
  },
  {
   "cell_type": "code",
   "execution_count": 12,
   "id": "dc3cc6fb",
   "metadata": {},
   "outputs": [],
   "source": [
    "before = np.array([80, 92, 75, 68, 85, 78, 73, 90, 70, 88, 76, 84, 82, 77, 91])\n",
    "after = np.array([78, 93, 81, 67, 88, 76, 74, 91, 69, 88, 77, 81, 80, 79, 88])"
   ]
  },
  {
   "cell_type": "code",
   "execution_count": 13,
   "id": "82a0de78",
   "metadata": {},
   "outputs": [],
   "source": [
    "diff = after - before"
   ]
  },
  {
   "cell_type": "code",
   "execution_count": 16,
   "id": "068fd25c",
   "metadata": {},
   "outputs": [],
   "source": [
    "n = len(diff)"
   ]
  },
  {
   "cell_type": "code",
   "execution_count": 17,
   "id": "e85b629c",
   "metadata": {},
   "outputs": [
    {
     "data": {
      "text/plain": [
       "(array([2., 3., 2., 1., 4., 1., 1., 0., 0., 1.]),\n",
       " array([-3. , -2.1, -1.2, -0.3,  0.6,  1.5,  2.4,  3.3,  4.2,  5.1,  6. ]),\n",
       " <BarContainer object of 10 artists>)"
      ]
     },
     "execution_count": 17,
     "metadata": {},
     "output_type": "execute_result"
    },
    {
     "data": {
      "image/png": "[encoded data removed]",
      "text/plain": [
       "<Figure size 432x288 with 1 Axes>"
      ]
     },
     "metadata": {
      "needs_background": "light"
     },
     "output_type": "display_data"
    }
   ],
   "source": [
    "plt.hist(diff)"
   ]
  },
  {
   "cell_type": "code",
   "execution_count": 6,
   "id": "7cb2ede2",
   "metadata": {},
   "outputs": [
    {
     "name": "stdout",
     "output_type": "stream",
     "text": [
      "ShapiroResult(statistic=0.9220570921897888, pvalue=0.20704729855060577)\n"
     ]
    }
   ],
   "source": [
    "from scipy.stats import shapiro\n",
    "shapiro_test = shapiro(diff)\n",
    "print(shapiro_test)"
   ]
  },
  {
   "cell_type": "code",
   "execution_count": 7,
   "id": "05f5a7fe",
   "metadata": {},
   "outputs": [],
   "source": [
    "mean_diff = np.mean(diff)\n",
    "std_diff = np.std(diff)"
   ]
  },
  {
   "cell_type": "code",
   "execution_count": 18,
   "id": "3c24c09d",
   "metadata": {},
   "outputs": [],
   "source": [
    "t_stat = mean_diff/(std_diff/np.sqrt(n))"
   ]
  },
  {
   "cell_type": "code",
   "execution_count": 19,
   "id": "6bdf3cfd",
   "metadata": {},
   "outputs": [],
   "source": [
    "df = n - 1 # degree of freedom"
   ]
  },
  {
   "cell_type": "code",
   "execution_count": 20,
   "id": "ac0e2fe4",
   "metadata": {},
   "outputs": [
    {
     "data": {
      "text/plain": [
       "0.10850778933039285"
      ]
     },
     "execution_count": 20,
     "metadata": {},
     "output_type": "execute_result"
    }
   ],
   "source": [
    "t_stat"
   ]
  },
  {
   "cell_type": "code",
   "execution_count": 21,
   "id": "1cbba664",
   "metadata": {},
   "outputs": [],
   "source": [
    "import scipy.stats as stats"
   ]
  },
  {
   "cell_type": "code",
   "execution_count": 22,
   "id": "c2830865",
   "metadata": {},
   "outputs": [],
   "source": [
    "alpha = 0.05\n",
    "# since H0 says less than before , hence we will look for the area in left side , left tail test\n",
    "#area ----\n",
    "p_value = stats.t.cdf(t_stat , df)"
   ]
  },
  {
   "cell_type": "code",
   "execution_count": 23,
   "id": "73fbac15",
   "metadata": {},
   "outputs": [
    {
     "data": {
      "text/plain": [
       "0.542433629038992"
      ]
     },
     "execution_count": 23,
     "metadata": {},
     "output_type": "execute_result"
    }
   ],
   "source": [
    "p_value"
   ]
  },
  {
   "cell_type": "markdown",
   "id": "db27f575",
   "metadata": {},
   "source": [
    "Hence cannot reject null hypothesis , but that doesnot mean null hypothesis is right which is before and after weight are same infact after weights are more"
   ]
  },
  {
   "cell_type": "code",
   "execution_count": null,
   "id": "c263e6f2",
   "metadata": {},
   "outputs": [],
   "source": []
  }
 ],
 "metadata": {
  "kernelspec": {
   "display_name": "Python 3 (ipykernel)",
   "language": "python",
   "name": "python3"
  },
  "language_info": {
   "codemirror_mode": {
    "name": "ipython",
    "version": 3
   },
   "file_extension": ".py",
   "mimetype": "text/x-python",
   "name": "python",
   "nbconvert_exporter": "python",
   "pygments_lexer": "ipython3",
   "version": "3.9.12"
  }
 },
 "nbformat": 4,
 "nbformat_minor": 5
}
