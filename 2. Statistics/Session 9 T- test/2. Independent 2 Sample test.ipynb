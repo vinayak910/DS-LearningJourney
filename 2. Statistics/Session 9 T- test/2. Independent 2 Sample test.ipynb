{
 "cells": [
  {
   "cell_type": "markdown",
   "id": "c6a7c465",
   "metadata": {},
   "source": [
    "# Independent 2 Sample T test"
   ]
  },
  {
   "cell_type": "code",
   "execution_count": 2,
   "id": "d623d66d",
   "metadata": {},
   "outputs": [],
   "source": [
    "import numpy as np\n",
    "import pandas as pd\n",
    "import matplotlib.pyplot as plt\n",
    "import seaborn as sns\n",
    "%matplotlib inline"
   ]
  },
  {
   "cell_type": "markdown",
   "id": "90c75218",
   "metadata": {},
   "source": [
    "Beware of Assumptions , if assumptions are not true , test will not be reliable\n",
    "\n",
    "1. Independence\n",
    "2. Normality\n",
    "3. Equal Variances\n",
    "4. Random Sampling"
   ]
  },
  {
   "cell_type": "markdown",
   "id": "fb0a5b53",
   "metadata": {},
   "source": [
    "First Assumption --Independent - lets say we have to find the avg test marks of 2 courses test of nitish sir.1 Python  ,2 Machine Learning\n",
    "there will be some students who will be enrolled in both courses , it is the situation where this assumption will be failed"
   ]
  },
  {
   "cell_type": "markdown",
   "id": "ba1da3d7",
   "metadata": {},
   "source": [
    "**Checking for assumptions**"
   ]
  },
  {
   "cell_type": "code",
   "execution_count": 3,
   "id": "a7138459",
   "metadata": {},
   "outputs": [
    {
     "name": "stdout",
     "output_type": "stream",
     "text": [
      "Shapiro-Wilk test for desktop users: ShapiroResult(statistic=0.9783114194869995, pvalue=0.7790969014167786)\n",
      "Shapiro-Wilk test for mobile users: ShapiroResult(statistic=0.9714356064796448, pvalue=0.5791608691215515)\n"
     ]
    }
   ],
   "source": [
    "# The Shapiro-Wilk test returns two values: the test statistic (W) and the p-value. \n",
    "# If the p-value is greater than your chosen significance level (α = 0.05), \n",
    "# you can assume the data comes from a normally distributed population. \n",
    "# If the p-value is less than or equal to the significance level, the normality assumption is not met, \n",
    "# and you should consider applying a data transformation or using a non-parametric test like the Mann-Whitney U test.\n",
    "\n",
    "\n",
    "from scipy.stats import shapiro\n",
    "\n",
    "# Input the data as lists\n",
    "desktop_users = [12, 15, 18, 16, 20, 17, 14, 22, 19, 21, 23, 18, 25, 17, 16, 24, 20, 19, 22, 18, 15, 14, 23, 16, 12, 21, 19, 17, 20, 14]\n",
    "mobile_users = [10, 12, 14, 13, 16, 15, 11, 17, 14, 16, 18, 14, 20, 15, 14, 19, 16, 15, 17, 14, 12, 11, 18, 15, 10, 16, 15, 13, 16, 11]\n",
    "\n",
    "# Perform the Shapiro-Wilk test for both desktop and mobile users\n",
    "shapiro_desktop = shapiro(desktop_users)\n",
    "shapiro_mobile = shapiro(mobile_users)\n",
    "\n",
    "print(\"Shapiro-Wilk test for desktop users:\", shapiro_desktop)\n",
    "print(\"Shapiro-Wilk test for mobile users:\", shapiro_mobile)"
   ]
  },
  {
   "cell_type": "markdown",
   "id": "127561f6",
   "metadata": {},
   "source": [
    "Hence normality proved, now check for variances , for variance we will use levene test"
   ]
  },
  {
   "cell_type": "code",
   "execution_count": 4,
   "id": "412c9ce4",
   "metadata": {
    "scrolled": true
   },
   "outputs": [
    {
     "name": "stdout",
     "output_type": "stream",
     "text": [
      "LeveneResult(statistic=2.94395488191752, pvalue=0.09153720526741761)\n"
     ]
    }
   ],
   "source": [
    "# If the p-value from Levene's test is greater than your chosen significance level (α = 0.05), you can assume equal variances\n",
    "#  If the p-value is less than or equal to the significance level, the assumption of equal variances is not met, \n",
    "# and you should consider using Welch's t-test instead of the regular independent two-sample t-test.\n",
    "\n",
    "from scipy.stats import levene\n",
    "\n",
    "# Input the data as lists\n",
    "desktop_users = [12, 15, 18, 16, 20, 17, 14, 22, 19, 21, 23, 18, 25, 17, 16, 24, 20, 19, 22, 18, 15, 14, 23, 16, 12, 21, 19, 17, 20, 14]\n",
    "mobile_users = [10, 12, 14, 13, 16, 15, 11, 17, 14, 16, 18, 14, 20, 15, 14, 19, 16, 15, 17, 14, 12, 11, 18, 15, 10, 16, 15, 13, 16, 11]\n",
    "\n",
    "# Perform Levene's test\n",
    "levene_test = levene(desktop_users, mobile_users)\n",
    "print(levene_test)"
   ]
  },
  {
   "cell_type": "markdown",
   "id": "11c365c1",
   "metadata": {},
   "source": [
    "**Since assumptions are true Now perform T test**"
   ]
  },
  {
   "cell_type": "code",
   "execution_count": 6,
   "id": "f6256a8f",
   "metadata": {},
   "outputs": [
    {
     "name": "stdout",
     "output_type": "stream",
     "text": [
      "0.0\n"
     ]
    }
   ],
   "source": [
    "from scipy.stats import t\n",
    "\n",
    "# Set the t-value and degrees of freedom\n",
    "t_value = -5.25 # this value is the ans of T stat formula (refer to register or PDf file)\n",
    "\n",
    "df = 58  # Replace this with your specific degrees of freedom (n + n - 2)\n",
    "\n",
    "# Calculate the CDF value\n",
    "cdf_value = t.cdf(t_value, df)\n",
    "print(round(cdf_value*2,2 ))\n"
   ]
  },
  {
   "cell_type": "markdown",
   "id": "e71db4d9",
   "metadata": {},
   "source": [
    "# 2 - sample T-test on titanic data using inbuilt function"
   ]
  },
  {
   "cell_type": "markdown",
   "id": "00932656",
   "metadata": {},
   "source": [
    "Hypothesis - avg age of male significantly > avg age of female\n",
    "1. h0: avg age male almost similar avg avg female\n",
    "2. h1:avg age of male> avg age of female"
   ]
  },
  {
   "cell_type": "code",
   "execution_count": 12,
   "id": "e138af1c",
   "metadata": {},
   "outputs": [],
   "source": [
    "train = pd.read_csv(\"train.csv\")\n",
    "test = pd.read_csv('test.csv')"
   ]
  },
  {
   "cell_type": "code",
   "execution_count": 13,
   "id": "a8c562ed",
   "metadata": {},
   "outputs": [],
   "source": [
    "df = pd.concat([train , test],ignore_index=True)"
   ]
  },
  {
   "cell_type": "code",
   "execution_count": 14,
   "id": "68b44689",
   "metadata": {},
   "outputs": [],
   "source": [
    "pop_male = df[df['Sex'] == \"male\"]['Age'].dropna()\n",
    "pop_female = df[df['Sex'] == \"female\"]['Age'].dropna()"
   ]
  },
  {
   "cell_type": "code",
   "execution_count": 15,
   "id": "ce58bc71",
   "metadata": {},
   "outputs": [],
   "source": [
    "sample_male = pop_male.sample(25)\n",
    "sample_female = pop_female.sample(25)"
   ]
  },
  {
   "cell_type": "code",
   "execution_count": 16,
   "id": "1c6ff7b3",
   "metadata": {},
   "outputs": [
    {
     "name": "stdout",
     "output_type": "stream",
     "text": [
      "Male Normality test:ShapiroResult(statistic=0.9935553669929504, pvalue=0.9997809529304504)\n",
      "female Normality test:ShapiroResult(statistic=0.9482998251914978, pvalue=0.22947902977466583)\n"
     ]
    }
   ],
   "source": [
    "# checking for assumptions for 2 sample t - test\n",
    "# 1. Shapiro wilk test\n",
    "from scipy.stats import shapiro\n",
    "shapiro_male = shapiro(sample_male)\n",
    "shapiro_female = shapiro(sample_female)\n",
    "print(f\"Male Normality test:{shapiro_male}\")\n",
    "print(f\"female Normality test:{shapiro_female}\")"
   ]
  },
  {
   "cell_type": "markdown",
   "id": "0270f954",
   "metadata": {},
   "source": [
    "Since both values for p are greater than 0.05 , hence the normality assumption is true"
   ]
  },
  {
   "cell_type": "code",
   "execution_count": 17,
   "id": "f165dc1d",
   "metadata": {},
   "outputs": [
    {
     "name": "stdout",
     "output_type": "stream",
     "text": [
      "LeveneResult(statistic=0.4175843211006904, pvalue=0.5212226852864482)\n"
     ]
    }
   ],
   "source": [
    "# 2. Levene test for checking variances\n",
    "from scipy.stats import levene\n",
    "\n",
    "levene_result = levene(sample_male , sample_female)\n",
    "print(levene_result)"
   ]
  },
  {
   "cell_type": "markdown",
   "id": "775a4a68",
   "metadata": {},
   "source": [
    "This assumption is also true"
   ]
  },
  {
   "cell_type": "code",
   "execution_count": 36,
   "id": "0440bb56",
   "metadata": {},
   "outputs": [
    {
     "name": "stdout",
     "output_type": "stream",
     "text": [
      "T- stat = 0.8753963355191674, P- value = 0.19285893467227688\n"
     ]
    }
   ],
   "source": [
    "# performing 2 - sample t-test\n",
    "import scipy.stats as stats\n",
    "t_statistic , p_value = stats.ttest_ind(sample_male  , sample_female)\n",
    "print(f\"T- stat = {t_statistic}, P- value = {p_value/2}\")"
   ]
  },
  {
   "cell_type": "markdown",
   "id": "36f456a4",
   "metadata": {},
   "source": [
    "Since , the P-value is more than 0.05 , we cannot reject null hypothesis"
   ]
  },
  {
   "cell_type": "code",
   "execution_count": 37,
   "id": "d38da640",
   "metadata": {},
   "outputs": [
    {
     "data": {
      "text/plain": [
       "28.68708762886598"
      ]
     },
     "execution_count": 37,
     "metadata": {},
     "output_type": "execute_result"
    }
   ],
   "source": [
    "pop_male.mean()\n",
    "pop_female.mean()"
   ]
  },
  {
   "cell_type": "code",
   "execution_count": null,
   "id": "004926dd",
   "metadata": {},
   "outputs": [],
   "source": []
  }
 ],
 "metadata": {
  "kernelspec": {
   "display_name": "Python 3 (ipykernel)",
   "language": "python",
   "name": "python3"
  },
  "language_info": {
   "codemirror_mode": {
    "name": "ipython",
    "version": 3
   },
   "file_extension": ".py",
   "mimetype": "text/x-python",
   "name": "python",
   "nbconvert_exporter": "python",
   "pygments_lexer": "ipython3",
   "version": "3.9.18"
  }
 },
 "nbformat": 4,
 "nbformat_minor": 5
}
