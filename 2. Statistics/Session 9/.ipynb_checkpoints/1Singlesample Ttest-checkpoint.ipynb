{
 "cells": [
  {
   "cell_type": "markdown",
   "id": "fa1561f7",
   "metadata": {},
   "source": [
    "Finding Area for t -value"
   ]
  },
  {
   "cell_type": "code",
   "execution_count": 1,
   "id": "6b7099a7",
   "metadata": {},
   "outputs": [],
   "source": [
    "import numpy as np\n",
    "import pandas as pd\n",
    "import matplotlib.pyplot as plt\n",
    "import seaborn as sns\n",
    "%matplotlib inline"
   ]
  },
  {
   "cell_type": "code",
   "execution_count": 2,
   "id": "68318316",
   "metadata": {},
   "outputs": [],
   "source": [
    "from scipy.stats import t"
   ]
  },
  {
   "cell_type": "code",
   "execution_count": 3,
   "id": "18ae3e9f",
   "metadata": {
    "scrolled": true
   },
   "outputs": [
    {
     "name": "stdout",
     "output_type": "stream",
     "text": [
      "P-value = 0.2233514781656204\n"
     ]
    }
   ],
   "source": [
    "tvalue = -1.25\n",
    "df = 24 # degree of freedom\n",
    "area = t.cdf(tvalue , df)\n",
    "print(f\"P-value = {area*2}\")"
   ]
  },
  {
   "cell_type": "markdown",
   "id": "8f16ee77",
   "metadata": {},
   "source": [
    "# Single sample T test"
   ]
  },
  {
   "cell_type": "markdown",
   "id": "c6095b7f",
   "metadata": {},
   "source": [
    "Problem Statement - \n",
    "- we have data of age of 1309 people , hypothesis is avg age is less than 35. Now perform a hypothesis test"
   ]
  },
  {
   "cell_type": "code",
   "execution_count": 10,
   "id": "677aeb19",
   "metadata": {},
   "outputs": [],
   "source": [
    "train = pd.read_csv('train.csv')\n",
    "test = pd.read_csv('test.csv')"
   ]
  },
  {
   "cell_type": "code",
   "execution_count": 11,
   "id": "ade9a239",
   "metadata": {},
   "outputs": [],
   "source": [
    "train =  train.drop('Survived',axis = 1)"
   ]
  },
  {
   "cell_type": "code",
   "execution_count": 12,
   "id": "274c7679",
   "metadata": {},
   "outputs": [],
   "source": [
    "df = pd.concat([train , test] , ignore_index=True).sample(1309)"
   ]
  },
  {
   "cell_type": "code",
   "execution_count": 13,
   "id": "ecd8859e",
   "metadata": {},
   "outputs": [],
   "source": [
    "Age = df['Age'].dropna()"
   ]
  },
  {
   "cell_type": "code",
   "execution_count": 15,
   "id": "f4bb454e",
   "metadata": {},
   "outputs": [],
   "source": [
    "sample_age = Age.sample(25).values # sample "
   ]
  },
  {
   "cell_type": "code",
   "execution_count": 16,
   "id": "12082bfa",
   "metadata": {},
   "outputs": [
    {
     "data": {
      "text/plain": [
       "array([28., 10., 36., 39., 21., 12., 62., 28., 28., 70., 30., 34.,  9.,\n",
       "       40., 21., 37., 42., 32., 18., 20., 29., 18., 26., 17., 18.])"
      ]
     },
     "execution_count": 16,
     "metadata": {},
     "output_type": "execute_result"
    }
   ],
   "source": [
    "sample_age"
   ]
  },
  {
   "cell_type": "markdown",
   "id": "45f92c71",
   "metadata": {},
   "source": [
    "**check assumptions of single t Test**\n",
    "- Normality\n",
    "- random sampling\n",
    "- independent \n",
    "- Missing Population std"
   ]
  },
  {
   "cell_type": "markdown",
   "id": "4020a6eb",
   "metadata": {},
   "source": [
    "**Normality check for sample using Shapiro Wilk test**\n",
    "- if shapiro wilk test result (p - value) is less then 0.05 , then distribution is not normal  else it is normal "
   ]
  },
  {
   "cell_type": "code",
   "execution_count": 17,
   "id": "a1399d90",
   "metadata": {},
   "outputs": [],
   "source": [
    "from scipy.stats import shapiro\n",
    "shapiro_age = shapiro(sample_age)"
   ]
  },
  {
   "cell_type": "code",
   "execution_count": 18,
   "id": "c64b2dd6",
   "metadata": {},
   "outputs": [
    {
     "name": "stdout",
     "output_type": "stream",
     "text": [
      "ShapiroResult(statistic=0.9042713642120361, pvalue=0.022753749042749405)\n"
     ]
    }
   ],
   "source": [
    "print(shapiro_age)"
   ]
  },
  {
   "cell_type": "markdown",
   "id": "30880cf4",
   "metadata": {},
   "source": [
    "Since pvalue>0.05 we can say it is normal distribution(sample)"
   ]
  },
  {
   "cell_type": "markdown",
   "id": "a77a0df2",
   "metadata": {},
   "source": [
    "Therefore all assumptions are true and now can perform single sample T test"
   ]
  },
  {
   "cell_type": "markdown",
   "id": "8234df15",
   "metadata": {},
   "source": [
    "**Doing T-test using scipy where H0:mean = 35 , H1:mean<35**"
   ]
  },
  {
   "cell_type": "code",
   "execution_count": 19,
   "id": "800abf93",
   "metadata": {},
   "outputs": [],
   "source": [
    "import scipy.stats as stats"
   ]
  },
  {
   "cell_type": "code",
   "execution_count": 20,
   "id": "6790eb71",
   "metadata": {},
   "outputs": [
    {
     "name": "stdout",
     "output_type": "stream",
     "text": [
      "t-statistic: -2.060813533147398 , pvalue: 0.025158460302408526\n"
     ]
    }
   ],
   "source": [
    "t_statistic , p_value = stats.ttest_1samp(sample_age, popmean=35)\n",
    "print(f\"t-statistic: {t_statistic} , pvalue: {p_value/2}\")\n",
    "#Since P-value calculated by stats is for Two tailed test , but in our case we want for 1 tailed test hence divide by 2."
   ]
  },
  {
   "cell_type": "markdown",
   "id": "f47fd354",
   "metadata": {},
   "source": [
    "Now Since P-value is less than 0.05 , hence we can reject the null hyopthesis"
   ]
  },
  {
   "cell_type": "markdown",
   "id": "9a47af4e",
   "metadata": {},
   "source": [
    "And now if we check population mean , you will see it is actually less than 35"
   ]
  },
  {
   "cell_type": "code",
   "execution_count": 21,
   "id": "ceb9f264",
   "metadata": {},
   "outputs": [
    {
     "data": {
      "text/plain": [
       "29.881137667304014"
      ]
     },
     "execution_count": 21,
     "metadata": {},
     "output_type": "execute_result"
    }
   ],
   "source": [
    "Age.mean()"
   ]
  },
  {
   "cell_type": "code",
   "execution_count": null,
   "id": "e8d117b2",
   "metadata": {},
   "outputs": [],
   "source": []
  }
 ],
 "metadata": {
  "kernelspec": {
   "display_name": "Python 3 (ipykernel)",
   "language": "python",
   "name": "python3"
  },
  "language_info": {
   "codemirror_mode": {
    "name": "ipython",
    "version": 3
   },
   "file_extension": ".py",
   "mimetype": "text/x-python",
   "name": "python",
   "nbconvert_exporter": "python",
   "pygments_lexer": "ipython3",
   "version": "3.9.18"
  }
 },
 "nbformat": 4,
 "nbformat_minor": 5
}
