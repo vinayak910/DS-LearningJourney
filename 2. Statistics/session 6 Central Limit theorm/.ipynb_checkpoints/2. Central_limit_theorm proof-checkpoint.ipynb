{
 "cells": [
  {
   "cell_type": "markdown",
   "id": "a8da5fab",
   "metadata": {},
   "source": [
    "## Central Limit Theorm"
   ]
  },
  {
   "cell_type": "code",
   "execution_count": 1,
   "id": "a9eebe0c",
   "metadata": {},
   "outputs": [
    {
     "name": "stderr",
     "output_type": "stream",
     "text": [
      "C:\\Users\\vinay\\anaconda3\\lib\\site-packages\\numpy\\_distributor_init.py:30: UserWarning: loaded more than 1 DLL from .libs:\n",
      "C:\\Users\\vinay\\anaconda3\\lib\\site-packages\\numpy\\.libs\\libopenblas.EL2C6PLE4ZYW3ECEVIV3OXXGRN2NRFM2.gfortran-win_amd64.dll\n",
      "C:\\Users\\vinay\\anaconda3\\lib\\site-packages\\numpy\\.libs\\libopenblas.XWYDX2IKJW2NMTWSFYNGFUWKQU3LYTCZ.gfortran-win_amd64.dll\n",
      "  warnings.warn(\"loaded more than 1 DLL from .libs:\"\n"
     ]
    }
   ],
   "source": [
    "import numpy as np\n",
    "import pandas as pd\n",
    "import matplotlib.pyplot as plt\n",
    "import seaborn as sns\n",
    "%matplotlib inline"
   ]
  },
  {
   "cell_type": "code",
   "execution_count": 8,
   "id": "b4044a96",
   "metadata": {},
   "outputs": [
    {
     "data": {
      "text/plain": [
       "(array([4.63228017e-02, 9.26456033e-02, 1.62129806e-01, 3.24259612e-01,\n",
       "        7.64326228e-01, 1.78342786e+00, 2.73304530e+00, 4.56279596e+00,\n",
       "        8.17597450e+00, 1.08163742e+01, 1.52402018e+01, 1.68151770e+01,\n",
       "        2.21654606e+01, 2.31382394e+01, 2.32540464e+01, 2.27444956e+01,\n",
       "        2.11695204e+01, 1.69773068e+01, 1.38273563e+01, 1.07237286e+01,\n",
       "        6.78629045e+00, 4.00692234e+00, 2.54775409e+00, 1.38968405e+00,\n",
       "        7.87487628e-01, 2.54775409e-01, 1.85291207e-01, 6.94842025e-02,\n",
       "        4.63228017e-02, 2.31614008e-02]),\n",
       " array([0.43788617, 0.4422037 , 0.44652122, 0.45083875, 0.45515628,\n",
       "        0.45947381, 0.46379134, 0.46810886, 0.47242639, 0.47674392,\n",
       "        0.48106145, 0.48537898, 0.48969651, 0.49401403, 0.49833156,\n",
       "        0.50264909, 0.50696662, 0.51128415, 0.51560167, 0.5199192 ,\n",
       "        0.52423673, 0.52855426, 0.53287179, 0.53718931, 0.54150684,\n",
       "        0.54582437, 0.5501419 , 0.55445943, 0.55877696, 0.56309448,\n",
       "        0.56741201]),\n",
       " <BarContainer object of 30 artists>)"
      ]
     },
     "execution_count": 8,
     "metadata": {},
     "output_type": "execute_result"
    },
    {
     "data": {
      "image/png": "[encoded data removed]",
      "text/plain": [
       "<Figure size 432x288 with 1 Axes>"
      ]
     },
     "metadata": {
      "needs_background": "light"
     },
     "output_type": "display_data"
    }
   ],
   "source": [
    "num_samples = 10000\n",
    "sample_size = 300\n",
    "distribution_range = (0 , 1)\n",
    "# population follows uniform distribution and picking 30 samples 1000 times \n",
    "samples = np.random.uniform(distribution_range[0] , distribution_range[1] , (num_samples , sample_size)) \n",
    "sample_means =np.mean(samples , axis = 1) # sampling distribution of means\n",
    "plt.hist(sample_means , bins = 30, density = True , edgecolor = \"black\") # plotting sampling dist of means\n",
    "\n",
    "# if we increase sample size or num samples then distribution will be more normal "
   ]
  },
  {
   "cell_type": "code",
   "execution_count": 9,
   "id": "12bd9494",
   "metadata": {},
   "outputs": [
    {
     "name": "stderr",
     "output_type": "stream",
     "text": [
      "C:\\Users\\vinay\\AppData\\Roaming\\Python\\Python39\\site-packages\\seaborn\\_oldcore.py:1119: FutureWarning: use_inf_as_na option is deprecated and will be removed in a future version. Convert inf values to NaN before operating instead.\n",
      "  with pd.option_context('mode.use_inf_as_na', True):\n"
     ]
    },
    {
     "data": {
      "text/plain": [
       "<Axes: ylabel='Density'>"
      ]
     },
     "execution_count": 9,
     "metadata": {},
     "output_type": "execute_result"
    },
    {
     "data": {
      "image/png": "[encoded data removed]",
      "text/plain": [
       "<Figure size 432x288 with 1 Axes>"
      ]
     },
     "metadata": {
      "needs_background": "light"
     },
     "output_type": "display_data"
    }
   ],
   "source": [
    "sns.kdeplot(sample_means)"
   ]
  },
  {
   "cell_type": "markdown",
   "id": "6748f9b0",
   "metadata": {},
   "source": [
    "hence proved , you can start from any type of population it does not matter , but when you plot the sampling distribution of mean you will get the normal distribution"
   ]
  },
  {
   "cell_type": "code",
   "execution_count": 10,
   "id": "fc34c739",
   "metadata": {},
   "outputs": [
    {
     "data": {
      "text/plain": [
       "0.5000169073071267"
      ]
     },
     "execution_count": 10,
     "metadata": {},
     "output_type": "execute_result"
    }
   ],
   "source": [
    "sample_means.mean()"
   ]
  },
  {
   "cell_type": "markdown",
   "id": "432ba9b9",
   "metadata": {},
   "source": [
    "## Proving the mean and variance point"
   ]
  },
  {
   "cell_type": "code",
   "execution_count": 23,
   "id": "b873f1e3",
   "metadata": {},
   "outputs": [
    {
     "name": "stdout",
     "output_type": "stream",
     "text": [
      "Theoritical mean:2\n",
      "emperical mean:2.0000512568413282\n",
      "\n",
      "Theoritical variance:2\n",
      "emperical variance:1.9968341773511222\n",
      "\n"
     ]
    }
   ],
   "source": [
    "num_samples = 100000\n",
    "sample_size = 5000\n",
    "\n",
    "#gamma distribution parameters\n",
    "gamma_shape = 2\n",
    "gamma_scale = 1\n",
    "\n",
    "#calculate theoritical mean and variance\n",
    "theoritical_mean = gamma_shape*gamma_scale\n",
    "theoritical_variance = gamma_shape*gamma_scale**2\n",
    "\n",
    "samples = np.random.gamma(shape = gamma_shape , scale = gamma_scale , size = (num_samples , sample_size))\n",
    "\n",
    "sample_means = np.mean(samples , axis = 1)\n",
    "\n",
    "emperical_mean = np.mean(sample_means)\n",
    "emperical_variance = np.var(sample_means)\n",
    "print(f\"Theoritical mean:{theoritical_mean}\")\n",
    "print(f\"emperical mean:{emperical_mean}\\n\")\n",
    "print(f\"Theoritical variance:{theoritical_variance}\")\n",
    "print(f\"emperical variance:{emperical_variance*sample_size}\\n\")"
   ]
  },
  {
   "cell_type": "code",
   "execution_count": 24,
   "id": "72aab1a3",
   "metadata": {},
   "outputs": [
    {
     "data": {
      "text/plain": [
       "(array([5.33613874e-03, 1.06722775e-02, 6.40336649e-02, 1.90322282e-01,\n",
       "        4.66022783e-01, 9.08922299e-01, 1.70756440e+00, 3.10741146e+00,\n",
       "        5.10134864e+00, 7.76763929e+00, 1.11045047e+01, 1.46050117e+01,\n",
       "        1.74367227e+01, 1.93897495e+01, 1.97063604e+01, 1.88632505e+01,\n",
       "        1.65011197e+01, 1.35022097e+01, 1.02258205e+01, 7.01880116e+00,\n",
       "        4.53927536e+00, 2.72320947e+00, 1.58839063e+00, 7.48838137e-01,\n",
       "        3.37955454e-01, 1.51190598e-01, 5.86975262e-02, 2.49019808e-02,\n",
       "        1.24509904e-02, 3.55742583e-03]),\n",
       " array([1.9192576 , 1.92487964, 1.93050168, 1.93612372, 1.94174577,\n",
       "        1.94736781, 1.95298985, 1.95861189, 1.96423394, 1.96985598,\n",
       "        1.97547802, 1.98110007, 1.98672211, 1.99234415, 1.99796619,\n",
       "        2.00358824, 2.00921028, 2.01483232, 2.02045436, 2.02607641,\n",
       "        2.03169845, 2.03732049, 2.04294254, 2.04856458, 2.05418662,\n",
       "        2.05980866, 2.06543071, 2.07105275, 2.07667479, 2.08229683,\n",
       "        2.08791888]),\n",
       " <BarContainer object of 30 artists>)"
      ]
     },
     "execution_count": 24,
     "metadata": {},
     "output_type": "execute_result"
    },
    {
     "data": {
      "image/png": "[encoded data removed]",
      "text/plain": [
       "<Figure size 432x288 with 1 Axes>"
      ]
     },
     "metadata": {
      "needs_background": "light"
     },
     "output_type": "display_data"
    }
   ],
   "source": [
    "plt.hist(sample_means , bins = 30, density = True , edgecolor = \"black\")"
   ]
  },
  {
   "cell_type": "code",
   "execution_count": null,
   "id": "fd55b45b",
   "metadata": {},
   "outputs": [],
   "source": []
  }
 ],
 "metadata": {
  "kernelspec": {
   "display_name": "Python 3 (ipykernel)",
   "language": "python",
   "name": "python3"
  },
  "language_info": {
   "codemirror_mode": {
    "name": "ipython",
    "version": 3
   },
   "file_extension": ".py",
   "mimetype": "text/x-python",
   "name": "python",
   "nbconvert_exporter": "python",
   "pygments_lexer": "ipython3",
   "version": "3.9.12"
  }
 },
 "nbformat": 4,
 "nbformat_minor": 5
}
