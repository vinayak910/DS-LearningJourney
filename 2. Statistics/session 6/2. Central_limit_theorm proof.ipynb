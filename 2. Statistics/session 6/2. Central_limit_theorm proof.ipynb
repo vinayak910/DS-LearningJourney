{
 "cells": [
  {
   "cell_type": "markdown",
   "id": "a8da5fab",
   "metadata": {},
   "source": [
    "## Central Limit Theorm"
   ]
  },
  {
   "cell_type": "code",
   "execution_count": 2,
   "id": "a9eebe0c",
   "metadata": {},
   "outputs": [],
   "source": [
    "import numpy as np\n",
    "import pandas as pd\n",
    "import matplotlib.pyplot as plt\n",
    "import seaborn as sns\n",
    "%matplotlib inline"
   ]
  },
  {
   "cell_type": "code",
   "execution_count": 19,
   "id": "b4044a96",
   "metadata": {},
   "outputs": [
    {
     "data": {
      "text/plain": [
       "(array([3.34682727e-02, 1.53954054e-01, 4.61862163e-01, 8.03238544e-01,\n",
       "        1.66671998e+00, 3.87562597e+00, 7.66423444e+00, 1.24368101e+01,\n",
       "        2.11787229e+01, 3.14735636e+01, 4.46667567e+01, 5.75520417e+01,\n",
       "        6.76460727e+01, 7.37306047e+01, 7.46877973e+01, 6.97813485e+01,\n",
       "        6.11264532e+01, 4.86628684e+01, 3.50881371e+01, 2.43314342e+01,\n",
       "        1.45586986e+01, 8.92264149e+00, 4.73910741e+00, 2.34947274e+00,\n",
       "        1.09106569e+00, 3.94925617e-01, 1.60647709e-01, 6.69365453e-02,\n",
       "        4.01619272e-02, 2.00809636e-02]),\n",
       " array([0.47886799, 0.48036194, 0.48185589, 0.48334984, 0.4848438 ,\n",
       "        0.48633775, 0.4878317 , 0.48932565, 0.49081961, 0.49231356,\n",
       "        0.49380751, 0.49530146, 0.49679541, 0.49828937, 0.49978332,\n",
       "        0.50127727, 0.50277122, 0.50426518, 0.50575913, 0.50725308,\n",
       "        0.50874703, 0.51024098, 0.51173494, 0.51322889, 0.51472284,\n",
       "        0.51621679, 0.51771075, 0.5192047 , 0.52069865, 0.5221926 ,\n",
       "        0.52368655]),\n",
       " <BarContainer object of 30 artists>)"
      ]
     },
     "execution_count": 19,
     "metadata": {},
     "output_type": "execute_result"
    },
    {
     "data": {
      "image/png": "[encoded data removed]",
      "text/plain": [
       "<Figure size 432x288 with 1 Axes>"
      ]
     },
     "metadata": {
      "needs_background": "light"
     },
     "output_type": "display_data"
    }
   ],
   "source": [
    "num_samples = 100000\n",
    "sample_size = 3000\n",
    "distribution_range = (0 , 1)\n",
    "samples = np.random.uniform(distribution_range[0] , distribution_range[1] , (num_samples , sample_size))\n",
    "sample_means =np.mean(samples , axis = 1)\n",
    "plt.hist(sample_means , bins = 30, density = True , edgecolor = \"black\")"
   ]
  },
  {
   "cell_type": "code",
   "execution_count": 20,
   "id": "12bd9494",
   "metadata": {},
   "outputs": [
    {
     "data": {
      "text/plain": [
       "<Axes: ylabel='Density'>"
      ]
     },
     "execution_count": 20,
     "metadata": {},
     "output_type": "execute_result"
    },
    {
     "data": {
      "image/png": "[encoded data removed]",
      "text/plain": [
       "<Figure size 432x288 with 1 Axes>"
      ]
     },
     "metadata": {
      "needs_background": "light"
     },
     "output_type": "display_data"
    }
   ],
   "source": [
    "sns.kdeplot(sample_means)"
   ]
  },
  {
   "cell_type": "markdown",
   "id": "6748f9b0",
   "metadata": {},
   "source": [
    "hence proved , you can start from any type of population it does not matter , but when you plot the sampling distribution of mean you will get the normal distribution"
   ]
  },
  {
   "cell_type": "code",
   "execution_count": 21,
   "id": "fc34c739",
   "metadata": {},
   "outputs": [
    {
     "data": {
      "text/plain": [
       "0.5000073365174651"
      ]
     },
     "execution_count": 21,
     "metadata": {},
     "output_type": "execute_result"
    }
   ],
   "source": [
    "sample_means.mean()"
   ]
  },
  {
   "cell_type": "markdown",
   "id": "432ba9b9",
   "metadata": {},
   "source": [
    "## Proving the mean and variance point"
   ]
  },
  {
   "cell_type": "code",
   "execution_count": 23,
   "id": "b873f1e3",
   "metadata": {},
   "outputs": [
    {
     "name": "stdout",
     "output_type": "stream",
     "text": [
      "Theoritical mean:2\n",
      "emperical mean:2.0000512568413282\n",
      "\n",
      "Theoritical variance:2\n",
      "emperical variance:1.9968341773511222\n",
      "\n"
     ]
    }
   ],
   "source": [
    "num_samples = 100000\n",
    "sample_size = 5000\n",
    "\n",
    "#gamma distribution parameters\n",
    "gamma_shape = 2\n",
    "gamma_scale = 1\n",
    "\n",
    "#calculate theoritical mean and variance\n",
    "theoritical_mean = gamma_shape*gamma_scale\n",
    "theoritical_variance = gamma_shape*gamma_scale**2\n",
    "\n",
    "samples = np.random.gamma(shape = gamma_shape , scale = gamma_scale , size = (num_samples , sample_size))\n",
    "\n",
    "sample_means = np.mean(samples , axis = 1)\n",
    "\n",
    "emperical_mean = np.mean(sample_means)\n",
    "emperical_variance = np.var(sample_means)\n",
    "print(f\"Theoritical mean:{theoritical_mean}\")\n",
    "print(f\"emperical mean:{emperical_mean}\\n\")\n",
    "print(f\"Theoritical variance:{theoritical_variance}\")\n",
    "print(f\"emperical variance:{emperical_variance*sample_size}\\n\")"
   ]
  },
  {
   "cell_type": "code",
   "execution_count": 24,
   "id": "72aab1a3",
   "metadata": {},
   "outputs": [
    {
     "data": {
      "text/plain": [
       "(array([5.33613874e-03, 1.06722775e-02, 6.40336649e-02, 1.90322282e-01,\n",
       "        4.66022783e-01, 9.08922299e-01, 1.70756440e+00, 3.10741146e+00,\n",
       "        5.10134864e+00, 7.76763929e+00, 1.11045047e+01, 1.46050117e+01,\n",
       "        1.74367227e+01, 1.93897495e+01, 1.97063604e+01, 1.88632505e+01,\n",
       "        1.65011197e+01, 1.35022097e+01, 1.02258205e+01, 7.01880116e+00,\n",
       "        4.53927536e+00, 2.72320947e+00, 1.58839063e+00, 7.48838137e-01,\n",
       "        3.37955454e-01, 1.51190598e-01, 5.86975262e-02, 2.49019808e-02,\n",
       "        1.24509904e-02, 3.55742583e-03]),\n",
       " array([1.9192576 , 1.92487964, 1.93050168, 1.93612372, 1.94174577,\n",
       "        1.94736781, 1.95298985, 1.95861189, 1.96423394, 1.96985598,\n",
       "        1.97547802, 1.98110007, 1.98672211, 1.99234415, 1.99796619,\n",
       "        2.00358824, 2.00921028, 2.01483232, 2.02045436, 2.02607641,\n",
       "        2.03169845, 2.03732049, 2.04294254, 2.04856458, 2.05418662,\n",
       "        2.05980866, 2.06543071, 2.07105275, 2.07667479, 2.08229683,\n",
       "        2.08791888]),\n",
       " <BarContainer object of 30 artists>)"
      ]
     },
     "execution_count": 24,
     "metadata": {},
     "output_type": "execute_result"
    },
    {
     "data": {
      "image/png": "[encoded data removed]",
      "text/plain": [
       "<Figure size 432x288 with 1 Axes>"
      ]
     },
     "metadata": {
      "needs_background": "light"
     },
     "output_type": "display_data"
    }
   ],
   "source": [
    "plt.hist(sample_means , bins = 30, density = True , edgecolor = \"black\")"
   ]
  },
  {
   "cell_type": "code",
   "execution_count": null,
   "id": "fd55b45b",
   "metadata": {},
   "outputs": [],
   "source": []
  }
 ],
 "metadata": {
  "kernelspec": {
   "display_name": "Python 3 (ipykernel)",
   "language": "python",
   "name": "python3"
  },
  "language_info": {
   "codemirror_mode": {
    "name": "ipython",
    "version": 3
   },
   "file_extension": ".py",
   "mimetype": "text/x-python",
   "name": "python",
   "nbconvert_exporter": "python",
   "pygments_lexer": "ipython3",
   "version": "3.9.12"
  }
 },
 "nbformat": 4,
 "nbformat_minor": 5
}
