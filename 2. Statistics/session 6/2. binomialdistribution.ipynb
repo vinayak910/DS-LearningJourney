{
 "cells": [
  {
   "cell_type": "code",
   "execution_count": 1,
   "id": "debd1f2b",
   "metadata": {},
   "outputs": [
    {
     "name": "stderr",
     "output_type": "stream",
     "text": [
      "C:\\Users\\vinay\\anaconda3\\lib\\site-packages\\numpy\\_distributor_init.py:30: UserWarning: loaded more than 1 DLL from .libs:\n",
      "C:\\Users\\vinay\\anaconda3\\lib\\site-packages\\numpy\\.libs\\libopenblas.EL2C6PLE4ZYW3ECEVIV3OXXGRN2NRFM2.gfortran-win_amd64.dll\n",
      "C:\\Users\\vinay\\anaconda3\\lib\\site-packages\\numpy\\.libs\\libopenblas.XWYDX2IKJW2NMTWSFYNGFUWKQU3LYTCZ.gfortran-win_amd64.dll\n",
      "  warnings.warn(\"loaded more than 1 DLL from .libs:\"\n"
     ]
    }
   ],
   "source": [
    "import numpy as np\n",
    "import pandas as pd\n",
    "import matplotlib.pyplot as plt\n",
    "import seaborn as sns\n",
    "%matplotlib inline"
   ]
  },
  {
   "cell_type": "code",
   "execution_count": 2,
   "id": "38d8c82f",
   "metadata": {},
   "outputs": [],
   "source": [
    "n = 10 # no of trials\n",
    "p = 0.5 # probability of success\n",
    "size = 1000 "
   ]
  },
  {
   "cell_type": "code",
   "execution_count": 3,
   "id": "4ff856a9",
   "metadata": {},
   "outputs": [],
   "source": [
    "#explaination - we tossed coin 10 times (considering it one set), and we did that 1000 times"
   ]
  },
  {
   "cell_type": "code",
   "execution_count": 4,
   "id": "c00f5219",
   "metadata": {},
   "outputs": [
    {
     "data": {
      "text/plain": [
       "array([3, 4, 5, 5, 5, 7, 6, 4, 7, 6, 7, 6, 4, 4, 3, 3, 5, 3, 6, 4, 5, 3,\n",
       "       7, 5, 9, 6, 7, 6, 5, 3, 4, 3, 4, 7, 6, 8, 5, 6, 4, 5, 4, 6, 7, 5,\n",
       "       6, 3, 4, 4, 4, 5, 6, 5, 6, 2, 3, 8, 4, 6, 3, 5, 4, 6, 4, 5, 5, 4,\n",
       "       5, 6, 4, 3, 6, 7, 3, 3, 7, 4, 4, 6, 3, 7, 4, 6, 3, 2, 5, 5, 6, 6,\n",
       "       6, 5, 3, 7, 8, 8, 5, 3, 4, 3, 6, 6, 3, 3, 8, 5, 4, 5, 3, 4, 6, 3,\n",
       "       8, 5, 5, 4, 5, 5, 5, 5, 3, 5, 3, 7, 6, 6, 1, 6, 3, 7, 6, 4, 5, 6,\n",
       "       7, 6, 6, 6, 4, 5, 9, 3, 6, 3, 3, 5, 5, 5, 4, 5, 5, 6, 4, 4, 4, 5,\n",
       "       5, 5, 3, 8, 6, 5, 1, 6, 3, 5, 4, 3, 4, 5, 6, 5, 6, 5, 4, 7, 5, 7,\n",
       "       6, 4, 4, 5, 3, 4, 8, 5, 7, 3, 5, 8, 4, 4, 5, 4, 5, 5, 5, 5, 5, 7,\n",
       "       5, 4, 4, 5, 6, 4, 4, 4, 4, 5, 5, 6, 2, 6, 8, 6, 7, 6, 4, 5, 5, 8,\n",
       "       5, 8, 6, 5, 6, 3, 5, 4, 7, 7, 6, 4, 2, 5, 5, 5, 5, 6, 5, 3, 4, 6,\n",
       "       5, 5, 5, 7, 7, 5, 7, 2, 6, 5, 7, 2, 7, 3, 5, 6, 4, 6, 5, 6, 5, 3,\n",
       "       4, 5, 6, 6, 4, 4, 7, 4, 5, 6, 7, 5, 3, 4, 7, 3, 2, 5, 7, 5, 5, 4,\n",
       "       8, 3, 6, 4, 5, 8, 7, 8, 6, 2, 3, 6, 4, 3, 7, 5, 5, 4, 5, 6, 6, 5,\n",
       "       5, 2, 4, 3, 5, 7, 5, 5, 4, 5, 7, 4, 6, 3, 2, 7, 5, 8, 3, 6, 5, 2,\n",
       "       3, 6, 4, 6, 4, 4, 6, 2, 8, 4, 7, 5, 4, 5, 6, 3, 2, 5, 5, 7, 7, 5,\n",
       "       7, 8, 5, 5, 5, 3, 8, 2, 6, 7, 6, 7, 2, 3, 5, 6, 4, 4, 6, 3, 2, 6,\n",
       "       4, 5, 2, 3, 5, 4, 6, 4, 3, 5, 6, 5, 4, 5, 5, 5, 4, 5, 4, 3, 8, 6,\n",
       "       4, 6, 5, 7, 3, 4, 6, 2, 3, 5, 3, 7, 4, 6, 4, 4, 8, 7, 5, 7, 4, 5,\n",
       "       5, 4, 5, 6, 5, 3, 8, 4, 4, 7, 6, 3, 5, 5, 5, 5, 5, 4, 5, 7, 3, 6,\n",
       "       5, 6, 4, 6, 3, 6, 4, 5, 8, 4, 6, 6, 5, 4, 4, 7, 4, 6, 5, 8, 3, 3,\n",
       "       4, 7, 4, 5, 7, 4, 6, 5, 6, 7, 4, 7, 6, 3, 4, 7, 7, 6, 5, 3, 5, 5,\n",
       "       5, 6, 4, 5, 5, 6, 6, 4, 4, 3, 7, 7, 3, 3, 8, 4, 5, 4, 6, 6, 6, 5,\n",
       "       3, 5, 6, 4, 5, 3, 5, 7, 5, 1, 6, 4, 4, 3, 5, 8, 5, 3, 5, 6, 7, 3,\n",
       "       6, 5, 4, 4, 5, 4, 4, 5, 6, 4, 8, 4, 3, 5, 4, 5, 6, 8, 7, 3, 6, 2,\n",
       "       4, 5, 6, 5, 8, 6, 5, 7, 8, 4, 4, 4, 3, 3, 4, 3, 4, 8, 7, 5, 7, 4,\n",
       "       7, 3, 2, 3, 7, 5, 5, 7, 4, 4, 3, 5, 5, 5, 6, 7, 8, 5, 5, 6, 4, 6,\n",
       "       3, 5, 1, 2, 6, 7, 7, 4, 4, 5, 6, 5, 8, 5, 5, 4, 6, 7, 2, 5, 3, 4,\n",
       "       6, 6, 2, 6, 6, 4, 5, 8, 2, 8, 5, 8, 4, 5, 3, 4, 3, 6, 6, 7, 5, 7,\n",
       "       5, 5, 4, 5, 5, 2, 6, 4, 2, 5, 5, 5, 4, 4, 6, 4, 5, 6, 5, 6, 6, 3,\n",
       "       4, 5, 6, 7, 3, 4, 6, 8, 7, 6, 8, 5, 4, 6, 4, 3, 4, 4, 4, 6, 5, 8,\n",
       "       8, 5, 6, 7, 6, 5, 6, 5, 4, 5, 8, 6, 6, 6, 5, 4, 5, 6, 6, 3, 5, 6,\n",
       "       2, 5, 5, 3, 4, 8, 8, 4, 5, 4, 4, 6, 5, 5, 4, 3, 6, 5, 8, 4, 3, 3,\n",
       "       5, 2, 3, 6, 5, 5, 3, 5, 3, 5, 4, 6, 7, 4, 7, 5, 4, 5, 1, 7, 4, 7,\n",
       "       4, 6, 4, 5, 5, 7, 8, 7, 5, 3, 5, 3, 7, 8, 7, 5, 4, 5, 8, 5, 5, 5,\n",
       "       5, 5, 2, 5, 4, 6, 5, 4, 7, 7, 4, 4, 4, 7, 6, 4, 4, 8, 2, 4, 5, 4,\n",
       "       8, 4, 2, 4, 7, 7, 5, 4, 5, 4, 4, 4, 4, 6, 6, 5, 6, 5, 2, 4, 5, 6,\n",
       "       3, 2, 7, 9, 8, 3, 6, 3, 4, 3, 6, 6, 4, 4, 4, 5, 4, 3, 5, 2, 4, 3,\n",
       "       6, 7, 7, 5, 6, 5, 2, 5, 3, 5, 7, 4, 4, 7, 5, 5, 5, 5, 4, 6, 7, 6,\n",
       "       6, 3, 4, 4, 5, 4, 6, 4, 3, 6, 5, 3, 5, 3, 6, 4, 4, 4, 4, 4, 7, 4,\n",
       "       2, 6, 5, 5, 5, 3, 4, 5, 5, 6, 6, 6, 5, 7, 5, 1, 4, 6, 7, 6, 3, 5,\n",
       "       4, 6, 2, 4, 4, 6, 6, 4, 6, 6, 5, 5, 6, 4, 5, 6, 6, 6, 5, 6, 2, 3,\n",
       "       3, 6, 7, 3, 6, 7, 5, 6, 7, 7, 3, 3, 6, 7, 4, 3, 7, 7, 5, 6, 5, 5,\n",
       "       7, 6, 5, 4, 5, 4, 3, 7, 7, 5, 4, 8, 5, 6, 4, 2, 4, 5, 5, 3, 6, 8,\n",
       "       3, 4, 5, 4, 5, 3, 5, 5, 8, 5, 4, 5, 7, 5, 8, 6, 5, 6, 5, 5, 6, 8,\n",
       "       7, 6, 6, 4, 5, 6, 5, 5, 6, 3])"
      ]
     },
     "execution_count": 4,
     "metadata": {},
     "output_type": "execute_result"
    }
   ],
   "source": [
    "np.random.binomial(n , p , size)\n",
    "#explaination - that first sample 4 means that when we tossed the coin the success event occured 4 times, next 5 means that when we tossed the coin 10 times again the success event occured 5times"
   ]
  },
  {
   "cell_type": "code",
   "execution_count": 5,
   "id": "2cd80aeb",
   "metadata": {},
   "outputs": [],
   "source": [
    "binomial_dist = np.random.binomial(n , p , size)"
   ]
  },
  {
   "cell_type": "code",
   "execution_count": 6,
   "id": "51070beb",
   "metadata": {},
   "outputs": [
    {
     "data": {
      "text/plain": [
       "'notice that when the p = 0.5 our dist looks like normal and centered. lets try experimenting with different values of p '"
      ]
     },
     "execution_count": 6,
     "metadata": {},
     "output_type": "execute_result"
    },
    {
     "data": {
      "image/png": "[encoded data removed]",
      "text/plain": [
       "<Figure size 432x288 with 1 Axes>"
      ]
     },
     "metadata": {
      "needs_background": "light"
     },
     "output_type": "display_data"
    }
   ],
   "source": [
    "plt.hist(binomial_dist)\n",
    "\"\"\"notice that when the p = 0.5 our dist looks like normal and centered. lets try experimenting with different values of p \"\"\""
   ]
  },
  {
   "cell_type": "code",
   "execution_count": 14,
   "id": "5db79b9b",
   "metadata": {},
   "outputs": [
    {
     "data": {
      "text/plain": [
       "(array([103., 283.,   0., 300.,   0., 193.,  90.,   0.,  27.,   4.]),\n",
       " array([0. , 0.6, 1.2, 1.8, 2.4, 3. , 3.6, 4.2, 4.8, 5.4, 6. ]),\n",
       " <BarContainer object of 10 artists>)"
      ]
     },
     "execution_count": 14,
     "metadata": {},
     "output_type": "execute_result"
    },
    {
     "data": {
      "image/png": "[encoded data removed]",
      "text/plain": [
       "<Figure size 432x288 with 1 Axes>"
      ]
     },
     "metadata": {
      "needs_background": "light"
     },
     "output_type": "display_data"
    }
   ],
   "source": [
    "#taking p of succes = 0.2\n",
    "n = 10 # no of trials\n",
    "p = 0.2 # probability of success\n",
    "size = 1000 \n",
    "binomial_dist = np.random.binomial(n , p , size)\n",
    "plt.hist(binomial_dist)"
   ]
  },
  {
   "cell_type": "markdown",
   "id": "b4d84c39",
   "metadata": {},
   "source": [
    "1. Notice that just like in the notebook when probability of success is 0.2 our distribution is towards left\n",
    "2. understanding this barchart -  at 0 it shows how many times the success even never occured , at 1 it shows no of times success event only occured one time. Since the probability of success was low thats why it occured less"
   ]
  },
  {
   "cell_type": "code",
   "execution_count": 15,
   "id": "00dd1cf1",
   "metadata": {},
   "outputs": [
    {
     "data": {
      "text/plain": [
       "(array([ 20.,   0.,  56.,   0.,   0., 212.,   0., 365.,   0., 347.]),\n",
       " array([ 6. ,  6.4,  6.8,  7.2,  7.6,  8. ,  8.4,  8.8,  9.2,  9.6, 10. ]),\n",
       " <BarContainer object of 10 artists>)"
      ]
     },
     "execution_count": 15,
     "metadata": {},
     "output_type": "execute_result"
    },
    {
     "data": {
      "image/png": "[encoded data removed]",
      "text/plain": [
       "<Figure size 432x288 with 1 Axes>"
      ]
     },
     "metadata": {
      "needs_background": "light"
     },
     "output_type": "display_data"
    }
   ],
   "source": [
    "#taking p = 0.9\n",
    "n = 10 # no of trials\n",
    "p = 0.9 # probability of success\n",
    "size = 1000 \n",
    "binomial_dist = np.random.binomial(n , p , size)\n",
    "plt.hist(binomial_dist)"
   ]
  },
  {
   "cell_type": "code",
   "execution_count": null,
   "id": "e2bb629a",
   "metadata": {},
   "outputs": [],
   "source": []
  }
 ],
 "metadata": {
  "kernelspec": {
   "display_name": "Python 3 (ipykernel)",
   "language": "python",
   "name": "python3"
  },
  "language_info": {
   "codemirror_mode": {
    "name": "ipython",
    "version": 3
   },
   "file_extension": ".py",
   "mimetype": "text/x-python",
   "name": "python",
   "nbconvert_exporter": "python",
   "pygments_lexer": "ipython3",
   "version": "3.9.12"
  }
 },
 "nbformat": 4,
 "nbformat_minor": 5
}
