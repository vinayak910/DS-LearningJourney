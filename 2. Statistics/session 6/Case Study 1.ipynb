{
 "cells": [
  {
   "cell_type": "markdown",
   "id": "989cba9d",
   "metadata": {},
   "source": [
    "## Case Study 1 (Titanic Fare)"
   ]
  },
  {
   "cell_type": "code",
   "execution_count": 48,
   "id": "6070fe23",
   "metadata": {},
   "outputs": [],
   "source": [
    "import numpy as np\n",
    "import pandas as pd\n",
    "import matplotlib.pyplot as plt\n",
    "import seaborn as sns\n",
    "%matplotlib inline"
   ]
  },
  {
   "cell_type": "markdown",
   "id": "67dcec06",
   "metadata": {},
   "source": [
    "total population = train + test"
   ]
  },
  {
   "cell_type": "code",
   "execution_count": 114,
   "id": "c4565712",
   "metadata": {},
   "outputs": [],
   "source": [
    "train_df = pd.read_csv(\"train.csv\")\n",
    "test_df = pd.read_csv(\"test.csv\")"
   ]
  },
  {
   "cell_type": "code",
   "execution_count": 115,
   "id": "fac905a9",
   "metadata": {},
   "outputs": [
    {
     "data": {
      "text/plain": [
       "(891, 12)"
      ]
     },
     "execution_count": 115,
     "metadata": {},
     "output_type": "execute_result"
    }
   ],
   "source": [
    "train_df.shape"
   ]
  },
  {
   "cell_type": "code",
   "execution_count": 116,
   "id": "63934993",
   "metadata": {},
   "outputs": [
    {
     "data": {
      "text/plain": [
       "(418, 11)"
      ]
     },
     "execution_count": 116,
     "metadata": {},
     "output_type": "execute_result"
    }
   ],
   "source": [
    "test_df.shape"
   ]
  },
  {
   "cell_type": "code",
   "execution_count": 117,
   "id": "cf180ee8",
   "metadata": {},
   "outputs": [],
   "source": [
    "train_df = train_df.drop(columns=['Survived']) #dropping for convenient concatenation"
   ]
  },
  {
   "cell_type": "code",
   "execution_count": 118,
   "id": "5215df84",
   "metadata": {},
   "outputs": [],
   "source": [
    "total_population = pd.concat([train_df , test_df],ignore_index = True)"
   ]
  },
  {
   "cell_type": "code",
   "execution_count": 119,
   "id": "a9d130c7",
   "metadata": {},
   "outputs": [],
   "source": [
    "total_population= total_population.sample(1309)"
   ]
  },
  {
   "cell_type": "code",
   "execution_count": 120,
   "id": "4f1b4633",
   "metadata": {},
   "outputs": [
    {
     "data": {
      "text/plain": [
       "(1309, 11)"
      ]
     },
     "execution_count": 120,
     "metadata": {},
     "output_type": "execute_result"
    }
   ],
   "source": [
    "total_population.shape"
   ]
  },
  {
   "cell_type": "code",
   "execution_count": 121,
   "id": "0c596c95",
   "metadata": {
    "scrolled": true
   },
   "outputs": [
    {
     "data": {
      "text/plain": [
       "<Axes: xlabel='Fare', ylabel='Density'>"
      ]
     },
     "execution_count": 121,
     "metadata": {},
     "output_type": "execute_result"
    },
    {
     "data": {
      "image/png": "[encoded data removed]",
      "text/plain": [
       "<Figure size 432x288 with 1 Axes>"
      ]
     },
     "metadata": {
      "needs_background": "light"
     },
     "output_type": "display_data"
    }
   ],
   "source": [
    "sns.kdeplot(total_population['Fare'])"
   ]
  },
  {
   "cell_type": "code",
   "execution_count": 128,
   "id": "1b4c87c3",
   "metadata": {},
   "outputs": [],
   "source": [
    "# drawing 50 samples from population 100 times\n",
    "samples = []\n",
    "for i in range(100):\n",
    "    samples.append(total_population['Fare'].dropna().sample(50).values.tolist())"
   ]
  },
  {
   "cell_type": "code",
   "execution_count": 129,
   "id": "231d6ad7",
   "metadata": {},
   "outputs": [],
   "source": [
    "samples = np.array(samples)"
   ]
  },
  {
   "cell_type": "code",
   "execution_count": 130,
   "id": "9bbc1ed2",
   "metadata": {},
   "outputs": [],
   "source": [
    "sampling_dist = np.mean(samples , axis = 1)"
   ]
  },
  {
   "cell_type": "code",
   "execution_count": 131,
   "id": "e443744b",
   "metadata": {},
   "outputs": [
    {
     "data": {
      "text/plain": [
       "(100,)"
      ]
     },
     "execution_count": 131,
     "metadata": {},
     "output_type": "execute_result"
    }
   ],
   "source": [
    "sampling_dist.shape"
   ]
  },
  {
   "cell_type": "code",
   "execution_count": 132,
   "id": "47d1ef85",
   "metadata": {},
   "outputs": [
    {
     "data": {
      "text/plain": [
       "<Axes: ylabel='Density'>"
      ]
     },
     "execution_count": 132,
     "metadata": {},
     "output_type": "execute_result"
    },
    {
     "data": {
      "image/png": "[encoded data removed]",
      "text/plain": [
       "<Figure size 432x288 with 1 Axes>"
      ]
     },
     "metadata": {
      "needs_background": "light"
     },
     "output_type": "display_data"
    }
   ],
   "source": [
    "sns.kdeplot(sampling_dist)"
   ]
  },
  {
   "cell_type": "code",
   "execution_count": 133,
   "id": "3596aaa2",
   "metadata": {},
   "outputs": [
    {
     "data": {
      "text/plain": [
       "33.351537979999996"
      ]
     },
     "execution_count": 133,
     "metadata": {},
     "output_type": "execute_result"
    }
   ],
   "source": [
    "sampling_dist.mean()"
   ]
  },
  {
   "cell_type": "code",
   "execution_count": 134,
   "id": "7a660479",
   "metadata": {},
   "outputs": [
    {
     "data": {
      "text/plain": [
       "33.29547928134562"
      ]
     },
     "execution_count": 134,
     "metadata": {},
     "output_type": "execute_result"
    }
   ],
   "source": [
    "total_population['Fare'].mean()"
   ]
  },
  {
   "cell_type": "markdown",
   "id": "801211e5",
   "metadata": {},
   "source": [
    "Rather than directly saying that sampling mean will be equal to population , wise thing would be to use interval rather than a point value"
   ]
  },
  {
   "cell_type": "markdown",
   "id": "fcf87173",
   "metadata": {},
   "source": [
    "we know that sampling distribution variance is sigma^2/n therefore its std will be sigma/root(n) and we know that population std is sigma , to gain population std we will multiply sampling std with root(n)"
   ]
  },
  {
   "cell_type": "code",
   "execution_count": 141,
   "id": "ea422496",
   "metadata": {},
   "outputs": [
    {
     "name": "stdout",
     "output_type": "stream",
     "text": [
      "Population mean:33.29547928134562\n",
      "Population std:51.75866823917414\n",
      "\n",
      "\n",
      "Sampling Distribtion mean:33.351537979999996\n",
      "Sampling Distribtion std:53.998336500122136\n"
     ]
    }
   ],
   "source": [
    "print(f\"Population mean:{total_population['Fare'].mean()}\")\n",
    "print(f\"Population std:{total_population['Fare'].std()}\")\n",
    "print(\"\\n\")\n",
    "print(f\"Sampling Distribtion mean:{sampling_dist.mean()}\")\n",
    "print(f\"Sampling Distribtion std:{sampling_dist.std()*np.sqrt(50)}\")"
   ]
  },
  {
   "cell_type": "code",
   "execution_count": 159,
   "id": "076515c1",
   "metadata": {},
   "outputs": [],
   "source": [
    "# finding interval with 95% confidence(since our distribution is normal we kow that within 2 std 95 percent data will fall)"
   ]
  },
  {
   "cell_type": "code",
   "execution_count": 154,
   "id": "a8f159a6",
   "metadata": {},
   "outputs": [],
   "source": [
    "lower_limit = sampling_dist.mean() - 2*sampling_dist.std()/np.sqrt(50)\n",
    "upper_limit = sampling_dist.mean() + 2*sampling_dist.std()/np.sqrt(50)"
   ]
  },
  {
   "cell_type": "code",
   "execution_count": 158,
   "id": "0539db63",
   "metadata": {},
   "outputs": [
    {
     "name": "stdout",
     "output_type": "stream",
     "text": [
      " Interval - (31.19160451999511 - 35.51147144000488)\n"
     ]
    }
   ],
   "source": [
    "print(f\" Interval - ({lower_limit} - {upper_limit})\")"
   ]
  }
 ],
 "metadata": {
  "kernelspec": {
   "display_name": "Python 3 (ipykernel)",
   "language": "python",
   "name": "python3"
  },
  "language_info": {
   "codemirror_mode": {
    "name": "ipython",
    "version": 3
   },
   "file_extension": ".py",
   "mimetype": "text/x-python",
   "name": "python",
   "nbconvert_exporter": "python",
   "pygments_lexer": "ipython3",
   "version": "3.9.12"
  }
 },
 "nbformat": 4,
 "nbformat_minor": 5
}
