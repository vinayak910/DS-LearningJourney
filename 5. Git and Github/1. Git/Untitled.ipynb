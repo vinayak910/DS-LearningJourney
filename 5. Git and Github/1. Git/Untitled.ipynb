{
 "cells": [
  {
   "cell_type": "markdown",
   "id": "6938f548",
   "metadata": {},
   "source": [
    "**What is GIT**?\n",
    "- Git is a distributed version control system"
   ]
  },
  {
   "cell_type": "markdown",
   "id": "747968cd",
   "metadata": {},
   "source": [
    "**VCS/SCM?**\n",
    "- VCS - Version Control Sytem\n",
    "- SCM - Source code management"
   ]
  },
  {
   "cell_type": "markdown",
   "id": "19d72b73",
   "metadata": {},
   "source": [
    "- Developers develops software version by version , in this process by which you control all these versions is called VCS/SCM\n",
    "- one of the VCS/SCM is git"
   ]
  },
  {
   "cell_type": "markdown",
   "id": "f9b61803",
   "metadata": {},
   "source": [
    "**Why git/vcs needed?**\n",
    "- to take snapshots of our software in different time/timestamp\n",
    "- so in next version if something goes wrong we can roll back to previous stage/version using git/vcs\n",
    "- one of the common example for this is google drive /  microsoft word"
   ]
  },
  {
   "cell_type": "markdown",
   "id": "9a5e4962",
   "metadata": {},
   "source": [
    "**Types of VCS**\n",
    "- **Centralized**\n",
    "    - source code of the software is in the centre (on a single machine) , and all the other machines communicate with this for changes\n",
    "- **Distributed**\n",
    "    - source code is available to every machine"
   ]
  },
  {
   "cell_type": "markdown",
   "id": "31620198",
   "metadata": {},
   "source": [
    "**Advantages**\n",
    "- Version Control\n",
    "- Bug Fixing\n",
    "- doing non linear development\n",
    "- collaborative development"
   ]
  },
  {
   "cell_type": "markdown",
   "id": "7b1ce22c",
   "metadata": {},
   "source": [
    "**Using git(creating our own repositary) -**\n",
    "- install git\n",
    "- create an empty folder\n",
    "- right click and open with git bash\n",
    "- cmd like thing will open\n",
    "- initialize empty git repositary (using git init) on git bash - meaning now you will be able to snapshots the code using git\n",
    "\n"
   ]
  },
  {
   "cell_type": "markdown",
   "id": "4f20b468",
   "metadata": {},
   "source": [
    "**cloning someone else repo**\n",
    "- steps - \n",
    "    1. Open repositary of someone else\n",
    "    2. click on code and copy the link of https\n",
    "    3. Open git bash where you want to copy the repositart\n",
    "    4. git clone **paste the url**\n",
    "    5. you will be able to find that folder and files"
   ]
  },
  {
   "cell_type": "markdown",
   "id": "d3b18d51",
   "metadata": {},
   "source": [
    "**Git status**\n",
    "- tell the current status of your repositary\n",
    "- git status on your git demo \n",
    "    - meaning of sentences\n",
    "        - No commits yet - No snapshots taken yet\n",
    "        - Nothing to commit - No things to take snapshot\n",
    "        \n",
    "- git status on your downloaded repositary\n",
    "    - meaning of sentences\n",
    "        - Your branch is up to date with 'origin/main' - the code on local machine and the code on github are same.\n"
   ]
  },
  {
   "cell_type": "markdown",
   "id": "01041527",
   "metadata": {},
   "source": [
    "**focusing on our own project(git demo app)**\n",
    "- open that folder with pycharm\n",
    "- creating a file app.py\n",
    "    - writing code inside it\n",
    "    - want to take snapshot of the project(use cmds)\n",
    "        - git status\n",
    "        - ------sentences------- \n",
    "        - No commits yet(no screenshot taken yet)\n",
    "        - Untracked files( app.py , .idea)\n",
    "        - -------------------------------\n",
    "        - make them track by taking untrack files into the staging area from working directory using **git add app.py**\n",
    "        - check git status again -\n",
    "        - ---------Sentences--------------\n",
    "        - changes to be commited file name - app.py(staging area)\n",
    "        - untracked files - .idea \n",
    "        - -----------------------------------------\n",
    "        - do same for .idea file , since they both are in the staging area , now they are ready to be commited(which mean screenshot will be taken of your current project state)\n",
    "        - use command **git commit -m (message)**\n",
    "        - first screenshot taken successfully\n",
    "        \n",
    "            "
   ]
  },
  {
   "cell_type": "markdown",
   "id": "aa228a53",
   "metadata": {},
   "source": [
    "1. When to commit?\n",
    "- based on common sense/intuition - maybe Whenever you are done with the single independent features , dont commit multiple features\n",
    "2. commit message -\n",
    "- shosrt and simple ex - \n",
    "- add login functionality to the message"
   ]
  },
  {
   "cell_type": "markdown",
   "id": "b0955d46",
   "metadata": {},
   "source": [
    "**git add .**\n",
    "- add all the files to staging level\n",
    "- now there are some files maybe you don't want to add to the staging level or commit\n",
    "- to prevent this make a file by the name of `*.gitignore*` and include the file name that you don't wanna trace\n"
   ]
  },
  {
   "cell_type": "markdown",
   "id": "b1bec289",
   "metadata": {},
   "source": [
    "**Seeing Commits**\n",
    "- git log command \n",
    "- git log --oneline: provide summary in few lines\n",
    "- git log --stat - extra info\n",
    "- git log -p --- also show the code which is changed of all commit \n",
    "- git show (unique addredd of each commit) \n",
    "- benefit of show - show code but not of all commit , you chose which code you want to see using unique add of commit\n",
    "- red line shows the code is removed"
   ]
  },
  {
   "cell_type": "markdown",
   "id": "45868add",
   "metadata": {},
   "source": [
    "**diff**\n",
    "- using diff you can see the lines which are removed even without the commit or adding to the staging level"
   ]
  },
  {
   "cell_type": "markdown",
   "id": "96ccdd5c",
   "metadata": {},
   "source": [
    "**Creating versions of software**\n",
    "- example 3.2.1 => X.Y.Z\n",
    "- X - major version/major change used for making major and backward incompatible changes\n",
    "- Y - The minor version , used for adding functionality while maintaining backwards compatibility\n",
    "- Z - the patch version , used for making small bug fixes while maintaining backwards compatibility"
   ]
  },
  {
   "cell_type": "markdown",
   "id": "8ed34b26",
   "metadata": {},
   "source": [
    "When you feel your website or software is complete you can add tag to make this different versions of software. \n",
    "example after adding multiple commits you feel , now the software is ready you can add tag to that last commit ex 1.0.0 , and if add other commits they will be after that version only."
   ]
  },
  {
   "cell_type": "markdown",
   "id": "c8958b68",
   "metadata": {},
   "source": [
    "git tag -a v1.0.0 (tage name)\n",
    "- after that it will take you to vim editor for writing message for this version , esc then write `:wq' to save this version\n",
    "- now check the tag/version using git log"
   ]
  },
  {
   "cell_type": "markdown",
   "id": "8463eb5a",
   "metadata": {},
   "source": [
    "**delete tag**\n",
    "\n",
    "- git tag -d (tagname)"
   ]
  },
  {
   "cell_type": "markdown",
   "id": "04380b81",
   "metadata": {},
   "source": [
    "you can also add tag to previous commit using shaw(unique address)\n",
    "- cmd - git tag -a (version name) (unique address)"
   ]
  },
  {
   "cell_type": "markdown",
   "id": "994e0f1e",
   "metadata": {},
   "source": [
    "Working in non linear flow\n",
    "- by non linear flow ex - one team making code for registeration , one making for login , so they are working parallely"
   ]
  },
  {
   "cell_type": "code",
   "execution_count": null,
   "id": "db800283",
   "metadata": {},
   "outputs": [],
   "source": []
  }
 ],
 "metadata": {
  "kernelspec": {
   "display_name": "Python 3 (ipykernel)",
   "language": "python",
   "name": "python3"
  },
  "language_info": {
   "codemirror_mode": {
    "name": "ipython",
    "version": 3
   },
   "file_extension": ".py",
   "mimetype": "text/x-python",
   "name": "python",
   "nbconvert_exporter": "python",
   "pygments_lexer": "ipython3",
   "version": "3.9.12"
  }
 },
 "nbformat": 4,
 "nbformat_minor": 5
}
