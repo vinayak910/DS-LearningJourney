{
 "cells": [
  {
   "cell_type": "markdown",
   "id": "f5fa999f",
   "metadata": {},
   "source": [
    "## NON Linear Development\n",
    "- when you want to develop software parallely ex- \n",
    "- lets say you are done with 3 features commit by commit\n",
    "- you hired a extra developer , where you will be working on 1 feature and the developer will be working on other.\n",
    "- now when they are developing software parallely and separately is known a Branching.\n",
    "- after making these features now you need to merge them , hence called merging"
   ]
  },
  {
   "cell_type": "markdown",
   "id": "6dc366c3",
   "metadata": {},
   "source": [
    "When initalize git , you already have a branch called main.\n",
    "- to see use command git log , you will see there head=> main , here main is the branch.\n",
    "- now what is this called head?\n",
    "- Head:reference to the most recent commit in the current branch. This means head is just a pointer that keeps track of the lastest commit in your branch"
   ]
  },
  {
   "cell_type": "markdown",
   "id": "dac9e9b7",
   "metadata": {},
   "source": [
    "### Branching"
   ]
  },
  {
   "cell_type": "markdown",
   "id": "ecb28b7c",
   "metadata": {},
   "source": [
    "**Creating branch on head**\n",
    "- cmd: git branch branch_name\n",
    "- cmd for showing branches: git branch\n",
    "- one is main and second is sidebar\n",
    "- check in which branch you are in : using * "
   ]
  },
  {
   "cell_type": "markdown",
   "id": "a3eab7a2",
   "metadata": {},
   "source": [
    "**Creating branch on the past commit**\n",
    "- branch name - error fix\n",
    "- cmd:git branch error-fix shaw of past commit"
   ]
  },
  {
   "cell_type": "markdown",
   "id": "2d6936ec",
   "metadata": {},
   "source": [
    "**Switch between branches**\n",
    "- cmd: git checkout branch_name----- where you want to go"
   ]
  },
  {
   "cell_type": "markdown",
   "id": "1f4d1f61",
   "metadata": {},
   "source": [
    "**see all branches at once**\n",
    "- cmd:git log --oneline --all\n",
    "- cmd: git log --oneline --all --graph"
   ]
  },
  {
   "cell_type": "markdown",
   "id": "a50b172c",
   "metadata": {},
   "source": [
    "**deleting branches**\n",
    "- cmd: git branch -d branch_name\n",
    "- but you can't delete branch unless and until it is merged\n",
    "- but if you want to delete it still replace small d with capital\n",
    "- also note you cant delete the branch where you are at."
   ]
  },
  {
   "cell_type": "markdown",
   "id": "60e076b3",
   "metadata": {},
   "source": [
    "### Merging"
   ]
  },
  {
   "cell_type": "markdown",
   "id": "3bb866e1",
   "metadata": {},
   "source": [
    "The work that is done parallely is merged together logically to make a common code "
   ]
  },
  {
   "cell_type": "markdown",
   "id": "57dd8b12",
   "metadata": {},
   "source": [
    "**What happens at merging?**\n",
    "- new commit is created on merging\n",
    "- look at the branches that its going to merge\n",
    "- look back along the branch history to find a single commit that branches have in their commit history\n",
    "- combine the lines of code that were changed on the separate branches together.\n",
    "- Note: Merging happens at the checked out branch. no New branches are created"
   ]
  },
  {
   "cell_type": "markdown",
   "id": "f947fd87",
   "metadata": {},
   "source": [
    "**Types of merging**\n",
    "- `fast forward merging`:\n",
    "    - When one branch is in other path , but the other is at the same location now what will happen?\n",
    "    - so the branch which is at same location which it was at , it will will move forward and the reach where the other branch currently is.\n",
    "- `Regular Merging`:\n",
    "    - when both the branches are moving in their direction and after both branch work is complete then it is merged is called regular merging"
   ]
  },
  {
   "cell_type": "markdown",
   "id": "0c32a287",
   "metadata": {},
   "source": [
    "fast forward merging\n",
    "- so what i did is created a branch by name sidebar\n",
    "- did to commits to sidebar branch\n",
    "- now the main branch is behind .\n",
    "- so to merge first i checkout to main branch , and then use cmd: **git merge sidebar**\n",
    "- now the main, head , and sidebar at same place."
   ]
  },
  {
   "cell_type": "markdown",
   "id": "43e9ac5e",
   "metadata": {},
   "source": [
    "Regular Merging\n",
    "- so what i did is in main i changes the title to Nitish sir best teacher\n",
    "- and in the sidebar branch i added a dropdown of teacher and student'\n",
    "- work is done at both the branches \n",
    "- now i want to do the merging on the master\n",
    "- so you need to checkout to master \n",
    "- now to do merging use cmd: **git merge sidebar**\n",
    "- vim editor will be opened write `:wq` to continue the merge\n",
    "- now the merge is done"
   ]
  },
  {
   "cell_type": "markdown",
   "id": "067a96a1",
   "metadata": {},
   "source": [
    "**What is merge conflict?**\n",
    "- at same place the code is different in different branches , so git will get confuse\n",
    "- so when merged git will show something in the codebase\n",
    "- `(<<<<<< Head)` everything below this line(until the next indicator) is code of current branch\n",
    "- `(=====)` is the end of the original lines , everything follows(until the next indicator) is what's on the branch that's being merged in \n",
    "- `(>>>>>> heading-update)` is the ending indicator of what's on the branch that's being mergin in \n",
    "\n",
    "- Resolving conflicts\n",
    "- remove the code that you don't want after doig the meeting and resolving issues\n",
    "- and also remove the special characters that were shown by git\n",
    "- now  you don't need to merge , you just have to commit"
   ]
  },
  {
   "cell_type": "markdown",
   "id": "9966db19",
   "metadata": {},
   "source": [
    "**Working with remote repo**\n",
    "- Create a new repositary \n",
    "- use cmd: git remote add origin `<url>` on local git bash to link between the online github repositary and local git\n",
    "- now push the local git to github using cmd: `git push origin main`\n",
    "- now lets in local you create another file readme\n",
    "- and commit it\n",
    "- now check git log graph command you will see the remote repo is left behind , which means locally there is some code which isn't on github ie means we need to push the code to github\n",
    "- now use cmd: git push origin main to push the code to the github"
   ]
  },
  {
   "cell_type": "markdown",
   "id": "1559ea7e",
   "metadata": {},
   "source": [
    "Now lets say there is another programmer which did changes to github , now since local one is left behind so i need to pull the latest code from github \n",
    "- use cmd: **git pull origin main**"
   ]
  },
  {
   "cell_type": "code",
   "execution_count": null,
   "id": "a6931062",
   "metadata": {},
   "outputs": [],
   "source": []
  }
 ],
 "metadata": {
  "kernelspec": {
   "display_name": "Python 3 (ipykernel)",
   "language": "python",
   "name": "python3"
  },
  "language_info": {
   "codemirror_mode": {
    "name": "ipython",
    "version": 3
   },
   "file_extension": ".py",
   "mimetype": "text/x-python",
   "name": "python",
   "nbconvert_exporter": "python",
   "pygments_lexer": "ipython3",
   "version": "3.9.12"
  }
 },
 "nbformat": 4,
 "nbformat_minor": 5
}
