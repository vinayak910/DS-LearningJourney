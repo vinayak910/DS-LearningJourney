{
 "cells": [
  {
   "cell_type": "code",
   "execution_count": 1,
   "id": "b40fefb7",
   "metadata": {},
   "outputs": [],
   "source": [
    "from flask import Flask , render_template , request , jsonify\n",
    "from flask_cors import CORS,cross_origin\n",
    "import requests\n",
    "from bs4 import BeautifulSoup\n",
    "import logging"
   ]
  },
  {
   "cell_type": "code",
   "execution_count": 123,
   "id": "7af4c441",
   "metadata": {},
   "outputs": [],
   "source": [
    "search = \"iphone13\"\n",
    "flipkart_url = \"https://www.flipkart.com/search?q={}\".format(search)\n",
    "webpage = requests.get(flipkart_url).text\n",
    "soup=BeautifulSoup(webpage,'lxml')\n",
    "prod_link = \"https://www.flipkart.com/apple-iphone-14-pro-space-black-512-gb/p/itm67843bf67dbae?pid=MOBGHWFHH9JVZK6Z&lid=LSTMOBGHWFHH9JVZK6ZJ4HT4L&marketplace=FLIPKART&q=iphone+14+pro&store=tyy%2F4io&srno=s_1_1&otracker=AS_QueryStore_OrganicAutoSuggest_1_8_na_na_ps&otracker1=AS_QueryStore_OrganicAutoSuggest_1_8_na_na_ps&fm=search-autosuggest&iid=ae4bc597-159c-46fc-a17b-00ef2ce15046.MOBGHWFHH9JVZK6Z.SEARCH&ppt=sp&ppn=sp&ssid=cc1y8fhc4w0000001698056878620&qH=73a41d19c3188cc2\"\n",
    "subpage = requests.get(prod_link).text\n",
    "subsoup = BeautifulSoup(subpage,'lxml')\n",
    "all_reviews = requests.get('https://www.flipkart.com' + subsoup.find_all('div',class_=\"col JOpGWq\")[0].find('a')['href']).text\n",
    "all_reviews = BeautifulSoup(all_reviews , 'lxml')\n",
    "final_page = \"https://www.flipkart.com\" + all_reviews.find_all('div',class_=\"_33iqLu\")[0].find_all('a')[0]['href']\n",
    "final_page = requests.get(final_page).text\n",
    "final = BeautifulSoup(final_page,'lxml')\n",
    "reviews = final.find_all('div',class_=\"col _2wzgFH K0kLPL\")\n",
    "ratings = []\n",
    "review_head = []\n",
    "desc = []\n",
    "buyer = []\n",
    "for div in reviews:\n",
    "    ratings.append(div.find_all('div',class_=\"_3LWZlK _1BLPMq\")[0].text)\n",
    "    review_head.append(div.find_all('p',class_=\"_2-N8zT\")[0].text)\n",
    "    desc.append(div.find_all('div',class_=\"t-ZTKy\")[0].text.split(\"READ MORE\")[0])\n",
    "    buyer.append(div.find_all('p',class_=\"_2sc7ZR _2V5EHH\")[0].text)\n",
    "d = {'Buyer':buyer,'Ratings':ratings,'Reviews':review_head,'Description':desc}\n",
    "df = pd.DataFrame(d)"
   ]
  },
  {
   "cell_type": "code",
   "execution_count": 124,
   "id": "be156cf0",
   "metadata": {},
   "outputs": [
    {
     "data": {
      "text/html": [
       "<div>\n",
       "<style scoped>\n",
       "    .dataframe tbody tr th:only-of-type {\n",
       "        vertical-align: middle;\n",
       "    }\n",
       "\n",
       "    .dataframe tbody tr th {\n",
       "        vertical-align: top;\n",
       "    }\n",
       "\n",
       "    .dataframe thead th {\n",
       "        text-align: right;\n",
       "    }\n",
       "</style>\n",
       "<table border=\"1\" class=\"dataframe\">\n",
       "  <thead>\n",
       "    <tr style=\"text-align: right;\">\n",
       "      <th></th>\n",
       "      <th>Buyer</th>\n",
       "      <th>Ratings</th>\n",
       "      <th>Reviews</th>\n",
       "      <th>Description</th>\n",
       "    </tr>\n",
       "  </thead>\n",
       "  <tbody>\n",
       "    <tr>\n",
       "      <th>0</th>\n",
       "      <td>Salman khan</td>\n",
       "      <td>5</td>\n",
       "      <td>Brilliant</td>\n",
       "      <td>Just WOW!! Best in all segment!!</td>\n",
       "    </tr>\n",
       "    <tr>\n",
       "      <th>1</th>\n",
       "      <td>Flipkart Customer</td>\n",
       "      <td>5</td>\n",
       "      <td>Worth every penny</td>\n",
       "      <td>CAMERA IS SUPERB</td>\n",
       "    </tr>\n",
       "    <tr>\n",
       "      <th>2</th>\n",
       "      <td>Pratik Raj</td>\n",
       "      <td>5</td>\n",
       "      <td>Best in the market!</td>\n",
       "      <td>Superb performance and well.</td>\n",
       "    </tr>\n",
       "    <tr>\n",
       "      <th>3</th>\n",
       "      <td>Ashutosh Gupta</td>\n",
       "      <td>5</td>\n",
       "      <td>Great product</td>\n",
       "      <td>Camera Awesome and overall mobile look is Cool</td>\n",
       "    </tr>\n",
       "    <tr>\n",
       "      <th>4</th>\n",
       "      <td>Subham Roy</td>\n",
       "      <td>5</td>\n",
       "      <td>Must buy!</td>\n",
       "      <td>Awesome 😎🍫🥰</td>\n",
       "    </tr>\n",
       "    <tr>\n",
       "      <th>5</th>\n",
       "      <td>Dr Ch Ravi Shanker</td>\n",
       "      <td>5</td>\n",
       "      <td>Brilliant</td>\n",
       "      <td>Awesome iPhone with best camera quality 48 meg...</td>\n",
       "    </tr>\n",
       "    <tr>\n",
       "      <th>6</th>\n",
       "      <td>Rohith Menon</td>\n",
       "      <td>5</td>\n",
       "      <td>Simply awesome</td>\n",
       "      <td>Best ❤️🔥🔥</td>\n",
       "    </tr>\n",
       "    <tr>\n",
       "      <th>7</th>\n",
       "      <td>Flipkart Customer</td>\n",
       "      <td>5</td>\n",
       "      <td>Highly recommended</td>\n",
       "      <td>Excellent product awesome camera super fast</td>\n",
       "    </tr>\n",
       "    <tr>\n",
       "      <th>8</th>\n",
       "      <td>Rishabh Srivastava</td>\n",
       "      <td>5</td>\n",
       "      <td>Highly recommended</td>\n",
       "      <td>Just Awesome Best phone forever and Good Gamin...</td>\n",
       "    </tr>\n",
       "    <tr>\n",
       "      <th>9</th>\n",
       "      <td>Flipkart Customer</td>\n",
       "      <td>5</td>\n",
       "      <td>Brilliant</td>\n",
       "      <td>My first iPhone.. And full satisfied..</td>\n",
       "    </tr>\n",
       "  </tbody>\n",
       "</table>\n",
       "</div>"
      ],
      "text/plain": [
       "                 Buyer Ratings              Reviews  \\\n",
       "0          Salman khan       5            Brilliant   \n",
       "1    Flipkart Customer       5    Worth every penny   \n",
       "2           Pratik Raj       5  Best in the market!   \n",
       "3       Ashutosh Gupta       5        Great product   \n",
       "4           Subham Roy       5            Must buy!   \n",
       "5  Dr Ch Ravi Shanker        5            Brilliant   \n",
       "6         Rohith Menon       5       Simply awesome   \n",
       "7    Flipkart Customer       5   Highly recommended   \n",
       "8   Rishabh Srivastava       5   Highly recommended   \n",
       "9    Flipkart Customer       5            Brilliant   \n",
       "\n",
       "                                         Description  \n",
       "0                   Just WOW!! Best in all segment!!  \n",
       "1                                   CAMERA IS SUPERB  \n",
       "2                       Superb performance and well.  \n",
       "3     Camera Awesome and overall mobile look is Cool  \n",
       "4                                        Awesome 😎🍫🥰  \n",
       "5  Awesome iPhone with best camera quality 48 meg...  \n",
       "6                                          Best ❤️🔥🔥  \n",
       "7        Excellent product awesome camera super fast  \n",
       "8  Just Awesome Best phone forever and Good Gamin...  \n",
       "9             My first iPhone.. And full satisfied..  "
      ]
     },
     "execution_count": 124,
     "metadata": {},
     "output_type": "execute_result"
    }
   ],
   "source": [
    "df"
   ]
  },
  {
   "cell_type": "code",
   "execution_count": 81,
   "id": "958f9999",
   "metadata": {},
   "outputs": [
    {
     "data": {
      "text/plain": [
       "'/apple-iphone-14-pro-space-black-512-gb/product-reviews/itm67843bf67dbae?pid=MOBGHWFHH9JVZK6Z&lid=LSTMOBGHWFHH9JVZK6ZJ4HT4L&aid=dc0f2b2d-7619-44cc-b5fc-2fe3e4d453a7&mid=FLIPKART&fid=c9db2591-df3e-4ce0-897b-a46fb68e9c82.MOBGHWFHH9JVZK6Z&an=Camera&cat=Mobile&vert=Handset'"
      ]
     },
     "execution_count": 81,
     "metadata": {},
     "output_type": "execute_result"
    }
   ],
   "source": [
    "subsoup.find_all('div',class_=\"col JOpGWq\")[0].find('a')['href']"
   ]
  },
  {
   "cell_type": "code",
   "execution_count": 97,
   "id": "157dbe2d",
   "metadata": {},
   "outputs": [],
   "source": [
    "all_reviews = requests.get('https://www.flipkart.com' + subsoup.find_all('div',class_=\"col JOpGWq\")[0].find('a')['href']).text"
   ]
  },
  {
   "cell_type": "code",
   "execution_count": 98,
   "id": "fbf640c3",
   "metadata": {},
   "outputs": [],
   "source": [
    "all_reviews = BeautifulSoup(all_reviews , 'lxml')"
   ]
  },
  {
   "cell_type": "code",
   "execution_count": 104,
   "id": "6546c019",
   "metadata": {},
   "outputs": [
    {
     "data": {
      "text/plain": [
       "'/apple-iphone-14-pro-space-black-512-gb/product-reviews/itm67843bf67dbae?pid=MOBGHWFHH9JVZK6Z&lid=LSTMOBGHWFHH9JVZK6ZJ4HT4L&sortOrder=MOST_HELPFUL&certifiedBuyer=false&aid=overall'"
      ]
     },
     "execution_count": 104,
     "metadata": {},
     "output_type": "execute_result"
    }
   ],
   "source": [
    "all_reviews.find_all('div',class_=\"_33iqLu\")[0].find_all('a')[0]['href']"
   ]
  },
  {
   "cell_type": "code",
   "execution_count": 106,
   "id": "c16a375c",
   "metadata": {
    "scrolled": true
   },
   "outputs": [
    {
     "name": "stdout",
     "output_type": "stream",
     "text": [
      "https://www.flipkart.com/apple-iphone-14-pro-space-black-512-gb/product-reviews/itm67843bf67dbae?pid=MOBGHWFHH9JVZK6Z&lid=LSTMOBGHWFHH9JVZK6ZJ4HT4L&sortOrder=MOST_HELPFUL&certifiedBuyer=false&aid=overall\n"
     ]
    }
   ],
   "source": [
    "print(\"https://www.flipkart.com\" + '/apple-iphone-14-pro-space-black-512-gb/product-reviews/itm67843bf67dbae?pid=MOBGHWFHH9JVZK6Z&lid=LSTMOBGHWFHH9JVZK6ZJ4HT4L&sortOrder=MOST_HELPFUL&certifiedBuyer=false&aid=overall')\n"
   ]
  },
  {
   "cell_type": "code",
   "execution_count": 108,
   "id": "4b7841f2",
   "metadata": {},
   "outputs": [],
   "source": [
    "final = requests.get('https://www.flipkart.com/apple-iphone-14-pro-space-black-512-gb/product-reviews/itm67843bf67dbae?pid=MOBGHWFHH9JVZK6Z&lid=LSTMOBGHWFHH9JVZK6ZJ4HT4L&sortOrder=MOST_HELPFUL&certifiedBuyer=false&aid=overall').text"
   ]
  },
  {
   "cell_type": "code",
   "execution_count": 110,
   "id": "0b2e154e",
   "metadata": {},
   "outputs": [],
   "source": [
    "final = BeautifulSoup(final,'lxml')"
   ]
  },
  {
   "cell_type": "code",
   "execution_count": 112,
   "id": "bb805e8b",
   "metadata": {},
   "outputs": [],
   "source": [
    "reviews = final.find_all('div',class_=\"col _2wzgFH K0kLPL\")"
   ]
  },
  {
   "cell_type": "code",
   "execution_count": 113,
   "id": "1c3bc851",
   "metadata": {},
   "outputs": [],
   "source": [
    "ratings = []\n",
    "review_head = []\n",
    "desc = []\n",
    "buyer = []"
   ]
  },
  {
   "cell_type": "code",
   "execution_count": 115,
   "id": "6355636e",
   "metadata": {},
   "outputs": [],
   "source": [
    "import pandas as pd"
   ]
  },
  {
   "cell_type": "code",
   "execution_count": 116,
   "id": "07cdce44",
   "metadata": {},
   "outputs": [],
   "source": [
    "for div in reviews:\n",
    "    ratings.append(div.find_all('div',class_=\"_3LWZlK _1BLPMq\")[0].text)\n",
    "    review_head.append(div.find_all('p',class_=\"_2-N8zT\")[0].text)\n",
    "    desc.append(div.find_all('div',class_=\"t-ZTKy\")[0].text.split(\"READ MORE\")[0])\n",
    "    buyer.append(div.find_all('p',class_=\"_2sc7ZR _2V5EHH\")[0].text)\n",
    "d = {'Buyer':buyer,'Ratings':ratings,'Reviews':review_head,'Description':desc}\n",
    "df = pd.DataFrame(d)"
   ]
  },
  {
   "cell_type": "code",
   "execution_count": 117,
   "id": "479a1d89",
   "metadata": {},
   "outputs": [
    {
     "data": {
      "text/html": [
       "<div>\n",
       "<style scoped>\n",
       "    .dataframe tbody tr th:only-of-type {\n",
       "        vertical-align: middle;\n",
       "    }\n",
       "\n",
       "    .dataframe tbody tr th {\n",
       "        vertical-align: top;\n",
       "    }\n",
       "\n",
       "    .dataframe thead th {\n",
       "        text-align: right;\n",
       "    }\n",
       "</style>\n",
       "<table border=\"1\" class=\"dataframe\">\n",
       "  <thead>\n",
       "    <tr style=\"text-align: right;\">\n",
       "      <th></th>\n",
       "      <th>Buyer</th>\n",
       "      <th>Ratings</th>\n",
       "      <th>Reviews</th>\n",
       "      <th>Description</th>\n",
       "    </tr>\n",
       "  </thead>\n",
       "  <tbody>\n",
       "    <tr>\n",
       "      <th>0</th>\n",
       "      <td>Salman khan</td>\n",
       "      <td>5</td>\n",
       "      <td>Brilliant</td>\n",
       "      <td>Just WOW!! Best in all segment!!</td>\n",
       "    </tr>\n",
       "    <tr>\n",
       "      <th>1</th>\n",
       "      <td>Flipkart Customer</td>\n",
       "      <td>5</td>\n",
       "      <td>Worth every penny</td>\n",
       "      <td>CAMERA IS SUPERB</td>\n",
       "    </tr>\n",
       "    <tr>\n",
       "      <th>2</th>\n",
       "      <td>Pratik Raj</td>\n",
       "      <td>5</td>\n",
       "      <td>Best in the market!</td>\n",
       "      <td>Superb performance and well.</td>\n",
       "    </tr>\n",
       "    <tr>\n",
       "      <th>3</th>\n",
       "      <td>Ashutosh Gupta</td>\n",
       "      <td>5</td>\n",
       "      <td>Great product</td>\n",
       "      <td>Camera Awesome and overall mobile look is Cool</td>\n",
       "    </tr>\n",
       "    <tr>\n",
       "      <th>4</th>\n",
       "      <td>Subham Roy</td>\n",
       "      <td>5</td>\n",
       "      <td>Must buy!</td>\n",
       "      <td>Awesome 😎🍫🥰</td>\n",
       "    </tr>\n",
       "    <tr>\n",
       "      <th>5</th>\n",
       "      <td>Dr Ch Ravi Shanker</td>\n",
       "      <td>5</td>\n",
       "      <td>Brilliant</td>\n",
       "      <td>Awesome iPhone with best camera quality 48 meg...</td>\n",
       "    </tr>\n",
       "    <tr>\n",
       "      <th>6</th>\n",
       "      <td>Rohith Menon</td>\n",
       "      <td>5</td>\n",
       "      <td>Simply awesome</td>\n",
       "      <td>Best ❤️🔥🔥</td>\n",
       "    </tr>\n",
       "    <tr>\n",
       "      <th>7</th>\n",
       "      <td>Flipkart Customer</td>\n",
       "      <td>5</td>\n",
       "      <td>Highly recommended</td>\n",
       "      <td>Excellent product awesome camera super fast</td>\n",
       "    </tr>\n",
       "    <tr>\n",
       "      <th>8</th>\n",
       "      <td>Rishabh Srivastava</td>\n",
       "      <td>5</td>\n",
       "      <td>Highly recommended</td>\n",
       "      <td>Just Awesome Best phone forever and Good Gamin...</td>\n",
       "    </tr>\n",
       "    <tr>\n",
       "      <th>9</th>\n",
       "      <td>Flipkart Customer</td>\n",
       "      <td>5</td>\n",
       "      <td>Brilliant</td>\n",
       "      <td>My first iPhone.. And full satisfied..</td>\n",
       "    </tr>\n",
       "    <tr>\n",
       "      <th>10</th>\n",
       "      <td>Salman khan</td>\n",
       "      <td>5</td>\n",
       "      <td>Brilliant</td>\n",
       "      <td>Just WOW!! Best in all segment!!</td>\n",
       "    </tr>\n",
       "    <tr>\n",
       "      <th>11</th>\n",
       "      <td>Flipkart Customer</td>\n",
       "      <td>5</td>\n",
       "      <td>Worth every penny</td>\n",
       "      <td>CAMERA IS SUPERB</td>\n",
       "    </tr>\n",
       "    <tr>\n",
       "      <th>12</th>\n",
       "      <td>Pratik Raj</td>\n",
       "      <td>5</td>\n",
       "      <td>Best in the market!</td>\n",
       "      <td>Superb performance and well.</td>\n",
       "    </tr>\n",
       "    <tr>\n",
       "      <th>13</th>\n",
       "      <td>Ashutosh Gupta</td>\n",
       "      <td>5</td>\n",
       "      <td>Great product</td>\n",
       "      <td>Camera Awesome and overall mobile look is Cool</td>\n",
       "    </tr>\n",
       "    <tr>\n",
       "      <th>14</th>\n",
       "      <td>Subham Roy</td>\n",
       "      <td>5</td>\n",
       "      <td>Must buy!</td>\n",
       "      <td>Awesome 😎🍫🥰</td>\n",
       "    </tr>\n",
       "    <tr>\n",
       "      <th>15</th>\n",
       "      <td>Dr Ch Ravi Shanker</td>\n",
       "      <td>5</td>\n",
       "      <td>Brilliant</td>\n",
       "      <td>Awesome iPhone with best camera quality 48 meg...</td>\n",
       "    </tr>\n",
       "    <tr>\n",
       "      <th>16</th>\n",
       "      <td>Rohith Menon</td>\n",
       "      <td>5</td>\n",
       "      <td>Simply awesome</td>\n",
       "      <td>Best ❤️🔥🔥</td>\n",
       "    </tr>\n",
       "    <tr>\n",
       "      <th>17</th>\n",
       "      <td>Flipkart Customer</td>\n",
       "      <td>5</td>\n",
       "      <td>Highly recommended</td>\n",
       "      <td>Excellent product awesome camera super fast</td>\n",
       "    </tr>\n",
       "    <tr>\n",
       "      <th>18</th>\n",
       "      <td>Rishabh Srivastava</td>\n",
       "      <td>5</td>\n",
       "      <td>Highly recommended</td>\n",
       "      <td>Just Awesome Best phone forever and Good Gamin...</td>\n",
       "    </tr>\n",
       "    <tr>\n",
       "      <th>19</th>\n",
       "      <td>Flipkart Customer</td>\n",
       "      <td>5</td>\n",
       "      <td>Brilliant</td>\n",
       "      <td>My first iPhone.. And full satisfied..</td>\n",
       "    </tr>\n",
       "  </tbody>\n",
       "</table>\n",
       "</div>"
      ],
      "text/plain": [
       "                  Buyer Ratings              Reviews  \\\n",
       "0           Salman khan       5            Brilliant   \n",
       "1     Flipkart Customer       5    Worth every penny   \n",
       "2            Pratik Raj       5  Best in the market!   \n",
       "3        Ashutosh Gupta       5        Great product   \n",
       "4            Subham Roy       5            Must buy!   \n",
       "5   Dr Ch Ravi Shanker        5            Brilliant   \n",
       "6          Rohith Menon       5       Simply awesome   \n",
       "7     Flipkart Customer       5   Highly recommended   \n",
       "8    Rishabh Srivastava       5   Highly recommended   \n",
       "9     Flipkart Customer       5            Brilliant   \n",
       "10          Salman khan       5            Brilliant   \n",
       "11    Flipkart Customer       5    Worth every penny   \n",
       "12           Pratik Raj       5  Best in the market!   \n",
       "13       Ashutosh Gupta       5        Great product   \n",
       "14           Subham Roy       5            Must buy!   \n",
       "15  Dr Ch Ravi Shanker        5            Brilliant   \n",
       "16         Rohith Menon       5       Simply awesome   \n",
       "17    Flipkart Customer       5   Highly recommended   \n",
       "18   Rishabh Srivastava       5   Highly recommended   \n",
       "19    Flipkart Customer       5            Brilliant   \n",
       "\n",
       "                                          Description  \n",
       "0                    Just WOW!! Best in all segment!!  \n",
       "1                                    CAMERA IS SUPERB  \n",
       "2                        Superb performance and well.  \n",
       "3      Camera Awesome and overall mobile look is Cool  \n",
       "4                                         Awesome 😎🍫🥰  \n",
       "5   Awesome iPhone with best camera quality 48 meg...  \n",
       "6                                           Best ❤️🔥🔥  \n",
       "7         Excellent product awesome camera super fast  \n",
       "8   Just Awesome Best phone forever and Good Gamin...  \n",
       "9              My first iPhone.. And full satisfied..  \n",
       "10                   Just WOW!! Best in all segment!!  \n",
       "11                                   CAMERA IS SUPERB  \n",
       "12                       Superb performance and well.  \n",
       "13     Camera Awesome and overall mobile look is Cool  \n",
       "14                                        Awesome 😎🍫🥰  \n",
       "15  Awesome iPhone with best camera quality 48 meg...  \n",
       "16                                          Best ❤️🔥🔥  \n",
       "17        Excellent product awesome camera super fast  \n",
       "18  Just Awesome Best phone forever and Good Gamin...  \n",
       "19             My first iPhone.. And full satisfied..  "
      ]
     },
     "execution_count": 117,
     "metadata": {},
     "output_type": "execute_result"
    }
   ],
   "source": [
    "df"
   ]
  },
  {
   "cell_type": "code",
   "execution_count": 24,
   "id": "2b4b13ec",
   "metadata": {},
   "outputs": [
    {
     "ename": "IndexError",
     "evalue": "list index out of range",
     "output_type": "error",
     "traceback": [
      "\u001b[1;31m---------------------------------------------------------------------------\u001b[0m",
      "\u001b[1;31mIndexError\u001b[0m                                Traceback (most recent call last)",
      "Input \u001b[1;32mIn [24]\u001b[0m, in \u001b[0;36m<cell line: 10>\u001b[1;34m()\u001b[0m\n\u001b[0;32m      8\u001b[0m all_reviews \u001b[38;5;241m=\u001b[39m requests\u001b[38;5;241m.\u001b[39mget(\u001b[38;5;124m'\u001b[39m\u001b[38;5;124mhttps://www.flipkart.com\u001b[39m\u001b[38;5;124m'\u001b[39m \u001b[38;5;241m+\u001b[39m subsoup\u001b[38;5;241m.\u001b[39mfind_all(\u001b[38;5;124m'\u001b[39m\u001b[38;5;124mdiv\u001b[39m\u001b[38;5;124m'\u001b[39m,class_\u001b[38;5;241m=\u001b[39m\u001b[38;5;124m\"\u001b[39m\u001b[38;5;124mcol JOpGWq\u001b[39m\u001b[38;5;124m\"\u001b[39m)[\u001b[38;5;241m0\u001b[39m]\u001b[38;5;241m.\u001b[39mfind(\u001b[38;5;124m'\u001b[39m\u001b[38;5;124ma\u001b[39m\u001b[38;5;124m'\u001b[39m)[\u001b[38;5;124m'\u001b[39m\u001b[38;5;124mhref\u001b[39m\u001b[38;5;124m'\u001b[39m])\u001b[38;5;241m.\u001b[39mtext\n\u001b[0;32m      9\u001b[0m all_reviews \u001b[38;5;241m=\u001b[39m BeautifulSoup(all_reviews , \u001b[38;5;124m'\u001b[39m\u001b[38;5;124mlxml\u001b[39m\u001b[38;5;124m'\u001b[39m)\n\u001b[1;32m---> 10\u001b[0m final_page \u001b[38;5;241m=\u001b[39m \u001b[38;5;124m\"\u001b[39m\u001b[38;5;124mhttps://www.flipkart.com\u001b[39m\u001b[38;5;124m\"\u001b[39m \u001b[38;5;241m+\u001b[39m \u001b[43mall_reviews\u001b[49m\u001b[38;5;241;43m.\u001b[39;49m\u001b[43mfind_all\u001b[49m\u001b[43m(\u001b[49m\u001b[38;5;124;43m'\u001b[39;49m\u001b[38;5;124;43mdiv\u001b[39;49m\u001b[38;5;124;43m'\u001b[39;49m\u001b[43m,\u001b[49m\u001b[43mclass_\u001b[49m\u001b[38;5;241;43m=\u001b[39;49m\u001b[38;5;124;43m\"\u001b[39;49m\u001b[38;5;124;43m_33iqLu\u001b[39;49m\u001b[38;5;124;43m\"\u001b[39;49m\u001b[43m)\u001b[49m\u001b[43m[\u001b[49m\u001b[38;5;241;43m0\u001b[39;49m\u001b[43m]\u001b[49m\u001b[38;5;241m.\u001b[39mfind_all(\u001b[38;5;124m'\u001b[39m\u001b[38;5;124ma\u001b[39m\u001b[38;5;124m'\u001b[39m)[\u001b[38;5;241m0\u001b[39m][\u001b[38;5;124m'\u001b[39m\u001b[38;5;124mhref\u001b[39m\u001b[38;5;124m'\u001b[39m]\n\u001b[0;32m     11\u001b[0m final_page \u001b[38;5;241m=\u001b[39m requests\u001b[38;5;241m.\u001b[39mget(final_page)\u001b[38;5;241m.\u001b[39mtext\n\u001b[0;32m     12\u001b[0m final \u001b[38;5;241m=\u001b[39m BeautifulSoup(final_page,\u001b[38;5;124m'\u001b[39m\u001b[38;5;124mlxml\u001b[39m\u001b[38;5;124m'\u001b[39m)\n",
      "\u001b[1;31mIndexError\u001b[0m: list index out of range"
     ]
    }
   ],
   "source": [
    "search = \"iphone13\"\n",
    "flipkart_url = \"https://www.flipkart.com/search?q={}\".format(search)\n",
    "webpage = requests.get(flipkart_url).text\n",
    "soup=BeautifulSoup(webpage,'lxml')\n",
    "prod_link = 'https://www.flipkart.com' + soup.find_all('div' , class_=\"_2kHMtA\")[0].find('a' , class_=\"_1fQZEK\")['href']\n",
    "subpage = requests.get(prod_link).text\n",
    "subsoup = BeautifulSoup(subpage , 'lxml')\n",
    "all_reviews = requests.get('https://www.flipkart.com' + subsoup.find_all('div',class_=\"col JOpGWq\")[0].find('a')['href']).text\n",
    "all_reviews = BeautifulSoup(all_reviews , 'lxml')\n",
    "final_page = \"https://www.flipkart.com\" + all_reviews.find_all('div',class_=\"_33iqLu\")[0].find_all('a')[0]['href']\n",
    "final_page = requests.get(final_page).text\n",
    "final = BeautifulSoup(final_page,'lxml')\n",
    "reviews_page = final.find_all('div',class_=\"col _2wzgFH K0kLPL\")\n",
    "ratings = []\n",
    "review_head = []\n",
    "desc = []\n",
    "buyer = []\n",
    "for div in reviews_page :\n",
    "    try:\n",
    "        buyer.append(div.find_all('p',class_=\"_2sc7ZR _2V5EHH\")[0].text)\n",
    "    except:\n",
    "        logging.info(\"name\")\n",
    "    try:\n",
    "        ratings.append(div.find_all('div',class_=\"_3LWZlK _1BLPMq\")[0].text)\n",
    "\n",
    "    except:\n",
    "        logging.info(\"rating\")\n",
    "\n",
    "    try:\n",
    "        desc.append(div.find_all('div',class_=\"t-ZTKy\")[0].text.split(\"READ MORE\")[0])\n",
    "    except:\n",
    "        logging.info(\"Description\")\n",
    "    try:\n",
    "        review_head.append(div.find_all('p',class_=\"_2-N8zT\")[0].text)\n",
    "    except:\n",
    "        logging.info(\"Review head\")\n",
    "\n",
    "d = {'Buyer':buyer,'Ratings':ratings,'Reviews':review_head,'Description':desc}\n",
    "df = pd.DataFrame(d)"
   ]
  },
  {
   "cell_type": "code",
   "execution_count": 128,
   "id": "22fe2938",
   "metadata": {},
   "outputs": [
    {
     "data": {
      "text/html": [
       "<div>\n",
       "<style scoped>\n",
       "    .dataframe tbody tr th:only-of-type {\n",
       "        vertical-align: middle;\n",
       "    }\n",
       "\n",
       "    .dataframe tbody tr th {\n",
       "        vertical-align: top;\n",
       "    }\n",
       "\n",
       "    .dataframe thead th {\n",
       "        text-align: right;\n",
       "    }\n",
       "</style>\n",
       "<table border=\"1\" class=\"dataframe\">\n",
       "  <thead>\n",
       "    <tr style=\"text-align: right;\">\n",
       "      <th></th>\n",
       "      <th>Buyer</th>\n",
       "      <th>Ratings</th>\n",
       "      <th>Reviews</th>\n",
       "      <th>Description</th>\n",
       "    </tr>\n",
       "  </thead>\n",
       "  <tbody>\n",
       "    <tr>\n",
       "      <th>0</th>\n",
       "      <td>Arnab Das</td>\n",
       "      <td>5</td>\n",
       "      <td>Perfect product!</td>\n",
       "      <td>Awesome battery backup amazing camera, a all d...</td>\n",
       "    </tr>\n",
       "    <tr>\n",
       "      <th>1</th>\n",
       "      <td>Badri Bishal  Pratihari</td>\n",
       "      <td>5</td>\n",
       "      <td>Perfect product!</td>\n",
       "      <td>Love this phone..... 😍</td>\n",
       "    </tr>\n",
       "    <tr>\n",
       "      <th>2</th>\n",
       "      <td>Flipkart Customer</td>\n",
       "      <td>5</td>\n",
       "      <td>Terrific</td>\n",
       "      <td>Happy to have this phone</td>\n",
       "    </tr>\n",
       "    <tr>\n",
       "      <th>3</th>\n",
       "      <td>Prasenjit Bar</td>\n",
       "      <td>4</td>\n",
       "      <td>Nice product</td>\n",
       "      <td>Best phone for day to day use and photography/...</td>\n",
       "    </tr>\n",
       "    <tr>\n",
       "      <th>4</th>\n",
       "      <td>Ajay Kr</td>\n",
       "      <td>5</td>\n",
       "      <td>Worth every penny</td>\n",
       "      <td>Awesome camera..I m love  it</td>\n",
       "    </tr>\n",
       "    <tr>\n",
       "      <th>5</th>\n",
       "      <td>Pushpita Mayra</td>\n",
       "      <td>5</td>\n",
       "      <td>Must buy!</td>\n",
       "      <td>Awesome phone Excellent camera quality</td>\n",
       "    </tr>\n",
       "    <tr>\n",
       "      <th>6</th>\n",
       "      <td>Shivang Palyal</td>\n",
       "      <td>5</td>\n",
       "      <td>Classy product</td>\n",
       "      <td>This is awosome .. camera is best . Here some ...</td>\n",
       "    </tr>\n",
       "    <tr>\n",
       "      <th>7</th>\n",
       "      <td>Nikil Ojha</td>\n",
       "      <td>5</td>\n",
       "      <td>Highly recommended</td>\n",
       "      <td>Nice upgrade!!Design superCamera is decentPerf...</td>\n",
       "    </tr>\n",
       "    <tr>\n",
       "      <th>8</th>\n",
       "      <td>Sachin Saini</td>\n",
       "      <td>4</td>\n",
       "      <td>Really Nice</td>\n",
       "      <td>My first I phone ..from a long time android us...</td>\n",
       "    </tr>\n",
       "    <tr>\n",
       "      <th>9</th>\n",
       "      <td>Flipkart Customer</td>\n",
       "      <td>5</td>\n",
       "      <td>Awesome</td>\n",
       "      <td>Best of best</td>\n",
       "    </tr>\n",
       "  </tbody>\n",
       "</table>\n",
       "</div>"
      ],
      "text/plain": [
       "                      Buyer Ratings             Reviews  \\\n",
       "0                 Arnab Das       5    Perfect product!   \n",
       "1  Badri Bishal  Pratihari        5    Perfect product!   \n",
       "2         Flipkart Customer       5            Terrific   \n",
       "3             Prasenjit Bar       4        Nice product   \n",
       "4                   Ajay Kr       5   Worth every penny   \n",
       "5            Pushpita Mayra       5           Must buy!   \n",
       "6            Shivang Palyal       5      Classy product   \n",
       "7                Nikil Ojha       5  Highly recommended   \n",
       "8              Sachin Saini       4         Really Nice   \n",
       "9         Flipkart Customer       5             Awesome   \n",
       "\n",
       "                                         Description  \n",
       "0  Awesome battery backup amazing camera, a all d...  \n",
       "1                             Love this phone..... 😍  \n",
       "2                           Happy to have this phone  \n",
       "3  Best phone for day to day use and photography/...  \n",
       "4                       Awesome camera..I m love  it  \n",
       "5             Awesome phone Excellent camera quality  \n",
       "6  This is awosome .. camera is best . Here some ...  \n",
       "7  Nice upgrade!!Design superCamera is decentPerf...  \n",
       "8  My first I phone ..from a long time android us...  \n",
       "9                                       Best of best  "
      ]
     },
     "execution_count": 128,
     "metadata": {},
     "output_type": "execute_result"
    }
   ],
   "source": [
    "df"
   ]
  },
  {
   "cell_type": "code",
   "execution_count": 69,
   "id": "6be7e545",
   "metadata": {},
   "outputs": [],
   "source": [
    "search = \"iphone13\"\n",
    "flipkart_url = \"https://www.flipkart.com/search?q={}\".format(search)\n",
    "webpage = requests.get(flipkart_url).text\n",
    "soup=BeautifulSoup(webpage,'lxml')\n",
    "prod_link = 'https://www.flipkart.com' + soup.find_all('div' , class_=\"_2kHMtA\")[0].find('a' , class_=\"_1fQZEK\")['href']\n",
    "subpage = requests.get(prod_link).text\n",
    "subsoup = BeautifulSoup(subpage , 'lxml')\n",
    "all_reviews = requests.get('https://www.flipkart.com'+ subsoup.find_all('div',class_=\"col JOpGWq\")[0].find('a')['href']).text\n",
    "reviews_html = BeautifulSoup(all_reviews , 'lxml')\n",
    "final_page = \"https://www.flipkart.com\" + reviews_html.find_all('div',class_=\"_33iqLu\")[0].find_all('a')[0]['href']"
   ]
  },
  {
   "cell_type": "code",
   "execution_count": 49,
   "id": "fa0be152",
   "metadata": {},
   "outputs": [
    {
     "data": {
      "text/plain": [
       "'<!doctype html><html lang=\"en\"><head><link href=\"https://rukminim2.flixcart.com\" rel=\"preconnect\"/><link rel=\"stylesheet\" href=\"//static-assets-web.flixcart.com/fk-p-linchpin-web/fk-cp-zion/css/app_modules.chunk.905c37.css\"/><link rel=\"stylesheet\" href=\"//static-assets-web.flixcart.com/fk-p-linchpin-web/fk-cp-zion/css/app.chunk.ccbde3.css\"/><meta http-equiv=\"Content-type\" content=\"text/html; charset=utf-8\"/><meta http-equiv=\"X-UA-Compatible\" content=\"IE=Edge\"/><meta property=\"fb:page_id\" content=\"102988293558\"/><meta property=\"fb:admins\" content=\"658873552,624500995,100000233612389\"/><meta name=\"robots\" content=\"noodp\"/><link rel=\"shortcut icon\" href=\"https:///www/promos/new/20150528-140547-favicon-retina.ico\"/><link type=\"application/opensearchdescription+xml\" rel=\"search\" href=\"/osdd.xml?v=2\"/><meta property=\"og:type\" content=\"website\"/><meta name=\"og_site_name\" property=\"og:site_name\" content=\"Flipkart.com\"/><link rel=\"apple-touch-icon\" sizes=\"57x57\" href=\"/apple-touch-icon-57x57.png\"/><link rel=\"apple-touch-icon\" sizes=\"72x72\" href=\"/apple-touch-icon-72x72.png\"/><link rel=\"apple-touch-icon\" sizes=\"114x114\" href=\"/apple-touch-icon-114x114.png\"/><link rel=\"apple-touch-icon\" sizes=\"144x144\" href=\"/apple-touch-icon-144x144.png\"/><link rel=\"apple-touch-icon\" href=\"/apple-touch-icon-57x57.png\"/><meta name=\"twitter:card\" content=\"app\"><meta name=\"twitter:site\" content=\"@flipkart\"><meta name=\"twitter:creator\" content=\"@flipkart\"><meta name=\"twitter:title\" content=\"Apple Iphone 13 Blue 128 Gb Reviews: Latest Review of Apple Iphone 13 Blue 128 Gb | Price in India | Flipkart.com\"><meta name=\"twitter:description\" content=\"Shop for electronics, apparels & more using our Flipkart app Free shipping & COD.\"><meta name=\"twitter:app:country\" content=\"in\"><meta name=\"al:ios:app_name\" content=\"Flipkart\"><meta name=\"al:ios:app_store_id\" content=\"742044692\"><meta name=\"twitter:app:name:iphone\" content=\"Flipkart\"><meta name=\"twitter:app:id:iphone\" content=\"742044692\"><meta name=\"twitter:app:url:iphone\" content=\"http://dl.flipkart.com/dl/home?\"><meta name=\"twitter:app:name:ipad\" content=\"Flipkart\"><meta name=\"twitter:app:id:ipad\" content=\"742044692\"><meta name=\"twitter:app:url:ipad\" content=\"http://dl.flipkart.com/dl/home?\"><meta name=\"twitter:app:name:googleplay\" content=\"Flipkart\"><meta name=\"twitter:app:id:googleplay\" content=\"com.flipkart.android\"><meta name=\"twitter:app:url:googleplay\" content=\"http://dl.flipkart.com/dl/home?\"><style>#container {\\n\\t\\t\\theight: 100%;\\n\\t\\t}</style>  <link rel=\"stylesheet\" href=\"///fk-cp-zion/css/AllReviewsPage.chunk.2cbadf.css\"/><title>Apple Iphone 13 Blue 128 Gb Reviews: Latest Review of Apple Iphone 13 Blue 128 Gb | Price in India | Flipkart.com</title><meta name=\"og_title\" property=\"og:title\" content=\"Apple Iphone 13 Blue 128 Gb Reviews: Latest Review of Apple Iphone 13 Blue 128 Gb | Price in India | Flipkart.com\"/><meta name=\"Keywords\" content=\"Apple Iphone 13 Blue 128 Gb Reviews\"/> <meta name=\"Description\" content=\"Read Latest Reviews of Apple Iphone 13 Blue 128 Gb on Flipkart.com. Find genuine customer reviews and ratings. Buy Apple Iphone 13 Blue 128 Gb at best prices on Flipkart.com.\"/><meta property=\"og:description\" content=\"Read Latest Reviews of Apple Iphone 13 Blue 128 Gb on Flipkart.com. Find genuine customer reviews and ratings. Buy Apple Iphone 13 Blue 128 Gb at best prices on Flipkart.com.\"/>       <meta name=\"msvalidate.01\" content=\"F4EEB3A0AFFDD385992A06E6920C0AC3\"/> <!--[if IE 9 ]>\\n\\t<script nonce=\"12547883356277663872\">\\n\\t\\twindow.browserVersion = \\'IE9\\';\\n\\t\\tdocument.documentElement.className += \\' ie9\\';\\n\\t</script>\\n\\t<![endif]--><!--[if !IE]><!--><script nonce=\"12547883356277663872\">if (/*@cc_on!@*/false) {\\n\\t\\t\\twindow.browserVersion = \\'IE10\\';\\n\\t\\t\\tdocument.documentElement.className += \\' ie10\\';\\n\\t\\t}</script><!--<![endif]-->   <script nonce=\"12547883356277663872\">!function(){if(\"PerformancePaintTiming\" in window){var e=window.__perf={e:[]};e.o=new PerformanceObserver(function(n){e.e=e.e.concat(n.getEntries())});try{e.o.observe({entryTypes:[\"paint\"]})}catch(e){}}}();\\n\\n\\t\\tif (requestAnimationFrame && performance && performance.mark) {\\n\\t\\t\\trequestAnimationFrame(function () {\\n\\t\\t\\t\\twindow.first_paint = performance.now();\\n\\t\\t\\t\\tperformance.mark(\"first_paint\");\\n\\t\\t\\t});\\n\\t\\t}\\n\\n        // web-vitals polyfill for FID\\n        !function(n,e){var t,o,i,c=[],f={passive:!0,capture:!0},r=new Date,a=\"pointerup\",u=\"pointercancel\";function p(n,c){t||(t=c,o=n,i=new Date,w(e),s())}function s(){o>=0&&o<i-r&&(c.forEach(function(n){n(o,t)}),c=[])}function l(t){if(t.cancelable){var o=(t.timeStamp>1e12?new Date:performance.now())-t.timeStamp;\"pointerdown\"==t.type?function(t,o){function i(){p(t,o),r()}function c(){r()}function r(){e(a,i,f),e(u,c,f)}n(a,i,f),n(u,c,f)}(o,t):p(o,t)}}function w(n){[\"click\",\"mousedown\",\"keydown\",\"touchstart\",\"pointerdown\"].forEach(function(e){n(e,l,f)})}w(n),self.perfMetrics=self.perfMetrics||{},self.perfMetrics.onFirstInputDelay=function(n){c.push(n),s()}}(addEventListener,removeEventListener);</script><script async src=\"https://www.googletagmanager.com/gtag/js?id=AW-594691041\"></script><script nonce=\"12547883356277663872\">window.dataLayer = window.dataLayer || [];\\n\\t\\tfunction gtag(){dataLayer.push(arguments)};\\n\\t\\tgtag(\\'js\\', new Date());</script></head><body><div id=\"container\"><div><div class=\"_1kfTjk\"><div class=\"_1rH5Jn\"><div class=\"_1TmfNK\"></div><div class=\"_2Xfa2_\"><div class=\"_3_C9Hx\"><div class=\"_3qX0zy\"><a href=\"/\"><img width=\"75\" src=\"//static-assets-web.flixcart.com/fk-p-linchpin-web/fk-cp-zion/img/flipkart-plus_8d85f4.png\" alt=\"Flipkart\" title=\"Flipkart\" class=\"_2xm1JU\"/></a><a class=\"_21ljIi\" href=\"/plus\">Explore<!-- --> <span class=\"_2FVHGh\">Plus</span><img width=\"10\" src=\"//static-assets-web.flixcart.com/fk-p-linchpin-web/fk-cp-zion/img/plus_aef861.png\"/></a></div></div><div class=\"_1cmsER\"><form class=\"_2M8cLY header-form-search\" action=\"/search\" method=\"GET\"><div class=\"col-12-12 _2oO9oE\"><div class=\"_3OO5Xc\"><input type=\"text\" value=\"\" class=\"_3704LK\" title=\"Search for products, brands and more\" name=\"q\" autoComplete=\"off\" placeholder=\"Search for products, brands and more\"/></div><button class=\"L0Z3Pu\" type=\"submit\"><svg width=\"20\" height=\"20\" viewBox=\"0 0 17 18\" class=\"\" xmlns=\"http://www.w3.org/2000/svg\"><g fill=\"#2874F1\" fill-rule=\"evenodd\"><path class=\"_34RNph\" d=\"m11.618 9.897l4.225 4.212c.092.092.101.232.02.313l-1.465 1.46c-.081.081-.221.072-.314-.02l-4.216-4.203\"></path><path class=\"_34RNph\" d=\"m6.486 10.901c-2.42 0-4.381-1.956-4.381-4.368 0-2.413 1.961-4.369 4.381-4.369 2.42 0 4.381 1.956 4.381 4.369 0 2.413-1.961 4.368-4.381 4.368m0-10.835c-3.582 0-6.486 2.895-6.486 6.467 0 3.572 2.904 6.467 6.486 6.467 3.582 0 6.486-2.895 6.486-6.467 0-3.572-2.904-6.467-6.486-6.467\"></path></g></svg></button><input type=\"hidden\" name=\"otracker\" value=\"search\"/><input type=\"hidden\" name=\"otracker1\" value=\"search\"/><input type=\"hidden\" name=\"marketplace\" value=\"FLIPKART\"/><input type=\"hidden\" name=\"as-show\" value=\"off\"/><input type=\"hidden\" name=\"as\" value=\"off\"/></div><ul class=\"col-12-12 _1MRYA1\"></ul></form></div><div class=\"go_DOp _2errNR\"><div class=\"_28p97w\"><div class=\"_1psGvi _3BvnxG\"><div><a class=\"_1_3w1N\" href=\"/account/login?ret=/apple-iphone-13-blue-128-gb/product-reviews/itm6c601e0a58b3c%3Fpid%3DMOBG6VF5SMXPNQHG%26lid%3DLSTMOBG6VF5SMXPNQHGTJUCOX%26aid%3Ddc0f2b2d-7619-44cc-b5fc-2fe3e4d453a7%26mid%3DFLIPKART%26fid%3D4e29a1d6-0acc-446f-a2c9-d658f3c6dbd3.MOBG6VF5SMXPNQHG%26an%3DCamera%26cat%3DMobile%26vert%3DHandset\">Login</a></div></div></div></div><div class=\"go_DOp\"><a href=\"https://seller.flipkart.com/sell-online/?utm_source=fkwebsite&amp;utm_medium=websitedirect\" class=\"_3-PJz-\"><span>Become a Seller</span></a></div><div class=\"go_DOp\"><div class=\"_28p97w\"><div class=\"_1psGvi _3BvnxG\"><div><div class=\"exehdJ\"> <!-- -->More<!-- --> </div></div></div><svg width=\"4.7\" height=\"8\" viewBox=\"0 0 16 27\" xmlns=\"http://www.w3.org/2000/svg\" class=\"zZ3yfL\"><path d=\"M16 23.207L6.11 13.161 16 3.093 12.955 0 0 13.161l12.955 13.161z\" fill=\"#fff\" class=\"_2gTTdy\"></path></svg></div></div><div class=\"go_DOp\"><div class=\"_1psGvi\"><div class=\"YUhWwv\"><a class=\"_3SkBxJ\" href=\"/viewcart?exploreMode=true&amp;preference=FLIPKART\"><svg class=\"V3C5bO\" width=\"14\" height=\"14\" viewBox=\"0 0 16 16\" xmlns=\"http://www.w3.org/2000/svg\"><path class=\"_1bS9ic\" d=\"M15.32 2.405H4.887C3 2.405 2.46.805 2.46.805L2.257.21C2.208.085 2.083 0 1.946 0H.336C.1 0-.064.24.024.46l.644 1.945L3.11 9.767c.047.137.175.23.32.23h8.418l-.493 1.958H3.768l.002.003c-.017 0-.033-.003-.05-.003-1.06 0-1.92.86-1.92 1.92s.86 1.92 1.92 1.92c.99 0 1.805-.75 1.91-1.712l5.55.076c.12.922.91 1.636 1.867 1.636 1.04 0 1.885-.844 1.885-1.885 0-.866-.584-1.593-1.38-1.814l2.423-8.832c.12-.433-.206-.86-.655-.86\" fill=\"#fff\"></path></svg><span>Cart</span></a></div></div></div></div><div class=\"_1TmfNK\"></div></div><div class=\"_1mUdNz\"></div></div><div class=\"_331-kn\"></div><div class=\"_2tsNFb\"><div class=\"_6t1WkM _3HqJxg\"><div class=\"_1YokD2 _2GoDe3 col-12-12\"><div class=\"_1YokD2 _3Mn1Gg col-3-12\" style=\"border-right:1px solid #f0f0f0\"><div class=\"_1AtVbE col-12-12\"><div class=\"_4ddWXP _3BCh3_ _G-HdA\"><a class=\"_2rpwqI\" title=\"APPLE iPhone 13 (Blue, 128 GB)\" target=\"_blank\" rel=\"noopener noreferrer\" href=\"/apple-iphone-13-blue-128-gb/p/itm6c601e0a58b3c?pid=MOBG6VF5SMXPNQHG&amp;fm=organic&amp;ppt=None&amp;ppn=None&amp;ssid=12hxo4ch2o0000001698088986002\"><div class=\"_28_T72\"><div><div class=\"CXW8mj\" style=\"height:246px;width:246px\"><img loading=\"eager\" class=\"_396cs4\" alt=\"APPLE iPhone 13 (Blue, 128 GB)\" src=\"https://rukminim2.flixcart.com/image/312/312/ktketu80/mobile/2/y/o/iphone-13-mlpk3hn-a-apple-original-imag6vpyur6hjngg.jpeg?q=70\"/></div></div></div></a><div><div><a title=\"APPLE iPhone 13 (Blue, 128 GB)\" class=\"s1Q9rs _2qfgz2\" target=\"_blank\" rel=\"noopener noreferrer\" href=\"/apple-iphone-13-blue-128-gb/p/itm6c601e0a58b3c?pid=MOBG6VF5SMXPNQHG&amp;fm=organic&amp;ppt=None&amp;ppn=None&amp;ssid=12hxo4ch2o0000001698088986002\">APPLE iPhone 13 (Blue, 128 GB)</a></div><div class=\"gUuXy-\"><span id=\"productRating_LSTMOBG6VF5SMXPNQHGTJUCOX_MOBG6VF5SMXPNQHG_\" class=\"_1lRcqv\"><div class=\"_3LWZlK\">4.7<img src=\"data:image/svg+xml;base64,PHN2ZyB4bWxucz0iaHR0cDovL3d3dy53My5vcmcvMjAwMC9zdmciIHdpZHRoPSIxMyIgaGVpZ2h0PSIxMiI+PHBhdGggZmlsbD0iI0ZGRiIgZD0iTTYuNSA5LjQzOWwtMy42NzQgMi4yMy45NC00LjI2LTMuMjEtMi44ODMgNC4yNTQtLjQwNEw2LjUuMTEybDEuNjkgNC4wMSA0LjI1NC40MDQtMy4yMSAyLjg4Mi45NCA0LjI2eiIvPjwvc3ZnPg==\" class=\"_1wB99o\"/></div></span><span class=\"_2_R_DZ\"><span><span>2,70,331 Ratings\\xa0</span><span class=\"_13vcmD\">&amp;</span><span>\\xa013,180 Reviews</span></span></span></div><div class=\"_8VNy32 lnJjg0\"><div class=\"_25b18c\"><div class=\"_30jeq3\">₹51,999</div><div class=\"_3I9_wc\">₹<!-- -->59,900</div><div class=\"_3Ay6Sb\"><span>13% off</span></div></div></div></div></div></div><div class=\"_1AtVbE col-12-12\" style=\"border-top:1px solid #f0f0f0\"><div class=\"_1LsTqa\"><div class=\"jEaykx\"><span>User Images</span></div><div class=\"_2nMSwX _2ajiBF\"><div class=\"_21YjFX _3NGqA1\" style=\"background-image:url(https://rukminim1.flixcart.com/blobio/140/140/imr/blobio-imr_53de56e1b41545b4b1a534effe76b71f.jpeg?q=90), url(data:image/svg+xml;base64,PHN2ZyB3aWR0aD0iMjIiIGhlaWdodD0iMTgiIHhtbG5zPSJodHRwOi8vd3d3LnczLm9yZy8yMDAwL3N2ZyI+PGcgZmlsbD0iIzlEOUQ5RCIgZmlsbC1ydWxlPSJub256ZXJvIj48cGF0aCBkPSJNMjAgMEgyQzEgMCAwIDEgMCAydjE0YzAgMS4xLjkgMiAyIDJoMThjMSAwIDItMSAyLTJWMmMwLTEtMS0yLTItMnptMCAxNS45MmMtLjAyLjAzLS4wNi4wNi0uMDguMDhIMlYyLjA4TDIuMDggMmgxNy44M2MuMDMuMDIuMDYuMDYuMDguMDh2MTMuODRIMjB6Ii8+PHBhdGggZD0iTTEwIDEyLjUxTDcuNSA5LjUgNCAxNGgxNGwtNC41LTZ6Ii8+PC9nPjwvc3ZnPg==);width:70px;height:70px\"></div><div class=\"_21YjFX _3NGqA1\" style=\"background-image:url(https://rukminim1.flixcart.com/blobio/140/140/imr/blobio-imr_d1e38c9103d643a591311f599c305023.jpeg?q=90), url(data:image/svg+xml;base64,PHN2ZyB3aWR0aD0iMjIiIGhlaWdodD0iMTgiIHhtbG5zPSJodHRwOi8vd3d3LnczLm9yZy8yMDAwL3N2ZyI+PGcgZmlsbD0iIzlEOUQ5RCIgZmlsbC1ydWxlPSJub256ZXJvIj48cGF0aCBkPSJNMjAgMEgyQzEgMCAwIDEgMCAydjE0YzAgMS4xLjkgMiAyIDJoMThjMSAwIDItMSAyLTJWMmMwLTEtMS0yLTItMnptMCAxNS45MmMtLjAyLjAzLS4wNi4wNi0uMDguMDhIMlYyLjA4TDIuMDggMmgxNy44M2MuMDMuMDIuMDYuMDYuMDguMDh2MTMuODRIMjB6Ii8+PHBhdGggZD0iTTEwIDEyLjUxTDcuNSA5LjUgNCAxNGgxNGwtNC41LTZ6Ii8+PC9nPjwvc3ZnPg==);width:70px;height:70px\"></div><div class=\"_21YjFX _3NGqA1\" style=\"background-image:url(https://rukminim1.flixcart.com/blobio/140/140/imr/blobio-imr_646d0e43a051468d9693c565c431db97.jpeg?q=90), url(data:image/svg+xml;base64,PHN2ZyB3aWR0aD0iMjIiIGhlaWdodD0iMTgiIHhtbG5zPSJodHRwOi8vd3d3LnczLm9yZy8yMDAwL3N2ZyI+PGcgZmlsbD0iIzlEOUQ5RCIgZmlsbC1ydWxlPSJub256ZXJvIj48cGF0aCBkPSJNMjAgMEgyQzEgMCAwIDEgMCAydjE0YzAgMS4xLjkgMiAyIDJoMThjMSAwIDItMSAyLTJWMmMwLTEtMS0yLTItMnptMCAxNS45MmMtLjAyLjAzLS4wNi4wNi0uMDguMDhIMlYyLjA4TDIuMDggMmgxNy44M2MuMDMuMDIuMDYuMDYuMDguMDh2MTMuODRIMjB6Ii8+PHBhdGggZD0iTTEwIDEyLjUxTDcuNSA5LjUgNCAxNGgxNGwtNC41LTZ6Ii8+PC9nPjwvc3ZnPg==);width:70px;height:70px\"></div><div class=\"_21YjFX _3NGqA1\" style=\"background-image:url(https://rukminim1.flixcart.com/blobio/140/140/imr/blobio-imr_5f0d0bded4ea4a1d9de935f91878b529.jpeg?q=90), url(data:image/svg+xml;base64,PHN2ZyB3aWR0aD0iMjIiIGhlaWdodD0iMTgiIHhtbG5zPSJodHRwOi8vd3d3LnczLm9yZy8yMDAwL3N2ZyI+PGcgZmlsbD0iIzlEOUQ5RCIgZmlsbC1ydWxlPSJub256ZXJvIj48cGF0aCBkPSJNMjAgMEgyQzEgMCAwIDEgMCAydjE0YzAgMS4xLjkgMiAyIDJoMThjMSAwIDItMSAyLTJWMmMwLTEtMS0yLTItMnptMCAxNS45MmMtLjAyLjAzLS4wNi4wNi0uMDguMDhIMlYyLjA4TDIuMDggMmgxNy44M2MuMDMuMDIuMDYuMDYuMDguMDh2MTMuODRIMjB6Ii8+PHBhdGggZD0iTTEwIDEyLjUxTDcuNSA5LjUgNCAxNGgxNGwtNC41LTZ6Ii8+PC9nPjwvc3ZnPg==);width:70px;height:70px\"></div><div class=\"_21YjFX _3NGqA1\" style=\"background-image:url(https://rukminim1.flixcart.com/blobio/140/140/imr/blobio-imr_4d943604caaf4d43a3d8dff54f3fad72.jpeg?q=90), url(data:image/svg+xml;base64,PHN2ZyB3aWR0aD0iMjIiIGhlaWdodD0iMTgiIHhtbG5zPSJodHRwOi8vd3d3LnczLm9yZy8yMDAwL3N2ZyI+PGcgZmlsbD0iIzlEOUQ5RCIgZmlsbC1ydWxlPSJub256ZXJvIj48cGF0aCBkPSJNMjAgMEgyQzEgMCAwIDEgMCAydjE0YzAgMS4xLjkgMiAyIDJoMThjMSAwIDItMSAyLTJWMmMwLTEtMS0yLTItMnptMCAxNS45MmMtLjAyLjAzLS4wNi4wNi0uMDguMDhIMlYyLjA4TDIuMDggMmgxNy44M2MuMDMuMDIuMDYuMDYuMDguMDh2MTMuODRIMjB6Ii8+PHBhdGggZD0iTTEwIDEyLjUxTDcuNSA5LjUgNCAxNGgxNGwtNC41LTZ6Ii8+PC9nPjwvc3ZnPg==);width:70px;height:70px\"></div><div class=\"_21YjFX _3NGqA1\" style=\"background-image:url(https://rukminim1.flixcart.com/blobio/140/140/imr/blobio-imr_b0bca8b833ed4ab898b0761aa8d4edfb.jpeg?q=90), url(data:image/svg+xml;base64,PHN2ZyB3aWR0aD0iMjIiIGhlaWdodD0iMTgiIHhtbG5zPSJodHRwOi8vd3d3LnczLm9yZy8yMDAwL3N2ZyI+PGcgZmlsbD0iIzlEOUQ5RCIgZmlsbC1ydWxlPSJub256ZXJvIj48cGF0aCBkPSJNMjAgMEgyQzEgMCAwIDEgMCAydjE0YzAgMS4xLjkgMiAyIDJoMThjMSAwIDItMSAyLTJWMmMwLTEtMS0yLTItMnptMCAxNS45MmMtLjAyLjAzLS4wNi4wNi0uMDguMDhIMlYyLjA4TDIuMDggMmgxNy44M2MuMDMuMDIuMDYuMDYuMDguMDh2MTMuODRIMjB6Ii8+PHBhdGggZD0iTTEwIDEyLjUxTDcuNSA5LjUgNCAxNGgxNGwtNC41LTZ6Ii8+PC9nPjwvc3ZnPg==);width:70px;height:70px\"></div><div class=\"_21YjFX _3NGqA1\" style=\"background-image:url(https://rukminim1.flixcart.com/blobio/140/140/imr/blobio-imr_ab7802dd3bf54fa3ae90a06343840e8a.jpeg?q=90), url(data:image/svg+xml;base64,PHN2ZyB3aWR0aD0iMjIiIGhlaWdodD0iMTgiIHhtbG5zPSJodHRwOi8vd3d3LnczLm9yZy8yMDAwL3N2ZyI+PGcgZmlsbD0iIzlEOUQ5RCIgZmlsbC1ydWxlPSJub256ZXJvIj48cGF0aCBkPSJNMjAgMEgyQzEgMCAwIDEgMCAydjE0YzAgMS4xLjkgMiAyIDJoMThjMSAwIDItMSAyLTJWMmMwLTEtMS0yLTItMnptMCAxNS45MmMtLjAyLjAzLS4wNi4wNi0uMDguMDhIMlYyLjA4TDIuMDggMmgxNy44M2MuMDMuMDIuMDYuMDYuMDguMDh2MTMuODRIMjB6Ii8+PHBhdGggZD0iTTEwIDEyLjUxTDcuNSA5LjUgNCAxNGgxNGwtNC41LTZ6Ii8+PC9nPjwvc3ZnPg==);width:70px;height:70px\"></div><div class=\"_21YjFX _3NGqA1 RU6t0j\" style=\"background-image:url(https://rukminim1.flixcart.com/blobio/140/140/imr/blobio-imr_0c36d5a05382423ab82ef8bc8f145c76.jpeg?q=90), url(data:image/svg+xml;base64,PHN2ZyB3aWR0aD0iMjIiIGhlaWdodD0iMTgiIHhtbG5zPSJodHRwOi8vd3d3LnczLm9yZy8yMDAwL3N2ZyI+PGcgZmlsbD0iIzlEOUQ5RCIgZmlsbC1ydWxlPSJub256ZXJvIj48cGF0aCBkPSJNMjAgMEgyQzEgMCAwIDEgMCAydjE0YzAgMS4xLjkgMiAyIDJoMThjMSAwIDItMSAyLTJWMmMwLTEtMS0yLTItMnptMCAxNS45MmMtLjAyLjAzLS4wNi4wNi0uMDguMDhIMlYyLjA4TDIuMDggMmgxNy44M2MuMDMuMDIuMDYuMDYuMDguMDh2MTMuODRIMjB6Ii8+PHBhdGggZD0iTTEwIDEyLjUxTDcuNSA5LjUgNCAxNGgxNGwtNC41LTZ6Ii8+PC9nPjwvc3ZnPg==);width:70px;height:70px\"><span class=\"_380ehC\">+ <!-- -->6132</span></div></div></div></div></div><div class=\"_1YokD2 _3Mn1Gg col-9-12\"><div class=\"_1YokD2 _3Mn1Gg col-12-12\" style=\"border-bottom:1px solid #f0f0f0\"><div class=\"_1YokD2 _2GoDe3 col-12-12\"><div class=\"_1AtVbE col-10-12\"><div class=\"_2s4DIt _1CDdy2\">APPLE iPhone 13 (Blue, 128 GB) Reviews</div></div><div class=\"_1AtVbE\" style=\"flex-grow:1;overflow:initial\"><div class=\"gEkCyh\"><div class=\"_3uXCGr\"><div class=\"_2ECNXS\"><div class=\"_1cpOwe tVKh2S\"><select class=\"_1EDlbo tVKh2S\" name=\"sortFilter\"><option selected=\"\" value=\"MOST_HELPFUL\">Most Helpful</option><option value=\"MOST_RECENT\">Most Recent</option><option value=\"POSITIVE_FIRST\">Positive First</option><option value=\"NEGATIVE_FIRST\">Negative First</option></select><span class=\"_2NY3xT _2VZJIQ\"></span></div></div></div></div></div></div><div class=\"_1AtVbE col-12-12\"><div class=\"_33iqLu\"><div><a class=\"\" href=\"/apple-iphone-13-blue-128-gb/product-reviews/itm6c601e0a58b3c?pid=MOBG6VF5SMXPNQHG&amp;lid=LSTMOBG6VF5SMXPNQHGTJUCOX&amp;sortOrder=MOST_HELPFUL&amp;certifiedBuyer=false&amp;aid=overall\"><span class=\"_1YKVER\">Overall</span></a><a class=\"_203_Tp\" href=\"/apple-iphone-13-blue-128-gb/product-reviews/itm6c601e0a58b3c?pid=MOBG6VF5SMXPNQHG&amp;lid=LSTMOBG6VF5SMXPNQHGTJUCOX&amp;sortOrder=MOST_HELPFUL&amp;certifiedBuyer=false&amp;aid=dc0f2b2d-7619-44cc-b5fc-2fe3e4d453a7\"><span class=\"_1YKVER _203_Tp\">Camera</span></a><a class=\"\" href=\"/apple-iphone-13-blue-128-gb/product-reviews/itm6c601e0a58b3c?pid=MOBG6VF5SMXPNQHG&amp;lid=LSTMOBG6VF5SMXPNQHGTJUCOX&amp;sortOrder=MOST_HELPFUL&amp;certifiedBuyer=false&amp;aid=3ac62744-ab96-4f53-82f7-02eb72b6a662\"><span class=\"_1YKVER\">Battery</span></a><a class=\"\" href=\"/apple-iphone-13-blue-128-gb/product-reviews/itm6c601e0a58b3c?pid=MOBG6VF5SMXPNQHG&amp;lid=LSTMOBG6VF5SMXPNQHGTJUCOX&amp;sortOrder=MOST_HELPFUL&amp;certifiedBuyer=false&amp;aid=b32e49f9-79fd-4798-98ad-51dd89a408d0\"><span class=\"_1YKVER\">Display</span></a><a class=\"\" href=\"/apple-iphone-13-blue-128-gb/product-reviews/itm6c601e0a58b3c?pid=MOBG6VF5SMXPNQHG&amp;lid=LSTMOBG6VF5SMXPNQHGTJUCOX&amp;sortOrder=MOST_HELPFUL&amp;certifiedBuyer=false&amp;aid=00ab4120-12b2-4a8f-b4e0-b426e17a27ca\"><span class=\"_1YKVER\">Design</span></a><a class=\"\" href=\"/apple-iphone-13-blue-128-gb/product-reviews/itm6c601e0a58b3c?pid=MOBG6VF5SMXPNQHG&amp;lid=LSTMOBG6VF5SMXPNQHGTJUCOX&amp;sortOrder=MOST_HELPFUL&amp;certifiedBuyer=false&amp;aid=af9b0aa9-3e0a-4d59-bbb0-8997e7dcfa92\"><span class=\"_1YKVER\">Performance</span></a></div></div></div></div><div class=\"_1AtVbE col-12-12\"><div class=\"eXq7Nx\"><div class=\"_208uVM\"><div class=\"_2a78PX\"><div class=\"_2aWUii\"><svg class=\"HTdwVj\" viewBox=\"0 0 100 100\"><path class=\"MN4M6g\" d=\"M50,4 A 46,46,0,1,1,49.9999,4\" stroke-width=\"8\" fill-opacity=\"0\"></path><path class=\"_1KaZLR\" d=\"M50,4 A 46,46,0,1,1,27.839330991321095,9.689892717982275\" stroke-width=\"8\" fill-opacity=\"0\"></path><text class=\"_2Ix0io\" x=\"50\" y=\"50\">4.6</text></svg></div><div class=\"_3npa3F\"></div></div></div><div class=\"_2eca4I\"><div><span class=\"_3oioQL\">96<!-- -->%\\xa0</span><span>Positive feedback</span></div><div><span class=\"_1A2mJc\">4<!-- -->%\\xa0</span><span>Negative feedback</span></div></div></div></div><div class=\"_1AtVbE col-12-12\"><div class=\"_27M-vq _2hwual\"><div class=\"col _21J13Y\"><div class=\"col _2wzgFH K0kLPL\"><div class=\"row\"><div class=\"t-ZTKy\"><div><div class=\"\">...<strong></strong>The product is good in terms of camera quality and overall experience.</div><span class=\"_1H-bmy\"><span>READ MORE</span></span></div></div></div><div class=\"row _3n8db9\"><div class=\"row\"><p class=\"_2sc7ZR _2V5EHH\">manoj bedi</p><svg width=\"14\" height=\"14\" viewBox=\"0 0 12 12\" xmlns=\"http://www.w3.org/2000/svg\" class=\"_2a1p_T\"><g><circle cx=\"6\" cy=\"6\" r=\"6\" fill=\"#878787\"></circle><path stroke=\"#FFF\" stroke-width=\"1.5\" d=\"M3 6l2 2 4-4\" fill=\"#878787\"></path></g></svg><p id=\"review-6ebaeaea-fa32-41be-96c6-ab12597fc9c6\" class=\"_2mcZGG\"><span>Certified Buyer</span><span>, Fatehabad</span></p><div></div><p class=\"_2sc7ZR\">2 months ago</p></div></div></div></div></div></div><div class=\"_1AtVbE col-12-12\"><div class=\"_27M-vq _2hwual\"><div class=\"col _21J13Y\"><div class=\"col _2wzgFH K0kLPL\"><div class=\"row\"><div class=\"t-ZTKy\"><div><div class=\"\">...<strong></strong>I loved the phone ... Especially  the camera and parformence . Apple has done tremendous work in i phone</div><span class=\"_1H-bmy\"><span>READ MORE</span></span></div></div></div><div class=\"row _3n8db9\"><div class=\"row\"><p class=\"_2sc7ZR _2V5EHH\">Modassir Alam</p><svg width=\"14\" height=\"14\" viewBox=\"0 0 12 12\" xmlns=\"http://www.w3.org/2000/svg\" class=\"_2a1p_T\"><g><circle cx=\"6\" cy=\"6\" r=\"6\" fill=\"#878787\"></circle><path stroke=\"#FFF\" stroke-width=\"1.5\" d=\"M3 6l2 2 4-4\" fill=\"#878787\"></path></g></svg><p id=\"review-acc364cc-1f10-4203-98f5-a4ec528df5bf\" class=\"_2mcZGG\"><span>Certified Buyer</span><span>, Simdega</span></p><div></div><p class=\"_2sc7ZR\">Sep, 2022</p></div></div></div></div></div></div><div class=\"_1AtVbE col-12-12\"><div class=\"_27M-vq _2hwual\"><div class=\"col _21J13Y\"><div class=\"col _2wzgFH K0kLPL\"><div class=\"row\"><div class=\"t-ZTKy\"><div><div class=\"\">...<strong></strong>amaziiingg Phone with great camera quality ..</div><span class=\"_1H-bmy\"><span>READ MORE</span></span></div></div></div><div class=\"row _3n8db9\"><div class=\"row\"><p class=\"_2sc7ZR _2V5EHH\">Naiina Singh</p><svg width=\"14\" height=\"14\" viewBox=\"0 0 12 12\" xmlns=\"http://www.w3.org/2000/svg\" class=\"_2a1p_T\"><g><circle cx=\"6\" cy=\"6\" r=\"6\" fill=\"#878787\"></circle><path stroke=\"#FFF\" stroke-width=\"1.5\" d=\"M3 6l2 2 4-4\" fill=\"#878787\"></path></g></svg><p id=\"review-36f86907-796f-4ec0-9981-ed2b33d8c9b4\" class=\"_2mcZGG\"><span>Certified Buyer</span><span>, New Delhi</span></p><div></div><p class=\"_2sc7ZR\">Oct, 2022</p></div></div></div></div></div></div><div class=\"_1AtVbE col-12-12\"><div class=\"_27M-vq _2hwual\"><div class=\"col _21J13Y\"><div class=\"col _2wzgFH K0kLPL\"><div class=\"row\"><div class=\"t-ZTKy\"><div><div class=\"\">...<strong></strong>The camera system on the iPhone 13 is also impressive, with a triple-lens setup that includes a 12MP ultra-wide, wide, and telephoto lens.</div><span class=\"_1H-bmy\"><span>READ MORE</span></span></div></div></div><div class=\"row _3n8db9\"><div class=\"row\"><p class=\"_2sc7ZR _2V5EHH\">Rajesh Pandit</p><svg width=\"14\" height=\"14\" viewBox=\"0 0 12 12\" xmlns=\"http://www.w3.org/2000/svg\" class=\"_2a1p_T\"><g><circle cx=\"6\" cy=\"6\" r=\"6\" fill=\"#878787\"></circle><path stroke=\"#FFF\" stroke-width=\"1.5\" d=\"M3 6l2 2 4-4\" fill=\"#878787\"></path></g></svg><p id=\"review-fe59a044-917a-4439-b326-2d4b0cf83496\" class=\"_2mcZGG\"><span>Certified Buyer</span><span>, Kalyan</span></p><div></div><p class=\"_2sc7ZR\">3 months ago</p></div></div></div></div></div></div><div class=\"_1AtVbE col-12-12\"><div class=\"_27M-vq _2hwual\"><div class=\"col _21J13Y\"><div class=\"col _2wzgFH K0kLPL\"><div class=\"row\"><div class=\"t-ZTKy\"><div><div class=\"\">...<strong></strong>It was absolutely amazing, the camera is next level, 4k and cinematic videography is absolutely perfect.</div><span class=\"_1H-bmy\"><span>READ MORE</span></span></div></div></div><div class=\"row _3n8db9\"><div class=\"row\"><p class=\"_2sc7ZR _2V5EHH\">Flipkart Customer</p><svg width=\"14\" height=\"14\" viewBox=\"0 0 12 12\" xmlns=\"http://www.w3.org/2000/svg\" class=\"_2a1p_T\"><g><circle cx=\"6\" cy=\"6\" r=\"6\" fill=\"#878787\"></circle><path stroke=\"#FFF\" stroke-width=\"1.5\" d=\"M3 6l2 2 4-4\" fill=\"#878787\"></path></g></svg><p id=\"review-9f4d8d35-4231-44af-9d07-31097e6facad\" class=\"_2mcZGG\"><span>Certified Buyer</span><span>, Hugli District</span></p><div></div><p class=\"_2sc7ZR\">29 days ago</p></div></div></div></div></div></div><div class=\"_1AtVbE col-12-12\"><div class=\"_27M-vq _2hwual\"><div class=\"col _21J13Y\"><div class=\"col _2wzgFH K0kLPL\"><div class=\"row\"><div class=\"t-ZTKy\"><div><div class=\"\">...<strong></strong>Worst Phone iphone 13, low  camera quality. I Recommend very poor and don\\'t buy in big</div><span class=\"_1H-bmy\"><span>READ MORE</span></span></div></div></div><div class=\"row _3n8db9\"><div class=\"row\"><p class=\"_2sc7ZR _2V5EHH\">Flipkart Customer</p><svg width=\"14\" height=\"14\" viewBox=\"0 0 12 12\" xmlns=\"http://www.w3.org/2000/svg\" class=\"_2a1p_T\"><g><circle cx=\"6\" cy=\"6\" r=\"6\" fill=\"#878787\"></circle><path stroke=\"#FFF\" stroke-width=\"1.5\" d=\"M3 6l2 2 4-4\" fill=\"#878787\"></path></g></svg><p id=\"review-b5ac2ff4-2f5e-48e2-9e08-73888877592a\" class=\"_2mcZGG\"><span>Certified Buyer</span><span>, Malda</span></p><div></div><p class=\"_2sc7ZR\">Sep, 2022</p></div></div></div></div></div></div><div class=\"_1AtVbE col-12-12\"><div class=\"_27M-vq _2hwual\"><div class=\"col _21J13Y\"><div class=\"col _2wzgFH K0kLPL\"><div class=\"row\"><div class=\"t-ZTKy\"><div><div class=\"\">...<strong></strong>camera quality Vivo x80 is better than Iphone, but some times iphone camera performace is too good.</div><span class=\"_1H-bmy\"><span>READ MORE</span></span></div></div></div><div class=\"row _3n8db9\"><div class=\"row\"><p class=\"_2sc7ZR _2V5EHH\">Deep Singh</p><svg width=\"14\" height=\"14\" viewBox=\"0 0 12 12\" xmlns=\"http://www.w3.org/2000/svg\" class=\"_2a1p_T\"><g><circle cx=\"6\" cy=\"6\" r=\"6\" fill=\"#878787\"></circle><path stroke=\"#FFF\" stroke-width=\"1.5\" d=\"M3 6l2 2 4-4\" fill=\"#878787\"></path></g></svg><p id=\"review-6ec0dce4-27a5-47e5-adf9-a2b590221ed2\" class=\"_2mcZGG\"><span>Certified Buyer</span><span>, Dalmau</span></p><div></div><p class=\"_2sc7ZR\">9 months ago</p></div></div></div></div></div></div><div class=\"_1AtVbE col-12-12\"><div class=\"_27M-vq _2hwual\"><div class=\"col _21J13Y\"><div class=\"col _2wzgFH K0kLPL\"><div class=\"row\"><div class=\"t-ZTKy\"><div><div class=\"\">...<strong></strong>Performance is excellent outstanding...<br/>Camera quality is nxt Level.</div><span class=\"_1H-bmy\"><span>READ MORE</span></span></div></div></div><div class=\"row _3n8db9\"><div class=\"row\"><p class=\"_2sc7ZR _2V5EHH\">HRIDOYAN BHUYAN</p><svg width=\"14\" height=\"14\" viewBox=\"0 0 12 12\" xmlns=\"http://www.w3.org/2000/svg\" class=\"_2a1p_T\"><g><circle cx=\"6\" cy=\"6\" r=\"6\" fill=\"#878787\"></circle><path stroke=\"#FFF\" stroke-width=\"1.5\" d=\"M3 6l2 2 4-4\" fill=\"#878787\"></path></g></svg><p id=\"review-c0d2cd6e-7f60-4f19-9fbb-6ac9b3677469\" class=\"_2mcZGG\"><span>Certified Buyer</span><span>, Nagaon District</span></p><div></div><p class=\"_2sc7ZR\">Oct, 2022</p></div></div></div></div></div></div><div class=\"_1AtVbE col-12-12\"><div class=\"_27M-vq _2hwual\"><div class=\"col _21J13Y\"><div class=\"col _2wzgFH K0kLPL\"><div class=\"row\"><div class=\"t-ZTKy\"><div><div class=\"\">...<strong></strong>Worst Camera quality:<br/>1. Very bad in low light selfie camera.</div><span class=\"_1H-bmy\"><span>READ MORE</span></span></div></div></div><div class=\"row _3n8db9\"><div class=\"row\"><p class=\"_2sc7ZR _2V5EHH\">Nikhil Solanki</p><svg width=\"14\" height=\"14\" viewBox=\"0 0 12 12\" xmlns=\"http://www.w3.org/2000/svg\" class=\"_2a1p_T\"><g><circle cx=\"6\" cy=\"6\" r=\"6\" fill=\"#878787\"></circle><path stroke=\"#FFF\" stroke-width=\"1.5\" d=\"M3 6l2 2 4-4\" fill=\"#878787\"></path></g></svg><p id=\"review-95eee7c1-6625-44f7-a266-b927d6f03865\" class=\"_2mcZGG\"><span>Certified Buyer</span><span>, Indore</span></p><div></div><p class=\"_2sc7ZR\">11 months ago</p></div></div></div></div></div></div><div class=\"_1AtVbE col-12-12\"><div class=\"_27M-vq _2hwual\"><div class=\"col _21J13Y\"><div class=\"col _2wzgFH K0kLPL\"><div class=\"row\"><div class=\"t-ZTKy\"><div><div class=\"\">...<strong></strong>The camera system on the iPhone 13 is a game-changer, particularly the advancements in low-light photography.</div><span class=\"_1H-bmy\"><span>READ MORE</span></span></div></div></div><div class=\"row _3n8db9\"><div class=\"row\"><p class=\"_2sc7ZR _2V5EHH\">Kaushik Das</p><svg width=\"14\" height=\"14\" viewBox=\"0 0 12 12\" xmlns=\"http://www.w3.org/2000/svg\" class=\"_2a1p_T\"><g><circle cx=\"6\" cy=\"6\" r=\"6\" fill=\"#878787\"></circle><path stroke=\"#FFF\" stroke-width=\"1.5\" d=\"M3 6l2 2 4-4\" fill=\"#878787\"></path></g></svg><p id=\"review-291b387d-ca44-4918-9f2c-852dbff9d5cb\" class=\"_2mcZGG\"><span>Certified Buyer</span><span>, Guwahati</span></p><div></div><p class=\"_2sc7ZR\">2 months ago</p></div></div></div></div></div></div><div class=\"_1AtVbE col-12-12\"><div><div class=\"_2MImiq _1Qnn1K\"><span>Page 1 of 136</span><nav class=\"yFHi8N\"><a class=\"ge-49M _2Kfbh8\" href=\"/apple-iphone-13-blue-128-gb/product-reviews/itm6c601e0a58b3c?pid=MOBG6VF5SMXPNQHG&amp;lid=LSTMOBG6VF5SMXPNQHGTJUCOX&amp;aid=dc0f2b2d-7619-44cc-b5fc-2fe3e4d453a7&amp;mid=FLIPKART&amp;fid=4e29a1d6-0acc-446f-a2c9-d658f3c6dbd3.MOBG6VF5SMXPNQHG&amp;an=Camera&amp;cat=Mobile&amp;vert=Handset&amp;page=1\">1</a><a class=\"ge-49M\" href=\"/apple-iphone-13-blue-128-gb/product-reviews/itm6c601e0a58b3c?pid=MOBG6VF5SMXPNQHG&amp;lid=LSTMOBG6VF5SMXPNQHGTJUCOX&amp;aid=dc0f2b2d-7619-44cc-b5fc-2fe3e4d453a7&amp;mid=FLIPKART&amp;fid=4e29a1d6-0acc-446f-a2c9-d658f3c6dbd3.MOBG6VF5SMXPNQHG&amp;an=Camera&amp;cat=Mobile&amp;vert=Handset&amp;page=2\">2</a><a class=\"ge-49M\" href=\"/apple-iphone-13-blue-128-gb/product-reviews/itm6c601e0a58b3c?pid=MOBG6VF5SMXPNQHG&amp;lid=LSTMOBG6VF5SMXPNQHGTJUCOX&amp;aid=dc0f2b2d-7619-44cc-b5fc-2fe3e4d453a7&amp;mid=FLIPKART&amp;fid=4e29a1d6-0acc-446f-a2c9-d658f3c6dbd3.MOBG6VF5SMXPNQHG&amp;an=Camera&amp;cat=Mobile&amp;vert=Handset&amp;page=3\">3</a><a class=\"ge-49M\" href=\"/apple-iphone-13-blue-128-gb/product-reviews/itm6c601e0a58b3c?pid=MOBG6VF5SMXPNQHG&amp;lid=LSTMOBG6VF5SMXPNQHGTJUCOX&amp;aid=dc0f2b2d-7619-44cc-b5fc-2fe3e4d453a7&amp;mid=FLIPKART&amp;fid=4e29a1d6-0acc-446f-a2c9-d658f3c6dbd3.MOBG6VF5SMXPNQHG&amp;an=Camera&amp;cat=Mobile&amp;vert=Handset&amp;page=4\">4</a><a class=\"ge-49M\" href=\"/apple-iphone-13-blue-128-gb/product-reviews/itm6c601e0a58b3c?pid=MOBG6VF5SMXPNQHG&amp;lid=LSTMOBG6VF5SMXPNQHGTJUCOX&amp;aid=dc0f2b2d-7619-44cc-b5fc-2fe3e4d453a7&amp;mid=FLIPKART&amp;fid=4e29a1d6-0acc-446f-a2c9-d658f3c6dbd3.MOBG6VF5SMXPNQHG&amp;an=Camera&amp;cat=Mobile&amp;vert=Handset&amp;page=5\">5</a><a class=\"ge-49M\" href=\"/apple-iphone-13-blue-128-gb/product-reviews/itm6c601e0a58b3c?pid=MOBG6VF5SMXPNQHG&amp;lid=LSTMOBG6VF5SMXPNQHGTJUCOX&amp;aid=dc0f2b2d-7619-44cc-b5fc-2fe3e4d453a7&amp;mid=FLIPKART&amp;fid=4e29a1d6-0acc-446f-a2c9-d658f3c6dbd3.MOBG6VF5SMXPNQHG&amp;an=Camera&amp;cat=Mobile&amp;vert=Handset&amp;page=6\">6</a><a class=\"ge-49M\" href=\"/apple-iphone-13-blue-128-gb/product-reviews/itm6c601e0a58b3c?pid=MOBG6VF5SMXPNQHG&amp;lid=LSTMOBG6VF5SMXPNQHGTJUCOX&amp;aid=dc0f2b2d-7619-44cc-b5fc-2fe3e4d453a7&amp;mid=FLIPKART&amp;fid=4e29a1d6-0acc-446f-a2c9-d658f3c6dbd3.MOBG6VF5SMXPNQHG&amp;an=Camera&amp;cat=Mobile&amp;vert=Handset&amp;page=7\">7</a><a class=\"ge-49M\" href=\"/apple-iphone-13-blue-128-gb/product-reviews/itm6c601e0a58b3c?pid=MOBG6VF5SMXPNQHG&amp;lid=LSTMOBG6VF5SMXPNQHGTJUCOX&amp;aid=dc0f2b2d-7619-44cc-b5fc-2fe3e4d453a7&amp;mid=FLIPKART&amp;fid=4e29a1d6-0acc-446f-a2c9-d658f3c6dbd3.MOBG6VF5SMXPNQHG&amp;an=Camera&amp;cat=Mobile&amp;vert=Handset&amp;page=8\">8</a><a class=\"ge-49M\" href=\"/apple-iphone-13-blue-128-gb/product-reviews/itm6c601e0a58b3c?pid=MOBG6VF5SMXPNQHG&amp;lid=LSTMOBG6VF5SMXPNQHGTJUCOX&amp;aid=dc0f2b2d-7619-44cc-b5fc-2fe3e4d453a7&amp;mid=FLIPKART&amp;fid=4e29a1d6-0acc-446f-a2c9-d658f3c6dbd3.MOBG6VF5SMXPNQHG&amp;an=Camera&amp;cat=Mobile&amp;vert=Handset&amp;page=9\">9</a><a class=\"ge-49M\" href=\"/apple-iphone-13-blue-128-gb/product-reviews/itm6c601e0a58b3c?pid=MOBG6VF5SMXPNQHG&amp;lid=LSTMOBG6VF5SMXPNQHGTJUCOX&amp;aid=dc0f2b2d-7619-44cc-b5fc-2fe3e4d453a7&amp;mid=FLIPKART&amp;fid=4e29a1d6-0acc-446f-a2c9-d658f3c6dbd3.MOBG6VF5SMXPNQHG&amp;an=Camera&amp;cat=Mobile&amp;vert=Handset&amp;page=10\">10</a><a class=\"_1LKTO3\" href=\"/apple-iphone-13-blue-128-gb/product-reviews/itm6c601e0a58b3c?pid=MOBG6VF5SMXPNQHG&amp;lid=LSTMOBG6VF5SMXPNQHGTJUCOX&amp;aid=dc0f2b2d-7619-44cc-b5fc-2fe3e4d453a7&amp;mid=FLIPKART&amp;fid=4e29a1d6-0acc-446f-a2c9-d658f3c6dbd3.MOBG6VF5SMXPNQHG&amp;an=Camera&amp;cat=Mobile&amp;vert=Handset&amp;page=2\"><span>Next</span></a></nav><span class=\"_22Tduf\"></span></div></div></div></div></div><div class=\"_39SDPR\"></div></div></div><footer class=\"_3voSl0\"><div class=\"_3rc_xQ\"><div class=\"row\"><div class=\"col gu12 _8Qljeg\"></div></div><div><div class=\"_2WErco row\"><div class=\"_2Brcj4\"><div class=\"_3-dnWo\">ABOUT</div><a href=\"/helpcentre?otracker=undefined_footer_navlinks\" class=\"_1arVWX\">Contact Us</a><a href=\"https://corporate.flipkart.net/corporate-home\" class=\"_1arVWX\">About Us</a><a href=\"https://www.flipkartcareers.com/?otracker=undefined_footer_navlinks\" class=\"_1arVWX\">Careers</a><a href=\"http://stories.flipkart.com/?otracker=undefined_footer_navlinks\" class=\"_1arVWX\">Flipkart Stories</a><a href=\"http://stories.flipkart.com/category/top-stories/news/\" class=\"_1arVWX\">Press</a><a href=\"https://www.flipkartwholesale.com/?otracker=undefined_footer_navlinks\" target=\"_blank\" class=\"_1arVWX\" rel=\"noopener noreferrer\">Flipkart Wholesale</a><a href=\"https://www.cleartrip.com/\" target=\"_blank\" title=\"Cleartrip: #1 Site for Booking Flights Tickets, Buses &amp; Hotels Online\" class=\"_1arVWX\" rel=\"noopener noreferrer\">Cleartrip</a><a href=\"/corporate-information\" class=\"_1arVWX\">Corporate Information</a></div><div class=\"_2Brcj4\"><div class=\"_3-dnWo\">HELP</div><a href=\"/pages/payments\" class=\"_1arVWX\">Payments</a><a href=\"/pages/shipping\" class=\"_1arVWX\">Shipping</a><a href=\"/helpcentre?catalog=55c9c6edb000002e002c1701&amp;view=CATALOG\" class=\"_1arVWX\">Cancellation &amp; Returns</a><a href=\"/helpcentre?catalog=55c9c8e2b0000023002c1702&amp;view=CATALOG\" class=\"_1arVWX\">FAQ</a><a href=\"https://seller.flipkart.com/fiv?otracker=undefined_footer_navlinks\" class=\"_1arVWX\">Report Infringement</a></div><div class=\"_2Brcj4\"><div class=\"_3-dnWo\">CONSUMER POLICY</div><a href=\"/pages/returnpolicy?otracker=undefined_footer_navlinks\" class=\"_1arVWX\">Cancellation &amp; Returns</a><a href=\"/pages/terms?otracker=undefined_footer_navlinks\" class=\"_1arVWX\">Terms Of Use</a><a href=\"/pages/paymentsecurity?otracker=undefined_footer_navlinks\" class=\"_1arVWX\">Security</a><a href=\"/pages/privacypolicy?otracker=undefined_footer_navlinks\" class=\"_1arVWX\">Privacy</a><a href=\"/sitemap?otracker=undefined_footer_navlinks\" class=\"_1arVWX\">Sitemap</a><a href=\"/pages/grievance-redressal-mechanism?otracker=undefined_footer_navlinks\" class=\"_1arVWX\">Grievance Redressal</a><a href=\"/pages/ewaste-compliance-tnc?otracker=undefined_footer_navlinks\" class=\"_1arVWX\">EPR Compliance</a></div><div class=\"_2Brcj4\"><div class=\"_3-dnWo\">SOCIAL</div><a href=\"https://www.facebook.com/flipkart\" class=\"_1arVWX\">Facebook</a><a href=\"https://www.twitter.com/flipkart\" class=\"_1arVWX\">Twitter</a><a href=\"https://www.youtube.com/flipkart\" class=\"_1arVWX\">YouTube</a></div><div class=\"_2Brcj4 address\"><div class=\"_3JHi0r\"><div class=\"_3-dnWo\"><span>Mail Us:</span></div><div class=\"_1U1qnR\"><div class=\"_1LJS6T\"><div class=\"_2NKhZn _1U1qnR\"><p>Flipkart Internet Private Limited, </p>\\n<p> Buildings Alyssa, Begonia &amp; </p>\\n<p> Clove Embassy Tech Village, </p>\\n<p> Outer Ring Road, Devarabeesanahalli Village, </p>\\n<p> Bengaluru, 560103, </p>\\n<p> Karnataka, India</p>\\n</div></div></div></div></div><div class=\"_2Brcj4 address\"><div class=\"_3IT4e6\"><div class=\"_3-dnWo\"><span>Registered Office Address:</span></div><div class=\"_1U1qnR\"><div class=\"_1LJS6T\"><div class=\"_2NKhZn _1U1qnR\"><p>Flipkart Internet Private Limited, </p>\\n<p> Buildings Alyssa, Begonia &amp; </p>\\n<p> Clove Embassy Tech Village, </p>\\n<p> Outer Ring Road, Devarabeesanahalli Village, </p>\\n<p> Bengaluru, 560103, </p>\\n<p> Karnataka, India </p>\\n<p> CIN : U51109KA2012PTC066107 </p>\\n<p> Telephone: <a href=\"tel:044-45614700\">044-45614700</a></p>\\n</div></div></div></div></div></div><div><div class=\"_2uz0vJ\"><div><img src=\"data:image/svg+xml;base64,PHN2ZyB4bWxucz0iaHR0cDovL3d3dy53My5vcmcvMjAwMC9zdmciIHdpZHRoPSIxNiIgaGVpZ2h0PSIxNSIgdmlld0JveD0iMCAwIDE2IDE1Ij4KICAgIDxkZWZzPgogICAgICAgIDxsaW5lYXJHcmFkaWVudCBpZD0iYSIgeDE9IjAlIiB4Mj0iODYuODc2JSIgeTE9IjAlIiB5Mj0iODAuMjAyJSI+CiAgICAgICAgICAgIDxzdG9wIG9mZnNldD0iMCUiIHN0b3AtY29sb3I9IiNGRkQ4MDAiLz4KICAgICAgICAgICAgPHN0b3Agb2Zmc2V0PSIxMDAlIiBzdG9wLWNvbG9yPSIjRkZBRjAwIi8+CiAgICAgICAgPC9saW5lYXJHcmFkaWVudD4KICAgIDwvZGVmcz4KICAgIDxnIGZpbGw9Im5vbmUiIGZpbGwtcnVsZT0iZXZlbm9kZCI+CiAgICAgICAgPHBhdGggZD0iTS0yLTJoMjB2MjBILTJ6Ii8+CiAgICAgICAgPHBhdGggZmlsbD0idXJsKCNhKSIgZmlsbC1ydWxlPSJub256ZXJvIiBkPSJNMTUuOTMgNS42MTRoLTIuOTQ4VjQuMTRjMC0uODE4LS42NTUtMS40NzMtMS40NzMtMS40NzNIOC41NmMtLjgxNyAwLTEuNDczLjY1NS0xLjQ3MyAxLjQ3M3YxLjQ3NEg0LjE0Yy0uODE4IDAtMS40NjYuNjU2LTEuNDY2IDEuNDc0bC0uMDA3IDguMTA1YzAgLjgxOC42NTUgMS40NzQgMS40NzMgMS40NzRoMTEuNzljLjgxOCAwIDEuNDc0LS42NTYgMS40NzQtMS40NzRWNy4wODhjMC0uODE4LS42NTYtMS40NzQtMS40NzQtMS40NzR6bS00LjQyMSAwSDguNTZWNC4xNGgyLjk0OHYxLjQ3NHoiIHRyYW5zZm9ybT0idHJhbnNsYXRlKC0yIC0yKSIvPgogICAgPC9nPgo8L3N2Zz4K\"/><a href=\"https://seller.flipkart.com/?utm_source=fkwebsite&amp;utm_medium=websitedirect\"><span class=\"hDTmm5\">Become a Seller</span></a></div><div><img src=\"data:image/svg+xml;base64,PHN2ZyB4bWxucz0iaHR0cDovL3d3dy53My5vcmcvMjAwMC9zdmciIHdpZHRoPSIxNSIgaGVpZ2h0PSIxNSIgdmlld0JveD0iMCAwIDE1IDE1Ij4KICAgIDxkZWZzPgogICAgICAgIDxsaW5lYXJHcmFkaWVudCBpZD0iYSIgeDE9IjAlIiB4Mj0iODYuODc2JSIgeTE9IjAlIiB5Mj0iODAuMjAyJSI+CiAgICAgICAgICAgIDxzdG9wIG9mZnNldD0iMCUiIHN0b3AtY29sb3I9IiNGRkQ4MDAiLz4KICAgICAgICAgICAgPHN0b3Agb2Zmc2V0PSIxMDAlIiBzdG9wLWNvbG9yPSIjRkZBRjAwIi8+CiAgICAgICAgPC9saW5lYXJHcmFkaWVudD4KICAgIDwvZGVmcz4KICAgIDxnIGZpbGw9Im5vbmUiIGZpbGwtcnVsZT0iZXZlbm9kZCI+CiAgICAgICAgPHBhdGggZD0iTS0zLTNoMjB2MjBILTN6Ii8+CiAgICAgICAgPHBhdGggZmlsbD0idXJsKCNhKSIgZmlsbC1ydWxlPSJub256ZXJvIiBkPSJNMTAuNDkyIDNDNi4zNTMgMyAzIDYuMzYgMyAxMC41YzAgNC4xNCAzLjM1MyA3LjUgNy40OTIgNy41QzE0LjY0IDE4IDE4IDE0LjY0IDE4IDEwLjUgMTggNi4zNiAxNC42NCAzIDEwLjQ5MiAzem0zLjE4IDEyTDEwLjUgMTMuMDg4IDcuMzI3IDE1bC44NC0zLjYwN0w1LjM3IDguOTdsMy42OS0uMzE1TDEwLjUgNS4yNWwxLjQ0IDMuMzk4IDMuNjkuMzE1LTIuNzk4IDIuNDIyLjg0IDMuNjE1eiIgdHJhbnNmb3JtPSJ0cmFuc2xhdGUoLTMgLTMpIi8+CiAgICA8L2c+Cjwvc3ZnPgo=\"/><a href=\"https://brands.flipkart.com\"><span class=\"hDTmm5\">Advertise</span></a></div><div><img src=\"data:image/svg+xml;base64,PHN2ZyB4bWxucz0iaHR0cDovL3d3dy53My5vcmcvMjAwMC9zdmciIHdpZHRoPSIxOCIgaGVpZ2h0PSIxNyIgdmlld0JveD0iMCAwIDE4IDE3Ij4KICAgIDxkZWZzPgogICAgICAgIDxsaW5lYXJHcmFkaWVudCBpZD0iYSIgeDE9IjAlIiB4Mj0iODYuODc2JSIgeTE9IjAlIiB5Mj0iODAuMjAyJSI+CiAgICAgICAgICAgIDxzdG9wIG9mZnNldD0iMCUiIHN0b3AtY29sb3I9IiNGRkQ4MDAiLz4KICAgICAgICAgICAgPHN0b3Agb2Zmc2V0PSIxMDAlIiBzdG9wLWNvbG9yPSIjRkZBRjAwIi8+CiAgICAgICAgPC9saW5lYXJHcmFkaWVudD4KICAgIDwvZGVmcz4KICAgIDxnIGZpbGw9Im5vbmUiIGZpbGwtcnVsZT0iZXZlbm9kZCI+CiAgICAgICAgPHBhdGggZD0iTS0xLTFoMjB2MjBILTF6Ii8+CiAgICAgICAgPHBhdGggZmlsbD0idXJsKCNhKSIgZmlsbC1ydWxlPSJub256ZXJvIiBkPSJNMTYuNjY3IDVIMTQuODVjLjA5Mi0uMjU4LjE1LS41NDIuMTUtLjgzM2EyLjQ5NyAyLjQ5NyAwIDAgMC00LjU4My0xLjM3NUwxMCAzLjM1bC0uNDE3LS41NjdBMi41MSAyLjUxIDAgMCAwIDcuNSAxLjY2N2EyLjQ5NyAyLjQ5NyAwIDAgMC0yLjUgMi41YzAgLjI5MS4wNTguNTc1LjE1LjgzM0gzLjMzM2MtLjkyNSAwLTEuNjU4Ljc0Mi0xLjY1OCAxLjY2N2wtLjAwOCA5LjE2NkExLjY2IDEuNjYgMCAwIDAgMy4zMzMgMTcuNWgxMy4zMzRhMS42NiAxLjY2IDAgMCAwIDEuNjY2LTEuNjY3VjYuNjY3QTEuNjYgMS42NiAwIDAgMCAxNi42NjcgNXptMCA2LjY2N0gzLjMzM3YtNWg0LjIzNEw1LjgzMyA5LjAyNWwxLjM1Ljk3NSAxLjk4NC0yLjdMMTAgNi4xNjdsLjgzMyAxLjEzMyAxLjk4NCAyLjcgMS4zNS0uOTc1LTEuNzM0LTIuMzU4aDQuMjM0djV6IiB0cmFuc2Zvcm09InRyYW5zbGF0ZSgtMSAtMSkiLz4KICAgIDwvZz4KPC9zdmc+Cg==\"/><a href=\"/the-gift-card-store?otracker=undefined_footer_footer_navlinks\"><span class=\"hDTmm5\">Gift Cards</span></a></div><div><img src=\"data:image/svg+xml;base64,PHN2ZyB4bWxucz0iaHR0cDovL3d3dy53My5vcmcvMjAwMC9zdmciIHdpZHRoPSIxNSIgaGVpZ2h0PSIxNSIgdmlld0JveD0iMCAwIDE1IDE1Ij4KICAgIDxkZWZzPgogICAgICAgIDxsaW5lYXJHcmFkaWVudCBpZD0iYSIgeDE9IjAlIiB4Mj0iODYuODc2JSIgeTE9IjAlIiB5Mj0iODAuMjAyJSI+CiAgICAgICAgICAgIDxzdG9wIG9mZnNldD0iMCUiIHN0b3AtY29sb3I9IiNGRkQ4MDAiLz4KICAgICAgICAgICAgPHN0b3Agb2Zmc2V0PSIxMDAlIiBzdG9wLWNvbG9yPSIjRkZBRjAwIi8+CiAgICAgICAgPC9saW5lYXJHcmFkaWVudD4KICAgIDwvZGVmcz4KICAgIDxnIGZpbGw9Im5vbmUiIGZpbGwtcnVsZT0iZXZlbm9kZCI+CiAgICAgICAgPHBhdGggZD0iTS0yLTNoMjB2MjBILTJ6Ii8+CiAgICAgICAgPHBhdGggZmlsbD0idXJsKCNhKSIgZmlsbC1ydWxlPSJub256ZXJvIiBkPSJNOS41IDNDNS4zNiAzIDIgNi4zNiAyIDEwLjUgMiAxNC42NCA1LjM2IDE4IDkuNSAxOGM0LjE0IDAgNy41LTMuMzYgNy41LTcuNUMxNyA2LjM2IDEzLjY0IDMgOS41IDN6bS43NSAxMi43NWgtMS41di0xLjVoMS41djEuNXptMS41NTMtNS44MTNsLS42NzYuNjljLS41NC41NDgtLjg3Ny45OTgtLjg3NyAyLjEyM2gtMS41di0uMzc1YzAtLjgyNS4zMzgtMS41NzUuODc3LTIuMTIzbC45My0uOTQ1Yy4yNzgtLjI3LjQ0My0uNjQ1LjQ0My0xLjA1NyAwLS44MjUtLjY3NS0xLjUtMS41LTEuNVM4IDcuNDI1IDggOC4yNUg2LjVhMyAzIDAgMSAxIDYgMGMwIC42Ni0uMjcgMS4yNi0uNjk3IDEuNjg4eiIgdHJhbnNmb3JtPSJ0cmFuc2xhdGUoLTIgLTMpIi8+CiAgICA8L2c+Cjwvc3ZnPgo=\"/><a href=\"/helpcentre?otracker=undefined_footer_footer_navlinks\"><span class=\"hDTmm5\">Help Center</span></a></div><span class=\"z3ht-w\">© 2007-<!-- -->2023<!-- --> <span>Flipkart.com</span></span><img src=\"//static-assets-web.flixcart.com/fk-p-linchpin-web/fk-cp-zion/img/payment-method_69e7ec.svg\"/></div></div></div></div></footer><div class=\"_1EcK2J _38JCdA\"><div class=\"bra6U8\"><svg width=\"16\" height=\"27\" viewBox=\"0 0 16 27\" xmlns=\"http://www.w3.org/2000/svg\" class=\"_2TdLiZ\"><path d=\"M16 23.207L6.11 13.161 16 3.093 12.955 0 0 13.161l12.955 13.161z\" fill=\"#fff\" class=\"_3ZKfA2\"></path></svg><span>Back to top</span></div></div></div></div> <script type=\"application/ld+json\" nonce=\"12547883356277663872\" id=\"jsonLD\">{}</script> <script type=\"application/ld+json\" nonce=\"12547883356277663872\" id=\"jsonLD\">{}</script><script type=\"application/ld+json\" nonce=\"12547883356277663872\">{\\n    \"@context\": \"http://schema.org\",\\n    \"@type\": \"WebSite\",\\n    \"url\": \"http://www.flipkart.com/\",\\n    \"potentialAction\": [{\\n        \"@type\": \"SearchAction\",\\n        \"target\": \"http://www.flipkart.com/search?q={search_term_string}\",\\n        \"query-input\": \"required name=search_term_string\"\\n        },{\\n        \"@type\": \"SearchAction\",\\n        \"target\": \"android-app://com.flipkart.android/flipkart/de_sq_seg_-search.flipkart.com-_{search_term_string}\",\\n        \"query-input\": \"required name=search_term_string\"\\n    }]\\n}</script><script nonce=\"12547883356277663872\" id=\"is_script\">window.__INITIAL_STATE__ = {};</script> <link data-chunk=\"NavMenu\" rel=\"stylesheet\" href=\"//static-assets-web.flixcart.com/fk-p-linchpin-web/fk-cp-zion/css/NavMenu.chunk.0a28b6.css\"> <script id=\"__LOADABLE_REQUIRED_CHUNKS__\" type=\"application/json\">[128]</script><script id=\"__LOADABLE_REQUIRED_CHUNKS___ext\" type=\"application/json\">{\"namedChunks\":[\"NavMenu\"]}</script>\\n<script async data-chunk=\"NavMenu\" src=\"//static-assets-web.flixcart.com/fk-p-linchpin-web/fk-cp-zion/js/NavMenu.chunk.96b34ba1.js\"></script><script nonce=\"12547883356277663872\">window.omniture={tpv:[],tl:[]};window.omniture.trackPageView=function(){window.omniture.tpv.push(arguments)};window.omniture.trackLink=function(){window.omniture.tl.push(arguments)}\\n\\n    if(window.location.host === \\'www.flipkart.com\\' || /\\\\.store\\\\.flipkart\\\\.com/i.test(window.location.host)){\\n        window.s_account = \"flipkart-prd\"; //omniture account id\\n    }else{\\n        window.s_account = \"flipkart-prd-test\";\\n    }\\n    window.s_isDesktop = true;</script><script nonce=\"12547883356277663872\">function isMobile(){\\n\\t\\tif (!!(navigator.userAgentData && navigator.userAgentData.mobile) || navigator.userAgent.indexOf(\"Mobile\") !== -1){\\n\\t\\t\\treturn true;\\n\\t\\t}\\n\\t\\telse {\\n\\t\\t\\treturn false;\\n\\t\\t}\\n\\t}\\n\\n\\tif (\\'serviceWorker\\' in navigator && !isMobile()) {\\n\\t\\tnavigator.serviceWorker.register(\\'/sw.js\\').then(function(registration) {\\n\\t\\t\\tconsole.log(\\'ServiceWorker registration successful with scope: \\', registration.scope);\\n\\t\\t\\tnavigator.onLine && navigator.serviceWorker.controller && navigator.serviceWorker.controller.postMessage(\\'BANDWIDTH_COMPUTE\\');\\n\\t\\t\\tnavigator.serviceWorker.addEventListener(\\'message\\', function (event) {\\n\\t\\t\\t\\ttry {\\n\\t\\t\\t\\t\\tconst bandwidthData = JSON.parse(event.data);\\n\\t\\t\\t\\t\\tif (bandwidthData && bandwidthData.data) {\\n\\t\\t\\t\\t\\t\\twindow.bandwidth = bandwidthData.data.downlink + \\'_\\' + bandwidthData.data.computeMethod + \\'_\\' + bandwidthData.data.effectiveType + \\'_\\' + bandwidthData.data.type;\\n\\t\\t\\t\\t\\t}\\n\\t\\t\\t\\t}catch(err) {\\n\\t\\t\\t\\t\\tconsole.error(\\'JSON.parse failed:\\', err);\\n\\t\\t\\t\\t}\\n\\t\\t\\t});\\n\\t\\t})\\n\\t\\t.catch(function(err) {\\n\\t\\t\\tconsole.error(\\'ServiceWorker registration failed: \\', err);\\n\\t\\t});\\n\\t} else if(\\'serviceWorker\\' in navigator && isMobile()){\\n        navigator.serviceWorker.getRegistration().then(function(registration) {\\n            var serviceWorkerUnregistered=false;\\n            if(registration) {\\n                registration.unregister();\\n                serviceWorkerUnregistered=true;\\n            }\\n            serviceWorkerUnregistered && window.location.reload();\\n        });\\n    }</script> <script src=\"///www/linchpin/batman-returns/omni/omni16.js\" defer=\"defer\" async nonce=\"12547883356277663872\" id=\"omni_script\"></script>   <script nonce=\"12547883356277663872\">window._pxAppId = \\'PXgNtTli3A\\';</script><script nonce=\"12547883356277663872\" src=\"///px/gNtTli3A/init.js\" async></script></body></html>'"
      ]
     },
     "execution_count": 49,
     "metadata": {},
     "output_type": "execute_result"
    }
   ],
   "source": [
    "requests.get('https://www.flipkart.com'+ subsoup.find_all('div',class_=\"col JOpGWq\")[0].find('a')['href']).text"
   ]
  },
  {
   "cell_type": "code",
   "execution_count": 40,
   "id": "24d2d7b2",
   "metadata": {
    "scrolled": true
   },
   "outputs": [
    {
     "data": {
      "text/plain": [
       "'https://www.flipkart.com/apple-iphone-13-blue-128-gb/product-reviews/itm6c601e0a58b3c?pid=MOBG6VF5SMXPNQHG&lid=LSTMOBG6VF5SMXPNQHGTJUCOX&sortOrder=MOST_HELPFUL&certifiedBuyer=false&aid=overall'"
      ]
     },
     "execution_count": 40,
     "metadata": {},
     "output_type": "execute_result"
    }
   ],
   "source": [
    "\"https://www.flipkart.com\" + all_reviews.find_all('div',class_=\"_33iqLu\")[0].find_all('a')[0]['href']"
   ]
  },
  {
   "cell_type": "code",
   "execution_count": 71,
   "id": "6e42ca9a",
   "metadata": {},
   "outputs": [
    {
     "name": "stdout",
     "output_type": "stream",
     "text": [
      "https://www.flipkart.com/apple-iphone-13-blue-128-gb/product-reviews/itm6c601e0a58b3c?pid=MOBG6VF5SMXPNQHG&lid=LSTMOBG6VF5SMXPNQHGTJUCOX&sortOrder=MOST_HELPFUL&certifiedBuyer=false&aid=overall&page=1\n"
     ]
    }
   ],
   "source": [
    "print(final_page + \"&page={}\".format(1))"
   ]
  },
  {
   "cell_type": "code",
   "execution_count": 77,
   "id": "64c9c4ce",
   "metadata": {},
   "outputs": [],
   "source": [
    "for i in range(1 , 8):\n",
    "    final_page = final_page + \"&page={}\".format(i)\n",
    "    final_html = requests.get(final_page).text\n",
    "    final = BeautifulSoup(final_html,'lxml')\n",
    "    reviews_page = final.find_all('div',class_=\"col _2wzgFH K0kLPL\")\n",
    "    for div in reviews_page:\n",
    "        buyer = div.find_all('p',class_=\"_2sc7ZR _2V5EHH\")[0].text\n",
    "        ratings = (div.find_all('div',class_=\"_3LWZlK _1BLPMq\")[0].text)        \n",
    "        desc = (div.find_all('div',class_=\"t-ZTKy\")[0].text.split(\"READ MORE\")[0])\n",
    "        review_head = (div.find_all('p',class_=\"_2-N8zT\")[0].text)\n",
    "        d = {'Buyer':buyer,'Ratings':ratings,'Reviews':review_head,'Description':desc}\n",
    "        reviews.append(d)"
   ]
  },
  {
   "cell_type": "code",
   "execution_count": 78,
   "id": "41071878",
   "metadata": {},
   "outputs": [
    {
     "data": {
      "text/plain": [
       "110"
      ]
     },
     "execution_count": 78,
     "metadata": {},
     "output_type": "execute_result"
    }
   ],
   "source": [
    "len(reviews)"
   ]
  },
  {
   "cell_type": "code",
   "execution_count": 9,
   "id": "3622597e",
   "metadata": {},
   "outputs": [],
   "source": [
    "final_page = requests.get(final_page).text"
   ]
  },
  {
   "cell_type": "code",
   "execution_count": 10,
   "id": "c62af6ae",
   "metadata": {},
   "outputs": [],
   "source": [
    "final = BeautifulSoup(final_page,'lxml')"
   ]
  },
  {
   "cell_type": "code",
   "execution_count": 13,
   "id": "bd5ecd7e",
   "metadata": {},
   "outputs": [],
   "source": [
    "reviews_page = final.find_all('div',class_=\"col _2wzgFH K0kLPL\")"
   ]
  },
  {
   "cell_type": "code",
   "execution_count": 15,
   "id": "9435df54",
   "metadata": {},
   "outputs": [],
   "source": [
    "reviews = []"
   ]
  },
  {
   "cell_type": "code",
   "execution_count": 16,
   "id": "9374c9cd",
   "metadata": {},
   "outputs": [],
   "source": [
    "for div in reviews_page :\n",
    "    try:\n",
    "        buyer = div.find_all('p',class_=\"_2sc7ZR _2V5EHH\")[0].text\n",
    "    except:\n",
    "        logging.info(\"name\")\n",
    "    try:\n",
    "        ratings = (div.find_all('div',class_=\"_3LWZlK _1BLPMq\")[0].text)\n",
    "\n",
    "    except:\n",
    "        logging.info(\"rating\")\n",
    "\n",
    "\n",
    "    try:\n",
    "        desc = (div.find_all('div',class_=\"t-ZTKy\")[0].text.split(\"READ MORE\")[0])\n",
    "    except:\n",
    "        logging.info(\"Description\")\n",
    "    try:\n",
    "        review_head = (div.find_all('p',class_=\"_2-N8zT\")[0].text)\n",
    "    except:\n",
    "        logging.info(\"Review head\")\n",
    "\n",
    "    d = {'Buyer':buyer,'Ratings':ratings,'Reviews':review_head,'Description':desc}\n",
    "    reviews.append(d)"
   ]
  },
  {
   "cell_type": "code",
   "execution_count": 18,
   "id": "37dac037",
   "metadata": {},
   "outputs": [
    {
     "data": {
      "text/plain": [
       "10"
      ]
     },
     "execution_count": 18,
     "metadata": {},
     "output_type": "execute_result"
    }
   ],
   "source": [
    "len(reviews)"
   ]
  },
  {
   "cell_type": "code",
   "execution_count": null,
   "id": "3f838e7b",
   "metadata": {},
   "outputs": [],
   "source": []
  }
 ],
 "metadata": {
  "kernelspec": {
   "display_name": "Python 3 (ipykernel)",
   "language": "python",
   "name": "python3"
  },
  "language_info": {
   "codemirror_mode": {
    "name": "ipython",
    "version": 3
   },
   "file_extension": ".py",
   "mimetype": "text/x-python",
   "name": "python",
   "nbconvert_exporter": "python",
   "pygments_lexer": "ipython3",
   "version": "3.9.12"
  }
 },
 "nbformat": 4,
 "nbformat_minor": 5
}
