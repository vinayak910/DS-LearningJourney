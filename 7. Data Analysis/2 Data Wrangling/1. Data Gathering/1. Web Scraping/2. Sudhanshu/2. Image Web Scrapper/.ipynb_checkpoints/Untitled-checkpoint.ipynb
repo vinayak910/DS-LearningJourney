{
 "cells": [
  {
   "cell_type": "code",
   "execution_count": 1,
   "id": "c165bf9a",
   "metadata": {},
   "outputs": [],
   "source": [
    "import requests\n",
    "from bs4 import BeautifulSoup\n",
    "import logging\n",
    "import os"
   ]
  },
  {
   "cell_type": "code",
   "execution_count": 2,
   "id": "51e9893c",
   "metadata": {},
   "outputs": [],
   "source": [
    "dir_path =\"images/\"\n",
    "if not os.path.exists(dir_path):\n",
    "    os.makedirs(dir_path)"
   ]
  },
  {
   "cell_type": "code",
   "execution_count": 3,
   "id": "fa3d184f",
   "metadata": {},
   "outputs": [],
   "source": [
    "headers={'User-Agent':'Mozilla/5.0 (Windows NT 6.3; Win 64 ; x64) Apple WeKit /537.36(KHTML , like Gecko) Chrome/80.0.3987.162 Safari/537.36'}"
   ]
  },
  {
   "cell_type": "code",
   "execution_count": null,
   "id": "acdd6449",
   "metadata": {},
   "outputs": [],
   "source": [
    "query = input(\"Enter your search\")\n",
    "query = query.replace(\" \",\"\")"
   ]
  },
  {
   "cell_type": "code",
   "execution_count": null,
   "id": "f8fd584d",
   "metadata": {},
   "outputs": [],
   "source": []
  },
  {
   "cell_type": "code",
   "execution_count": 7,
   "id": "4ad893c1",
   "metadata": {},
   "outputs": [
    {
     "name": "stdout",
     "output_type": "stream",
     "text": [
      "https://www.google.com/search?q=shahrukhkhan&sca_esv=576391435&rlz=1C1YTUH_enIN1022IN1022&tbm=isch&sxsrf=AM9HkKkxwRy-kvFXraXlfk14QI45ZAf64g:1698215786419&source=lnms&sa=X&ved=2ahUKEwi5183lypCCAxUTSWwGHUVnC_AQ_AUoA3oECAMQBQ&biw=1280&bih=610&dpr=1.5\n"
     ]
    }
   ],
   "source": [
    "print(\"https://www.google.com/search?q={}&sca_esv=576391435&rlz=1C1YTUH_enIN1022IN1022&tbm=isch&sxsrf=AM9HkKkxwRy-kvFXraXlfk14QI45ZAf64g:1698215786419&source=lnms&sa=X&ved=2ahUKEwi5183lypCCAxUTSWwGHUVnC_AQ_AUoA3oECAMQBQ&biw=1280&bih=610&dpr=1.5\".format(query))"
   ]
  },
  {
   "cell_type": "code",
   "execution_count": 8,
   "id": "9a11b46d",
   "metadata": {},
   "outputs": [],
   "source": [
    "response = requests.get(\"https://www.google.com/search?q={}&sca_esv=576391435&rlz=1C1YTUH_enIN1022IN1022&tbm=isch&sxsrf=AM9HkKkxwRy-kvFXraXlfk14QI45ZAf64g:1698215786419&source=lnms&sa=X&ved=2ahUKEwi5183lypCCAxUTSWwGHUVnC_AQ_AUoA3oECAMQBQ&biw=1280&bih=610&dpr=1.5\".format(query)).text"
   ]
  },
  {
   "cell_type": "code",
   "execution_count": 9,
   "id": "a492fc4a",
   "metadata": {},
   "outputs": [],
   "source": [
    "soup = BeautifulSoup(response , \"lxml\")"
   ]
  },
  {
   "cell_type": "code",
   "execution_count": 10,
   "id": "8c20951f",
   "metadata": {},
   "outputs": [],
   "source": [
    "image_links = soup.find_all('img')[1:]"
   ]
  },
  {
   "cell_type": "code",
   "execution_count": 11,
   "id": "80b71ac2",
   "metadata": {},
   "outputs": [
    {
     "name": "stdout",
     "output_type": "stream",
     "text": [
      "0\n",
      "1\n",
      "2\n",
      "3\n",
      "4\n",
      "5\n",
      "6\n",
      "7\n",
      "8\n",
      "9\n",
      "10\n",
      "11\n",
      "12\n",
      "13\n",
      "14\n",
      "15\n",
      "16\n",
      "17\n",
      "18\n",
      "19\n"
     ]
    }
   ],
   "source": [
    "for i in image_links:\n",
    "    print(image_links.index(i))"
   ]
  },
  {
   "cell_type": "code",
   "execution_count": 12,
   "id": "27499280",
   "metadata": {},
   "outputs": [],
   "source": [
    "img_list = []\n",
    "for i in image_links:\n",
    "    image_url = i['src']\n",
    "    image_data = requests.get(image_url).content\n",
    "    my_dic = {'url':image_url , 'image':image_data}\n",
    "    img_list.append(my_dic)\n",
    "    with open(os.path.join(dir_path,f\"{query}_{image_links.index(i)}.jpg\"),\"wb\") as f:\n",
    "        f.write(image_data)"
   ]
  },
  {
   "cell_type": "code",
   "execution_count": 38,
   "id": "6ba2cace",
   "metadata": {},
   "outputs": [
    {
     "data": {
      "text/plain": [
       "20"
      ]
     },
     "execution_count": 38,
     "metadata": {},
     "output_type": "execute_result"
    }
   ],
   "source": [
    "len(img)"
   ]
  },
  {
   "cell_type": "code",
   "execution_count": null,
   "id": "e2cd1317",
   "metadata": {},
   "outputs": [],
   "source": []
  }
 ],
 "metadata": {
  "kernelspec": {
   "display_name": "Python 3 (ipykernel)",
   "language": "python",
   "name": "python3"
  },
  "language_info": {
   "codemirror_mode": {
    "name": "ipython",
    "version": 3
   },
   "file_extension": ".py",
   "mimetype": "text/x-python",
   "name": "python",
   "nbconvert_exporter": "python",
   "pygments_lexer": "ipython3",
   "version": "3.9.12"
  }
 },
 "nbformat": 4,
 "nbformat_minor": 5
}
