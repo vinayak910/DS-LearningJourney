{
 "cells": [
  {
   "cell_type": "code",
   "execution_count": 1,
   "id": "2c77e36c",
   "metadata": {},
   "outputs": [],
   "source": [
    "import pandas as pd\n",
    "import numpy as np\n",
    "import matplotlib.pyplot as plt\n",
    "import seaborn as sns\n",
    "%matplotlib inline"
   ]
  },
  {
   "cell_type": "code",
   "execution_count": 2,
   "id": "421ddca4",
   "metadata": {},
   "outputs": [],
   "source": [
    "df = pd.read_csv('Cleaned_data(v1).csv')"
   ]
  },
  {
   "cell_type": "code",
   "execution_count": 3,
   "id": "15bf6e41",
   "metadata": {},
   "outputs": [],
   "source": [
    "pd.set_option('display.max_rows', None)\n",
    "pd.set_option('display.max_columns', None)"
   ]
  },
  {
   "cell_type": "code",
   "execution_count": 4,
   "id": "7fe3a4aa",
   "metadata": {
    "scrolled": true
   },
   "outputs": [
    {
     "data": {
      "text/html": [
       "<div>\n",
       "<style scoped>\n",
       "    .dataframe tbody tr th:only-of-type {\n",
       "        vertical-align: middle;\n",
       "    }\n",
       "\n",
       "    .dataframe tbody tr th {\n",
       "        vertical-align: top;\n",
       "    }\n",
       "\n",
       "    .dataframe thead th {\n",
       "        text-align: right;\n",
       "    }\n",
       "</style>\n",
       "<table border=\"1\" class=\"dataframe\">\n",
       "  <thead>\n",
       "    <tr style=\"text-align: right;\">\n",
       "      <th></th>\n",
       "      <th>brand</th>\n",
       "      <th>model</th>\n",
       "      <th>price</th>\n",
       "      <th>rating</th>\n",
       "      <th>has_5g</th>\n",
       "      <th>has_nfc</th>\n",
       "      <th>has_ir_blaster</th>\n",
       "      <th>processor_brand</th>\n",
       "      <th>processor_name</th>\n",
       "      <th>num_cores</th>\n",
       "      <th>processor_speed</th>\n",
       "      <th>ram_memory</th>\n",
       "      <th>rom</th>\n",
       "      <th>battery_capacity</th>\n",
       "      <th>fast_charging_available</th>\n",
       "      <th>fast_charging</th>\n",
       "      <th>refresh_rate</th>\n",
       "      <th>resolution</th>\n",
       "      <th>screen_size</th>\n",
       "      <th>num_rear_cameras</th>\n",
       "      <th>num_front_camera</th>\n",
       "      <th>primary_camera_rear</th>\n",
       "      <th>primary_camera_front</th>\n",
       "      <th>os</th>\n",
       "      <th>extended_memory_available</th>\n",
       "      <th>extended_memory_upto</th>\n",
       "    </tr>\n",
       "  </thead>\n",
       "  <tbody>\n",
       "    <tr>\n",
       "      <th>0</th>\n",
       "      <td>oneplus</td>\n",
       "      <td>OnePlus 11 5G</td>\n",
       "      <td>54999</td>\n",
       "      <td>89.0</td>\n",
       "      <td>True</td>\n",
       "      <td>True</td>\n",
       "      <td>False</td>\n",
       "      <td>Snapdragon</td>\n",
       "      <td>Snapdragon 8 Gen2</td>\n",
       "      <td>Octa Core</td>\n",
       "      <td>3.2</td>\n",
       "      <td>12.0</td>\n",
       "      <td>256.0</td>\n",
       "      <td>5000.0</td>\n",
       "      <td>1</td>\n",
       "      <td>100.0</td>\n",
       "      <td>120</td>\n",
       "      <td>1440 x 3216</td>\n",
       "      <td>6.70</td>\n",
       "      <td>3</td>\n",
       "      <td>1.0</td>\n",
       "      <td>50.0</td>\n",
       "      <td>16</td>\n",
       "      <td>android</td>\n",
       "      <td>0</td>\n",
       "      <td>NaN</td>\n",
       "    </tr>\n",
       "    <tr>\n",
       "      <th>1</th>\n",
       "      <td>oneplus</td>\n",
       "      <td>OnePlus Nord CE 2 Lite 5G</td>\n",
       "      <td>19989</td>\n",
       "      <td>81.0</td>\n",
       "      <td>True</td>\n",
       "      <td>False</td>\n",
       "      <td>False</td>\n",
       "      <td>Snapdragon</td>\n",
       "      <td>Snapdragon 695</td>\n",
       "      <td>Octa Core</td>\n",
       "      <td>2.2</td>\n",
       "      <td>6.0</td>\n",
       "      <td>128.0</td>\n",
       "      <td>5000.0</td>\n",
       "      <td>1</td>\n",
       "      <td>33.0</td>\n",
       "      <td>120</td>\n",
       "      <td>1080 x 2412</td>\n",
       "      <td>6.59</td>\n",
       "      <td>3</td>\n",
       "      <td>1.0</td>\n",
       "      <td>64.0</td>\n",
       "      <td>16</td>\n",
       "      <td>android</td>\n",
       "      <td>1</td>\n",
       "      <td>1024 TB</td>\n",
       "    </tr>\n",
       "    <tr>\n",
       "      <th>2</th>\n",
       "      <td>samsung</td>\n",
       "      <td>Samsung Galaxy A14 5G</td>\n",
       "      <td>16499</td>\n",
       "      <td>75.0</td>\n",
       "      <td>True</td>\n",
       "      <td>False</td>\n",
       "      <td>False</td>\n",
       "      <td>Exynos</td>\n",
       "      <td>Exynos 1330</td>\n",
       "      <td>Octa Core</td>\n",
       "      <td>2.4</td>\n",
       "      <td>4.0</td>\n",
       "      <td>64.0</td>\n",
       "      <td>5000.0</td>\n",
       "      <td>1</td>\n",
       "      <td>15.0</td>\n",
       "      <td>90</td>\n",
       "      <td>1080 x 2408</td>\n",
       "      <td>6.60</td>\n",
       "      <td>3</td>\n",
       "      <td>1.0</td>\n",
       "      <td>50.0</td>\n",
       "      <td>13</td>\n",
       "      <td>android</td>\n",
       "      <td>1</td>\n",
       "      <td>1024 TB</td>\n",
       "    </tr>\n",
       "    <tr>\n",
       "      <th>3</th>\n",
       "      <td>motorola</td>\n",
       "      <td>Motorola Moto G62 5G</td>\n",
       "      <td>14999</td>\n",
       "      <td>81.0</td>\n",
       "      <td>True</td>\n",
       "      <td>False</td>\n",
       "      <td>False</td>\n",
       "      <td>Snapdragon</td>\n",
       "      <td>Snapdragon  695</td>\n",
       "      <td>Octa Core</td>\n",
       "      <td>2.2</td>\n",
       "      <td>6.0</td>\n",
       "      <td>128.0</td>\n",
       "      <td>5000.0</td>\n",
       "      <td>1</td>\n",
       "      <td>NaN</td>\n",
       "      <td>120</td>\n",
       "      <td>1080 x 2400</td>\n",
       "      <td>6.55</td>\n",
       "      <td>3</td>\n",
       "      <td>1.0</td>\n",
       "      <td>50.0</td>\n",
       "      <td>16</td>\n",
       "      <td>android</td>\n",
       "      <td>1</td>\n",
       "      <td>1024 TB</td>\n",
       "    </tr>\n",
       "    <tr>\n",
       "      <th>4</th>\n",
       "      <td>realme</td>\n",
       "      <td>Realme 10 Pro Plus</td>\n",
       "      <td>24999</td>\n",
       "      <td>82.0</td>\n",
       "      <td>True</td>\n",
       "      <td>False</td>\n",
       "      <td>False</td>\n",
       "      <td>Dimensity</td>\n",
       "      <td>Dimensity 1080</td>\n",
       "      <td>Octa Core</td>\n",
       "      <td>2.6</td>\n",
       "      <td>6.0</td>\n",
       "      <td>128.0</td>\n",
       "      <td>5000.0</td>\n",
       "      <td>1</td>\n",
       "      <td>67.0</td>\n",
       "      <td>120</td>\n",
       "      <td>1080 x 2412</td>\n",
       "      <td>6.70</td>\n",
       "      <td>3</td>\n",
       "      <td>1.0</td>\n",
       "      <td>108.0</td>\n",
       "      <td>16</td>\n",
       "      <td>android</td>\n",
       "      <td>0</td>\n",
       "      <td>NaN</td>\n",
       "    </tr>\n",
       "  </tbody>\n",
       "</table>\n",
       "</div>"
      ],
      "text/plain": [
       "      brand                      model  price  rating  has_5g  has_nfc  \\\n",
       "0   oneplus              OnePlus 11 5G  54999    89.0    True     True   \n",
       "1   oneplus  OnePlus Nord CE 2 Lite 5G  19989    81.0    True    False   \n",
       "2   samsung      Samsung Galaxy A14 5G  16499    75.0    True    False   \n",
       "3  motorola       Motorola Moto G62 5G  14999    81.0    True    False   \n",
       "4    realme         Realme 10 Pro Plus  24999    82.0    True    False   \n",
       "\n",
       "   has_ir_blaster processor_brand     processor_name  num_cores  \\\n",
       "0           False      Snapdragon  Snapdragon 8 Gen2  Octa Core   \n",
       "1           False      Snapdragon     Snapdragon 695  Octa Core   \n",
       "2           False          Exynos        Exynos 1330  Octa Core   \n",
       "3           False      Snapdragon    Snapdragon  695  Octa Core   \n",
       "4           False       Dimensity     Dimensity 1080  Octa Core   \n",
       "\n",
       "   processor_speed  ram_memory    rom  battery_capacity  \\\n",
       "0              3.2        12.0  256.0            5000.0   \n",
       "1              2.2         6.0  128.0            5000.0   \n",
       "2              2.4         4.0   64.0            5000.0   \n",
       "3              2.2         6.0  128.0            5000.0   \n",
       "4              2.6         6.0  128.0            5000.0   \n",
       "\n",
       "   fast_charging_available  fast_charging  refresh_rate    resolution  \\\n",
       "0                        1          100.0           120  1440 x 3216    \n",
       "1                        1           33.0           120  1080 x 2412    \n",
       "2                        1           15.0            90  1080 x 2408    \n",
       "3                        1            NaN           120  1080 x 2400    \n",
       "4                        1           67.0           120  1080 x 2412    \n",
       "\n",
       "   screen_size  num_rear_cameras  num_front_camera  primary_camera_rear  \\\n",
       "0         6.70                 3               1.0                 50.0   \n",
       "1         6.59                 3               1.0                 64.0   \n",
       "2         6.60                 3               1.0                 50.0   \n",
       "3         6.55                 3               1.0                 50.0   \n",
       "4         6.70                 3               1.0                108.0   \n",
       "\n",
       "  primary_camera_front       os  extended_memory_available  \\\n",
       "0                  16   android                          0   \n",
       "1                  16   android                          1   \n",
       "2                  13   android                          1   \n",
       "3                  16   android                          1   \n",
       "4                  16   android                          0   \n",
       "\n",
       "  extended_memory_upto  \n",
       "0                  NaN  \n",
       "1              1024 TB  \n",
       "2              1024 TB  \n",
       "3              1024 TB  \n",
       "4                  NaN  "
      ]
     },
     "execution_count": 4,
     "metadata": {},
     "output_type": "execute_result"
    }
   ],
   "source": [
    "df.head()"
   ]
  },
  {
   "cell_type": "code",
   "execution_count": 5,
   "id": "7acfe131",
   "metadata": {},
   "outputs": [
    {
     "data": {
      "text/plain": [
       "Octa Core    899\n",
       "Hexa Core     39\n",
       "Quad Core     36\n",
       "Name: num_cores, dtype: int64"
      ]
     },
     "execution_count": 5,
     "metadata": {},
     "output_type": "execute_result"
    }
   ],
   "source": [
    "df.num_cores.value_counts()"
   ]
  },
  {
   "cell_type": "code",
   "execution_count": 6,
   "id": "037653cb",
   "metadata": {},
   "outputs": [],
   "source": [
    "core_mapping = {'Octa Core': 8, 'Hexa Core': 6, 'Quad Core': 4}\n",
    "\n",
    "# Map the values in the 'Processor' column to numbers\n",
    "df['num_cores'] = df['num_cores'].map(core_mapping)\n"
   ]
  },
  {
   "cell_type": "code",
   "execution_count": 7,
   "id": "bb709de8",
   "metadata": {},
   "outputs": [
    {
     "data": {
      "text/html": [
       "<div>\n",
       "<style scoped>\n",
       "    .dataframe tbody tr th:only-of-type {\n",
       "        vertical-align: middle;\n",
       "    }\n",
       "\n",
       "    .dataframe tbody tr th {\n",
       "        vertical-align: top;\n",
       "    }\n",
       "\n",
       "    .dataframe thead th {\n",
       "        text-align: right;\n",
       "    }\n",
       "</style>\n",
       "<table border=\"1\" class=\"dataframe\">\n",
       "  <thead>\n",
       "    <tr style=\"text-align: right;\">\n",
       "      <th></th>\n",
       "      <th>brand</th>\n",
       "      <th>model</th>\n",
       "      <th>price</th>\n",
       "      <th>rating</th>\n",
       "      <th>has_5g</th>\n",
       "      <th>has_nfc</th>\n",
       "      <th>has_ir_blaster</th>\n",
       "      <th>processor_brand</th>\n",
       "      <th>processor_name</th>\n",
       "      <th>num_cores</th>\n",
       "      <th>processor_speed</th>\n",
       "      <th>ram_memory</th>\n",
       "      <th>rom</th>\n",
       "      <th>battery_capacity</th>\n",
       "      <th>fast_charging_available</th>\n",
       "      <th>fast_charging</th>\n",
       "      <th>refresh_rate</th>\n",
       "      <th>resolution</th>\n",
       "      <th>screen_size</th>\n",
       "      <th>num_rear_cameras</th>\n",
       "      <th>num_front_camera</th>\n",
       "      <th>primary_camera_rear</th>\n",
       "      <th>primary_camera_front</th>\n",
       "      <th>os</th>\n",
       "      <th>extended_memory_available</th>\n",
       "      <th>extended_memory_upto</th>\n",
       "    </tr>\n",
       "  </thead>\n",
       "  <tbody>\n",
       "    <tr>\n",
       "      <th>0</th>\n",
       "      <td>oneplus</td>\n",
       "      <td>OnePlus 11 5G</td>\n",
       "      <td>54999</td>\n",
       "      <td>89.0</td>\n",
       "      <td>True</td>\n",
       "      <td>True</td>\n",
       "      <td>False</td>\n",
       "      <td>Snapdragon</td>\n",
       "      <td>Snapdragon 8 Gen2</td>\n",
       "      <td>8.0</td>\n",
       "      <td>3.2</td>\n",
       "      <td>12.0</td>\n",
       "      <td>256.0</td>\n",
       "      <td>5000.0</td>\n",
       "      <td>1</td>\n",
       "      <td>100.0</td>\n",
       "      <td>120</td>\n",
       "      <td>1440 x 3216</td>\n",
       "      <td>6.70</td>\n",
       "      <td>3</td>\n",
       "      <td>1.0</td>\n",
       "      <td>50.0</td>\n",
       "      <td>16</td>\n",
       "      <td>android</td>\n",
       "      <td>0</td>\n",
       "      <td>NaN</td>\n",
       "    </tr>\n",
       "    <tr>\n",
       "      <th>1</th>\n",
       "      <td>oneplus</td>\n",
       "      <td>OnePlus Nord CE 2 Lite 5G</td>\n",
       "      <td>19989</td>\n",
       "      <td>81.0</td>\n",
       "      <td>True</td>\n",
       "      <td>False</td>\n",
       "      <td>False</td>\n",
       "      <td>Snapdragon</td>\n",
       "      <td>Snapdragon 695</td>\n",
       "      <td>8.0</td>\n",
       "      <td>2.2</td>\n",
       "      <td>6.0</td>\n",
       "      <td>128.0</td>\n",
       "      <td>5000.0</td>\n",
       "      <td>1</td>\n",
       "      <td>33.0</td>\n",
       "      <td>120</td>\n",
       "      <td>1080 x 2412</td>\n",
       "      <td>6.59</td>\n",
       "      <td>3</td>\n",
       "      <td>1.0</td>\n",
       "      <td>64.0</td>\n",
       "      <td>16</td>\n",
       "      <td>android</td>\n",
       "      <td>1</td>\n",
       "      <td>1024 TB</td>\n",
       "    </tr>\n",
       "    <tr>\n",
       "      <th>2</th>\n",
       "      <td>samsung</td>\n",
       "      <td>Samsung Galaxy A14 5G</td>\n",
       "      <td>16499</td>\n",
       "      <td>75.0</td>\n",
       "      <td>True</td>\n",
       "      <td>False</td>\n",
       "      <td>False</td>\n",
       "      <td>Exynos</td>\n",
       "      <td>Exynos 1330</td>\n",
       "      <td>8.0</td>\n",
       "      <td>2.4</td>\n",
       "      <td>4.0</td>\n",
       "      <td>64.0</td>\n",
       "      <td>5000.0</td>\n",
       "      <td>1</td>\n",
       "      <td>15.0</td>\n",
       "      <td>90</td>\n",
       "      <td>1080 x 2408</td>\n",
       "      <td>6.60</td>\n",
       "      <td>3</td>\n",
       "      <td>1.0</td>\n",
       "      <td>50.0</td>\n",
       "      <td>13</td>\n",
       "      <td>android</td>\n",
       "      <td>1</td>\n",
       "      <td>1024 TB</td>\n",
       "    </tr>\n",
       "    <tr>\n",
       "      <th>3</th>\n",
       "      <td>motorola</td>\n",
       "      <td>Motorola Moto G62 5G</td>\n",
       "      <td>14999</td>\n",
       "      <td>81.0</td>\n",
       "      <td>True</td>\n",
       "      <td>False</td>\n",
       "      <td>False</td>\n",
       "      <td>Snapdragon</td>\n",
       "      <td>Snapdragon  695</td>\n",
       "      <td>8.0</td>\n",
       "      <td>2.2</td>\n",
       "      <td>6.0</td>\n",
       "      <td>128.0</td>\n",
       "      <td>5000.0</td>\n",
       "      <td>1</td>\n",
       "      <td>NaN</td>\n",
       "      <td>120</td>\n",
       "      <td>1080 x 2400</td>\n",
       "      <td>6.55</td>\n",
       "      <td>3</td>\n",
       "      <td>1.0</td>\n",
       "      <td>50.0</td>\n",
       "      <td>16</td>\n",
       "      <td>android</td>\n",
       "      <td>1</td>\n",
       "      <td>1024 TB</td>\n",
       "    </tr>\n",
       "    <tr>\n",
       "      <th>4</th>\n",
       "      <td>realme</td>\n",
       "      <td>Realme 10 Pro Plus</td>\n",
       "      <td>24999</td>\n",
       "      <td>82.0</td>\n",
       "      <td>True</td>\n",
       "      <td>False</td>\n",
       "      <td>False</td>\n",
       "      <td>Dimensity</td>\n",
       "      <td>Dimensity 1080</td>\n",
       "      <td>8.0</td>\n",
       "      <td>2.6</td>\n",
       "      <td>6.0</td>\n",
       "      <td>128.0</td>\n",
       "      <td>5000.0</td>\n",
       "      <td>1</td>\n",
       "      <td>67.0</td>\n",
       "      <td>120</td>\n",
       "      <td>1080 x 2412</td>\n",
       "      <td>6.70</td>\n",
       "      <td>3</td>\n",
       "      <td>1.0</td>\n",
       "      <td>108.0</td>\n",
       "      <td>16</td>\n",
       "      <td>android</td>\n",
       "      <td>0</td>\n",
       "      <td>NaN</td>\n",
       "    </tr>\n",
       "  </tbody>\n",
       "</table>\n",
       "</div>"
      ],
      "text/plain": [
       "      brand                      model  price  rating  has_5g  has_nfc  \\\n",
       "0   oneplus              OnePlus 11 5G  54999    89.0    True     True   \n",
       "1   oneplus  OnePlus Nord CE 2 Lite 5G  19989    81.0    True    False   \n",
       "2   samsung      Samsung Galaxy A14 5G  16499    75.0    True    False   \n",
       "3  motorola       Motorola Moto G62 5G  14999    81.0    True    False   \n",
       "4    realme         Realme 10 Pro Plus  24999    82.0    True    False   \n",
       "\n",
       "   has_ir_blaster processor_brand     processor_name  num_cores  \\\n",
       "0           False      Snapdragon  Snapdragon 8 Gen2        8.0   \n",
       "1           False      Snapdragon     Snapdragon 695        8.0   \n",
       "2           False          Exynos        Exynos 1330        8.0   \n",
       "3           False      Snapdragon    Snapdragon  695        8.0   \n",
       "4           False       Dimensity     Dimensity 1080        8.0   \n",
       "\n",
       "   processor_speed  ram_memory    rom  battery_capacity  \\\n",
       "0              3.2        12.0  256.0            5000.0   \n",
       "1              2.2         6.0  128.0            5000.0   \n",
       "2              2.4         4.0   64.0            5000.0   \n",
       "3              2.2         6.0  128.0            5000.0   \n",
       "4              2.6         6.0  128.0            5000.0   \n",
       "\n",
       "   fast_charging_available  fast_charging  refresh_rate    resolution  \\\n",
       "0                        1          100.0           120  1440 x 3216    \n",
       "1                        1           33.0           120  1080 x 2412    \n",
       "2                        1           15.0            90  1080 x 2408    \n",
       "3                        1            NaN           120  1080 x 2400    \n",
       "4                        1           67.0           120  1080 x 2412    \n",
       "\n",
       "   screen_size  num_rear_cameras  num_front_camera  primary_camera_rear  \\\n",
       "0         6.70                 3               1.0                 50.0   \n",
       "1         6.59                 3               1.0                 64.0   \n",
       "2         6.60                 3               1.0                 50.0   \n",
       "3         6.55                 3               1.0                 50.0   \n",
       "4         6.70                 3               1.0                108.0   \n",
       "\n",
       "  primary_camera_front       os  extended_memory_available  \\\n",
       "0                  16   android                          0   \n",
       "1                  16   android                          1   \n",
       "2                  13   android                          1   \n",
       "3                  16   android                          1   \n",
       "4                  16   android                          0   \n",
       "\n",
       "  extended_memory_upto  \n",
       "0                  NaN  \n",
       "1              1024 TB  \n",
       "2              1024 TB  \n",
       "3              1024 TB  \n",
       "4                  NaN  "
      ]
     },
     "execution_count": 7,
     "metadata": {},
     "output_type": "execute_result"
    }
   ],
   "source": [
    "df.head()"
   ]
  },
  {
   "cell_type": "code",
   "execution_count": 8,
   "id": "0fd67566",
   "metadata": {},
   "outputs": [
    {
     "name": "stdout",
     "output_type": "stream",
     "text": [
      "<class 'pandas.core.frame.DataFrame'>\n",
      "RangeIndex: 980 entries, 0 to 979\n",
      "Data columns (total 26 columns):\n",
      " #   Column                     Non-Null Count  Dtype  \n",
      "---  ------                     --------------  -----  \n",
      " 0   brand                      980 non-null    object \n",
      " 1   model                      980 non-null    object \n",
      " 2   price                      980 non-null    int64  \n",
      " 3   rating                     879 non-null    float64\n",
      " 4   has_5g                     980 non-null    bool   \n",
      " 5   has_nfc                    980 non-null    bool   \n",
      " 6   has_ir_blaster             980 non-null    bool   \n",
      " 7   processor_brand            960 non-null    object \n",
      " 8   processor_name             960 non-null    object \n",
      " 9   num_cores                  974 non-null    float64\n",
      " 10  processor_speed            938 non-null    float64\n",
      " 11  ram_memory                 980 non-null    float64\n",
      " 12  rom                        980 non-null    float64\n",
      " 13  battery_capacity           969 non-null    float64\n",
      " 14  fast_charging_available    980 non-null    int64  \n",
      " 15  fast_charging              769 non-null    float64\n",
      " 16  refresh_rate               980 non-null    int64  \n",
      " 17  resolution                 980 non-null    object \n",
      " 18  screen_size                980 non-null    float64\n",
      " 19  num_rear_cameras           980 non-null    int64  \n",
      " 20  num_front_camera           977 non-null    float64\n",
      " 21  primary_camera_rear        980 non-null    float64\n",
      " 22  primary_camera_front       976 non-null    object \n",
      " 23  os                         954 non-null    object \n",
      " 24  extended_memory_available  980 non-null    int64  \n",
      " 25  extended_memory_upto       507 non-null    object \n",
      "dtypes: bool(3), float64(10), int64(5), object(8)\n",
      "memory usage: 179.1+ KB\n"
     ]
    }
   ],
   "source": [
    "df.info()"
   ]
  },
  {
   "cell_type": "code",
   "execution_count": 9,
   "id": "e7e4a611",
   "metadata": {},
   "outputs": [],
   "source": [
    "df.primary_camera_front = df.primary_camera_front.astype(float)"
   ]
  },
  {
   "cell_type": "code",
   "execution_count": 10,
   "id": "2029f9c6",
   "metadata": {},
   "outputs": [
    {
     "data": {
      "text/plain": [
       "1024 TB    262\n",
       "512 GB     116\n",
       "256 GB     104\n",
       "128 GB      10\n",
       "2048 TB      8\n",
       "32 GB        3\n",
       "64 GB        3\n",
       "1000 GB      1\n",
       "Name: extended_memory_upto, dtype: int64"
      ]
     },
     "execution_count": 10,
     "metadata": {},
     "output_type": "execute_result"
    }
   ],
   "source": [
    "df.extended_memory_upto.value_counts()"
   ]
  },
  {
   "cell_type": "code",
   "execution_count": 11,
   "id": "73a0f6ba",
   "metadata": {},
   "outputs": [],
   "source": [
    "df.extended_memory_upto = df.extended_memory_upto.str.split().str.get(0)"
   ]
  },
  {
   "cell_type": "code",
   "execution_count": 12,
   "id": "df1c40e3",
   "metadata": {},
   "outputs": [],
   "source": [
    "df.extended_memory_upto = df.extended_memory_upto.astype('float')"
   ]
  },
  {
   "cell_type": "code",
   "execution_count": 13,
   "id": "a24f3b44",
   "metadata": {},
   "outputs": [
    {
     "name": "stdout",
     "output_type": "stream",
     "text": [
      "<class 'pandas.core.frame.DataFrame'>\n",
      "RangeIndex: 980 entries, 0 to 979\n",
      "Data columns (total 26 columns):\n",
      " #   Column                     Non-Null Count  Dtype  \n",
      "---  ------                     --------------  -----  \n",
      " 0   brand                      980 non-null    object \n",
      " 1   model                      980 non-null    object \n",
      " 2   price                      980 non-null    int64  \n",
      " 3   rating                     879 non-null    float64\n",
      " 4   has_5g                     980 non-null    bool   \n",
      " 5   has_nfc                    980 non-null    bool   \n",
      " 6   has_ir_blaster             980 non-null    bool   \n",
      " 7   processor_brand            960 non-null    object \n",
      " 8   processor_name             960 non-null    object \n",
      " 9   num_cores                  974 non-null    float64\n",
      " 10  processor_speed            938 non-null    float64\n",
      " 11  ram_memory                 980 non-null    float64\n",
      " 12  rom                        980 non-null    float64\n",
      " 13  battery_capacity           969 non-null    float64\n",
      " 14  fast_charging_available    980 non-null    int64  \n",
      " 15  fast_charging              769 non-null    float64\n",
      " 16  refresh_rate               980 non-null    int64  \n",
      " 17  resolution                 980 non-null    object \n",
      " 18  screen_size                980 non-null    float64\n",
      " 19  num_rear_cameras           980 non-null    int64  \n",
      " 20  num_front_camera           977 non-null    float64\n",
      " 21  primary_camera_rear        980 non-null    float64\n",
      " 22  primary_camera_front       976 non-null    float64\n",
      " 23  os                         954 non-null    object \n",
      " 24  extended_memory_available  980 non-null    int64  \n",
      " 25  extended_memory_upto       507 non-null    float64\n",
      "dtypes: bool(3), float64(12), int64(5), object(6)\n",
      "memory usage: 179.1+ KB\n"
     ]
    }
   ],
   "source": [
    "df.info()"
   ]
  },
  {
   "cell_type": "code",
   "execution_count": 14,
   "id": "72038b68",
   "metadata": {},
   "outputs": [
    {
     "data": {
      "text/plain": [
       "brand                          0\n",
       "model                          0\n",
       "price                          0\n",
       "rating                       101\n",
       "has_5g                         0\n",
       "has_nfc                        0\n",
       "has_ir_blaster                 0\n",
       "processor_brand               20\n",
       "processor_name                20\n",
       "num_cores                      6\n",
       "processor_speed               42\n",
       "ram_memory                     0\n",
       "rom                            0\n",
       "battery_capacity              11\n",
       "fast_charging_available        0\n",
       "fast_charging                211\n",
       "refresh_rate                   0\n",
       "resolution                     0\n",
       "screen_size                    0\n",
       "num_rear_cameras               0\n",
       "num_front_camera               3\n",
       "primary_camera_rear            0\n",
       "primary_camera_front           4\n",
       "os                            26\n",
       "extended_memory_available      0\n",
       "extended_memory_upto         473\n",
       "dtype: int64"
      ]
     },
     "execution_count": 14,
     "metadata": {},
     "output_type": "execute_result"
    }
   ],
   "source": [
    "df.isnull().sum()"
   ]
  },
  {
   "cell_type": "code",
   "execution_count": 15,
   "id": "f9e72e73",
   "metadata": {},
   "outputs": [
    {
     "data": {
      "text/plain": [
       "android    898\n",
       "ios         46\n",
       "other       10\n",
       "Name: os, dtype: int64"
      ]
     },
     "execution_count": 15,
     "metadata": {},
     "output_type": "execute_result"
    }
   ],
   "source": [
    "df.os.value_counts()"
   ]
  },
  {
   "cell_type": "code",
   "execution_count": 50,
   "id": "6eb93586",
   "metadata": {},
   "outputs": [
    {
     "data": {
      "text/plain": [
       "<Axes: >"
      ]
     },
     "execution_count": 50,
     "metadata": {},
     "output_type": "execute_result"
    },
    {
     "data": {
      "image/png": "[encoded data removed]",
      "text/plain": [
       "<Figure size 432x288 with 1 Axes>"
      ]
     },
     "metadata": {
      "needs_background": "light"
     },
     "output_type": "display_data"
    }
   ],
   "source": [
    "# plot a graph of top 5 brands\n",
    "df['brand'].value_counts().head(10).plot(kind='bar')"
   ]
  },
  {
   "cell_type": "code",
   "execution_count": 52,
   "id": "1e2623ed",
   "metadata": {},
   "outputs": [
    {
     "data": {
      "text/plain": [
       "<Axes: ylabel='brand'>"
      ]
     },
     "execution_count": 52,
     "metadata": {},
     "output_type": "execute_result"
    },
    {
     "data": {
      "image/png": "[encoded data removed]",
      "text/plain": [
       "<Figure size 432x288 with 1 Axes>"
      ]
     },
     "metadata": {},
     "output_type": "display_data"
    }
   ],
   "source": [
    "df['brand'].value_counts().head().plot(kind='pie',autopct='%0.1f%%')"
   ]
  },
  {
   "cell_type": "code",
   "execution_count": 53,
   "id": "8f9084f2",
   "metadata": {},
   "outputs": [
    {
     "data": {
      "text/plain": [
       "count       980.000000\n",
       "mean      32520.504082\n",
       "std       39531.812669\n",
       "min        3499.000000\n",
       "25%       12999.000000\n",
       "50%       19994.500000\n",
       "75%       35491.500000\n",
       "max      650000.000000\n",
       "Name: price, dtype: float64"
      ]
     },
     "execution_count": 53,
     "metadata": {},
     "output_type": "execute_result"
    }
   ],
   "source": [
    "# price\n",
    "df['price'].describe()"
   ]
  },
  {
   "cell_type": "code",
   "execution_count": 54,
   "id": "fa4d9a7d",
   "metadata": {},
   "outputs": [
    {
     "data": {
      "text/plain": [
       "<seaborn.axisgrid.FacetGrid at 0x1b74a134cd0>"
      ]
     },
     "execution_count": 54,
     "metadata": {},
     "output_type": "execute_result"
    },
    {
     "data": {
      "image/png": "[encoded data removed]",
      "text/plain": [
       "<Figure size 360x360 with 1 Axes>"
      ]
     },
     "metadata": {
      "needs_background": "light"
     },
     "output_type": "display_data"
    }
   ],
   "source": [
    "sns.displot(kind='hist',data=df,x='price',kde=True)"
   ]
  },
  {
   "cell_type": "code",
   "execution_count": 55,
   "id": "f9b5f356",
   "metadata": {},
   "outputs": [
    {
     "data": {
      "text/plain": [
       "6.591790999665567"
      ]
     },
     "execution_count": 55,
     "metadata": {},
     "output_type": "execute_result"
    }
   ],
   "source": [
    "df['price'].skew()"
   ]
  },
  {
   "cell_type": "code",
   "execution_count": 56,
   "id": "731d036b",
   "metadata": {},
   "outputs": [
    {
     "name": "stderr",
     "output_type": "stream",
     "text": [
      "C:\\Users\\vinay\\anaconda3\\lib\\site-packages\\seaborn\\_decorators.py:36: FutureWarning: Pass the following variable as a keyword arg: x. From version 0.12, the only valid positional argument will be `data`, and passing other arguments without an explicit keyword will result in an error or misinterpretation.\n",
      "  warnings.warn(\n"
     ]
    },
    {
     "data": {
      "text/plain": [
       "<Axes: xlabel='price'>"
      ]
     },
     "execution_count": 56,
     "metadata": {},
     "output_type": "execute_result"
    },
    {
     "data": {
      "image/png": "[encoded data removed]",
      "text/plain": [
       "<Figure size 432x288 with 1 Axes>"
      ]
     },
     "metadata": {
      "needs_background": "light"
     },
     "output_type": "display_data"
    }
   ],
   "source": [
    "sns.boxplot(df['price'])"
   ]
  },
  {
   "cell_type": "code",
   "execution_count": 57,
   "id": "f1e2cfc6",
   "metadata": {},
   "outputs": [
    {
     "data": {
      "text/html": [
       "<div>\n",
       "<style scoped>\n",
       "    .dataframe tbody tr th:only-of-type {\n",
       "        vertical-align: middle;\n",
       "    }\n",
       "\n",
       "    .dataframe tbody tr th {\n",
       "        vertical-align: top;\n",
       "    }\n",
       "\n",
       "    .dataframe thead th {\n",
       "        text-align: right;\n",
       "    }\n",
       "</style>\n",
       "<table border=\"1\" class=\"dataframe\">\n",
       "  <thead>\n",
       "    <tr style=\"text-align: right;\">\n",
       "      <th></th>\n",
       "      <th>brand</th>\n",
       "      <th>model</th>\n",
       "      <th>price</th>\n",
       "      <th>rating</th>\n",
       "      <th>has_5g</th>\n",
       "      <th>has_nfc</th>\n",
       "      <th>has_ir_blaster</th>\n",
       "      <th>processor_brand</th>\n",
       "      <th>processor_name</th>\n",
       "      <th>num_cores</th>\n",
       "      <th>processor_speed</th>\n",
       "      <th>ram_memory</th>\n",
       "      <th>rom</th>\n",
       "      <th>battery_capacity</th>\n",
       "      <th>fast_charging_available</th>\n",
       "      <th>fast_charging</th>\n",
       "      <th>refresh_rate</th>\n",
       "      <th>resolution</th>\n",
       "      <th>screen_size</th>\n",
       "      <th>num_rear_cameras</th>\n",
       "      <th>num_front_camera</th>\n",
       "      <th>primary_camera_rear</th>\n",
       "      <th>primary_camera_front</th>\n",
       "      <th>os</th>\n",
       "      <th>extended_memory_available</th>\n",
       "      <th>extended_memory_upto</th>\n",
       "    </tr>\n",
       "  </thead>\n",
       "  <tbody>\n",
       "    <tr>\n",
       "      <th>427</th>\n",
       "      <td>vertu</td>\n",
       "      <td>Vertu Signature Touch</td>\n",
       "      <td>650000</td>\n",
       "      <td>62.0</td>\n",
       "      <td>False</td>\n",
       "      <td>True</td>\n",
       "      <td>False</td>\n",
       "      <td>Snapdragon</td>\n",
       "      <td>Snapdragon 801</td>\n",
       "      <td>8.0</td>\n",
       "      <td>1.5</td>\n",
       "      <td>2.0</td>\n",
       "      <td>64.0</td>\n",
       "      <td>2275.0</td>\n",
       "      <td>0</td>\n",
       "      <td>NaN</td>\n",
       "      <td>60</td>\n",
       "      <td>1080 x 1920</td>\n",
       "      <td>4.70</td>\n",
       "      <td>1</td>\n",
       "      <td>1.0</td>\n",
       "      <td>13.0</td>\n",
       "      <td>2.1</td>\n",
       "      <td>android</td>\n",
       "      <td>0</td>\n",
       "      <td>NaN</td>\n",
       "    </tr>\n",
       "    <tr>\n",
       "      <th>887</th>\n",
       "      <td>xiaomi</td>\n",
       "      <td>Xiaomi Redmi K20 Pro Signature Edition</td>\n",
       "      <td>480000</td>\n",
       "      <td>88.0</td>\n",
       "      <td>False</td>\n",
       "      <td>True</td>\n",
       "      <td>False</td>\n",
       "      <td>Snapdragon</td>\n",
       "      <td>Snapdragon  855</td>\n",
       "      <td>8.0</td>\n",
       "      <td>2.8</td>\n",
       "      <td>8.0</td>\n",
       "      <td>256.0</td>\n",
       "      <td>4000.0</td>\n",
       "      <td>1</td>\n",
       "      <td>27.0</td>\n",
       "      <td>60</td>\n",
       "      <td>1080 x 2340</td>\n",
       "      <td>6.39</td>\n",
       "      <td>3</td>\n",
       "      <td>1.0</td>\n",
       "      <td>48.0</td>\n",
       "      <td>20.0</td>\n",
       "      <td>android</td>\n",
       "      <td>0</td>\n",
       "      <td>NaN</td>\n",
       "    </tr>\n",
       "  </tbody>\n",
       "</table>\n",
       "</div>"
      ],
      "text/plain": [
       "      brand                                   model   price  rating  has_5g  \\\n",
       "427   vertu                   Vertu Signature Touch  650000    62.0   False   \n",
       "887  xiaomi  Xiaomi Redmi K20 Pro Signature Edition  480000    88.0   False   \n",
       "\n",
       "     has_nfc  has_ir_blaster processor_brand   processor_name  num_cores  \\\n",
       "427     True           False      Snapdragon   Snapdragon 801        8.0   \n",
       "887     True           False      Snapdragon  Snapdragon  855        8.0   \n",
       "\n",
       "     processor_speed  ram_memory    rom  battery_capacity  \\\n",
       "427              1.5         2.0   64.0            2275.0   \n",
       "887              2.8         8.0  256.0            4000.0   \n",
       "\n",
       "     fast_charging_available  fast_charging  refresh_rate    resolution  \\\n",
       "427                        0            NaN            60  1080 x 1920    \n",
       "887                        1           27.0            60  1080 x 2340    \n",
       "\n",
       "     screen_size  num_rear_cameras  num_front_camera  primary_camera_rear  \\\n",
       "427         4.70                 1               1.0                 13.0   \n",
       "887         6.39                 3               1.0                 48.0   \n",
       "\n",
       "     primary_camera_front       os  extended_memory_available  \\\n",
       "427                   2.1  android                          0   \n",
       "887                  20.0  android                          0   \n",
       "\n",
       "     extended_memory_upto  \n",
       "427                   NaN  \n",
       "887                   NaN  "
      ]
     },
     "execution_count": 57,
     "metadata": {},
     "output_type": "execute_result"
    }
   ],
   "source": [
    "df[df['price'] > 250000]"
   ]
  },
  {
   "cell_type": "code",
   "execution_count": 61,
   "id": "93beffbd",
   "metadata": {},
   "outputs": [
    {
     "data": {
      "text/plain": [
       "count    879.000000\n",
       "mean      78.258248\n",
       "std        7.402854\n",
       "min       60.000000\n",
       "25%       74.000000\n",
       "50%       80.000000\n",
       "75%       84.000000\n",
       "max       89.000000\n",
       "Name: rating, dtype: float64"
      ]
     },
     "execution_count": 61,
     "metadata": {},
     "output_type": "execute_result"
    }
   ],
   "source": [
    "df['rating'].describe()"
   ]
  },
  {
   "cell_type": "code",
   "execution_count": 58,
   "id": "7f788a59",
   "metadata": {},
   "outputs": [
    {
     "data": {
      "text/plain": [
       "<seaborn.axisgrid.FacetGrid at 0x1b74c495070>"
      ]
     },
     "execution_count": 58,
     "metadata": {},
     "output_type": "execute_result"
    },
    {
     "data": {
      "image/png": "[encoded data removed]",
      "text/plain": [
       "<Figure size 360x360 with 1 Axes>"
      ]
     },
     "metadata": {
      "needs_background": "light"
     },
     "output_type": "display_data"
    }
   ],
   "source": [
    "sns.displot(kind='hist',data=df,x='rating',kde=True)"
   ]
  },
  {
   "cell_type": "code",
   "execution_count": 59,
   "id": "6c9d9ed8",
   "metadata": {},
   "outputs": [
    {
     "data": {
      "text/plain": [
       "-0.6989993034105535"
      ]
     },
     "execution_count": 59,
     "metadata": {},
     "output_type": "execute_result"
    }
   ],
   "source": [
    "df['rating'].skew()"
   ]
  },
  {
   "cell_type": "code",
   "execution_count": 60,
   "id": "9f4a5e9d",
   "metadata": {
    "scrolled": true
   },
   "outputs": [
    {
     "name": "stderr",
     "output_type": "stream",
     "text": [
      "C:\\Users\\vinay\\anaconda3\\lib\\site-packages\\seaborn\\_decorators.py:36: FutureWarning: Pass the following variable as a keyword arg: x. From version 0.12, the only valid positional argument will be `data`, and passing other arguments without an explicit keyword will result in an error or misinterpretation.\n",
      "  warnings.warn(\n"
     ]
    },
    {
     "data": {
      "text/plain": [
       "<Axes: xlabel='rating'>"
      ]
     },
     "execution_count": 60,
     "metadata": {},
     "output_type": "execute_result"
    },
    {
     "data": {
      "image/png": "[encoded data removed]",
      "text/plain": [
       "<Figure size 432x288 with 1 Axes>"
      ]
     },
     "metadata": {
      "needs_background": "light"
     },
     "output_type": "display_data"
    }
   ],
   "source": [
    "sns.boxplot(df['rating'])"
   ]
  },
  {
   "cell_type": "code",
   "execution_count": 71,
   "id": "b1cb855e",
   "metadata": {},
   "outputs": [
    {
     "data": {
      "text/plain": [
       "<Axes: ylabel='has_5g'>"
      ]
     },
     "execution_count": 71,
     "metadata": {},
     "output_type": "execute_result"
    },
    {
     "data": {
      "image/png": "[encoded data removed]",
      "text/plain": [
       "<Figure size 432x288 with 1 Axes>"
      ]
     },
     "metadata": {},
     "output_type": "display_data"
    }
   ],
   "source": [
    "# has_5g\n",
    "df['has_5g'].value_counts().plot(kind='pie',autopct='%0.1f%%')"
   ]
  },
  {
   "cell_type": "code",
   "execution_count": 72,
   "id": "11216025",
   "metadata": {},
   "outputs": [
    {
     "data": {
      "text/plain": [
       "<Axes: ylabel='has_nfc'>"
      ]
     },
     "execution_count": 72,
     "metadata": {},
     "output_type": "execute_result"
    },
    {
     "data": {
      "image/png": "[encoded data removed]",
      "text/plain": [
       "<Figure size 432x288 with 1 Axes>"
      ]
     },
     "metadata": {},
     "output_type": "display_data"
    }
   ],
   "source": [
    "# has_nfc\n",
    "df['has_nfc'].value_counts().plot(kind='pie',autopct='%0.1f%%')"
   ]
  },
  {
   "cell_type": "code",
   "execution_count": 73,
   "id": "4f1b77e1",
   "metadata": {},
   "outputs": [
    {
     "data": {
      "text/plain": [
       "<Axes: ylabel='has_ir_blaster'>"
      ]
     },
     "execution_count": 73,
     "metadata": {},
     "output_type": "execute_result"
    },
    {
     "data": {
      "image/png": "[encoded data removed]",
      "text/plain": [
       "<Figure size 432x288 with 1 Axes>"
      ]
     },
     "metadata": {},
     "output_type": "display_data"
    }
   ],
   "source": [
    "# has_ir_blaster\n",
    "df['has_ir_blaster'].value_counts().plot(kind='pie',autopct='%0.1f%%')"
   ]
  },
  {
   "cell_type": "code",
   "execution_count": 75,
   "id": "6fa86e35",
   "metadata": {},
   "outputs": [
    {
     "data": {
      "text/plain": [
       "xiaomi     109\n",
       "poco        30\n",
       "iqoo         6\n",
       "huawei       6\n",
       "vivo         4\n",
       "redmi        2\n",
       "honor        1\n",
       "samsung      1\n",
       "Name: brand, dtype: int64"
      ]
     },
     "execution_count": 75,
     "metadata": {},
     "output_type": "execute_result"
    }
   ],
   "source": [
    "df[df['has_ir_blaster'] == True]['brand'].value_counts()"
   ]
  },
  {
   "cell_type": "code",
   "execution_count": 62,
   "id": "ea546611",
   "metadata": {},
   "outputs": [
    {
     "data": {
      "text/plain": [
       "Snapdragon    408\n",
       "Helio         201\n",
       "Dimensity     177\n",
       "Exynos         49\n",
       "Bionic         39\n",
       "Unisoc         26\n",
       "Tiger          24\n",
       "Google          9\n",
       "Kirin           7\n",
       "A13             5\n",
       "Qualcomm        5\n",
       "Spreadtrum      4\n",
       "SC9863A         2\n",
       "Apple           1\n",
       "Fusion          1\n",
       "Mediatek        1\n",
       "Samsung         1\n",
       "Name: processor_brand, dtype: int64"
      ]
     },
     "execution_count": 62,
     "metadata": {},
     "output_type": "execute_result"
    }
   ],
   "source": [
    "df['processor_brand'].value_counts().plot()"
   ]
  },
  {
   "cell_type": "code",
   "execution_count": 69,
   "id": "9ed47dba",
   "metadata": {},
   "outputs": [],
   "source": [
    "df['processor_brand'].replace({'Apple':'Bionic','Mediatek':'Helio','Samsung':'Snapdragon','Qualcomm':'Snapdragon','A13'\n",
    "                               :'Bionic','SC9863A':'Unisoc'},inplace = True)"
   ]
  },
  {
   "cell_type": "code",
   "execution_count": 70,
   "id": "13c93cb7",
   "metadata": {},
   "outputs": [
    {
     "data": {
      "text/plain": [
       "Snapdragon    414\n",
       "Helio         202\n",
       "Dimensity     177\n",
       "Exynos         49\n",
       "Bionic         45\n",
       "Unisoc         28\n",
       "Tiger          24\n",
       "Google          9\n",
       "Kirin           7\n",
       "Spreadtrum      4\n",
       "Fusion          1\n",
       "Name: processor_brand, dtype: int64"
      ]
     },
     "execution_count": 70,
     "metadata": {},
     "output_type": "execute_result"
    }
   ],
   "source": [
    "df.processor_brand.value_counts()"
   ]
  },
  {
   "cell_type": "code",
   "execution_count": 77,
   "id": "f8184e10",
   "metadata": {},
   "outputs": [
    {
     "data": {
      "text/plain": [
       "<Axes: ylabel='processor_brand'>"
      ]
     },
     "execution_count": 77,
     "metadata": {},
     "output_type": "execute_result"
    },
    {
     "data": {
      "image/png": "[encoded data removed]",
      "text/plain": [
       "<Figure size 432x288 with 1 Axes>"
      ]
     },
     "metadata": {},
     "output_type": "display_data"
    }
   ],
   "source": [
    "df['processor_brand'].value_counts().head().plot(kind='pie',autopct=\"%0.1f%%\")"
   ]
  },
  {
   "cell_type": "code",
   "execution_count": 78,
   "id": "883dee0d",
   "metadata": {},
   "outputs": [
    {
     "data": {
      "text/plain": [
       "<Axes: ylabel='num_cores'>"
      ]
     },
     "execution_count": 78,
     "metadata": {},
     "output_type": "execute_result"
    },
    {
     "data": {
      "image/png": "[encoded data removed]",
      "text/plain": [
       "<Figure size 432x288 with 1 Axes>"
      ]
     },
     "metadata": {},
     "output_type": "display_data"
    }
   ],
   "source": [
    "df['num_cores'].value_counts().plot(kind='pie',autopct=\"%0.1f%%\")\n",
    "# 92 percent values 8 core value therefore it will not contribute much in predicting\n",
    "# if all phones have 8 cores then how would you decide price based on this col"
   ]
  },
  {
   "cell_type": "code",
   "execution_count": 79,
   "id": "78208e6b",
   "metadata": {},
   "outputs": [
    {
     "data": {
      "text/plain": [
       "<Axes: ylabel='fast_charging_available'>"
      ]
     },
     "execution_count": 79,
     "metadata": {},
     "output_type": "execute_result"
    },
    {
     "data": {
      "image/png": "[encoded data removed]",
      "text/plain": [
       "<Figure size 432x288 with 1 Axes>"
      ]
     },
     "metadata": {},
     "output_type": "display_data"
    }
   ],
   "source": [
    "df.fast_charging_available.value_counts().plot(kind='pie',autopct=\"%0.1f%%\")"
   ]
  },
  {
   "cell_type": "code",
   "execution_count": 82,
   "id": "50e267d4",
   "metadata": {},
   "outputs": [
    {
     "data": {
      "text/plain": [
       "<Axes: ylabel='ram_memory'>"
      ]
     },
     "execution_count": 82,
     "metadata": {},
     "output_type": "execute_result"
    },
    {
     "data": {
      "image/png": "[encoded data removed]",
      "text/plain": [
       "<Figure size 432x288 with 1 Axes>"
      ]
     },
     "metadata": {},
     "output_type": "display_data"
    }
   ],
   "source": [
    "df.ram_memory.value_counts().head().plot(kind='pie',autopct=\"%0.1f%%\")"
   ]
  },
  {
   "cell_type": "code",
   "execution_count": 83,
   "id": "bb2082e0",
   "metadata": {},
   "outputs": [
    {
     "data": {
      "text/plain": [
       "<Axes: ylabel='rom'>"
      ]
     },
     "execution_count": 83,
     "metadata": {},
     "output_type": "execute_result"
    },
    {
     "data": {
      "image/png": "[encoded data removed]",
      "text/plain": [
       "<Figure size 432x288 with 1 Axes>"
      ]
     },
     "metadata": {},
     "output_type": "display_data"
    }
   ],
   "source": [
    "df.rom.value_counts().head().plot(kind='pie',autopct=\"%0.1f%%\")"
   ]
  },
  {
   "cell_type": "code",
   "execution_count": 85,
   "id": "f4e4bdfb",
   "metadata": {},
   "outputs": [
    {
     "data": {
      "text/plain": [
       "<Axes: ylabel='refresh_rate'>"
      ]
     },
     "execution_count": 85,
     "metadata": {},
     "output_type": "execute_result"
    },
    {
     "data": {
      "image/png": "[encoded data removed]",
      "text/plain": [
       "<Figure size 432x288 with 1 Axes>"
      ]
     },
     "metadata": {},
     "output_type": "display_data"
    }
   ],
   "source": [
    "df.refresh_rate.value_counts().plot(kind='pie',autopct=\"%0.1f%%\")"
   ]
  },
  {
   "cell_type": "code",
   "execution_count": 87,
   "id": "a947781c",
   "metadata": {},
   "outputs": [
    {
     "data": {
      "text/plain": [
       "<Axes: ylabel='None'>"
      ]
     },
     "execution_count": 87,
     "metadata": {},
     "output_type": "execute_result"
    },
    {
     "data": {
      "image/png": "[encoded data removed]",
      "text/plain": [
       "<Figure size 432x288 with 1 Axes>"
      ]
     },
     "metadata": {},
     "output_type": "display_data"
    }
   ],
   "source": [
    "(df.num_rear_cameras + df.num_front_camera).value_counts().plot(kind='pie',autopct=\"%0.1f%%\")"
   ]
  },
  {
   "cell_type": "code",
   "execution_count": 88,
   "id": "e82e465a",
   "metadata": {},
   "outputs": [
    {
     "data": {
      "text/plain": [
       "<Axes: ylabel='os'>"
      ]
     },
     "execution_count": 88,
     "metadata": {},
     "output_type": "execute_result"
    },
    {
     "data": {
      "image/png": "[encoded data removed]",
      "text/plain": [
       "<Figure size 432x288 with 1 Axes>"
      ]
     },
     "metadata": {},
     "output_type": "display_data"
    }
   ],
   "source": [
    "df.os.value_counts().plot(kind='pie',autopct=\"%0.1f%%\")"
   ]
  },
  {
   "cell_type": "code",
   "execution_count": 89,
   "id": "b0972d26",
   "metadata": {},
   "outputs": [
    {
     "data": {
      "text/plain": [
       "<Axes: ylabel='extended_memory_available'>"
      ]
     },
     "execution_count": 89,
     "metadata": {},
     "output_type": "execute_result"
    },
    {
     "data": {
      "image/png": "[encoded data removed]",
      "text/plain": [
       "<Figure size 432x288 with 1 Axes>"
      ]
     },
     "metadata": {},
     "output_type": "display_data"
    }
   ],
   "source": [
    "df.extended_memory_available.value_counts().plot(kind='pie',autopct=\"%0.1f%%\")"
   ]
  },
  {
   "cell_type": "code",
   "execution_count": null,
   "id": "fdaf76be",
   "metadata": {},
   "outputs": [],
   "source": []
  }
 ],
 "metadata": {
  "kernelspec": {
   "display_name": "Python 3 (ipykernel)",
   "language": "python",
   "name": "python3"
  },
  "language_info": {
   "codemirror_mode": {
    "name": "ipython",
    "version": 3
   },
   "file_extension": ".py",
   "mimetype": "text/x-python",
   "name": "python",
   "nbconvert_exporter": "python",
   "pygments_lexer": "ipython3",
   "version": "3.9.12"
  }
 },
 "nbformat": 4,
 "nbformat_minor": 5
}
