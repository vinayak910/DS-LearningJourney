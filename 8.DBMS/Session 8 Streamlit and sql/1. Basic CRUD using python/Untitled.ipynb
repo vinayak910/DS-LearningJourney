{
 "cells": [
  {
   "cell_type": "code",
   "execution_count": 3,
   "id": "06b7bc7b",
   "metadata": {},
   "outputs": [],
   "source": [
    "import mysql.connector"
   ]
  },
  {
   "cell_type": "code",
   "execution_count": 4,
   "id": "03a75f11",
   "metadata": {},
   "outputs": [
    {
     "name": "stdout",
     "output_type": "stream",
     "text": [
      "Connection Established\n"
     ]
    }
   ],
   "source": [
    "try:\n",
    "    conn = mysql.connector.connect(\n",
    "        host= '127.0.0.1',\n",
    "        port = 3309,\n",
    "        user = 'root',\n",
    "        password ='root')\n",
    "    mycursor = conn.cursor()\n",
    "    print(\"Connection Established\")\n",
    "except Exception as E:\n",
    "    print(\"Connection Error\")\n",
    "    print(E)"
   ]
  },
  {
   "cell_type": "code",
   "execution_count": 5,
   "id": "8c30098f",
   "metadata": {},
   "outputs": [],
   "source": [
    "#creating a database using mycursor and conn objects\n",
    "mycursor.execute(\"CREATE DATABASE IF NOT EXISTS indigo\")\n",
    "conn.commit()"
   ]
  },
  {
   "cell_type": "code",
   "execution_count": 18,
   "id": "14bdca6e",
   "metadata": {},
   "outputs": [
    {
     "name": "stdout",
     "output_type": "stream",
     "text": [
      "Connection Established\n"
     ]
    }
   ],
   "source": [
    "# now that database is created make a new connection include database indigo in the conn object\n",
    "try:\n",
    "    conn = mysql.connector.connect(\n",
    "        host= '127.0.0.1',\n",
    "        port = 3309,\n",
    "        user = 'root',\n",
    "        password ='root',\n",
    "        database = 'indigo')\n",
    "    mycursor = conn.cursor()\n",
    "    print(\"Connection Established\")\n",
    "except Exception as E:\n",
    "    print(\"Connection Error\")\n",
    "    print(E)"
   ]
  },
  {
   "cell_type": "code",
   "execution_count": 10,
   "id": "2b210fca",
   "metadata": {},
   "outputs": [],
   "source": [
    "# ----------------CREATING A TABLE---------------\n",
    "\n",
    "mycursor.execute(\"\"\"\n",
    "CREATE TABLE IF NOT EXISTS flights(\n",
    "airport_id INTEGER PRIMARY KEY , \n",
    "code VARCHAR(10) NOT NULL , \n",
    "city VARCHAR(50) NOT NULL , \n",
    "name VARCHAR(200) NOT NULL \n",
    ")\n",
    "\"\"\")\n",
    "conn.commit()"
   ]
  },
  {
   "cell_type": "code",
   "execution_count": 20,
   "id": "30ea70f9",
   "metadata": {},
   "outputs": [],
   "source": [
    "#---------------INSERTING DATA TO THE TABLE------------\n",
    "mycursor.execute(\"\"\"\n",
    "INSERT INTO flights VALUES\n",
    "(1 , 'DEL' , 'New Delhi' , 'IGIA'),\n",
    "(2 , 'CCU' , 'Kolkata' , 'NSCddA'),\n",
    "(3 , 'BOM' , 'Mumbai', 'CSMA')\n",
    "\"\"\")\n",
    "conn.commit()"
   ]
  },
  {
   "cell_type": "code",
   "execution_count": 21,
   "id": "30c09986",
   "metadata": {},
   "outputs": [
    {
     "name": "stdout",
     "output_type": "stream",
     "text": [
      "[(2, 'CCU', 'Kolkata', 'NSCddA'), (3, 'BOM', 'Mumbai', 'CSMA')]\n"
     ]
    }
   ],
   "source": [
    "#-----------RETRIEVE/SEARCH-----------------\n",
    "mycursor.execute(\"SELECT * FROM flights WHERE airport_id>1\")\n",
    "data = mycursor.fetchall()  # fetch all for multiple rows\n",
    "print(data)"
   ]
  },
  {
   "cell_type": "code",
   "execution_count": 22,
   "id": "511d2154",
   "metadata": {},
   "outputs": [
    {
     "name": "stdout",
     "output_type": "stream",
     "text": [
      "NSCddA\n",
      "CSMA\n"
     ]
    }
   ],
   "source": [
    "for i in data:\n",
    "    print(i[3])"
   ]
  },
  {
   "cell_type": "code",
   "execution_count": 23,
   "id": "c5d0c0ce",
   "metadata": {},
   "outputs": [],
   "source": [
    "# ------------UPDATE-----------------\n",
    "mycursor.execute(\"\"\"\n",
    "UPDATE flights\n",
    "SET name = \"Bombay\"\n",
    "WHERE airport_id = 3\n",
    " \n",
    "\"\"\")\n",
    "conn.commit()"
   ]
  },
  {
   "cell_type": "code",
   "execution_count": 24,
   "id": "0379da65",
   "metadata": {},
   "outputs": [
    {
     "name": "stdout",
     "output_type": "stream",
     "text": [
      "[(2, 'CCU', 'Kolkata', 'NSCddA'), (3, 'BOM', 'Mumbai', 'Bombay')]\n"
     ]
    }
   ],
   "source": [
    "mycursor.execute(\"SELECT * FROM flights WHERE airport_id>1\")\n",
    "data = mycursor.fetchall()  # fetch all for multiple rows\n",
    "print(data)"
   ]
  },
  {
   "cell_type": "code",
   "execution_count": 25,
   "id": "8a5a9853",
   "metadata": {},
   "outputs": [
    {
     "name": "stdout",
     "output_type": "stream",
     "text": [
      "[(2, 'CCU', 'Kolkata', 'NSCddA')]\n"
     ]
    }
   ],
   "source": [
    "#----------------DELETE--------------\n",
    "mycursor.execute(\"\"\"\n",
    "DELETE FROM flights WHERE airport_id = 3\n",
    "\"\"\")\n",
    "conn.commit()"
   ]
  },
  {
   "cell_type": "code",
   "execution_count": 26,
   "id": "ea722f53",
   "metadata": {},
   "outputs": [
    {
     "name": "stdout",
     "output_type": "stream",
     "text": [
      "[(1, 'DEL', 'New Delhi', 'IGIA'), (2, 'CCU', 'Kolkata', 'NSCddA')]\n"
     ]
    }
   ],
   "source": [
    "mycursor.execute(\"SELECT * FROM flights WHERE airport_id\")\n",
    "data = mycursor.fetchall()  # fetch all for multiple rows\n",
    "print(data)"
   ]
  },
  {
   "cell_type": "code",
   "execution_count": 27,
   "id": "fec91bdb",
   "metadata": {},
   "outputs": [],
   "source": [
    "conn.close()"
   ]
  },
  {
   "cell_type": "code",
   "execution_count": 28,
   "id": "de0c5fee",
   "metadata": {},
   "outputs": [
    {
     "ename": "ProgrammingError",
     "evalue": "2055: Cursor is not connected",
     "output_type": "error",
     "traceback": [
      "\u001b[1;31m---------------------------------------------------------------------------\u001b[0m",
      "\u001b[1;31mProgrammingError\u001b[0m                          Traceback (most recent call last)",
      "File \u001b[1;32m~\\anaconda3\\lib\\site-packages\\mysql\\connector\\cursor_cext.py:344\u001b[0m, in \u001b[0;36mCMySQLCursor.execute\u001b[1;34m(self, operation, params, multi)\u001b[0m\n\u001b[0;32m    343\u001b[0m     \u001b[38;5;28;01mif\u001b[39;00m \u001b[38;5;129;01mnot\u001b[39;00m \u001b[38;5;28mself\u001b[39m\u001b[38;5;241m.\u001b[39m_cnx \u001b[38;5;129;01mor\u001b[39;00m \u001b[38;5;28mself\u001b[39m\u001b[38;5;241m.\u001b[39m_cnx\u001b[38;5;241m.\u001b[39mis_closed():\n\u001b[1;32m--> 344\u001b[0m         \u001b[38;5;28;01mraise\u001b[39;00m ProgrammingError\n\u001b[0;32m    345\u001b[0m \u001b[38;5;28;01mexcept\u001b[39;00m (ProgrammingError, \u001b[38;5;167;01mReferenceError\u001b[39;00m) \u001b[38;5;28;01mas\u001b[39;00m err:\n",
      "\u001b[1;31mProgrammingError\u001b[0m: Unknown error",
      "\nThe above exception was the direct cause of the following exception:\n",
      "\u001b[1;31mProgrammingError\u001b[0m                          Traceback (most recent call last)",
      "Input \u001b[1;32mIn [28]\u001b[0m, in \u001b[0;36m<cell line: 1>\u001b[1;34m()\u001b[0m\n\u001b[1;32m----> 1\u001b[0m \u001b[43mmycursor\u001b[49m\u001b[38;5;241;43m.\u001b[39;49m\u001b[43mexecute\u001b[49m\u001b[43m(\u001b[49m\u001b[38;5;124;43m\"\"\"\u001b[39;49m\n\u001b[0;32m      2\u001b[0m \u001b[38;5;124;43mDELETE FROM flights WHERE airport_id = 3\u001b[39;49m\n\u001b[0;32m      3\u001b[0m \u001b[38;5;124;43m\"\"\"\u001b[39;49m\u001b[43m)\u001b[49m\n\u001b[0;32m      4\u001b[0m conn\u001b[38;5;241m.\u001b[39mcommit()\n",
      "File \u001b[1;32m~\\anaconda3\\lib\\site-packages\\mysql\\connector\\cursor_cext.py:346\u001b[0m, in \u001b[0;36mCMySQLCursor.execute\u001b[1;34m(self, operation, params, multi)\u001b[0m\n\u001b[0;32m    344\u001b[0m         \u001b[38;5;28;01mraise\u001b[39;00m ProgrammingError\n\u001b[0;32m    345\u001b[0m \u001b[38;5;28;01mexcept\u001b[39;00m (ProgrammingError, \u001b[38;5;167;01mReferenceError\u001b[39;00m) \u001b[38;5;28;01mas\u001b[39;00m err:\n\u001b[1;32m--> 346\u001b[0m     \u001b[38;5;28;01mraise\u001b[39;00m ProgrammingError(\u001b[38;5;124m\"\u001b[39m\u001b[38;5;124mCursor is not connected\u001b[39m\u001b[38;5;124m\"\u001b[39m, \u001b[38;5;241m2055\u001b[39m) \u001b[38;5;28;01mfrom\u001b[39;00m \u001b[38;5;21;01merr\u001b[39;00m\n\u001b[0;32m    347\u001b[0m \u001b[38;5;28mself\u001b[39m\u001b[38;5;241m.\u001b[39m_cnx\u001b[38;5;241m.\u001b[39mhandle_unread_result()\n\u001b[0;32m    349\u001b[0m stmt \u001b[38;5;241m=\u001b[39m \u001b[38;5;124mb\u001b[39m\u001b[38;5;124m\"\u001b[39m\u001b[38;5;124m\"\u001b[39m\n",
      "\u001b[1;31mProgrammingError\u001b[0m: 2055: Cursor is not connected"
     ]
    }
   ],
   "source": [
    "mycursor.execute(\"\"\"\n",
    "DELETE FROM flights WHERE airport_id = 3\n",
    "\"\"\")\n",
    "conn.commit()"
   ]
  },
  {
   "cell_type": "code",
   "execution_count": null,
   "id": "c256ffbc",
   "metadata": {},
   "outputs": [],
   "source": []
  }
 ],
 "metadata": {
  "kernelspec": {
   "display_name": "Python 3 (ipykernel)",
   "language": "python",
   "name": "python3"
  },
  "language_info": {
   "codemirror_mode": {
    "name": "ipython",
    "version": 3
   },
   "file_extension": ".py",
   "mimetype": "text/x-python",
   "name": "python",
   "nbconvert_exporter": "python",
   "pygments_lexer": "ipython3",
   "version": "3.9.12"
  }
 },
 "nbformat": 4,
 "nbformat_minor": 5
}
